{
  "nbformat": 4,
  "nbformat_minor": 0,
  "metadata": {
    "colab": {
      "provenance": [],
      "authorship_tag": "ABX9TyOQ8vHrREE/p0J0H8bnAkVj",
      "include_colab_link": true
    },
    "kernelspec": {
      "name": "python3",
      "display_name": "Python 3"
    },
    "language_info": {
      "name": "python"
    }
  },
  "cells": [
    {
      "cell_type": "markdown",
      "metadata": {
        "id": "view-in-github",
        "colab_type": "text"
      },
      "source": [
        "<a href=\"https://colab.research.google.com/github/shift-13/vacancy/blob/main/%D0%91%D0%BB%D0%BE%D1%85%D0%B8%D0%BD%D0%B0_%D0%9D%D0%92.ipynb\" target=\"_parent\"><img src=\"https://colab.research.google.com/assets/colab-badge.svg\" alt=\"Open In Colab\"/></a>"
      ]
    },
    {
      "cell_type": "markdown",
      "source": [
        "# **Разведочный анализ данных (EDA)**"
      ],
      "metadata": {
        "id": "pjLFRX6aV-XZ"
      }
    },
    {
      "cell_type": "markdown",
      "source": [
        "## 1. Загрузка DataFrame."
      ],
      "metadata": {
        "id": "IUHoGu_7Zda9"
      }
    },
    {
      "cell_type": "markdown",
      "source": [
        "Импорт библиотек."
      ],
      "metadata": {
        "id": "-OaTORE4iEaB"
      }
    },
    {
      "cell_type": "code",
      "source": [
        "import pandas as pd\n",
        "import json\n",
        "import matplotlib.pyplot as plt\n",
        "import seaborn as sns"
      ],
      "metadata": {
        "id": "qoLkYESAiJVk"
      },
      "execution_count": 1,
      "outputs": []
    },
    {
      "cell_type": "code",
      "execution_count": 2,
      "metadata": {
        "colab": {
          "base_uri": "https://localhost:8080/"
        },
        "id": "vGJLZFQ0B-3A",
        "outputId": "3b778c50-ce4a-4eca-c70e-6b77619da59e"
      },
      "outputs": [
        {
          "output_type": "stream",
          "name": "stdout",
          "text": [
            "/usr/local/lib/python3.8/dist-packages/gdown/cli.py:127: FutureWarning: Option `--id` was deprecated in version 4.3.1 and will be removed in 5.0. You don't need to pass it anymore to use a file ID.\n",
            "  warnings.warn(\n",
            "Downloading...\n",
            "From: https://drive.google.com/uc?id=1929efzygq1eTd9qoXZo12CgG09sEIv2c\n",
            "To: /content/region roles (26.05.22).xlsx\n",
            "100% 84.4M/84.4M [00:01<00:00, 68.0MB/s]\n"
          ]
        }
      ],
      "source": [
        "!gdown --id 1929efzygq1eTd9qoXZo12CgG09sEIv2c\n",
        "\n",
        "df = pd.read_excel('region roles (26.05.22).xlsx')"
      ]
    },
    {
      "cell_type": "code",
      "source": [
        "df.head()"
      ],
      "metadata": {
        "id": "myUTWCZX3WHT",
        "outputId": "e8cad6b0-4ce7-4dd6-ff07-e0eab6e81f46",
        "colab": {
          "base_uri": "https://localhost:8080/",
          "height": 681
        }
      },
      "execution_count": 3,
      "outputs": [
        {
          "output_type": "execute_result",
          "data": {
            "text/plain": [
              "   Unnamed: 0        id  premium  \\\n",
              "0           0  49059633    False   \n",
              "1           1  54653519    False   \n",
              "2           2  55116066    False   \n",
              "3           3  54031261    False   \n",
              "4           4  55243040    False   \n",
              "\n",
              "                                               name  \\\n",
              "0           Младший специалист ручного тестирования   \n",
              "1                                   Тестировщик.Net   \n",
              "2                                         Пентестер   \n",
              "3  Ведущий Специалист по информационным технологиям   \n",
              "4                   Специалист по защите информации   \n",
              "\n",
              "                                          department  has_test  \\\n",
              "0                                                NaN     False   \n",
              "1                                                NaN     False   \n",
              "2                                                NaN     False   \n",
              "3  {'id': 'pochta-4352-office', 'name': '«Почта Р...     False   \n",
              "4                                                NaN     False   \n",
              "\n",
              "   response_letter_required  \\\n",
              "0                     False   \n",
              "1                     False   \n",
              "2                     False   \n",
              "3                     False   \n",
              "4                     False   \n",
              "\n",
              "                                                area  \\\n",
              "0  {'id': '15', 'name': 'Астрахань', 'url': 'http...   \n",
              "1  {'id': '15', 'name': 'Астрахань', 'url': 'http...   \n",
              "2  {'id': '15', 'name': 'Астрахань', 'url': 'http...   \n",
              "3  {'id': '15', 'name': 'Астрахань', 'url': 'http...   \n",
              "4  {'id': '15', 'name': 'Астрахань', 'url': 'http...   \n",
              "\n",
              "                                              salary  \\\n",
              "0                                                NaN   \n",
              "1  {'from': 25000, 'to': 50000, 'currency': 'RUR'...   \n",
              "2                                                NaN   \n",
              "3  {'from': 26000, 'to': None, 'currency': 'RUR',...   \n",
              "4  {'from': 20000, 'to': 20000, 'currency': 'RUR'...   \n",
              "\n",
              "                                 type  ... working_days  \\\n",
              "0  {'id': 'open', 'name': 'Открытая'}  ...           []   \n",
              "1  {'id': 'open', 'name': 'Открытая'}  ...           []   \n",
              "2  {'id': 'open', 'name': 'Открытая'}  ...           []   \n",
              "3  {'id': 'open', 'name': 'Открытая'}  ...           []   \n",
              "4  {'id': 'open', 'name': 'Открытая'}  ...           []   \n",
              "\n",
              "  working_time_intervals  working_time_modes accept_temporary  \\\n",
              "0                     []                  []            False   \n",
              "1                     []                  []            False   \n",
              "2                     []                  []            False   \n",
              "3                     []                  []            False   \n",
              "4                     []                  []            False   \n",
              "\n",
              "                                         description  \\\n",
              "0  <p>В некоторых проектах Яндексу помогают компа...   \n",
              "1  <p><em><strong>Мы ищем талантливого и амбициоз...   \n",
              "2  <p>Лидер на рынке систем информационной безопа...   \n",
              "3  <ul> <li>Администрирование компьютерной сети</...   \n",
              "4  <strong>Обязанности:</strong> <ul> <li>Обеспеч...   \n",
              "\n",
              "                                          experience  \\\n",
              "0        {'id': 'noExperience', 'name': 'Нет опыта'}   \n",
              "1  {'id': 'between1And3', 'name': 'От 1 года до 3...   \n",
              "2    {'id': 'between3And6', 'name': 'От 3 до 6 лет'}   \n",
              "3        {'id': 'noExperience', 'name': 'Нет опыта'}   \n",
              "4        {'id': 'noExperience', 'name': 'Нет опыта'}   \n",
              "\n",
              "                                          key_skills  \\\n",
              "0                                                 []   \n",
              "1  [{'name': 'Git'}, {'name': 'SQL'}, {'name': 'Т...   \n",
              "2  [{'name': 'SQL'}, {'name': 'Linux'}, {'name': ...   \n",
              "3  [{'name': 'Пользователь ПК'}, {'name': 'Работа...   \n",
              "4  [{'name': 'MS Dos'}, {'name': 'Диагностика ПК'...   \n",
              "\n",
              "                                     specializations                region  \\\n",
              "0  [{'id': '1.172', 'name': 'Начальный уровень, М...  Астраханская область   \n",
              "1  [{'id': '1.221', 'name': 'Программирование, Ра...  Астраханская область   \n",
              "2  [{'id': '1.221', 'name': 'Программирование, Ра...  Астраханская область   \n",
              "3  [{'id': '1.110', 'name': 'Компьютерная безопас...  Астраханская область   \n",
              "4  [{'id': '1.110', 'name': 'Компьютерная безопас...  Астраханская область   \n",
              "\n",
              "  immediate_redirect_url  \n",
              "0                    NaN  \n",
              "1                    NaN  \n",
              "2                    NaN  \n",
              "3                    NaN  \n",
              "4                    NaN  \n",
              "\n",
              "[5 rows x 34 columns]"
            ],
            "text/html": [
              "\n",
              "  <div id=\"df-4d1247d4-e6c6-43ef-8fe4-36f528d5a5f7\">\n",
              "    <div class=\"colab-df-container\">\n",
              "      <div>\n",
              "<style scoped>\n",
              "    .dataframe tbody tr th:only-of-type {\n",
              "        vertical-align: middle;\n",
              "    }\n",
              "\n",
              "    .dataframe tbody tr th {\n",
              "        vertical-align: top;\n",
              "    }\n",
              "\n",
              "    .dataframe thead th {\n",
              "        text-align: right;\n",
              "    }\n",
              "</style>\n",
              "<table border=\"1\" class=\"dataframe\">\n",
              "  <thead>\n",
              "    <tr style=\"text-align: right;\">\n",
              "      <th></th>\n",
              "      <th>Unnamed: 0</th>\n",
              "      <th>id</th>\n",
              "      <th>premium</th>\n",
              "      <th>name</th>\n",
              "      <th>department</th>\n",
              "      <th>has_test</th>\n",
              "      <th>response_letter_required</th>\n",
              "      <th>area</th>\n",
              "      <th>salary</th>\n",
              "      <th>type</th>\n",
              "      <th>...</th>\n",
              "      <th>working_days</th>\n",
              "      <th>working_time_intervals</th>\n",
              "      <th>working_time_modes</th>\n",
              "      <th>accept_temporary</th>\n",
              "      <th>description</th>\n",
              "      <th>experience</th>\n",
              "      <th>key_skills</th>\n",
              "      <th>specializations</th>\n",
              "      <th>region</th>\n",
              "      <th>immediate_redirect_url</th>\n",
              "    </tr>\n",
              "  </thead>\n",
              "  <tbody>\n",
              "    <tr>\n",
              "      <th>0</th>\n",
              "      <td>0</td>\n",
              "      <td>49059633</td>\n",
              "      <td>False</td>\n",
              "      <td>Младший специалист ручного тестирования</td>\n",
              "      <td>NaN</td>\n",
              "      <td>False</td>\n",
              "      <td>False</td>\n",
              "      <td>{'id': '15', 'name': 'Астрахань', 'url': 'http...</td>\n",
              "      <td>NaN</td>\n",
              "      <td>{'id': 'open', 'name': 'Открытая'}</td>\n",
              "      <td>...</td>\n",
              "      <td>[]</td>\n",
              "      <td>[]</td>\n",
              "      <td>[]</td>\n",
              "      <td>False</td>\n",
              "      <td>&lt;p&gt;В некоторых проектах Яндексу помогают компа...</td>\n",
              "      <td>{'id': 'noExperience', 'name': 'Нет опыта'}</td>\n",
              "      <td>[]</td>\n",
              "      <td>[{'id': '1.172', 'name': 'Начальный уровень, М...</td>\n",
              "      <td>Астраханская область</td>\n",
              "      <td>NaN</td>\n",
              "    </tr>\n",
              "    <tr>\n",
              "      <th>1</th>\n",
              "      <td>1</td>\n",
              "      <td>54653519</td>\n",
              "      <td>False</td>\n",
              "      <td>Тестировщик.Net</td>\n",
              "      <td>NaN</td>\n",
              "      <td>False</td>\n",
              "      <td>False</td>\n",
              "      <td>{'id': '15', 'name': 'Астрахань', 'url': 'http...</td>\n",
              "      <td>{'from': 25000, 'to': 50000, 'currency': 'RUR'...</td>\n",
              "      <td>{'id': 'open', 'name': 'Открытая'}</td>\n",
              "      <td>...</td>\n",
              "      <td>[]</td>\n",
              "      <td>[]</td>\n",
              "      <td>[]</td>\n",
              "      <td>False</td>\n",
              "      <td>&lt;p&gt;&lt;em&gt;&lt;strong&gt;Мы ищем талантливого и амбициоз...</td>\n",
              "      <td>{'id': 'between1And3', 'name': 'От 1 года до 3...</td>\n",
              "      <td>[{'name': 'Git'}, {'name': 'SQL'}, {'name': 'Т...</td>\n",
              "      <td>[{'id': '1.221', 'name': 'Программирование, Ра...</td>\n",
              "      <td>Астраханская область</td>\n",
              "      <td>NaN</td>\n",
              "    </tr>\n",
              "    <tr>\n",
              "      <th>2</th>\n",
              "      <td>2</td>\n",
              "      <td>55116066</td>\n",
              "      <td>False</td>\n",
              "      <td>Пентестер</td>\n",
              "      <td>NaN</td>\n",
              "      <td>False</td>\n",
              "      <td>False</td>\n",
              "      <td>{'id': '15', 'name': 'Астрахань', 'url': 'http...</td>\n",
              "      <td>NaN</td>\n",
              "      <td>{'id': 'open', 'name': 'Открытая'}</td>\n",
              "      <td>...</td>\n",
              "      <td>[]</td>\n",
              "      <td>[]</td>\n",
              "      <td>[]</td>\n",
              "      <td>False</td>\n",
              "      <td>&lt;p&gt;Лидер на рынке систем информационной безопа...</td>\n",
              "      <td>{'id': 'between3And6', 'name': 'От 3 до 6 лет'}</td>\n",
              "      <td>[{'name': 'SQL'}, {'name': 'Linux'}, {'name': ...</td>\n",
              "      <td>[{'id': '1.221', 'name': 'Программирование, Ра...</td>\n",
              "      <td>Астраханская область</td>\n",
              "      <td>NaN</td>\n",
              "    </tr>\n",
              "    <tr>\n",
              "      <th>3</th>\n",
              "      <td>3</td>\n",
              "      <td>54031261</td>\n",
              "      <td>False</td>\n",
              "      <td>Ведущий Специалист по информационным технологиям</td>\n",
              "      <td>{'id': 'pochta-4352-office', 'name': '«Почта Р...</td>\n",
              "      <td>False</td>\n",
              "      <td>False</td>\n",
              "      <td>{'id': '15', 'name': 'Астрахань', 'url': 'http...</td>\n",
              "      <td>{'from': 26000, 'to': None, 'currency': 'RUR',...</td>\n",
              "      <td>{'id': 'open', 'name': 'Открытая'}</td>\n",
              "      <td>...</td>\n",
              "      <td>[]</td>\n",
              "      <td>[]</td>\n",
              "      <td>[]</td>\n",
              "      <td>False</td>\n",
              "      <td>&lt;ul&gt; &lt;li&gt;Администрирование компьютерной сети&lt;/...</td>\n",
              "      <td>{'id': 'noExperience', 'name': 'Нет опыта'}</td>\n",
              "      <td>[{'name': 'Пользователь ПК'}, {'name': 'Работа...</td>\n",
              "      <td>[{'id': '1.110', 'name': 'Компьютерная безопас...</td>\n",
              "      <td>Астраханская область</td>\n",
              "      <td>NaN</td>\n",
              "    </tr>\n",
              "    <tr>\n",
              "      <th>4</th>\n",
              "      <td>4</td>\n",
              "      <td>55243040</td>\n",
              "      <td>False</td>\n",
              "      <td>Специалист по защите информации</td>\n",
              "      <td>NaN</td>\n",
              "      <td>False</td>\n",
              "      <td>False</td>\n",
              "      <td>{'id': '15', 'name': 'Астрахань', 'url': 'http...</td>\n",
              "      <td>{'from': 20000, 'to': 20000, 'currency': 'RUR'...</td>\n",
              "      <td>{'id': 'open', 'name': 'Открытая'}</td>\n",
              "      <td>...</td>\n",
              "      <td>[]</td>\n",
              "      <td>[]</td>\n",
              "      <td>[]</td>\n",
              "      <td>False</td>\n",
              "      <td>&lt;strong&gt;Обязанности:&lt;/strong&gt; &lt;ul&gt; &lt;li&gt;Обеспеч...</td>\n",
              "      <td>{'id': 'noExperience', 'name': 'Нет опыта'}</td>\n",
              "      <td>[{'name': 'MS Dos'}, {'name': 'Диагностика ПК'...</td>\n",
              "      <td>[{'id': '1.110', 'name': 'Компьютерная безопас...</td>\n",
              "      <td>Астраханская область</td>\n",
              "      <td>NaN</td>\n",
              "    </tr>\n",
              "  </tbody>\n",
              "</table>\n",
              "<p>5 rows × 34 columns</p>\n",
              "</div>\n",
              "      <button class=\"colab-df-convert\" onclick=\"convertToInteractive('df-4d1247d4-e6c6-43ef-8fe4-36f528d5a5f7')\"\n",
              "              title=\"Convert this dataframe to an interactive table.\"\n",
              "              style=\"display:none;\">\n",
              "        \n",
              "  <svg xmlns=\"http://www.w3.org/2000/svg\" height=\"24px\"viewBox=\"0 0 24 24\"\n",
              "       width=\"24px\">\n",
              "    <path d=\"M0 0h24v24H0V0z\" fill=\"none\"/>\n",
              "    <path d=\"M18.56 5.44l.94 2.06.94-2.06 2.06-.94-2.06-.94-.94-2.06-.94 2.06-2.06.94zm-11 1L8.5 8.5l.94-2.06 2.06-.94-2.06-.94L8.5 2.5l-.94 2.06-2.06.94zm10 10l.94 2.06.94-2.06 2.06-.94-2.06-.94-.94-2.06-.94 2.06-2.06.94z\"/><path d=\"M17.41 7.96l-1.37-1.37c-.4-.4-.92-.59-1.43-.59-.52 0-1.04.2-1.43.59L10.3 9.45l-7.72 7.72c-.78.78-.78 2.05 0 2.83L4 21.41c.39.39.9.59 1.41.59.51 0 1.02-.2 1.41-.59l7.78-7.78 2.81-2.81c.8-.78.8-2.07 0-2.86zM5.41 20L4 18.59l7.72-7.72 1.47 1.35L5.41 20z\"/>\n",
              "  </svg>\n",
              "      </button>\n",
              "      \n",
              "  <style>\n",
              "    .colab-df-container {\n",
              "      display:flex;\n",
              "      flex-wrap:wrap;\n",
              "      gap: 12px;\n",
              "    }\n",
              "\n",
              "    .colab-df-convert {\n",
              "      background-color: #E8F0FE;\n",
              "      border: none;\n",
              "      border-radius: 50%;\n",
              "      cursor: pointer;\n",
              "      display: none;\n",
              "      fill: #1967D2;\n",
              "      height: 32px;\n",
              "      padding: 0 0 0 0;\n",
              "      width: 32px;\n",
              "    }\n",
              "\n",
              "    .colab-df-convert:hover {\n",
              "      background-color: #E2EBFA;\n",
              "      box-shadow: 0px 1px 2px rgba(60, 64, 67, 0.3), 0px 1px 3px 1px rgba(60, 64, 67, 0.15);\n",
              "      fill: #174EA6;\n",
              "    }\n",
              "\n",
              "    [theme=dark] .colab-df-convert {\n",
              "      background-color: #3B4455;\n",
              "      fill: #D2E3FC;\n",
              "    }\n",
              "\n",
              "    [theme=dark] .colab-df-convert:hover {\n",
              "      background-color: #434B5C;\n",
              "      box-shadow: 0px 1px 3px 1px rgba(0, 0, 0, 0.15);\n",
              "      filter: drop-shadow(0px 1px 2px rgba(0, 0, 0, 0.3));\n",
              "      fill: #FFFFFF;\n",
              "    }\n",
              "  </style>\n",
              "\n",
              "      <script>\n",
              "        const buttonEl =\n",
              "          document.querySelector('#df-4d1247d4-e6c6-43ef-8fe4-36f528d5a5f7 button.colab-df-convert');\n",
              "        buttonEl.style.display =\n",
              "          google.colab.kernel.accessAllowed ? 'block' : 'none';\n",
              "\n",
              "        async function convertToInteractive(key) {\n",
              "          const element = document.querySelector('#df-4d1247d4-e6c6-43ef-8fe4-36f528d5a5f7');\n",
              "          const dataTable =\n",
              "            await google.colab.kernel.invokeFunction('convertToInteractive',\n",
              "                                                     [key], {});\n",
              "          if (!dataTable) return;\n",
              "\n",
              "          const docLinkHtml = 'Like what you see? Visit the ' +\n",
              "            '<a target=\"_blank\" href=https://colab.research.google.com/notebooks/data_table.ipynb>data table notebook</a>'\n",
              "            + ' to learn more about interactive tables.';\n",
              "          element.innerHTML = '';\n",
              "          dataTable['output_type'] = 'display_data';\n",
              "          await google.colab.output.renderOutput(dataTable, element);\n",
              "          const docLink = document.createElement('div');\n",
              "          docLink.innerHTML = docLinkHtml;\n",
              "          element.appendChild(docLink);\n",
              "        }\n",
              "      </script>\n",
              "    </div>\n",
              "  </div>\n",
              "  "
            ]
          },
          "metadata": {},
          "execution_count": 3
        }
      ]
    },
    {
      "cell_type": "markdown",
      "source": [
        "## 2. Изучение датасета."
      ],
      "metadata": {
        "id": "Ruf15k91Jw_v"
      }
    },
    {
      "cell_type": "code",
      "source": [
        "df.info()"
      ],
      "metadata": {
        "colab": {
          "base_uri": "https://localhost:8080/"
        },
        "id": "vsjvboGgJ2kA",
        "outputId": "a168928b-260a-468b-ed60-6da20eb3dba0"
      },
      "execution_count": 4,
      "outputs": [
        {
          "output_type": "stream",
          "name": "stdout",
          "text": [
            "<class 'pandas.core.frame.DataFrame'>\n",
            "RangeIndex: 69656 entries, 0 to 69655\n",
            "Data columns (total 34 columns):\n",
            " #   Column                    Non-Null Count  Dtype  \n",
            "---  ------                    --------------  -----  \n",
            " 0   Unnamed: 0                69656 non-null  int64  \n",
            " 1   id                        69656 non-null  int64  \n",
            " 2   premium                   69656 non-null  bool   \n",
            " 3   name                      69656 non-null  object \n",
            " 4   department                5263 non-null   object \n",
            " 5   has_test                  69656 non-null  bool   \n",
            " 6   response_letter_required  69656 non-null  bool   \n",
            " 7   area                      69656 non-null  object \n",
            " 8   salary                    37590 non-null  object \n",
            " 9   type                      69656 non-null  object \n",
            " 10  address                   40318 non-null  object \n",
            " 11  response_url              1 non-null      object \n",
            " 12  sort_point_distance       0 non-null      float64\n",
            " 13  published_at              69656 non-null  object \n",
            " 14  created_at                69656 non-null  object \n",
            " 15  archived                  69656 non-null  bool   \n",
            " 16  insider_interview         522 non-null    object \n",
            " 17  url                       69656 non-null  object \n",
            " 18  alternate_url             69656 non-null  object \n",
            " 19  relations                 69656 non-null  object \n",
            " 20  employer                  69656 non-null  object \n",
            " 21  snippet                   69656 non-null  object \n",
            " 22  contacts                  35114 non-null  object \n",
            " 23  schedule                  69656 non-null  object \n",
            " 24  working_days              69656 non-null  object \n",
            " 25  working_time_intervals    69656 non-null  object \n",
            " 26  working_time_modes        69656 non-null  object \n",
            " 27  accept_temporary          69656 non-null  bool   \n",
            " 28  description               69656 non-null  object \n",
            " 29  experience                69656 non-null  object \n",
            " 30  key_skills                69656 non-null  object \n",
            " 31  specializations           69656 non-null  object \n",
            " 32  region                    69656 non-null  object \n",
            " 33  immediate_redirect_url    1 non-null      object \n",
            "dtypes: bool(5), float64(1), int64(2), object(26)\n",
            "memory usage: 15.7+ MB\n"
          ]
        }
      ]
    },
    {
      "cell_type": "markdown",
      "source": [
        "В датасете 69656 записей, 34 колонки.\n",
        "Записи по типам: логического типа 5, вещественного типа 1, целого типа 2, типа объект 26(в том числе и зарплата).\n",
        "Также в датасете есть практические нулевые записи(response_url, sort_point_distance, immediate_redirect_url) и insider_interview 552 ненулевых значений, которые не важны для нашего анализа.\n",
        "Также есть пустые строки в ячейках отдела, зарплаты, адреса и контактов."
      ],
      "metadata": {
        "id": "5N-OLzXPKOCy"
      }
    },
    {
      "cell_type": "markdown",
      "source": [
        "## 3. Выбор колонок для анализа."
      ],
      "metadata": {
        "id": "MOfwCA2BFes0"
      }
    },
    {
      "cell_type": "markdown",
      "source": [
        "Для анализа нам нужны:\n",
        "* id\n",
        "* название вакансии (name)\n",
        "* зарплата (salary)\n",
        "* работодатель (employer)\n",
        "* график работы (schedule)\n",
        "* опыт работы (experience)\n",
        "* ключевые навыки(key_skills)\n",
        "* специализация(specializations)\n",
        "* регион (region)\n",
        "\n",
        "\n",
        "\n",
        "\n"
      ],
      "metadata": {
        "id": "A7QDBdhvV_Im"
      }
    },
    {
      "cell_type": "code",
      "source": [
        "df = df[['id', 'name', 'salary', 'employer', 'schedule', 'experience', 'key_skills', 'specializations', 'region']]"
      ],
      "metadata": {
        "id": "HrQCNgF9lATC"
      },
      "execution_count": 5,
      "outputs": []
    },
    {
      "cell_type": "markdown",
      "source": [
        "Посмотрим наличие явных дубликатов."
      ],
      "metadata": {
        "id": "5iWzeH2zVrDn"
      }
    },
    {
      "cell_type": "code",
      "source": [
        "df.duplicated().sum()"
      ],
      "metadata": {
        "colab": {
          "base_uri": "https://localhost:8080/"
        },
        "id": "GTnR-HFGV0lq",
        "outputId": "d00bc26a-6409-4db8-c8f2-1c71a16825a0"
      },
      "execution_count": 6,
      "outputs": [
        {
          "output_type": "execute_result",
          "data": {
            "text/plain": [
              "233"
            ]
          },
          "metadata": {},
          "execution_count": 6
        }
      ]
    },
    {
      "cell_type": "code",
      "source": [
        "df[df.duplicated()]"
      ],
      "metadata": {
        "colab": {
          "base_uri": "https://localhost:8080/",
          "height": 1000
        },
        "id": "NukNoU8VmTj-",
        "outputId": "66864198-da5a-49f3-9541-2bdc53cecf9f"
      },
      "execution_count": 7,
      "outputs": [
        {
          "output_type": "execute_result",
          "data": {
            "text/plain": [
              "             id                                               name  \\\n",
              "6895   54829502                                    PHP-программист   \n",
              "10010  55849168                                     SEO-специалист   \n",
              "10548  55419971               Тестировщик программного обеспечения   \n",
              "10955  54703136              Инженер по автоматизации тестирования   \n",
              "11048  55062236        Инженер по нагрузочному тестированию (Банк)   \n",
              "...         ...                                                ...   \n",
              "60541  54184769                         Ведущий системный аналитик   \n",
              "61186  55524488              Начинающий специалист по недвижимости   \n",
              "62072  49704757                         Программист-разработчик 1С   \n",
              "62572  55527776                             Full stack-разработчик   \n",
              "62672  66103184  Разработчик 1С (Зарплата и управление персонал...   \n",
              "\n",
              "                                                  salary  \\\n",
              "6895   {'from': 150000, 'to': None, 'currency': 'RUR'...   \n",
              "10010  {'from': 70000, 'to': None, 'currency': 'RUR',...   \n",
              "10548                                                NaN   \n",
              "10955  {'from': None, 'to': 220000, 'currency': 'RUR'...   \n",
              "11048                                                NaN   \n",
              "...                                                  ...   \n",
              "60541                                                NaN   \n",
              "61186  {'from': 100000, 'to': None, 'currency': 'RUR'...   \n",
              "62072  {'from': None, 'to': 180000, 'currency': 'RUR'...   \n",
              "62572  {'from': 150000, 'to': None, 'currency': 'RUR'...   \n",
              "62672                                                NaN   \n",
              "\n",
              "                                                employer  \\\n",
              "6895   {'id': '3451086', 'name': 'ВС Кэпитал', 'url':...   \n",
              "10010  {'id': '4750373', 'name': 'Инсофт', 'url': 'ht...   \n",
              "10548  {'id': '45333', 'name': 'Ригла', 'url': 'https...   \n",
              "10955  {'id': '26004', 'name': 'Аладдин Р.Д.', 'url':...   \n",
              "11048  {'id': '872178', 'name': 'ИЦ АЙ-ТЕКО', 'url': ...   \n",
              "...                                                  ...   \n",
              "60541  {'id': '953', 'name': 'КБ Уральский банк рекон...   \n",
              "61186  {'id': '4094752', 'name': 'ОН ПЕРСПЕКТИВА24 - ...   \n",
              "62072  {'id': '92429', 'name': 'Страховая Компания Ге...   \n",
              "62572  {'id': '4623486', 'name': 'Центр Орбита', 'url...   \n",
              "62672  {'id': '5390761', 'name': 'Совкомбанк Технолог...   \n",
              "\n",
              "                                           schedule  \\\n",
              "6895   {'id': 'remote', 'name': 'Удаленная работа'}   \n",
              "10010  {'id': 'remote', 'name': 'Удаленная работа'}   \n",
              "10548      {'id': 'fullDay', 'name': 'Полный день'}   \n",
              "10955      {'id': 'fullDay', 'name': 'Полный день'}   \n",
              "11048      {'id': 'fullDay', 'name': 'Полный день'}   \n",
              "...                                             ...   \n",
              "60541      {'id': 'fullDay', 'name': 'Полный день'}   \n",
              "61186      {'id': 'fullDay', 'name': 'Полный день'}   \n",
              "62072  {'id': 'remote', 'name': 'Удаленная работа'}   \n",
              "62572  {'id': 'remote', 'name': 'Удаленная работа'}   \n",
              "62672      {'id': 'fullDay', 'name': 'Полный день'}   \n",
              "\n",
              "                                              experience  \\\n",
              "6895   {'id': 'between1And3', 'name': 'От 1 года до 3...   \n",
              "10010    {'id': 'between3And6', 'name': 'От 3 до 6 лет'}   \n",
              "10548  {'id': 'between1And3', 'name': 'От 1 года до 3...   \n",
              "10955  {'id': 'between1And3', 'name': 'От 1 года до 3...   \n",
              "11048  {'id': 'between1And3', 'name': 'От 1 года до 3...   \n",
              "...                                                  ...   \n",
              "60541    {'id': 'between3And6', 'name': 'От 3 до 6 лет'}   \n",
              "61186        {'id': 'noExperience', 'name': 'Нет опыта'}   \n",
              "62072  {'id': 'between1And3', 'name': 'От 1 года до 3...   \n",
              "62572  {'id': 'between1And3', 'name': 'От 1 года до 3...   \n",
              "62672    {'id': 'between3And6', 'name': 'От 3 до 6 лет'}   \n",
              "\n",
              "                                              key_skills  \\\n",
              "6895   [{'name': 'jQuery'}, {'name': 'JavaScript'}, {...   \n",
              "10010  [{'name': 'CMS Bitrix'}, {'name': 'MODX'}, {'n...   \n",
              "10548  [{'name': 'SQL'}, {'name': 'MS SQL'}, {'name':...   \n",
              "10955  [{'name': 'JavaScript'}, {'name': 'Python'}, {...   \n",
              "11048  [{'name': 'Linux'}, {'name': 'SQL'}, {'name': ...   \n",
              "...                                                  ...   \n",
              "60541  [{'name': 'Разработка технических заданий'}, {...   \n",
              "61186  [{'name': 'Грамотная речь'}, {'name': 'Ведение...   \n",
              "62072                  [{'name': '1С программирование'}]   \n",
              "62572  [{'name': 'Python'}, {'name': 'Go'}, {'name': ...   \n",
              "62672  [{'name': 'XML'}, {'name': '1С программировани...   \n",
              "\n",
              "                                         specializations  \\\n",
              "6895   [{'id': '1.221', 'name': 'Программирование, Ра...   \n",
              "10010  [{'id': '1.221', 'name': 'Программирование, Ра...   \n",
              "10548  [{'id': '1.221', 'name': 'Программирование, Ра...   \n",
              "10955  [{'id': '1.221', 'name': 'Программирование, Ра...   \n",
              "11048  [{'id': '1.221', 'name': 'Программирование, Ра...   \n",
              "...                                                  ...   \n",
              "60541  [{'id': '17.751', 'name': 'Другое', 'profarea_...   \n",
              "61186  [{'id': '17.242', 'name': 'Прямые продажи', 'p...   \n",
              "62072  [{'id': '1.221', 'name': 'Программирование, Ра...   \n",
              "62572  [{'id': '1.221', 'name': 'Программирование, Ра...   \n",
              "62672  [{'id': '1.221', 'name': 'Программирование, Ра...   \n",
              "\n",
              "                        region  \n",
              "6895        Ростовская область  \n",
              "10010  Республика Башкортостан  \n",
              "10548                   Москва  \n",
              "10955                   Москва  \n",
              "11048                   Москва  \n",
              "...                        ...  \n",
              "60541     Свердловская область  \n",
              "61186     Свердловская область  \n",
              "62072     Свердловская область  \n",
              "62572     Свердловская область  \n",
              "62672     Свердловская область  \n",
              "\n",
              "[233 rows x 9 columns]"
            ],
            "text/html": [
              "\n",
              "  <div id=\"df-ab862fc2-0683-43c9-819e-87c71872d829\">\n",
              "    <div class=\"colab-df-container\">\n",
              "      <div>\n",
              "<style scoped>\n",
              "    .dataframe tbody tr th:only-of-type {\n",
              "        vertical-align: middle;\n",
              "    }\n",
              "\n",
              "    .dataframe tbody tr th {\n",
              "        vertical-align: top;\n",
              "    }\n",
              "\n",
              "    .dataframe thead th {\n",
              "        text-align: right;\n",
              "    }\n",
              "</style>\n",
              "<table border=\"1\" class=\"dataframe\">\n",
              "  <thead>\n",
              "    <tr style=\"text-align: right;\">\n",
              "      <th></th>\n",
              "      <th>id</th>\n",
              "      <th>name</th>\n",
              "      <th>salary</th>\n",
              "      <th>employer</th>\n",
              "      <th>schedule</th>\n",
              "      <th>experience</th>\n",
              "      <th>key_skills</th>\n",
              "      <th>specializations</th>\n",
              "      <th>region</th>\n",
              "    </tr>\n",
              "  </thead>\n",
              "  <tbody>\n",
              "    <tr>\n",
              "      <th>6895</th>\n",
              "      <td>54829502</td>\n",
              "      <td>PHP-программист</td>\n",
              "      <td>{'from': 150000, 'to': None, 'currency': 'RUR'...</td>\n",
              "      <td>{'id': '3451086', 'name': 'ВС Кэпитал', 'url':...</td>\n",
              "      <td>{'id': 'remote', 'name': 'Удаленная работа'}</td>\n",
              "      <td>{'id': 'between1And3', 'name': 'От 1 года до 3...</td>\n",
              "      <td>[{'name': 'jQuery'}, {'name': 'JavaScript'}, {...</td>\n",
              "      <td>[{'id': '1.221', 'name': 'Программирование, Ра...</td>\n",
              "      <td>Ростовская область</td>\n",
              "    </tr>\n",
              "    <tr>\n",
              "      <th>10010</th>\n",
              "      <td>55849168</td>\n",
              "      <td>SEO-специалист</td>\n",
              "      <td>{'from': 70000, 'to': None, 'currency': 'RUR',...</td>\n",
              "      <td>{'id': '4750373', 'name': 'Инсофт', 'url': 'ht...</td>\n",
              "      <td>{'id': 'remote', 'name': 'Удаленная работа'}</td>\n",
              "      <td>{'id': 'between3And6', 'name': 'От 3 до 6 лет'}</td>\n",
              "      <td>[{'name': 'CMS Bitrix'}, {'name': 'MODX'}, {'n...</td>\n",
              "      <td>[{'id': '1.221', 'name': 'Программирование, Ра...</td>\n",
              "      <td>Республика Башкортостан</td>\n",
              "    </tr>\n",
              "    <tr>\n",
              "      <th>10548</th>\n",
              "      <td>55419971</td>\n",
              "      <td>Тестировщик программного обеспечения</td>\n",
              "      <td>NaN</td>\n",
              "      <td>{'id': '45333', 'name': 'Ригла', 'url': 'https...</td>\n",
              "      <td>{'id': 'fullDay', 'name': 'Полный день'}</td>\n",
              "      <td>{'id': 'between1And3', 'name': 'От 1 года до 3...</td>\n",
              "      <td>[{'name': 'SQL'}, {'name': 'MS SQL'}, {'name':...</td>\n",
              "      <td>[{'id': '1.221', 'name': 'Программирование, Ра...</td>\n",
              "      <td>Москва</td>\n",
              "    </tr>\n",
              "    <tr>\n",
              "      <th>10955</th>\n",
              "      <td>54703136</td>\n",
              "      <td>Инженер по автоматизации тестирования</td>\n",
              "      <td>{'from': None, 'to': 220000, 'currency': 'RUR'...</td>\n",
              "      <td>{'id': '26004', 'name': 'Аладдин Р.Д.', 'url':...</td>\n",
              "      <td>{'id': 'fullDay', 'name': 'Полный день'}</td>\n",
              "      <td>{'id': 'between1And3', 'name': 'От 1 года до 3...</td>\n",
              "      <td>[{'name': 'JavaScript'}, {'name': 'Python'}, {...</td>\n",
              "      <td>[{'id': '1.221', 'name': 'Программирование, Ра...</td>\n",
              "      <td>Москва</td>\n",
              "    </tr>\n",
              "    <tr>\n",
              "      <th>11048</th>\n",
              "      <td>55062236</td>\n",
              "      <td>Инженер по нагрузочному тестированию (Банк)</td>\n",
              "      <td>NaN</td>\n",
              "      <td>{'id': '872178', 'name': 'ИЦ АЙ-ТЕКО', 'url': ...</td>\n",
              "      <td>{'id': 'fullDay', 'name': 'Полный день'}</td>\n",
              "      <td>{'id': 'between1And3', 'name': 'От 1 года до 3...</td>\n",
              "      <td>[{'name': 'Linux'}, {'name': 'SQL'}, {'name': ...</td>\n",
              "      <td>[{'id': '1.221', 'name': 'Программирование, Ра...</td>\n",
              "      <td>Москва</td>\n",
              "    </tr>\n",
              "    <tr>\n",
              "      <th>...</th>\n",
              "      <td>...</td>\n",
              "      <td>...</td>\n",
              "      <td>...</td>\n",
              "      <td>...</td>\n",
              "      <td>...</td>\n",
              "      <td>...</td>\n",
              "      <td>...</td>\n",
              "      <td>...</td>\n",
              "      <td>...</td>\n",
              "    </tr>\n",
              "    <tr>\n",
              "      <th>60541</th>\n",
              "      <td>54184769</td>\n",
              "      <td>Ведущий системный аналитик</td>\n",
              "      <td>NaN</td>\n",
              "      <td>{'id': '953', 'name': 'КБ Уральский банк рекон...</td>\n",
              "      <td>{'id': 'fullDay', 'name': 'Полный день'}</td>\n",
              "      <td>{'id': 'between3And6', 'name': 'От 3 до 6 лет'}</td>\n",
              "      <td>[{'name': 'Разработка технических заданий'}, {...</td>\n",
              "      <td>[{'id': '17.751', 'name': 'Другое', 'profarea_...</td>\n",
              "      <td>Свердловская область</td>\n",
              "    </tr>\n",
              "    <tr>\n",
              "      <th>61186</th>\n",
              "      <td>55524488</td>\n",
              "      <td>Начинающий специалист по недвижимости</td>\n",
              "      <td>{'from': 100000, 'to': None, 'currency': 'RUR'...</td>\n",
              "      <td>{'id': '4094752', 'name': 'ОН ПЕРСПЕКТИВА24 - ...</td>\n",
              "      <td>{'id': 'fullDay', 'name': 'Полный день'}</td>\n",
              "      <td>{'id': 'noExperience', 'name': 'Нет опыта'}</td>\n",
              "      <td>[{'name': 'Грамотная речь'}, {'name': 'Ведение...</td>\n",
              "      <td>[{'id': '17.242', 'name': 'Прямые продажи', 'p...</td>\n",
              "      <td>Свердловская область</td>\n",
              "    </tr>\n",
              "    <tr>\n",
              "      <th>62072</th>\n",
              "      <td>49704757</td>\n",
              "      <td>Программист-разработчик 1С</td>\n",
              "      <td>{'from': None, 'to': 180000, 'currency': 'RUR'...</td>\n",
              "      <td>{'id': '92429', 'name': 'Страховая Компания Ге...</td>\n",
              "      <td>{'id': 'remote', 'name': 'Удаленная работа'}</td>\n",
              "      <td>{'id': 'between1And3', 'name': 'От 1 года до 3...</td>\n",
              "      <td>[{'name': '1С программирование'}]</td>\n",
              "      <td>[{'id': '1.221', 'name': 'Программирование, Ра...</td>\n",
              "      <td>Свердловская область</td>\n",
              "    </tr>\n",
              "    <tr>\n",
              "      <th>62572</th>\n",
              "      <td>55527776</td>\n",
              "      <td>Full stack-разработчик</td>\n",
              "      <td>{'from': 150000, 'to': None, 'currency': 'RUR'...</td>\n",
              "      <td>{'id': '4623486', 'name': 'Центр Орбита', 'url...</td>\n",
              "      <td>{'id': 'remote', 'name': 'Удаленная работа'}</td>\n",
              "      <td>{'id': 'between1And3', 'name': 'От 1 года до 3...</td>\n",
              "      <td>[{'name': 'Python'}, {'name': 'Go'}, {'name': ...</td>\n",
              "      <td>[{'id': '1.221', 'name': 'Программирование, Ра...</td>\n",
              "      <td>Свердловская область</td>\n",
              "    </tr>\n",
              "    <tr>\n",
              "      <th>62672</th>\n",
              "      <td>66103184</td>\n",
              "      <td>Разработчик 1С (Зарплата и управление персонал...</td>\n",
              "      <td>NaN</td>\n",
              "      <td>{'id': '5390761', 'name': 'Совкомбанк Технолог...</td>\n",
              "      <td>{'id': 'fullDay', 'name': 'Полный день'}</td>\n",
              "      <td>{'id': 'between3And6', 'name': 'От 3 до 6 лет'}</td>\n",
              "      <td>[{'name': 'XML'}, {'name': '1С программировани...</td>\n",
              "      <td>[{'id': '1.221', 'name': 'Программирование, Ра...</td>\n",
              "      <td>Свердловская область</td>\n",
              "    </tr>\n",
              "  </tbody>\n",
              "</table>\n",
              "<p>233 rows × 9 columns</p>\n",
              "</div>\n",
              "      <button class=\"colab-df-convert\" onclick=\"convertToInteractive('df-ab862fc2-0683-43c9-819e-87c71872d829')\"\n",
              "              title=\"Convert this dataframe to an interactive table.\"\n",
              "              style=\"display:none;\">\n",
              "        \n",
              "  <svg xmlns=\"http://www.w3.org/2000/svg\" height=\"24px\"viewBox=\"0 0 24 24\"\n",
              "       width=\"24px\">\n",
              "    <path d=\"M0 0h24v24H0V0z\" fill=\"none\"/>\n",
              "    <path d=\"M18.56 5.44l.94 2.06.94-2.06 2.06-.94-2.06-.94-.94-2.06-.94 2.06-2.06.94zm-11 1L8.5 8.5l.94-2.06 2.06-.94-2.06-.94L8.5 2.5l-.94 2.06-2.06.94zm10 10l.94 2.06.94-2.06 2.06-.94-2.06-.94-.94-2.06-.94 2.06-2.06.94z\"/><path d=\"M17.41 7.96l-1.37-1.37c-.4-.4-.92-.59-1.43-.59-.52 0-1.04.2-1.43.59L10.3 9.45l-7.72 7.72c-.78.78-.78 2.05 0 2.83L4 21.41c.39.39.9.59 1.41.59.51 0 1.02-.2 1.41-.59l7.78-7.78 2.81-2.81c.8-.78.8-2.07 0-2.86zM5.41 20L4 18.59l7.72-7.72 1.47 1.35L5.41 20z\"/>\n",
              "  </svg>\n",
              "      </button>\n",
              "      \n",
              "  <style>\n",
              "    .colab-df-container {\n",
              "      display:flex;\n",
              "      flex-wrap:wrap;\n",
              "      gap: 12px;\n",
              "    }\n",
              "\n",
              "    .colab-df-convert {\n",
              "      background-color: #E8F0FE;\n",
              "      border: none;\n",
              "      border-radius: 50%;\n",
              "      cursor: pointer;\n",
              "      display: none;\n",
              "      fill: #1967D2;\n",
              "      height: 32px;\n",
              "      padding: 0 0 0 0;\n",
              "      width: 32px;\n",
              "    }\n",
              "\n",
              "    .colab-df-convert:hover {\n",
              "      background-color: #E2EBFA;\n",
              "      box-shadow: 0px 1px 2px rgba(60, 64, 67, 0.3), 0px 1px 3px 1px rgba(60, 64, 67, 0.15);\n",
              "      fill: #174EA6;\n",
              "    }\n",
              "\n",
              "    [theme=dark] .colab-df-convert {\n",
              "      background-color: #3B4455;\n",
              "      fill: #D2E3FC;\n",
              "    }\n",
              "\n",
              "    [theme=dark] .colab-df-convert:hover {\n",
              "      background-color: #434B5C;\n",
              "      box-shadow: 0px 1px 3px 1px rgba(0, 0, 0, 0.15);\n",
              "      filter: drop-shadow(0px 1px 2px rgba(0, 0, 0, 0.3));\n",
              "      fill: #FFFFFF;\n",
              "    }\n",
              "  </style>\n",
              "\n",
              "      <script>\n",
              "        const buttonEl =\n",
              "          document.querySelector('#df-ab862fc2-0683-43c9-819e-87c71872d829 button.colab-df-convert');\n",
              "        buttonEl.style.display =\n",
              "          google.colab.kernel.accessAllowed ? 'block' : 'none';\n",
              "\n",
              "        async function convertToInteractive(key) {\n",
              "          const element = document.querySelector('#df-ab862fc2-0683-43c9-819e-87c71872d829');\n",
              "          const dataTable =\n",
              "            await google.colab.kernel.invokeFunction('convertToInteractive',\n",
              "                                                     [key], {});\n",
              "          if (!dataTable) return;\n",
              "\n",
              "          const docLinkHtml = 'Like what you see? Visit the ' +\n",
              "            '<a target=\"_blank\" href=https://colab.research.google.com/notebooks/data_table.ipynb>data table notebook</a>'\n",
              "            + ' to learn more about interactive tables.';\n",
              "          element.innerHTML = '';\n",
              "          dataTable['output_type'] = 'display_data';\n",
              "          await google.colab.output.renderOutput(dataTable, element);\n",
              "          const docLink = document.createElement('div');\n",
              "          docLink.innerHTML = docLinkHtml;\n",
              "          element.appendChild(docLink);\n",
              "        }\n",
              "      </script>\n",
              "    </div>\n",
              "  </div>\n",
              "  "
            ]
          },
          "metadata": {},
          "execution_count": 7
        }
      ]
    },
    {
      "cell_type": "markdown",
      "source": [
        "Нашли 233 дубликата, удалим эти строки. "
      ],
      "metadata": {
        "id": "K_M4mJVsWNfc"
      }
    },
    {
      "cell_type": "code",
      "source": [
        "df.drop_duplicates(inplace=True)"
      ],
      "metadata": {
        "id": "MmjhVYo6nnHv"
      },
      "execution_count": 8,
      "outputs": []
    },
    {
      "cell_type": "code",
      "source": [
        "df.duplicated().sum()"
      ],
      "metadata": {
        "colab": {
          "base_uri": "https://localhost:8080/"
        },
        "id": "cMCwPOlRpLLC",
        "outputId": "bb363dfd-6b43-4796-c7a0-144b0efe7317"
      },
      "execution_count": 9,
      "outputs": [
        {
          "output_type": "execute_result",
          "data": {
            "text/plain": [
              "0"
            ]
          },
          "metadata": {},
          "execution_count": 9
        }
      ]
    },
    {
      "cell_type": "markdown",
      "source": [
        "Нас интересуют информационные технологии. Перобразуем колонку специализации в тип list и отфильтруем весь датасет по интересующей нас специализации."
      ],
      "metadata": {
        "id": "Vhs__kvTZ57N"
      }
    },
    {
      "cell_type": "code",
      "source": [
        "df['specializations']"
      ],
      "metadata": {
        "colab": {
          "base_uri": "https://localhost:8080/"
        },
        "id": "tclvL4dqaRFZ",
        "outputId": "0464eb41-e902-4ba8-98c2-149fd524151d"
      },
      "execution_count": 10,
      "outputs": [
        {
          "output_type": "execute_result",
          "data": {
            "text/plain": [
              "0        [{'id': '1.172', 'name': 'Начальный уровень, М...\n",
              "1        [{'id': '1.221', 'name': 'Программирование, Ра...\n",
              "2        [{'id': '1.221', 'name': 'Программирование, Ра...\n",
              "3        [{'id': '1.110', 'name': 'Компьютерная безопас...\n",
              "4        [{'id': '1.110', 'name': 'Компьютерная безопас...\n",
              "                               ...                        \n",
              "69651    [{'id': '1.221', 'name': 'Программирование, Ра...\n",
              "69652    [{'id': '1.221', 'name': 'Программирование, Ра...\n",
              "69653    [{'id': '9.94', 'name': 'Информационные технол...\n",
              "69654    [{'id': '9.94', 'name': 'Информационные технол...\n",
              "69655    [{'id': '9.94', 'name': 'Информационные технол...\n",
              "Name: specializations, Length: 69423, dtype: object"
            ]
          },
          "metadata": {},
          "execution_count": 10
        }
      ]
    },
    {
      "cell_type": "code",
      "source": [
        "df['specializations_json'] = df['specializations'].fillna('{}').apply(eval)\n",
        "\n",
        "# Удалим все двойные кавычки и запишем пустой список в случае неудачи.\n",
        "# Преобразуем в json\n",
        "\n",
        "def text_to_json(text):\n",
        "  try:\n",
        "    return json.loads(text.replace('\"', '').replace(\"'\", '\"'))\n",
        "  except:\n",
        "    return []\n",
        "df['specializations_json'] = df['specializations'].apply(text_to_json)\n",
        "\n",
        "# Сделаем список специализаций.\n",
        "\n",
        "def get_values(json):\n",
        "  try:\n",
        "    out = []\n",
        "    if len(json)>0:\n",
        "      for i in json:\n",
        "        out.append(i['profarea_name'])\n",
        "    return out\n",
        "  except:\n",
        "    return []\n",
        "df['specializations_list'] = df['specializations_json'].apply(get_values)\n",
        "df['specializations_list']"
      ],
      "metadata": {
        "colab": {
          "base_uri": "https://localhost:8080/"
        },
        "id": "2THEnTAvacaj",
        "outputId": "ff2828f0-2e5a-4072-839a-c7bd34a4165c"
      },
      "execution_count": 11,
      "outputs": [
        {
          "output_type": "execute_result",
          "data": {
            "text/plain": [
              "0        [Информационные технологии, интернет, телеком,...\n",
              "1        [Информационные технологии, интернет, телеком,...\n",
              "2        [Информационные технологии, интернет, телеком,...\n",
              "3        [Информационные технологии, интернет, телеком,...\n",
              "4        [Информационные технологии, интернет, телеком,...\n",
              "                               ...                        \n",
              "69651    [Информационные технологии, интернет, телеком,...\n",
              "69652    [Информационные технологии, интернет, телеком,...\n",
              "69653    [Высший менеджмент, Информационные технологии,...\n",
              "69654    [Высший менеджмент, Информационные технологии,...\n",
              "69655    [Высший менеджмент, Информационные технологии,...\n",
              "Name: specializations_list, Length: 69423, dtype: object"
            ]
          },
          "metadata": {},
          "execution_count": 11
        }
      ]
    },
    {
      "cell_type": "code",
      "source": [
        "def is_it(specializations_list):\n",
        "  return 'Информационные технологии, интернет, телеком' in specializations_list\n",
        "filter = df['specializations_list'].apply(is_it)\n",
        "df = df[filter]\n",
        "df.info()"
      ],
      "metadata": {
        "colab": {
          "base_uri": "https://localhost:8080/"
        },
        "id": "Nm-icJaAciJW",
        "outputId": "fe5b7cd6-5f5a-479c-acd3-61856a4d9c57"
      },
      "execution_count": 12,
      "outputs": [
        {
          "output_type": "stream",
          "name": "stdout",
          "text": [
            "<class 'pandas.core.frame.DataFrame'>\n",
            "Int64Index: 50202 entries, 0 to 69655\n",
            "Data columns (total 11 columns):\n",
            " #   Column                Non-Null Count  Dtype \n",
            "---  ------                --------------  ----- \n",
            " 0   id                    50202 non-null  int64 \n",
            " 1   name                  50202 non-null  object\n",
            " 2   salary                22650 non-null  object\n",
            " 3   employer              50202 non-null  object\n",
            " 4   schedule              50202 non-null  object\n",
            " 5   experience            50202 non-null  object\n",
            " 6   key_skills            50202 non-null  object\n",
            " 7   specializations       50202 non-null  object\n",
            " 8   region                50202 non-null  object\n",
            " 9   specializations_json  50202 non-null  object\n",
            " 10  specializations_list  50202 non-null  object\n",
            "dtypes: int64(1), object(10)\n",
            "memory usage: 4.6+ MB\n"
          ]
        }
      ]
    },
    {
      "cell_type": "markdown",
      "source": [
        "Аналогично преобразуем колонку с ключевыми навыками."
      ],
      "metadata": {
        "id": "iC-kohP2eAFZ"
      }
    },
    {
      "cell_type": "code",
      "source": [
        "df['key_skills']"
      ],
      "metadata": {
        "colab": {
          "base_uri": "https://localhost:8080/"
        },
        "id": "hmH8G3tud_ma",
        "outputId": "f11bcc7f-8ef1-4bc5-d335-347af07c7b29"
      },
      "execution_count": 13,
      "outputs": [
        {
          "output_type": "execute_result",
          "data": {
            "text/plain": [
              "0                                                       []\n",
              "1        [{'name': 'Git'}, {'name': 'SQL'}, {'name': 'Т...\n",
              "2        [{'name': 'SQL'}, {'name': 'Linux'}, {'name': ...\n",
              "3        [{'name': 'Пользователь ПК'}, {'name': 'Работа...\n",
              "4        [{'name': 'MS Dos'}, {'name': 'Диагностика ПК'...\n",
              "                               ...                        \n",
              "69651                                                   []\n",
              "69652    [{'name': '1С: Управление Торговлей'}, {'name'...\n",
              "69653    [{'name': 'Организаторские навыки'}, {'name': ...\n",
              "69654                                                   []\n",
              "69655    [{'name': 'Информационная безопасность'}, {'na...\n",
              "Name: key_skills, Length: 50202, dtype: object"
            ]
          },
          "metadata": {},
          "execution_count": 13
        }
      ]
    },
    {
      "cell_type": "code",
      "source": [
        "def text_to_json(text):\n",
        "  try:\n",
        "    return json.loads(text.replace('\"', '').replace(\"'\", '\"'))\n",
        "  except:\n",
        "    return []\n",
        "df['key_skills_json'] = df['key_skills'].apply(text_to_json)\n",
        "\n",
        "def get_values(json):\n",
        "  try:\n",
        "    out = []\n",
        "    if len(json)>0:\n",
        "      for i in json:\n",
        "        out.append(i['name'])\n",
        "    return out\n",
        "  except:\n",
        "    return []\n",
        "df['key_skills_list'] = df['key_skills_json'].apply(get_values)\n",
        "\n",
        "df['key_skills_list']"
      ],
      "metadata": {
        "colab": {
          "base_uri": "https://localhost:8080/"
        },
        "id": "jJkKsef0eKy_",
        "outputId": "2fdefd43-5142-4af8-bc1e-583dd9616bb2"
      },
      "execution_count": 14,
      "outputs": [
        {
          "output_type": "execute_result",
          "data": {
            "text/plain": [
              "0                                                       []\n",
              "1                        [Git, SQL, Тестирование, C#, API]\n",
              "2        [SQL, Linux, Информационная безопасность, Рабо...\n",
              "3        [Пользователь ПК, Работа в команде, 1С: Предпр...\n",
              "4        [MS Dos, Диагностика ПК, Компьютер, Работа в у...\n",
              "                               ...                        \n",
              "69651                                                   []\n",
              "69652    [1С: Управление Торговлей, 1С: Предприятие 8, ...\n",
              "69653    [Организаторские навыки, Работа в команде, Упр...\n",
              "69654                                                   []\n",
              "69655    [Информационная безопасность, Аудит безопаснос...\n",
              "Name: key_skills_list, Length: 50202, dtype: object"
            ]
          },
          "metadata": {},
          "execution_count": 14
        }
      ]
    },
    {
      "cell_type": "markdown",
      "source": [
        "## 4. Приведем зарплату к числовому типу."
      ],
      "metadata": {
        "id": "FwOP5jXJBKi3"
      }
    },
    {
      "cell_type": "code",
      "source": [
        "df['salary']"
      ],
      "metadata": {
        "colab": {
          "base_uri": "https://localhost:8080/"
        },
        "id": "8y-jSjb6MqKs",
        "outputId": "74fc9213-f44e-45a2-d1aa-1cf330b86520"
      },
      "execution_count": 15,
      "outputs": [
        {
          "output_type": "execute_result",
          "data": {
            "text/plain": [
              "0                                                      NaN\n",
              "1        {'from': 25000, 'to': 50000, 'currency': 'RUR'...\n",
              "2                                                      NaN\n",
              "3        {'from': 26000, 'to': None, 'currency': 'RUR',...\n",
              "4        {'from': 20000, 'to': 20000, 'currency': 'RUR'...\n",
              "                               ...                        \n",
              "69651                                                  NaN\n",
              "69652    {'from': 130000, 'to': None, 'currency': 'RUR'...\n",
              "69653    {'from': 50000, 'to': None, 'currency': 'RUR',...\n",
              "69654    {'from': 85000, 'to': None, 'currency': 'RUR',...\n",
              "69655                                                  NaN\n",
              "Name: salary, Length: 50202, dtype: object"
            ]
          },
          "metadata": {},
          "execution_count": 15
        }
      ]
    },
    {
      "cell_type": "code",
      "source": [
        "# Количество пустых значений\n",
        "\n",
        "df.salary.isna().sum()"
      ],
      "metadata": {
        "colab": {
          "base_uri": "https://localhost:8080/"
        },
        "id": "L7IyMIxyLXaB",
        "outputId": "cd6f9e5a-871d-4daa-f72a-4cb79fd6e20d"
      },
      "execution_count": 16,
      "outputs": [
        {
          "output_type": "execute_result",
          "data": {
            "text/plain": [
              "27552"
            ]
          },
          "metadata": {},
          "execution_count": 16
        }
      ]
    },
    {
      "cell_type": "markdown",
      "source": [
        "Создадим колонки с зарплатой \"от\" и \"до\", столбец с валютой, а также ставку НДФЛ."
      ],
      "metadata": {
        "id": "Z-klpxaSUOvQ"
      }
    },
    {
      "cell_type": "code",
      "source": [
        "df['salary_json'] = df['salary'].fillna('{}').apply(eval)\n",
        "\n",
        "def get_values(json):\n",
        "  try:\n",
        "    return json['from']\n",
        "  except:\n",
        "    return None\n",
        "df['salary_from'] = df['salary_json'].apply(get_values)\n",
        "\n",
        "def get_values(json):\n",
        "  try:\n",
        "    return json['to']\n",
        "  except:\n",
        "    return None\n",
        "df['salary_to'] = df['salary_json'].apply(get_values)\n",
        "\n",
        "def get_values(json):\n",
        "  try:\n",
        "    return json['currency']\n",
        "  except:\n",
        "    return None\n",
        "df['salary_currency'] = df['salary_json'].apply(get_values)\n",
        "\n",
        "def get_values(json):\n",
        "  try:\n",
        "    return json['gross']\n",
        "  except:\n",
        "    return None\n",
        "df['salary_gross'] = df['salary_json'].apply(get_values)"
      ],
      "metadata": {
        "id": "HbD6u-tFUVzn"
      },
      "execution_count": 17,
      "outputs": []
    },
    {
      "cell_type": "code",
      "source": [
        "salary_df = df[['salary_from', 'salary_to', 'salary_currency', 'salary_gross']]\n",
        "salary_df"
      ],
      "metadata": {
        "colab": {
          "base_uri": "https://localhost:8080/",
          "height": 423
        },
        "id": "t9ApwRFjjkuH",
        "outputId": "cf2ce6c9-f07e-4284-8f1d-76f088b956f6"
      },
      "execution_count": 18,
      "outputs": [
        {
          "output_type": "execute_result",
          "data": {
            "text/plain": [
              "       salary_from  salary_to salary_currency salary_gross\n",
              "0              NaN        NaN            None         None\n",
              "1          25000.0    50000.0             RUR         True\n",
              "2              NaN        NaN            None         None\n",
              "3          26000.0        NaN             RUR         True\n",
              "4          20000.0    20000.0             RUR        False\n",
              "...            ...        ...             ...          ...\n",
              "69651          NaN        NaN            None         None\n",
              "69652     130000.0        NaN             RUR        False\n",
              "69653      50000.0        NaN             RUR        False\n",
              "69654      85000.0        NaN             RUR        False\n",
              "69655          NaN        NaN            None         None\n",
              "\n",
              "[50202 rows x 4 columns]"
            ],
            "text/html": [
              "\n",
              "  <div id=\"df-dda286a4-fc88-45e4-97cd-11f28adce8c2\">\n",
              "    <div class=\"colab-df-container\">\n",
              "      <div>\n",
              "<style scoped>\n",
              "    .dataframe tbody tr th:only-of-type {\n",
              "        vertical-align: middle;\n",
              "    }\n",
              "\n",
              "    .dataframe tbody tr th {\n",
              "        vertical-align: top;\n",
              "    }\n",
              "\n",
              "    .dataframe thead th {\n",
              "        text-align: right;\n",
              "    }\n",
              "</style>\n",
              "<table border=\"1\" class=\"dataframe\">\n",
              "  <thead>\n",
              "    <tr style=\"text-align: right;\">\n",
              "      <th></th>\n",
              "      <th>salary_from</th>\n",
              "      <th>salary_to</th>\n",
              "      <th>salary_currency</th>\n",
              "      <th>salary_gross</th>\n",
              "    </tr>\n",
              "  </thead>\n",
              "  <tbody>\n",
              "    <tr>\n",
              "      <th>0</th>\n",
              "      <td>NaN</td>\n",
              "      <td>NaN</td>\n",
              "      <td>None</td>\n",
              "      <td>None</td>\n",
              "    </tr>\n",
              "    <tr>\n",
              "      <th>1</th>\n",
              "      <td>25000.0</td>\n",
              "      <td>50000.0</td>\n",
              "      <td>RUR</td>\n",
              "      <td>True</td>\n",
              "    </tr>\n",
              "    <tr>\n",
              "      <th>2</th>\n",
              "      <td>NaN</td>\n",
              "      <td>NaN</td>\n",
              "      <td>None</td>\n",
              "      <td>None</td>\n",
              "    </tr>\n",
              "    <tr>\n",
              "      <th>3</th>\n",
              "      <td>26000.0</td>\n",
              "      <td>NaN</td>\n",
              "      <td>RUR</td>\n",
              "      <td>True</td>\n",
              "    </tr>\n",
              "    <tr>\n",
              "      <th>4</th>\n",
              "      <td>20000.0</td>\n",
              "      <td>20000.0</td>\n",
              "      <td>RUR</td>\n",
              "      <td>False</td>\n",
              "    </tr>\n",
              "    <tr>\n",
              "      <th>...</th>\n",
              "      <td>...</td>\n",
              "      <td>...</td>\n",
              "      <td>...</td>\n",
              "      <td>...</td>\n",
              "    </tr>\n",
              "    <tr>\n",
              "      <th>69651</th>\n",
              "      <td>NaN</td>\n",
              "      <td>NaN</td>\n",
              "      <td>None</td>\n",
              "      <td>None</td>\n",
              "    </tr>\n",
              "    <tr>\n",
              "      <th>69652</th>\n",
              "      <td>130000.0</td>\n",
              "      <td>NaN</td>\n",
              "      <td>RUR</td>\n",
              "      <td>False</td>\n",
              "    </tr>\n",
              "    <tr>\n",
              "      <th>69653</th>\n",
              "      <td>50000.0</td>\n",
              "      <td>NaN</td>\n",
              "      <td>RUR</td>\n",
              "      <td>False</td>\n",
              "    </tr>\n",
              "    <tr>\n",
              "      <th>69654</th>\n",
              "      <td>85000.0</td>\n",
              "      <td>NaN</td>\n",
              "      <td>RUR</td>\n",
              "      <td>False</td>\n",
              "    </tr>\n",
              "    <tr>\n",
              "      <th>69655</th>\n",
              "      <td>NaN</td>\n",
              "      <td>NaN</td>\n",
              "      <td>None</td>\n",
              "      <td>None</td>\n",
              "    </tr>\n",
              "  </tbody>\n",
              "</table>\n",
              "<p>50202 rows × 4 columns</p>\n",
              "</div>\n",
              "      <button class=\"colab-df-convert\" onclick=\"convertToInteractive('df-dda286a4-fc88-45e4-97cd-11f28adce8c2')\"\n",
              "              title=\"Convert this dataframe to an interactive table.\"\n",
              "              style=\"display:none;\">\n",
              "        \n",
              "  <svg xmlns=\"http://www.w3.org/2000/svg\" height=\"24px\"viewBox=\"0 0 24 24\"\n",
              "       width=\"24px\">\n",
              "    <path d=\"M0 0h24v24H0V0z\" fill=\"none\"/>\n",
              "    <path d=\"M18.56 5.44l.94 2.06.94-2.06 2.06-.94-2.06-.94-.94-2.06-.94 2.06-2.06.94zm-11 1L8.5 8.5l.94-2.06 2.06-.94-2.06-.94L8.5 2.5l-.94 2.06-2.06.94zm10 10l.94 2.06.94-2.06 2.06-.94-2.06-.94-.94-2.06-.94 2.06-2.06.94z\"/><path d=\"M17.41 7.96l-1.37-1.37c-.4-.4-.92-.59-1.43-.59-.52 0-1.04.2-1.43.59L10.3 9.45l-7.72 7.72c-.78.78-.78 2.05 0 2.83L4 21.41c.39.39.9.59 1.41.59.51 0 1.02-.2 1.41-.59l7.78-7.78 2.81-2.81c.8-.78.8-2.07 0-2.86zM5.41 20L4 18.59l7.72-7.72 1.47 1.35L5.41 20z\"/>\n",
              "  </svg>\n",
              "      </button>\n",
              "      \n",
              "  <style>\n",
              "    .colab-df-container {\n",
              "      display:flex;\n",
              "      flex-wrap:wrap;\n",
              "      gap: 12px;\n",
              "    }\n",
              "\n",
              "    .colab-df-convert {\n",
              "      background-color: #E8F0FE;\n",
              "      border: none;\n",
              "      border-radius: 50%;\n",
              "      cursor: pointer;\n",
              "      display: none;\n",
              "      fill: #1967D2;\n",
              "      height: 32px;\n",
              "      padding: 0 0 0 0;\n",
              "      width: 32px;\n",
              "    }\n",
              "\n",
              "    .colab-df-convert:hover {\n",
              "      background-color: #E2EBFA;\n",
              "      box-shadow: 0px 1px 2px rgba(60, 64, 67, 0.3), 0px 1px 3px 1px rgba(60, 64, 67, 0.15);\n",
              "      fill: #174EA6;\n",
              "    }\n",
              "\n",
              "    [theme=dark] .colab-df-convert {\n",
              "      background-color: #3B4455;\n",
              "      fill: #D2E3FC;\n",
              "    }\n",
              "\n",
              "    [theme=dark] .colab-df-convert:hover {\n",
              "      background-color: #434B5C;\n",
              "      box-shadow: 0px 1px 3px 1px rgba(0, 0, 0, 0.15);\n",
              "      filter: drop-shadow(0px 1px 2px rgba(0, 0, 0, 0.3));\n",
              "      fill: #FFFFFF;\n",
              "    }\n",
              "  </style>\n",
              "\n",
              "      <script>\n",
              "        const buttonEl =\n",
              "          document.querySelector('#df-dda286a4-fc88-45e4-97cd-11f28adce8c2 button.colab-df-convert');\n",
              "        buttonEl.style.display =\n",
              "          google.colab.kernel.accessAllowed ? 'block' : 'none';\n",
              "\n",
              "        async function convertToInteractive(key) {\n",
              "          const element = document.querySelector('#df-dda286a4-fc88-45e4-97cd-11f28adce8c2');\n",
              "          const dataTable =\n",
              "            await google.colab.kernel.invokeFunction('convertToInteractive',\n",
              "                                                     [key], {});\n",
              "          if (!dataTable) return;\n",
              "\n",
              "          const docLinkHtml = 'Like what you see? Visit the ' +\n",
              "            '<a target=\"_blank\" href=https://colab.research.google.com/notebooks/data_table.ipynb>data table notebook</a>'\n",
              "            + ' to learn more about interactive tables.';\n",
              "          element.innerHTML = '';\n",
              "          dataTable['output_type'] = 'display_data';\n",
              "          await google.colab.output.renderOutput(dataTable, element);\n",
              "          const docLink = document.createElement('div');\n",
              "          docLink.innerHTML = docLinkHtml;\n",
              "          element.appendChild(docLink);\n",
              "        }\n",
              "      </script>\n",
              "    </div>\n",
              "  </div>\n",
              "  "
            ]
          },
          "metadata": {},
          "execution_count": 18
        }
      ]
    },
    {
      "cell_type": "markdown",
      "source": [
        "Заменим значения True и False на 0,87 и 1 соответсвенно. Так как зарплата указана где-то с учетом НДФЛ, а где-то без учета."
      ],
      "metadata": {
        "id": "j_jKvIbHk0AZ"
      }
    },
    {
      "cell_type": "code",
      "source": [
        "gross = salary_df.replace({'salary_gross':{True: 0.87, False:1}})\n",
        "gross"
      ],
      "metadata": {
        "colab": {
          "base_uri": "https://localhost:8080/",
          "height": 423
        },
        "id": "oMO2Gw2tkhr2",
        "outputId": "3df2e27e-a6ed-4d98-ce8a-2d05c775008e"
      },
      "execution_count": 19,
      "outputs": [
        {
          "output_type": "execute_result",
          "data": {
            "text/plain": [
              "       salary_from  salary_to salary_currency  salary_gross\n",
              "0              NaN        NaN            None           NaN\n",
              "1          25000.0    50000.0             RUR          0.87\n",
              "2              NaN        NaN            None           NaN\n",
              "3          26000.0        NaN             RUR          0.87\n",
              "4          20000.0    20000.0             RUR          1.00\n",
              "...            ...        ...             ...           ...\n",
              "69651          NaN        NaN            None           NaN\n",
              "69652     130000.0        NaN             RUR          1.00\n",
              "69653      50000.0        NaN             RUR          1.00\n",
              "69654      85000.0        NaN             RUR          1.00\n",
              "69655          NaN        NaN            None           NaN\n",
              "\n",
              "[50202 rows x 4 columns]"
            ],
            "text/html": [
              "\n",
              "  <div id=\"df-e4d93cc7-1677-4896-9dce-995e8ad4db8b\">\n",
              "    <div class=\"colab-df-container\">\n",
              "      <div>\n",
              "<style scoped>\n",
              "    .dataframe tbody tr th:only-of-type {\n",
              "        vertical-align: middle;\n",
              "    }\n",
              "\n",
              "    .dataframe tbody tr th {\n",
              "        vertical-align: top;\n",
              "    }\n",
              "\n",
              "    .dataframe thead th {\n",
              "        text-align: right;\n",
              "    }\n",
              "</style>\n",
              "<table border=\"1\" class=\"dataframe\">\n",
              "  <thead>\n",
              "    <tr style=\"text-align: right;\">\n",
              "      <th></th>\n",
              "      <th>salary_from</th>\n",
              "      <th>salary_to</th>\n",
              "      <th>salary_currency</th>\n",
              "      <th>salary_gross</th>\n",
              "    </tr>\n",
              "  </thead>\n",
              "  <tbody>\n",
              "    <tr>\n",
              "      <th>0</th>\n",
              "      <td>NaN</td>\n",
              "      <td>NaN</td>\n",
              "      <td>None</td>\n",
              "      <td>NaN</td>\n",
              "    </tr>\n",
              "    <tr>\n",
              "      <th>1</th>\n",
              "      <td>25000.0</td>\n",
              "      <td>50000.0</td>\n",
              "      <td>RUR</td>\n",
              "      <td>0.87</td>\n",
              "    </tr>\n",
              "    <tr>\n",
              "      <th>2</th>\n",
              "      <td>NaN</td>\n",
              "      <td>NaN</td>\n",
              "      <td>None</td>\n",
              "      <td>NaN</td>\n",
              "    </tr>\n",
              "    <tr>\n",
              "      <th>3</th>\n",
              "      <td>26000.0</td>\n",
              "      <td>NaN</td>\n",
              "      <td>RUR</td>\n",
              "      <td>0.87</td>\n",
              "    </tr>\n",
              "    <tr>\n",
              "      <th>4</th>\n",
              "      <td>20000.0</td>\n",
              "      <td>20000.0</td>\n",
              "      <td>RUR</td>\n",
              "      <td>1.00</td>\n",
              "    </tr>\n",
              "    <tr>\n",
              "      <th>...</th>\n",
              "      <td>...</td>\n",
              "      <td>...</td>\n",
              "      <td>...</td>\n",
              "      <td>...</td>\n",
              "    </tr>\n",
              "    <tr>\n",
              "      <th>69651</th>\n",
              "      <td>NaN</td>\n",
              "      <td>NaN</td>\n",
              "      <td>None</td>\n",
              "      <td>NaN</td>\n",
              "    </tr>\n",
              "    <tr>\n",
              "      <th>69652</th>\n",
              "      <td>130000.0</td>\n",
              "      <td>NaN</td>\n",
              "      <td>RUR</td>\n",
              "      <td>1.00</td>\n",
              "    </tr>\n",
              "    <tr>\n",
              "      <th>69653</th>\n",
              "      <td>50000.0</td>\n",
              "      <td>NaN</td>\n",
              "      <td>RUR</td>\n",
              "      <td>1.00</td>\n",
              "    </tr>\n",
              "    <tr>\n",
              "      <th>69654</th>\n",
              "      <td>85000.0</td>\n",
              "      <td>NaN</td>\n",
              "      <td>RUR</td>\n",
              "      <td>1.00</td>\n",
              "    </tr>\n",
              "    <tr>\n",
              "      <th>69655</th>\n",
              "      <td>NaN</td>\n",
              "      <td>NaN</td>\n",
              "      <td>None</td>\n",
              "      <td>NaN</td>\n",
              "    </tr>\n",
              "  </tbody>\n",
              "</table>\n",
              "<p>50202 rows × 4 columns</p>\n",
              "</div>\n",
              "      <button class=\"colab-df-convert\" onclick=\"convertToInteractive('df-e4d93cc7-1677-4896-9dce-995e8ad4db8b')\"\n",
              "              title=\"Convert this dataframe to an interactive table.\"\n",
              "              style=\"display:none;\">\n",
              "        \n",
              "  <svg xmlns=\"http://www.w3.org/2000/svg\" height=\"24px\"viewBox=\"0 0 24 24\"\n",
              "       width=\"24px\">\n",
              "    <path d=\"M0 0h24v24H0V0z\" fill=\"none\"/>\n",
              "    <path d=\"M18.56 5.44l.94 2.06.94-2.06 2.06-.94-2.06-.94-.94-2.06-.94 2.06-2.06.94zm-11 1L8.5 8.5l.94-2.06 2.06-.94-2.06-.94L8.5 2.5l-.94 2.06-2.06.94zm10 10l.94 2.06.94-2.06 2.06-.94-2.06-.94-.94-2.06-.94 2.06-2.06.94z\"/><path d=\"M17.41 7.96l-1.37-1.37c-.4-.4-.92-.59-1.43-.59-.52 0-1.04.2-1.43.59L10.3 9.45l-7.72 7.72c-.78.78-.78 2.05 0 2.83L4 21.41c.39.39.9.59 1.41.59.51 0 1.02-.2 1.41-.59l7.78-7.78 2.81-2.81c.8-.78.8-2.07 0-2.86zM5.41 20L4 18.59l7.72-7.72 1.47 1.35L5.41 20z\"/>\n",
              "  </svg>\n",
              "      </button>\n",
              "      \n",
              "  <style>\n",
              "    .colab-df-container {\n",
              "      display:flex;\n",
              "      flex-wrap:wrap;\n",
              "      gap: 12px;\n",
              "    }\n",
              "\n",
              "    .colab-df-convert {\n",
              "      background-color: #E8F0FE;\n",
              "      border: none;\n",
              "      border-radius: 50%;\n",
              "      cursor: pointer;\n",
              "      display: none;\n",
              "      fill: #1967D2;\n",
              "      height: 32px;\n",
              "      padding: 0 0 0 0;\n",
              "      width: 32px;\n",
              "    }\n",
              "\n",
              "    .colab-df-convert:hover {\n",
              "      background-color: #E2EBFA;\n",
              "      box-shadow: 0px 1px 2px rgba(60, 64, 67, 0.3), 0px 1px 3px 1px rgba(60, 64, 67, 0.15);\n",
              "      fill: #174EA6;\n",
              "    }\n",
              "\n",
              "    [theme=dark] .colab-df-convert {\n",
              "      background-color: #3B4455;\n",
              "      fill: #D2E3FC;\n",
              "    }\n",
              "\n",
              "    [theme=dark] .colab-df-convert:hover {\n",
              "      background-color: #434B5C;\n",
              "      box-shadow: 0px 1px 3px 1px rgba(0, 0, 0, 0.15);\n",
              "      filter: drop-shadow(0px 1px 2px rgba(0, 0, 0, 0.3));\n",
              "      fill: #FFFFFF;\n",
              "    }\n",
              "  </style>\n",
              "\n",
              "      <script>\n",
              "        const buttonEl =\n",
              "          document.querySelector('#df-e4d93cc7-1677-4896-9dce-995e8ad4db8b button.colab-df-convert');\n",
              "        buttonEl.style.display =\n",
              "          google.colab.kernel.accessAllowed ? 'block' : 'none';\n",
              "\n",
              "        async function convertToInteractive(key) {\n",
              "          const element = document.querySelector('#df-e4d93cc7-1677-4896-9dce-995e8ad4db8b');\n",
              "          const dataTable =\n",
              "            await google.colab.kernel.invokeFunction('convertToInteractive',\n",
              "                                                     [key], {});\n",
              "          if (!dataTable) return;\n",
              "\n",
              "          const docLinkHtml = 'Like what you see? Visit the ' +\n",
              "            '<a target=\"_blank\" href=https://colab.research.google.com/notebooks/data_table.ipynb>data table notebook</a>'\n",
              "            + ' to learn more about interactive tables.';\n",
              "          element.innerHTML = '';\n",
              "          dataTable['output_type'] = 'display_data';\n",
              "          await google.colab.output.renderOutput(dataTable, element);\n",
              "          const docLink = document.createElement('div');\n",
              "          docLink.innerHTML = docLinkHtml;\n",
              "          element.appendChild(docLink);\n",
              "        }\n",
              "      </script>\n",
              "    </div>\n",
              "  </div>\n",
              "  "
            ]
          },
          "metadata": {},
          "execution_count": 19
        }
      ]
    },
    {
      "cell_type": "markdown",
      "source": [
        "Создаем столбы с зарплатой в рублях."
      ],
      "metadata": {
        "id": "MWCOz4wwlKhM"
      }
    },
    {
      "cell_type": "code",
      "source": [
        "rates = dict(RUR=1, USD=59.78, EUR=59.84, KZT=0.12)\n",
        "df['salary_min'] = df['salary_currency'].map(rates) * df['salary_from'] *gross['salary_gross']\n",
        "df['salary_max'] = df['salary_currency'].map(rates) * df['salary_to'] * gross['salary_gross']"
      ],
      "metadata": {
        "id": "xaI3-k_32iqX"
      },
      "execution_count": 20,
      "outputs": []
    },
    {
      "cell_type": "code",
      "source": [
        "df[['salary_min', 'salary_max', 'salary_currency']]"
      ],
      "metadata": {
        "colab": {
          "base_uri": "https://localhost:8080/",
          "height": 423
        },
        "id": "OiM9sD963S6i",
        "outputId": "da6c4d49-a7a9-4545-8540-95176a093ff3"
      },
      "execution_count": 21,
      "outputs": [
        {
          "output_type": "execute_result",
          "data": {
            "text/plain": [
              "       salary_min  salary_max salary_currency\n",
              "0             NaN         NaN            None\n",
              "1         21750.0     43500.0             RUR\n",
              "2             NaN         NaN            None\n",
              "3         22620.0         NaN             RUR\n",
              "4         20000.0     20000.0             RUR\n",
              "...           ...         ...             ...\n",
              "69651         NaN         NaN            None\n",
              "69652    130000.0         NaN             RUR\n",
              "69653     50000.0         NaN             RUR\n",
              "69654     85000.0         NaN             RUR\n",
              "69655         NaN         NaN            None\n",
              "\n",
              "[50202 rows x 3 columns]"
            ],
            "text/html": [
              "\n",
              "  <div id=\"df-270f2afc-8d50-4dc0-8ebe-cefdd835a2b2\">\n",
              "    <div class=\"colab-df-container\">\n",
              "      <div>\n",
              "<style scoped>\n",
              "    .dataframe tbody tr th:only-of-type {\n",
              "        vertical-align: middle;\n",
              "    }\n",
              "\n",
              "    .dataframe tbody tr th {\n",
              "        vertical-align: top;\n",
              "    }\n",
              "\n",
              "    .dataframe thead th {\n",
              "        text-align: right;\n",
              "    }\n",
              "</style>\n",
              "<table border=\"1\" class=\"dataframe\">\n",
              "  <thead>\n",
              "    <tr style=\"text-align: right;\">\n",
              "      <th></th>\n",
              "      <th>salary_min</th>\n",
              "      <th>salary_max</th>\n",
              "      <th>salary_currency</th>\n",
              "    </tr>\n",
              "  </thead>\n",
              "  <tbody>\n",
              "    <tr>\n",
              "      <th>0</th>\n",
              "      <td>NaN</td>\n",
              "      <td>NaN</td>\n",
              "      <td>None</td>\n",
              "    </tr>\n",
              "    <tr>\n",
              "      <th>1</th>\n",
              "      <td>21750.0</td>\n",
              "      <td>43500.0</td>\n",
              "      <td>RUR</td>\n",
              "    </tr>\n",
              "    <tr>\n",
              "      <th>2</th>\n",
              "      <td>NaN</td>\n",
              "      <td>NaN</td>\n",
              "      <td>None</td>\n",
              "    </tr>\n",
              "    <tr>\n",
              "      <th>3</th>\n",
              "      <td>22620.0</td>\n",
              "      <td>NaN</td>\n",
              "      <td>RUR</td>\n",
              "    </tr>\n",
              "    <tr>\n",
              "      <th>4</th>\n",
              "      <td>20000.0</td>\n",
              "      <td>20000.0</td>\n",
              "      <td>RUR</td>\n",
              "    </tr>\n",
              "    <tr>\n",
              "      <th>...</th>\n",
              "      <td>...</td>\n",
              "      <td>...</td>\n",
              "      <td>...</td>\n",
              "    </tr>\n",
              "    <tr>\n",
              "      <th>69651</th>\n",
              "      <td>NaN</td>\n",
              "      <td>NaN</td>\n",
              "      <td>None</td>\n",
              "    </tr>\n",
              "    <tr>\n",
              "      <th>69652</th>\n",
              "      <td>130000.0</td>\n",
              "      <td>NaN</td>\n",
              "      <td>RUR</td>\n",
              "    </tr>\n",
              "    <tr>\n",
              "      <th>69653</th>\n",
              "      <td>50000.0</td>\n",
              "      <td>NaN</td>\n",
              "      <td>RUR</td>\n",
              "    </tr>\n",
              "    <tr>\n",
              "      <th>69654</th>\n",
              "      <td>85000.0</td>\n",
              "      <td>NaN</td>\n",
              "      <td>RUR</td>\n",
              "    </tr>\n",
              "    <tr>\n",
              "      <th>69655</th>\n",
              "      <td>NaN</td>\n",
              "      <td>NaN</td>\n",
              "      <td>None</td>\n",
              "    </tr>\n",
              "  </tbody>\n",
              "</table>\n",
              "<p>50202 rows × 3 columns</p>\n",
              "</div>\n",
              "      <button class=\"colab-df-convert\" onclick=\"convertToInteractive('df-270f2afc-8d50-4dc0-8ebe-cefdd835a2b2')\"\n",
              "              title=\"Convert this dataframe to an interactive table.\"\n",
              "              style=\"display:none;\">\n",
              "        \n",
              "  <svg xmlns=\"http://www.w3.org/2000/svg\" height=\"24px\"viewBox=\"0 0 24 24\"\n",
              "       width=\"24px\">\n",
              "    <path d=\"M0 0h24v24H0V0z\" fill=\"none\"/>\n",
              "    <path d=\"M18.56 5.44l.94 2.06.94-2.06 2.06-.94-2.06-.94-.94-2.06-.94 2.06-2.06.94zm-11 1L8.5 8.5l.94-2.06 2.06-.94-2.06-.94L8.5 2.5l-.94 2.06-2.06.94zm10 10l.94 2.06.94-2.06 2.06-.94-2.06-.94-.94-2.06-.94 2.06-2.06.94z\"/><path d=\"M17.41 7.96l-1.37-1.37c-.4-.4-.92-.59-1.43-.59-.52 0-1.04.2-1.43.59L10.3 9.45l-7.72 7.72c-.78.78-.78 2.05 0 2.83L4 21.41c.39.39.9.59 1.41.59.51 0 1.02-.2 1.41-.59l7.78-7.78 2.81-2.81c.8-.78.8-2.07 0-2.86zM5.41 20L4 18.59l7.72-7.72 1.47 1.35L5.41 20z\"/>\n",
              "  </svg>\n",
              "      </button>\n",
              "      \n",
              "  <style>\n",
              "    .colab-df-container {\n",
              "      display:flex;\n",
              "      flex-wrap:wrap;\n",
              "      gap: 12px;\n",
              "    }\n",
              "\n",
              "    .colab-df-convert {\n",
              "      background-color: #E8F0FE;\n",
              "      border: none;\n",
              "      border-radius: 50%;\n",
              "      cursor: pointer;\n",
              "      display: none;\n",
              "      fill: #1967D2;\n",
              "      height: 32px;\n",
              "      padding: 0 0 0 0;\n",
              "      width: 32px;\n",
              "    }\n",
              "\n",
              "    .colab-df-convert:hover {\n",
              "      background-color: #E2EBFA;\n",
              "      box-shadow: 0px 1px 2px rgba(60, 64, 67, 0.3), 0px 1px 3px 1px rgba(60, 64, 67, 0.15);\n",
              "      fill: #174EA6;\n",
              "    }\n",
              "\n",
              "    [theme=dark] .colab-df-convert {\n",
              "      background-color: #3B4455;\n",
              "      fill: #D2E3FC;\n",
              "    }\n",
              "\n",
              "    [theme=dark] .colab-df-convert:hover {\n",
              "      background-color: #434B5C;\n",
              "      box-shadow: 0px 1px 3px 1px rgba(0, 0, 0, 0.15);\n",
              "      filter: drop-shadow(0px 1px 2px rgba(0, 0, 0, 0.3));\n",
              "      fill: #FFFFFF;\n",
              "    }\n",
              "  </style>\n",
              "\n",
              "      <script>\n",
              "        const buttonEl =\n",
              "          document.querySelector('#df-270f2afc-8d50-4dc0-8ebe-cefdd835a2b2 button.colab-df-convert');\n",
              "        buttonEl.style.display =\n",
              "          google.colab.kernel.accessAllowed ? 'block' : 'none';\n",
              "\n",
              "        async function convertToInteractive(key) {\n",
              "          const element = document.querySelector('#df-270f2afc-8d50-4dc0-8ebe-cefdd835a2b2');\n",
              "          const dataTable =\n",
              "            await google.colab.kernel.invokeFunction('convertToInteractive',\n",
              "                                                     [key], {});\n",
              "          if (!dataTable) return;\n",
              "\n",
              "          const docLinkHtml = 'Like what you see? Visit the ' +\n",
              "            '<a target=\"_blank\" href=https://colab.research.google.com/notebooks/data_table.ipynb>data table notebook</a>'\n",
              "            + ' to learn more about interactive tables.';\n",
              "          element.innerHTML = '';\n",
              "          dataTable['output_type'] = 'display_data';\n",
              "          await google.colab.output.renderOutput(dataTable, element);\n",
              "          const docLink = document.createElement('div');\n",
              "          docLink.innerHTML = docLinkHtml;\n",
              "          element.appendChild(docLink);\n",
              "        }\n",
              "      </script>\n",
              "    </div>\n",
              "  </div>\n",
              "  "
            ]
          },
          "metadata": {},
          "execution_count": 21
        }
      ]
    },
    {
      "cell_type": "markdown",
      "source": [
        "## 5. Анализ числовых данных"
      ],
      "metadata": {
        "id": "0YPztHuIXf4l"
      }
    },
    {
      "cell_type": "markdown",
      "source": [
        "### **Неграфический анализ**"
      ],
      "metadata": {
        "id": "inmGlzWrMvYr"
      }
    },
    {
      "cell_type": "markdown",
      "source": [
        "Найдем максимальную зарплату, минимальную, среднюю и найдем медиану."
      ],
      "metadata": {
        "id": "FQRswAAL9xSr"
      }
    },
    {
      "cell_type": "code",
      "source": [
        "value_of_salary_from = df['salary_min']\n",
        "value_of_salary_to = df['salary_max']\n",
        "\n",
        "print('Максимальная зарплата', value_of_salary_to.max())\n",
        "print('Минимальная зарплата', value_of_salary_from.min())\n",
        "print('Средняя зарплата', value_of_salary_from.mean())\n",
        "print('Медиальная зарплата', value_of_salary_from.median())"
      ],
      "metadata": {
        "colab": {
          "base_uri": "https://localhost:8080/"
        },
        "id": "fXeoJnDY95K6",
        "outputId": "c82cf842-4dfe-434f-d259-e847619ad8e7"
      },
      "execution_count": 22,
      "outputs": [
        {
          "output_type": "stream",
          "name": "stdout",
          "text": [
            "Максимальная зарплата 1740000.0\n",
            "Минимальная зарплата 25.0\n",
            "Средняя зарплата 79597.4225203494\n",
            "Медиальная зарплата 60000.0\n"
          ]
        }
      ]
    },
    {
      "cell_type": "code",
      "source": [
        "value_of_salary_from.describe().round(1)"
      ],
      "metadata": {
        "colab": {
          "base_uri": "https://localhost:8080/"
        },
        "id": "Z5UKMpBxLy06",
        "outputId": "ba0ae4ed-4bd5-4ec1-da35-c80b8090360d"
      },
      "execution_count": 23,
      "outputs": [
        {
          "output_type": "execute_result",
          "data": {
            "text/plain": [
              "count     20148.0\n",
              "mean      79597.4\n",
              "std       62195.5\n",
              "min          25.0\n",
              "25%       35000.0\n",
              "50%       60000.0\n",
              "75%      100000.0\n",
              "max      870000.0\n",
              "Name: salary_min, dtype: float64"
            ]
          },
          "metadata": {},
          "execution_count": 23
        }
      ]
    },
    {
      "cell_type": "markdown",
      "source": [
        "### **Графический анализ.**"
      ],
      "metadata": {
        "id": "QTlNQCqHMnTA"
      }
    },
    {
      "cell_type": "code",
      "source": [
        "value_of_salary_from = value_of_salary_from[value_of_salary_from < 350000]"
      ],
      "metadata": {
        "id": "POmy1tV9XkW_"
      },
      "execution_count": 24,
      "outputs": []
    },
    {
      "cell_type": "code",
      "source": [
        "plt.boxplot(value_of_salary_from)\n",
        "plt.axis(ymin=0, ymax=350000)\n",
        "plt.title('График boxplot зарплат \"от\"', fontsize=16)\n",
        "plt.ylabel('Размер зарплаты', fontsize=14)\n",
        "plt.style.use('seaborn')\n",
        "plt.show()"
      ],
      "metadata": {
        "colab": {
          "base_uri": "https://localhost:8080/",
          "height": 284
        },
        "id": "JnNDtgAkMuZ9",
        "outputId": "118e5948-bd5e-485a-a82b-94d40877bedc"
      },
      "execution_count": 25,
      "outputs": [
        {
          "output_type": "display_data",
          "data": {
            "text/plain": [
              "<Figure size 432x288 with 1 Axes>"
            ],
            "image/png": "[encoded data removed]"
          },
          "metadata": {
            "needs_background": "light"
          }
        }
      ]
    },
    {
      "cell_type": "code",
      "source": [
        "plt.hist(value_of_salary_from, bins=20)\n",
        "plt.title('Гистограмма размера зарплат', fontsize=16)\n",
        "plt.ylabel('Количесто вакансий', fontsize=14)\n",
        "plt.xlabel('Размер зарплат', fontsize=14)\n",
        "plt.style.use('bmh')\n",
        "plt.show()"
      ],
      "metadata": {
        "colab": {
          "base_uri": "https://localhost:8080/",
          "height": 383
        },
        "id": "mmmqBwFyd_06",
        "outputId": "293da35a-5c51-414f-c220-236638b7b404"
      },
      "execution_count": 26,
      "outputs": [
        {
          "output_type": "display_data",
          "data": {
            "text/plain": [
              "<Figure size 576x396 with 1 Axes>"
            ],
            "image/png": "[encoded data removed]"
          },
          "metadata": {}
        }
      ]
    },
    {
      "cell_type": "markdown",
      "source": [
        "**Выводы:** Основной бокс зарплат от 36000 до 100000. Средняя зарплата по информационным технологиям 79000, медиальная 60000, то есть больше всего вакансий с зарплатой в размере 60000."
      ],
      "metadata": {
        "id": "J8HbBeydO11Q"
      }
    },
    {
      "cell_type": "markdown",
      "source": [
        "## 6. Анализ категориальных данных"
      ],
      "metadata": {
        "id": "-YTy0-x5XtCl"
      }
    },
    {
      "cell_type": "markdown",
      "source": [
        "### **Неграфический анализ**"
      ],
      "metadata": {
        "id": "UIorKSDNXpfe"
      }
    },
    {
      "cell_type": "code",
      "source": [
        "df['name'].describe()"
      ],
      "metadata": {
        "colab": {
          "base_uri": "https://localhost:8080/"
        },
        "id": "yKAGzsGrWHvO",
        "outputId": "dfdd6ca9-3e70-4780-c66c-070b539ed885"
      },
      "execution_count": 27,
      "outputs": [
        {
          "output_type": "execute_result",
          "data": {
            "text/plain": [
              "count                       50202\n",
              "unique                      24008\n",
              "top       Системный администратор\n",
              "freq                         1650\n",
              "Name: name, dtype: object"
            ]
          },
          "metadata": {},
          "execution_count": 27
        }
      ]
    },
    {
      "cell_type": "markdown",
      "source": [
        "Самая часто встречающаяся вакансия(1650 раз) \"Системный администратор\"."
      ],
      "metadata": {
        "id": "T69GUsnRWS9M"
      }
    },
    {
      "cell_type": "markdown",
      "source": [
        "Выведем топ-20 часто встречающихся вакансий."
      ],
      "metadata": {
        "id": "JZFesbmMXN0r"
      }
    },
    {
      "cell_type": "code",
      "source": [
        "df['name'].value_counts()[:20]"
      ],
      "metadata": {
        "colab": {
          "base_uri": "https://localhost:8080/"
        },
        "id": "rkTgLVlCWlXE",
        "outputId": "f9635420-08f8-47d2-dc5f-ee26438c1219"
      },
      "execution_count": 28,
      "outputs": [
        {
          "output_type": "execute_result",
          "data": {
            "text/plain": [
              "Системный администратор                        1650\n",
              "Программист 1С                                 1119\n",
              "Специалист технической поддержки                478\n",
              "Системный аналитик                              465\n",
              "Аналитик                                        343\n",
              "Инженер-программист                             328\n",
              "Программист 1C                                  325\n",
              "Графический дизайнер                            312\n",
              "Инженер технической поддержки                   273\n",
              "Бизнес-аналитик                                 267\n",
              "Дизайнер                                        252\n",
              "Технический писатель                            214\n",
              "Руководитель проекта                            210\n",
              "Специалист по информационной безопасности       185\n",
              "Frontend-разработчик                            184\n",
              "Программист                                     181\n",
              "DevOps инженер                                  181\n",
              "Специалист службы поддержки в Яндекс Бизнес     168\n",
              "Руководитель проектов                           162\n",
              "Менеджер проектов                               161\n",
              "Name: name, dtype: int64"
            ]
          },
          "metadata": {},
          "execution_count": 28
        }
      ]
    },
    {
      "cell_type": "markdown",
      "source": [
        "Видим, что программист 1С встречается дважды, возможно, это из-за того, что \"С\" написано и на русском и на аглийском."
      ],
      "metadata": {
        "id": "4Pi4dRi0t0JF"
      }
    },
    {
      "cell_type": "markdown",
      "source": [
        "Посмотрим какие специальности еще повторяются и попытаемся привести их к одному виду. Напишем функцию для замены значений."
      ],
      "metadata": {
        "id": "dV7Yo1mwZmey"
      }
    },
    {
      "cell_type": "code",
      "source": [
        "def replace_duplicates_name(wrong_values, correct_value):\n",
        "  for wrong_value in wrong_values:\n",
        "    df['name'] = df['name'].replace(wrong_value, correct_value)"
      ],
      "metadata": {
        "id": "BsRPzhN5akmS"
      },
      "execution_count": 29,
      "outputs": []
    },
    {
      "cell_type": "markdown",
      "source": [
        "Функция для поиска подстроки в названии, которая выводит список со всеми некорректными названиями."
      ],
      "metadata": {
        "id": "4Wq7fGoOpHlZ"
      }
    },
    {
      "cell_type": "code",
      "source": [
        "def search_for_similar_name(str):\n",
        "  district = []\n",
        "  for name in df['name']:\n",
        "    if str.lower() in name.lower():\n",
        "      district.append(name)\n",
        "  return district"
      ],
      "metadata": {
        "id": "I5pdXoIWeEoM"
      },
      "execution_count": 30,
      "outputs": []
    },
    {
      "cell_type": "code",
      "source": [
        "replace_duplicates_name(search_for_similar_name('поддержки'), 'Специалист службы поддержки')\n",
        "replace_duplicates_name(search_for_similar_name('Ведущий специалист по информационным технологиям'), 'Ведущий специалист по информационным технологиям')\n",
        "replace_duplicates_name(search_for_similar_name('1с'), 'Программист 1С')\n",
        "replace_duplicates_name(search_for_similar_name('1c'), 'Программист 1С')\n",
        "replace_duplicates_name(search_for_similar_name('1 с'), 'Программист 1С')\n",
        "replace_duplicates_name(search_for_similar_name('1 c'), 'Программист 1С')"
      ],
      "metadata": {
        "id": "raq5f1kGcHUS"
      },
      "execution_count": 31,
      "outputs": []
    },
    {
      "cell_type": "markdown",
      "source": [
        "### Теперь проведем повторный **неграфический анализ.**"
      ],
      "metadata": {
        "id": "Tw662lh5iQiH"
      }
    },
    {
      "cell_type": "code",
      "source": [
        "df['name'].describe()"
      ],
      "metadata": {
        "colab": {
          "base_uri": "https://localhost:8080/"
        },
        "id": "YoOhwCPEZYzE",
        "outputId": "e9974e6a-0e2d-49e5-baae-2dd8226ec24e"
      },
      "execution_count": 32,
      "outputs": [
        {
          "output_type": "execute_result",
          "data": {
            "text/plain": [
              "count              50202\n",
              "unique             21316\n",
              "top       Программист 1С\n",
              "freq                4809\n",
              "Name: name, dtype: object"
            ]
          },
          "metadata": {},
          "execution_count": 32
        }
      ]
    },
    {
      "cell_type": "markdown",
      "source": [
        "Видим, что значение популярной вакансии изменилось."
      ],
      "metadata": {
        "id": "oeR6HNrDii2f"
      }
    },
    {
      "cell_type": "code",
      "source": [
        "df['name'].value_counts()[:20]"
      ],
      "metadata": {
        "colab": {
          "base_uri": "https://localhost:8080/"
        },
        "id": "QN0wHmwWTVso",
        "outputId": "0d55899d-c482-4ce3-ade3-b6af6c2ce9db"
      },
      "execution_count": 33,
      "outputs": [
        {
          "output_type": "execute_result",
          "data": {
            "text/plain": [
              "Программист 1С                               4809\n",
              "Специалист службы поддержки                  4187\n",
              "Системный администратор                      1650\n",
              "Системный аналитик                            465\n",
              "Аналитик                                      343\n",
              "Инженер-программист                           328\n",
              "Графический дизайнер                          312\n",
              "Бизнес-аналитик                               267\n",
              "Дизайнер                                      252\n",
              "Технический писатель                          214\n",
              "Руководитель проекта                          210\n",
              "Специалист по информационной безопасности     185\n",
              "Frontend-разработчик                          184\n",
              "Программист                                   181\n",
              "DevOps инженер                                181\n",
              "Руководитель проектов                         162\n",
              "Менеджер проектов                             161\n",
              "Младший специалист ручного тестирования       159\n",
              "Java-разработчик                              143\n",
              "Ведущий системный администратор               132\n",
              "Name: name, dtype: int64"
            ]
          },
          "metadata": {},
          "execution_count": 33
        }
      ]
    },
    {
      "cell_type": "markdown",
      "source": [
        "Выведем топ ключевых навыков."
      ],
      "metadata": {
        "id": "ARkrQOBgxM0g"
      }
    },
    {
      "cell_type": "code",
      "source": [
        "key_df = df[['key_skills_list', 'id']]\n",
        "key_df"
      ],
      "metadata": {
        "id": "UvK-8XJL1X9A",
        "colab": {
          "base_uri": "https://localhost:8080/",
          "height": 423
        },
        "outputId": "ffce6ea5-df30-486b-edae-963acdd224b1"
      },
      "execution_count": 34,
      "outputs": [
        {
          "output_type": "execute_result",
          "data": {
            "text/plain": [
              "                                         key_skills_list        id\n",
              "0                                                     []  49059633\n",
              "1                      [Git, SQL, Тестирование, C#, API]  54653519\n",
              "2      [SQL, Linux, Информационная безопасность, Рабо...  55116066\n",
              "3      [Пользователь ПК, Работа в команде, 1С: Предпр...  54031261\n",
              "4      [MS Dos, Диагностика ПК, Компьютер, Работа в у...  55243040\n",
              "...                                                  ...       ...\n",
              "69651                                                 []  66113834\n",
              "69652  [1С: Управление Торговлей, 1С: Предприятие 8, ...  66113885\n",
              "69653  [Организаторские навыки, Работа в команде, Упр...  54749225\n",
              "69654                                                 []  55498724\n",
              "69655  [Информационная безопасность, Аудит безопаснос...  55544352\n",
              "\n",
              "[50202 rows x 2 columns]"
            ],
            "text/html": [
              "\n",
              "  <div id=\"df-1895062a-a962-4de3-8ef4-735022066216\">\n",
              "    <div class=\"colab-df-container\">\n",
              "      <div>\n",
              "<style scoped>\n",
              "    .dataframe tbody tr th:only-of-type {\n",
              "        vertical-align: middle;\n",
              "    }\n",
              "\n",
              "    .dataframe tbody tr th {\n",
              "        vertical-align: top;\n",
              "    }\n",
              "\n",
              "    .dataframe thead th {\n",
              "        text-align: right;\n",
              "    }\n",
              "</style>\n",
              "<table border=\"1\" class=\"dataframe\">\n",
              "  <thead>\n",
              "    <tr style=\"text-align: right;\">\n",
              "      <th></th>\n",
              "      <th>key_skills_list</th>\n",
              "      <th>id</th>\n",
              "    </tr>\n",
              "  </thead>\n",
              "  <tbody>\n",
              "    <tr>\n",
              "      <th>0</th>\n",
              "      <td>[]</td>\n",
              "      <td>49059633</td>\n",
              "    </tr>\n",
              "    <tr>\n",
              "      <th>1</th>\n",
              "      <td>[Git, SQL, Тестирование, C#, API]</td>\n",
              "      <td>54653519</td>\n",
              "    </tr>\n",
              "    <tr>\n",
              "      <th>2</th>\n",
              "      <td>[SQL, Linux, Информационная безопасность, Рабо...</td>\n",
              "      <td>55116066</td>\n",
              "    </tr>\n",
              "    <tr>\n",
              "      <th>3</th>\n",
              "      <td>[Пользователь ПК, Работа в команде, 1С: Предпр...</td>\n",
              "      <td>54031261</td>\n",
              "    </tr>\n",
              "    <tr>\n",
              "      <th>4</th>\n",
              "      <td>[MS Dos, Диагностика ПК, Компьютер, Работа в у...</td>\n",
              "      <td>55243040</td>\n",
              "    </tr>\n",
              "    <tr>\n",
              "      <th>...</th>\n",
              "      <td>...</td>\n",
              "      <td>...</td>\n",
              "    </tr>\n",
              "    <tr>\n",
              "      <th>69651</th>\n",
              "      <td>[]</td>\n",
              "      <td>66113834</td>\n",
              "    </tr>\n",
              "    <tr>\n",
              "      <th>69652</th>\n",
              "      <td>[1С: Управление Торговлей, 1С: Предприятие 8, ...</td>\n",
              "      <td>66113885</td>\n",
              "    </tr>\n",
              "    <tr>\n",
              "      <th>69653</th>\n",
              "      <td>[Организаторские навыки, Работа в команде, Упр...</td>\n",
              "      <td>54749225</td>\n",
              "    </tr>\n",
              "    <tr>\n",
              "      <th>69654</th>\n",
              "      <td>[]</td>\n",
              "      <td>55498724</td>\n",
              "    </tr>\n",
              "    <tr>\n",
              "      <th>69655</th>\n",
              "      <td>[Информационная безопасность, Аудит безопаснос...</td>\n",
              "      <td>55544352</td>\n",
              "    </tr>\n",
              "  </tbody>\n",
              "</table>\n",
              "<p>50202 rows × 2 columns</p>\n",
              "</div>\n",
              "      <button class=\"colab-df-convert\" onclick=\"convertToInteractive('df-1895062a-a962-4de3-8ef4-735022066216')\"\n",
              "              title=\"Convert this dataframe to an interactive table.\"\n",
              "              style=\"display:none;\">\n",
              "        \n",
              "  <svg xmlns=\"http://www.w3.org/2000/svg\" height=\"24px\"viewBox=\"0 0 24 24\"\n",
              "       width=\"24px\">\n",
              "    <path d=\"M0 0h24v24H0V0z\" fill=\"none\"/>\n",
              "    <path d=\"M18.56 5.44l.94 2.06.94-2.06 2.06-.94-2.06-.94-.94-2.06-.94 2.06-2.06.94zm-11 1L8.5 8.5l.94-2.06 2.06-.94-2.06-.94L8.5 2.5l-.94 2.06-2.06.94zm10 10l.94 2.06.94-2.06 2.06-.94-2.06-.94-.94-2.06-.94 2.06-2.06.94z\"/><path d=\"M17.41 7.96l-1.37-1.37c-.4-.4-.92-.59-1.43-.59-.52 0-1.04.2-1.43.59L10.3 9.45l-7.72 7.72c-.78.78-.78 2.05 0 2.83L4 21.41c.39.39.9.59 1.41.59.51 0 1.02-.2 1.41-.59l7.78-7.78 2.81-2.81c.8-.78.8-2.07 0-2.86zM5.41 20L4 18.59l7.72-7.72 1.47 1.35L5.41 20z\"/>\n",
              "  </svg>\n",
              "      </button>\n",
              "      \n",
              "  <style>\n",
              "    .colab-df-container {\n",
              "      display:flex;\n",
              "      flex-wrap:wrap;\n",
              "      gap: 12px;\n",
              "    }\n",
              "\n",
              "    .colab-df-convert {\n",
              "      background-color: #E8F0FE;\n",
              "      border: none;\n",
              "      border-radius: 50%;\n",
              "      cursor: pointer;\n",
              "      display: none;\n",
              "      fill: #1967D2;\n",
              "      height: 32px;\n",
              "      padding: 0 0 0 0;\n",
              "      width: 32px;\n",
              "    }\n",
              "\n",
              "    .colab-df-convert:hover {\n",
              "      background-color: #E2EBFA;\n",
              "      box-shadow: 0px 1px 2px rgba(60, 64, 67, 0.3), 0px 1px 3px 1px rgba(60, 64, 67, 0.15);\n",
              "      fill: #174EA6;\n",
              "    }\n",
              "\n",
              "    [theme=dark] .colab-df-convert {\n",
              "      background-color: #3B4455;\n",
              "      fill: #D2E3FC;\n",
              "    }\n",
              "\n",
              "    [theme=dark] .colab-df-convert:hover {\n",
              "      background-color: #434B5C;\n",
              "      box-shadow: 0px 1px 3px 1px rgba(0, 0, 0, 0.15);\n",
              "      filter: drop-shadow(0px 1px 2px rgba(0, 0, 0, 0.3));\n",
              "      fill: #FFFFFF;\n",
              "    }\n",
              "  </style>\n",
              "\n",
              "      <script>\n",
              "        const buttonEl =\n",
              "          document.querySelector('#df-1895062a-a962-4de3-8ef4-735022066216 button.colab-df-convert');\n",
              "        buttonEl.style.display =\n",
              "          google.colab.kernel.accessAllowed ? 'block' : 'none';\n",
              "\n",
              "        async function convertToInteractive(key) {\n",
              "          const element = document.querySelector('#df-1895062a-a962-4de3-8ef4-735022066216');\n",
              "          const dataTable =\n",
              "            await google.colab.kernel.invokeFunction('convertToInteractive',\n",
              "                                                     [key], {});\n",
              "          if (!dataTable) return;\n",
              "\n",
              "          const docLinkHtml = 'Like what you see? Visit the ' +\n",
              "            '<a target=\"_blank\" href=https://colab.research.google.com/notebooks/data_table.ipynb>data table notebook</a>'\n",
              "            + ' to learn more about interactive tables.';\n",
              "          element.innerHTML = '';\n",
              "          dataTable['output_type'] = 'display_data';\n",
              "          await google.colab.output.renderOutput(dataTable, element);\n",
              "          const docLink = document.createElement('div');\n",
              "          docLink.innerHTML = docLinkHtml;\n",
              "          element.appendChild(docLink);\n",
              "        }\n",
              "      </script>\n",
              "    </div>\n",
              "  </div>\n",
              "  "
            ]
          },
          "metadata": {},
          "execution_count": 34
        }
      ]
    },
    {
      "cell_type": "code",
      "source": [
        "key_df = key_df.explode('key_skills_list').dropna()  #.astype(int)\n",
        "key_df[:20]"
      ],
      "metadata": {
        "id": "ZzYqUPJB1763",
        "colab": {
          "base_uri": "https://localhost:8080/",
          "height": 676
        },
        "outputId": "eaef3e0a-a218-44d0-a511-4ce77e249283"
      },
      "execution_count": 35,
      "outputs": [
        {
          "output_type": "execute_result",
          "data": {
            "text/plain": [
              "                      key_skills_list        id\n",
              "1                                 Git  54653519\n",
              "1                                 SQL  54653519\n",
              "1                        Тестирование  54653519\n",
              "1                                  C#  54653519\n",
              "1                                 API  54653519\n",
              "2                                 SQL  55116066\n",
              "2                               Linux  55116066\n",
              "2         Информационная безопасность  55116066\n",
              "2              Работа с базами данных  55116066\n",
              "2                         Базы данных  55116066\n",
              "3                     Пользователь ПК  54031261\n",
              "3                    Работа в команде  54031261\n",
              "3                   1С: Предприятие 8  54031261\n",
              "3                          MS Outlook  54031261\n",
              "3  Администрирование серверов Windows  54031261\n",
              "4                              MS Dos  55243040\n",
              "4                      Диагностика ПК  55243040\n",
              "4                           Компьютер  55243040\n",
              "4   Работа в условиях многозадачности  55243040\n",
              "4                Работа с компьютером  55243040"
            ],
            "text/html": [
              "\n",
              "  <div id=\"df-e586069f-ca97-43f8-aaa3-b4231cffb871\">\n",
              "    <div class=\"colab-df-container\">\n",
              "      <div>\n",
              "<style scoped>\n",
              "    .dataframe tbody tr th:only-of-type {\n",
              "        vertical-align: middle;\n",
              "    }\n",
              "\n",
              "    .dataframe tbody tr th {\n",
              "        vertical-align: top;\n",
              "    }\n",
              "\n",
              "    .dataframe thead th {\n",
              "        text-align: right;\n",
              "    }\n",
              "</style>\n",
              "<table border=\"1\" class=\"dataframe\">\n",
              "  <thead>\n",
              "    <tr style=\"text-align: right;\">\n",
              "      <th></th>\n",
              "      <th>key_skills_list</th>\n",
              "      <th>id</th>\n",
              "    </tr>\n",
              "  </thead>\n",
              "  <tbody>\n",
              "    <tr>\n",
              "      <th>1</th>\n",
              "      <td>Git</td>\n",
              "      <td>54653519</td>\n",
              "    </tr>\n",
              "    <tr>\n",
              "      <th>1</th>\n",
              "      <td>SQL</td>\n",
              "      <td>54653519</td>\n",
              "    </tr>\n",
              "    <tr>\n",
              "      <th>1</th>\n",
              "      <td>Тестирование</td>\n",
              "      <td>54653519</td>\n",
              "    </tr>\n",
              "    <tr>\n",
              "      <th>1</th>\n",
              "      <td>C#</td>\n",
              "      <td>54653519</td>\n",
              "    </tr>\n",
              "    <tr>\n",
              "      <th>1</th>\n",
              "      <td>API</td>\n",
              "      <td>54653519</td>\n",
              "    </tr>\n",
              "    <tr>\n",
              "      <th>2</th>\n",
              "      <td>SQL</td>\n",
              "      <td>55116066</td>\n",
              "    </tr>\n",
              "    <tr>\n",
              "      <th>2</th>\n",
              "      <td>Linux</td>\n",
              "      <td>55116066</td>\n",
              "    </tr>\n",
              "    <tr>\n",
              "      <th>2</th>\n",
              "      <td>Информационная безопасность</td>\n",
              "      <td>55116066</td>\n",
              "    </tr>\n",
              "    <tr>\n",
              "      <th>2</th>\n",
              "      <td>Работа с базами данных</td>\n",
              "      <td>55116066</td>\n",
              "    </tr>\n",
              "    <tr>\n",
              "      <th>2</th>\n",
              "      <td>Базы данных</td>\n",
              "      <td>55116066</td>\n",
              "    </tr>\n",
              "    <tr>\n",
              "      <th>3</th>\n",
              "      <td>Пользователь ПК</td>\n",
              "      <td>54031261</td>\n",
              "    </tr>\n",
              "    <tr>\n",
              "      <th>3</th>\n",
              "      <td>Работа в команде</td>\n",
              "      <td>54031261</td>\n",
              "    </tr>\n",
              "    <tr>\n",
              "      <th>3</th>\n",
              "      <td>1С: Предприятие 8</td>\n",
              "      <td>54031261</td>\n",
              "    </tr>\n",
              "    <tr>\n",
              "      <th>3</th>\n",
              "      <td>MS Outlook</td>\n",
              "      <td>54031261</td>\n",
              "    </tr>\n",
              "    <tr>\n",
              "      <th>3</th>\n",
              "      <td>Администрирование серверов Windows</td>\n",
              "      <td>54031261</td>\n",
              "    </tr>\n",
              "    <tr>\n",
              "      <th>4</th>\n",
              "      <td>MS Dos</td>\n",
              "      <td>55243040</td>\n",
              "    </tr>\n",
              "    <tr>\n",
              "      <th>4</th>\n",
              "      <td>Диагностика ПК</td>\n",
              "      <td>55243040</td>\n",
              "    </tr>\n",
              "    <tr>\n",
              "      <th>4</th>\n",
              "      <td>Компьютер</td>\n",
              "      <td>55243040</td>\n",
              "    </tr>\n",
              "    <tr>\n",
              "      <th>4</th>\n",
              "      <td>Работа в условиях многозадачности</td>\n",
              "      <td>55243040</td>\n",
              "    </tr>\n",
              "    <tr>\n",
              "      <th>4</th>\n",
              "      <td>Работа с компьютером</td>\n",
              "      <td>55243040</td>\n",
              "    </tr>\n",
              "  </tbody>\n",
              "</table>\n",
              "</div>\n",
              "      <button class=\"colab-df-convert\" onclick=\"convertToInteractive('df-e586069f-ca97-43f8-aaa3-b4231cffb871')\"\n",
              "              title=\"Convert this dataframe to an interactive table.\"\n",
              "              style=\"display:none;\">\n",
              "        \n",
              "  <svg xmlns=\"http://www.w3.org/2000/svg\" height=\"24px\"viewBox=\"0 0 24 24\"\n",
              "       width=\"24px\">\n",
              "    <path d=\"M0 0h24v24H0V0z\" fill=\"none\"/>\n",
              "    <path d=\"M18.56 5.44l.94 2.06.94-2.06 2.06-.94-2.06-.94-.94-2.06-.94 2.06-2.06.94zm-11 1L8.5 8.5l.94-2.06 2.06-.94-2.06-.94L8.5 2.5l-.94 2.06-2.06.94zm10 10l.94 2.06.94-2.06 2.06-.94-2.06-.94-.94-2.06-.94 2.06-2.06.94z\"/><path d=\"M17.41 7.96l-1.37-1.37c-.4-.4-.92-.59-1.43-.59-.52 0-1.04.2-1.43.59L10.3 9.45l-7.72 7.72c-.78.78-.78 2.05 0 2.83L4 21.41c.39.39.9.59 1.41.59.51 0 1.02-.2 1.41-.59l7.78-7.78 2.81-2.81c.8-.78.8-2.07 0-2.86zM5.41 20L4 18.59l7.72-7.72 1.47 1.35L5.41 20z\"/>\n",
              "  </svg>\n",
              "      </button>\n",
              "      \n",
              "  <style>\n",
              "    .colab-df-container {\n",
              "      display:flex;\n",
              "      flex-wrap:wrap;\n",
              "      gap: 12px;\n",
              "    }\n",
              "\n",
              "    .colab-df-convert {\n",
              "      background-color: #E8F0FE;\n",
              "      border: none;\n",
              "      border-radius: 50%;\n",
              "      cursor: pointer;\n",
              "      display: none;\n",
              "      fill: #1967D2;\n",
              "      height: 32px;\n",
              "      padding: 0 0 0 0;\n",
              "      width: 32px;\n",
              "    }\n",
              "\n",
              "    .colab-df-convert:hover {\n",
              "      background-color: #E2EBFA;\n",
              "      box-shadow: 0px 1px 2px rgba(60, 64, 67, 0.3), 0px 1px 3px 1px rgba(60, 64, 67, 0.15);\n",
              "      fill: #174EA6;\n",
              "    }\n",
              "\n",
              "    [theme=dark] .colab-df-convert {\n",
              "      background-color: #3B4455;\n",
              "      fill: #D2E3FC;\n",
              "    }\n",
              "\n",
              "    [theme=dark] .colab-df-convert:hover {\n",
              "      background-color: #434B5C;\n",
              "      box-shadow: 0px 1px 3px 1px rgba(0, 0, 0, 0.15);\n",
              "      filter: drop-shadow(0px 1px 2px rgba(0, 0, 0, 0.3));\n",
              "      fill: #FFFFFF;\n",
              "    }\n",
              "  </style>\n",
              "\n",
              "      <script>\n",
              "        const buttonEl =\n",
              "          document.querySelector('#df-e586069f-ca97-43f8-aaa3-b4231cffb871 button.colab-df-convert');\n",
              "        buttonEl.style.display =\n",
              "          google.colab.kernel.accessAllowed ? 'block' : 'none';\n",
              "\n",
              "        async function convertToInteractive(key) {\n",
              "          const element = document.querySelector('#df-e586069f-ca97-43f8-aaa3-b4231cffb871');\n",
              "          const dataTable =\n",
              "            await google.colab.kernel.invokeFunction('convertToInteractive',\n",
              "                                                     [key], {});\n",
              "          if (!dataTable) return;\n",
              "\n",
              "          const docLinkHtml = 'Like what you see? Visit the ' +\n",
              "            '<a target=\"_blank\" href=https://colab.research.google.com/notebooks/data_table.ipynb>data table notebook</a>'\n",
              "            + ' to learn more about interactive tables.';\n",
              "          element.innerHTML = '';\n",
              "          dataTable['output_type'] = 'display_data';\n",
              "          await google.colab.output.renderOutput(dataTable, element);\n",
              "          const docLink = document.createElement('div');\n",
              "          docLink.innerHTML = docLinkHtml;\n",
              "          element.appendChild(docLink);\n",
              "        }\n",
              "      </script>\n",
              "    </div>\n",
              "  </div>\n",
              "  "
            ]
          },
          "metadata": {},
          "execution_count": 35
        }
      ]
    },
    {
      "cell_type": "code",
      "source": [
        "top_key = key_df['key_skills_list'].value_counts()\n",
        "top_key[:10]"
      ],
      "metadata": {
        "id": "mATS_dRR4Z9s",
        "colab": {
          "base_uri": "https://localhost:8080/"
        },
        "outputId": "e11e00b0-ee5a-4d97-9085-6aef639015f6"
      },
      "execution_count": 36,
      "outputs": [
        {
          "output_type": "execute_result",
          "data": {
            "text/plain": [
              "SQL                     6358\n",
              "Linux                   4911\n",
              "Git                     4568\n",
              "Английский язык         3948\n",
              "Работа в команде        3464\n",
              "Управление проектами    3442\n",
              "Python                  3226\n",
              "JavaScript              2752\n",
              "1С программирование     2587\n",
              "PostgreSQL              2549\n",
              "Name: key_skills_list, dtype: int64"
            ]
          },
          "metadata": {},
          "execution_count": 36
        }
      ]
    },
    {
      "cell_type": "markdown",
      "source": [
        "Видим, что наиболее популярные навыки это SQL, Linux, Git, Английский язык, Работа в команде."
      ],
      "metadata": {
        "id": "f9zaDXNooQua"
      }
    },
    {
      "cell_type": "markdown",
      "source": [
        "### **Графический анализ**"
      ],
      "metadata": {
        "id": "52NN5JfuXw0U"
      }
    },
    {
      "cell_type": "markdown",
      "source": [
        "Построим топ вакансий IT."
      ],
      "metadata": {
        "id": "Ezdev22MKnzL"
      }
    },
    {
      "cell_type": "code",
      "source": [
        "top_name = df['name'].value_counts()[:20]"
      ],
      "metadata": {
        "id": "CzXASec3Kr5p"
      },
      "execution_count": 37,
      "outputs": []
    },
    {
      "cell_type": "code",
      "source": [
        "plt.xticks(rotation=30, ha='right')\n",
        "plt.title('Топ 20 IT вакансий')\n",
        "plt.style.use('seaborn-pastel')\n",
        "plt.xlabel('Количество вакансий')\n",
        "params = {\n",
        "    'axes.titlesize':16,\n",
        "    'xtick.labelsize':12,\n",
        "    'ytick.labelsize':14,\n",
        "    'axes.labelsize':14\n",
        "}\n",
        "plt.rcParams.update(params)\n",
        "plt.barh(top_name.index, top_name.values)\n",
        "plt.show()"
      ],
      "metadata": {
        "colab": {
          "base_uri": "https://localhost:8080/",
          "height": 390
        },
        "id": "Wbpy4MW8LKsQ",
        "outputId": "2bf46d2b-b4f9-4327-f820-8562a807c57f"
      },
      "execution_count": 38,
      "outputs": [
        {
          "output_type": "display_data",
          "data": {
            "text/plain": [
              "<Figure size 576x396 with 1 Axes>"
            ],
            "image/png": "[encoded data removed]"
          },
          "metadata": {}
        }
      ]
    },
    {
      "cell_type": "markdown",
      "source": [
        "Построим график топ-20 навыков."
      ],
      "metadata": {
        "id": "PpceNZuNnSOu"
      }
    },
    {
      "cell_type": "code",
      "source": [
        "top_key = top_key[:20]"
      ],
      "metadata": {
        "id": "w_cVgB3wqtKi"
      },
      "execution_count": 39,
      "outputs": []
    },
    {
      "cell_type": "code",
      "source": [
        "plt.xticks(rotation=30, ha='right')\n",
        "plt.title('Топ 20 ключевых навыков')\n",
        "plt.style.use('classic')\n",
        "plt.xlabel('Количество вакансий с требованиями')\n",
        "params = {\n",
        "    'axes.titlesize':16,\n",
        "    'xtick.labelsize':12,\n",
        "    'ytick.labelsize':14,\n",
        "    'axes.labelsize':14\n",
        "}\n",
        "plt.rcParams.update(params)\n",
        "plt.barh(top_key.index, top_key.values)\n",
        "plt.show()"
      ],
      "metadata": {
        "colab": {
          "base_uri": "https://localhost:8080/",
          "height": 399
        },
        "id": "vKFyTlGYX0X0",
        "outputId": "1f059cfa-518c-42a3-d2d7-9fe5a4f47263"
      },
      "execution_count": 40,
      "outputs": [
        {
          "output_type": "display_data",
          "data": {
            "text/plain": [
              "<Figure size 576x396 with 1 Axes>"
            ],
            "image/png": "[encoded data removed]"
          },
          "metadata": {}
        }
      ]
    },
    {
      "cell_type": "markdown",
      "source": [
        "**Вывод:** Видим, что популярными вакансиями являются Программист 1С, Специалист службы поддержки, Системный администратор. \n",
        "Востребованные навыки: SQL, Linux, Git."
      ],
      "metadata": {
        "id": "_iYfKCVYhqL0"
      }
    },
    {
      "cell_type": "markdown",
      "source": [
        "## 7. Анализ взаимосвязей колонок"
      ],
      "metadata": {
        "id": "bJzZ0i1OX8i_"
      }
    },
    {
      "cell_type": "markdown",
      "source": [
        "### **1. Анализ взаимосвязи категориальной и числовой переменных.**"
      ],
      "metadata": {
        "id": "jYTlVrsNL_nJ"
      }
    },
    {
      "cell_type": "markdown",
      "source": [
        "Возьмем колонку с зарплатой \"от\" и название вакансии. Посчитаем среднюю зарплату по вакансиям."
      ],
      "metadata": {
        "id": "8gWsliJ6MLUl"
      }
    },
    {
      "cell_type": "code",
      "source": [
        "districts = ['Программист 1С', 'Специалист службы поддержки', 'Системный администратор', 'Системный аналитик', 'Аналитик']\n",
        "\n",
        "filter = df['name'].isin(districts)\n",
        "\n",
        "filter_df = df[filter]"
      ],
      "metadata": {
        "id": "zrgj3tQuQVv5"
      },
      "execution_count": 41,
      "outputs": []
    },
    {
      "cell_type": "code",
      "source": [
        "filter_df.groupby('name')['salary_min'].describe()"
      ],
      "metadata": {
        "colab": {
          "base_uri": "https://localhost:8080/",
          "height": 281
        },
        "id": "1L-4sRVQPwm0",
        "outputId": "4d2c017e-159c-479f-ce7d-023ffd94f1b5"
      },
      "execution_count": 42,
      "outputs": [
        {
          "output_type": "execute_result",
          "data": {
            "text/plain": [
              "                              count           mean           std      min  \\\n",
              "name                                                                        \n",
              "Аналитик                      138.0   56379.734348  37089.575511     30.0   \n",
              "Программист 1С               2482.0   97017.128884  46796.829914     60.0   \n",
              "Системный администратор      1002.0   51545.705409  23455.860209     30.0   \n",
              "Системный аналитик             78.0  106606.192564  55576.227781  28971.0   \n",
              "Специалист службы поддержки  2796.0   33343.926295  23922.014991  11310.0   \n",
              "\n",
              "                                   25%      50%       75%       max  \n",
              "name                                                                 \n",
              "Аналитик                     35000.000  45000.0   60000.0  200100.0  \n",
              "Программист 1С               60000.000  95700.0  130000.0  304500.0  \n",
              "Системный администратор      35000.000  47000.0   60900.0  180000.0  \n",
              "Системный аналитик           67215.765  90000.0  150000.0  261000.0  \n",
              "Специалист службы поддержки  13050.000  27000.0   40237.5  300000.0  "
            ],
            "text/html": [
              "\n",
              "  <div id=\"df-cd5eaad5-9870-4963-bbdb-432c0c5bce19\">\n",
              "    <div class=\"colab-df-container\">\n",
              "      <div>\n",
              "<style scoped>\n",
              "    .dataframe tbody tr th:only-of-type {\n",
              "        vertical-align: middle;\n",
              "    }\n",
              "\n",
              "    .dataframe tbody tr th {\n",
              "        vertical-align: top;\n",
              "    }\n",
              "\n",
              "    .dataframe thead th {\n",
              "        text-align: right;\n",
              "    }\n",
              "</style>\n",
              "<table border=\"1\" class=\"dataframe\">\n",
              "  <thead>\n",
              "    <tr style=\"text-align: right;\">\n",
              "      <th></th>\n",
              "      <th>count</th>\n",
              "      <th>mean</th>\n",
              "      <th>std</th>\n",
              "      <th>min</th>\n",
              "      <th>25%</th>\n",
              "      <th>50%</th>\n",
              "      <th>75%</th>\n",
              "      <th>max</th>\n",
              "    </tr>\n",
              "    <tr>\n",
              "      <th>name</th>\n",
              "      <th></th>\n",
              "      <th></th>\n",
              "      <th></th>\n",
              "      <th></th>\n",
              "      <th></th>\n",
              "      <th></th>\n",
              "      <th></th>\n",
              "      <th></th>\n",
              "    </tr>\n",
              "  </thead>\n",
              "  <tbody>\n",
              "    <tr>\n",
              "      <th>Аналитик</th>\n",
              "      <td>138.0</td>\n",
              "      <td>56379.734348</td>\n",
              "      <td>37089.575511</td>\n",
              "      <td>30.0</td>\n",
              "      <td>35000.000</td>\n",
              "      <td>45000.0</td>\n",
              "      <td>60000.0</td>\n",
              "      <td>200100.0</td>\n",
              "    </tr>\n",
              "    <tr>\n",
              "      <th>Программист 1С</th>\n",
              "      <td>2482.0</td>\n",
              "      <td>97017.128884</td>\n",
              "      <td>46796.829914</td>\n",
              "      <td>60.0</td>\n",
              "      <td>60000.000</td>\n",
              "      <td>95700.0</td>\n",
              "      <td>130000.0</td>\n",
              "      <td>304500.0</td>\n",
              "    </tr>\n",
              "    <tr>\n",
              "      <th>Системный администратор</th>\n",
              "      <td>1002.0</td>\n",
              "      <td>51545.705409</td>\n",
              "      <td>23455.860209</td>\n",
              "      <td>30.0</td>\n",
              "      <td>35000.000</td>\n",
              "      <td>47000.0</td>\n",
              "      <td>60900.0</td>\n",
              "      <td>180000.0</td>\n",
              "    </tr>\n",
              "    <tr>\n",
              "      <th>Системный аналитик</th>\n",
              "      <td>78.0</td>\n",
              "      <td>106606.192564</td>\n",
              "      <td>55576.227781</td>\n",
              "      <td>28971.0</td>\n",
              "      <td>67215.765</td>\n",
              "      <td>90000.0</td>\n",
              "      <td>150000.0</td>\n",
              "      <td>261000.0</td>\n",
              "    </tr>\n",
              "    <tr>\n",
              "      <th>Специалист службы поддержки</th>\n",
              "      <td>2796.0</td>\n",
              "      <td>33343.926295</td>\n",
              "      <td>23922.014991</td>\n",
              "      <td>11310.0</td>\n",
              "      <td>13050.000</td>\n",
              "      <td>27000.0</td>\n",
              "      <td>40237.5</td>\n",
              "      <td>300000.0</td>\n",
              "    </tr>\n",
              "  </tbody>\n",
              "</table>\n",
              "</div>\n",
              "      <button class=\"colab-df-convert\" onclick=\"convertToInteractive('df-cd5eaad5-9870-4963-bbdb-432c0c5bce19')\"\n",
              "              title=\"Convert this dataframe to an interactive table.\"\n",
              "              style=\"display:none;\">\n",
              "        \n",
              "  <svg xmlns=\"http://www.w3.org/2000/svg\" height=\"24px\"viewBox=\"0 0 24 24\"\n",
              "       width=\"24px\">\n",
              "    <path d=\"M0 0h24v24H0V0z\" fill=\"none\"/>\n",
              "    <path d=\"M18.56 5.44l.94 2.06.94-2.06 2.06-.94-2.06-.94-.94-2.06-.94 2.06-2.06.94zm-11 1L8.5 8.5l.94-2.06 2.06-.94-2.06-.94L8.5 2.5l-.94 2.06-2.06.94zm10 10l.94 2.06.94-2.06 2.06-.94-2.06-.94-.94-2.06-.94 2.06-2.06.94z\"/><path d=\"M17.41 7.96l-1.37-1.37c-.4-.4-.92-.59-1.43-.59-.52 0-1.04.2-1.43.59L10.3 9.45l-7.72 7.72c-.78.78-.78 2.05 0 2.83L4 21.41c.39.39.9.59 1.41.59.51 0 1.02-.2 1.41-.59l7.78-7.78 2.81-2.81c.8-.78.8-2.07 0-2.86zM5.41 20L4 18.59l7.72-7.72 1.47 1.35L5.41 20z\"/>\n",
              "  </svg>\n",
              "      </button>\n",
              "      \n",
              "  <style>\n",
              "    .colab-df-container {\n",
              "      display:flex;\n",
              "      flex-wrap:wrap;\n",
              "      gap: 12px;\n",
              "    }\n",
              "\n",
              "    .colab-df-convert {\n",
              "      background-color: #E8F0FE;\n",
              "      border: none;\n",
              "      border-radius: 50%;\n",
              "      cursor: pointer;\n",
              "      display: none;\n",
              "      fill: #1967D2;\n",
              "      height: 32px;\n",
              "      padding: 0 0 0 0;\n",
              "      width: 32px;\n",
              "    }\n",
              "\n",
              "    .colab-df-convert:hover {\n",
              "      background-color: #E2EBFA;\n",
              "      box-shadow: 0px 1px 2px rgba(60, 64, 67, 0.3), 0px 1px 3px 1px rgba(60, 64, 67, 0.15);\n",
              "      fill: #174EA6;\n",
              "    }\n",
              "\n",
              "    [theme=dark] .colab-df-convert {\n",
              "      background-color: #3B4455;\n",
              "      fill: #D2E3FC;\n",
              "    }\n",
              "\n",
              "    [theme=dark] .colab-df-convert:hover {\n",
              "      background-color: #434B5C;\n",
              "      box-shadow: 0px 1px 3px 1px rgba(0, 0, 0, 0.15);\n",
              "      filter: drop-shadow(0px 1px 2px rgba(0, 0, 0, 0.3));\n",
              "      fill: #FFFFFF;\n",
              "    }\n",
              "  </style>\n",
              "\n",
              "      <script>\n",
              "        const buttonEl =\n",
              "          document.querySelector('#df-cd5eaad5-9870-4963-bbdb-432c0c5bce19 button.colab-df-convert');\n",
              "        buttonEl.style.display =\n",
              "          google.colab.kernel.accessAllowed ? 'block' : 'none';\n",
              "\n",
              "        async function convertToInteractive(key) {\n",
              "          const element = document.querySelector('#df-cd5eaad5-9870-4963-bbdb-432c0c5bce19');\n",
              "          const dataTable =\n",
              "            await google.colab.kernel.invokeFunction('convertToInteractive',\n",
              "                                                     [key], {});\n",
              "          if (!dataTable) return;\n",
              "\n",
              "          const docLinkHtml = 'Like what you see? Visit the ' +\n",
              "            '<a target=\"_blank\" href=https://colab.research.google.com/notebooks/data_table.ipynb>data table notebook</a>'\n",
              "            + ' to learn more about interactive tables.';\n",
              "          element.innerHTML = '';\n",
              "          dataTable['output_type'] = 'display_data';\n",
              "          await google.colab.output.renderOutput(dataTable, element);\n",
              "          const docLink = document.createElement('div');\n",
              "          docLink.innerHTML = docLinkHtml;\n",
              "          element.appendChild(docLink);\n",
              "        }\n",
              "      </script>\n",
              "    </div>\n",
              "  </div>\n",
              "  "
            ]
          },
          "metadata": {},
          "execution_count": 42
        }
      ]
    },
    {
      "cell_type": "markdown",
      "source": [
        "*Построим график.*"
      ],
      "metadata": {
        "id": "GuvPgGmyVnxW"
      }
    },
    {
      "cell_type": "code",
      "source": [
        "plt.axis(ymin=0, ymax=270000)\n",
        "plt.title('График зарплат топ-5 вакансий', fontsize=16)\n",
        "plt.ylabel('Зарплата', fontsize=14)\n",
        "plt.xlabel('Вакансии', fontsize=14)\n",
        "plt.style.use('seaborn-bright')\n",
        "sns.boxplot(x='salary_min', y='name', data=filter_df)\n",
        "plt.show()"
      ],
      "metadata": {
        "colab": {
          "base_uri": "https://localhost:8080/",
          "height": 475
        },
        "id": "cXfICLtUVJXQ",
        "outputId": "65f1ad8f-0237-46a8-fa0d-f24346593dcd"
      },
      "execution_count": 43,
      "outputs": [
        {
          "output_type": "display_data",
          "data": {
            "text/plain": [
              "<Figure size 640x480 with 1 Axes>"
            ],
            "image/png": "[encoded data removed]"
          },
          "metadata": {}
        }
      ]
    },
    {
      "cell_type": "markdown",
      "source": [
        "### **2. Анализ двух категориальных переменных.**"
      ],
      "metadata": {
        "id": "HV8hQLF_QCBo"
      }
    },
    {
      "cell_type": "markdown",
      "source": [
        "Возьмем названия топ-5 вакансий и ключевые навыки."
      ],
      "metadata": {
        "id": "7lunUibnQKgN"
      }
    },
    {
      "cell_type": "code",
      "source": [
        "graf_df = filter_df[['key_skills_list', 'name']]\n",
        "graf_df = graf_df.explode('key_skills_list').dropna()\n",
        "graf_df\n"
      ],
      "metadata": {
        "colab": {
          "base_uri": "https://localhost:8080/",
          "height": 423
        },
        "id": "qYTaqYbPzMV0",
        "outputId": "4d564498-cc8c-4744-b2d5-984ce7b8688b"
      },
      "execution_count": 44,
      "outputs": [
        {
          "output_type": "execute_result",
          "data": {
            "text/plain": [
              "                               key_skills_list                     name\n",
              "56            Ответственность и пунктуальность  Системный администратор\n",
              "56     Администрирование сетевого оборудования  Системный администратор\n",
              "56               Настройка сетевых подключений  Системный администратор\n",
              "56                                Настройка ПК  Системный администратор\n",
              "56                                Настройка ПО  Системный администратор\n",
              "...                                        ...                      ...\n",
              "69652                 1С: Управление Торговлей           Программист 1С\n",
              "69652                        1С: Предприятие 8           Программист 1С\n",
              "69652                      1С программирование           Программист 1С\n",
              "69652     1С: Зарплата и управление персоналом           Программист 1С\n",
              "69652                             1С: Торговля           Программист 1С\n",
              "\n",
              "[51694 rows x 2 columns]"
            ],
            "text/html": [
              "\n",
              "  <div id=\"df-b5f863b5-50ed-4479-b129-79dc9c6a252a\">\n",
              "    <div class=\"colab-df-container\">\n",
              "      <div>\n",
              "<style scoped>\n",
              "    .dataframe tbody tr th:only-of-type {\n",
              "        vertical-align: middle;\n",
              "    }\n",
              "\n",
              "    .dataframe tbody tr th {\n",
              "        vertical-align: top;\n",
              "    }\n",
              "\n",
              "    .dataframe thead th {\n",
              "        text-align: right;\n",
              "    }\n",
              "</style>\n",
              "<table border=\"1\" class=\"dataframe\">\n",
              "  <thead>\n",
              "    <tr style=\"text-align: right;\">\n",
              "      <th></th>\n",
              "      <th>key_skills_list</th>\n",
              "      <th>name</th>\n",
              "    </tr>\n",
              "  </thead>\n",
              "  <tbody>\n",
              "    <tr>\n",
              "      <th>56</th>\n",
              "      <td>Ответственность и пунктуальность</td>\n",
              "      <td>Системный администратор</td>\n",
              "    </tr>\n",
              "    <tr>\n",
              "      <th>56</th>\n",
              "      <td>Администрирование сетевого оборудования</td>\n",
              "      <td>Системный администратор</td>\n",
              "    </tr>\n",
              "    <tr>\n",
              "      <th>56</th>\n",
              "      <td>Настройка сетевых подключений</td>\n",
              "      <td>Системный администратор</td>\n",
              "    </tr>\n",
              "    <tr>\n",
              "      <th>56</th>\n",
              "      <td>Настройка ПК</td>\n",
              "      <td>Системный администратор</td>\n",
              "    </tr>\n",
              "    <tr>\n",
              "      <th>56</th>\n",
              "      <td>Настройка ПО</td>\n",
              "      <td>Системный администратор</td>\n",
              "    </tr>\n",
              "    <tr>\n",
              "      <th>...</th>\n",
              "      <td>...</td>\n",
              "      <td>...</td>\n",
              "    </tr>\n",
              "    <tr>\n",
              "      <th>69652</th>\n",
              "      <td>1С: Управление Торговлей</td>\n",
              "      <td>Программист 1С</td>\n",
              "    </tr>\n",
              "    <tr>\n",
              "      <th>69652</th>\n",
              "      <td>1С: Предприятие 8</td>\n",
              "      <td>Программист 1С</td>\n",
              "    </tr>\n",
              "    <tr>\n",
              "      <th>69652</th>\n",
              "      <td>1С программирование</td>\n",
              "      <td>Программист 1С</td>\n",
              "    </tr>\n",
              "    <tr>\n",
              "      <th>69652</th>\n",
              "      <td>1С: Зарплата и управление персоналом</td>\n",
              "      <td>Программист 1С</td>\n",
              "    </tr>\n",
              "    <tr>\n",
              "      <th>69652</th>\n",
              "      <td>1С: Торговля</td>\n",
              "      <td>Программист 1С</td>\n",
              "    </tr>\n",
              "  </tbody>\n",
              "</table>\n",
              "<p>51694 rows × 2 columns</p>\n",
              "</div>\n",
              "      <button class=\"colab-df-convert\" onclick=\"convertToInteractive('df-b5f863b5-50ed-4479-b129-79dc9c6a252a')\"\n",
              "              title=\"Convert this dataframe to an interactive table.\"\n",
              "              style=\"display:none;\">\n",
              "        \n",
              "  <svg xmlns=\"http://www.w3.org/2000/svg\" height=\"24px\"viewBox=\"0 0 24 24\"\n",
              "       width=\"24px\">\n",
              "    <path d=\"M0 0h24v24H0V0z\" fill=\"none\"/>\n",
              "    <path d=\"M18.56 5.44l.94 2.06.94-2.06 2.06-.94-2.06-.94-.94-2.06-.94 2.06-2.06.94zm-11 1L8.5 8.5l.94-2.06 2.06-.94-2.06-.94L8.5 2.5l-.94 2.06-2.06.94zm10 10l.94 2.06.94-2.06 2.06-.94-2.06-.94-.94-2.06-.94 2.06-2.06.94z\"/><path d=\"M17.41 7.96l-1.37-1.37c-.4-.4-.92-.59-1.43-.59-.52 0-1.04.2-1.43.59L10.3 9.45l-7.72 7.72c-.78.78-.78 2.05 0 2.83L4 21.41c.39.39.9.59 1.41.59.51 0 1.02-.2 1.41-.59l7.78-7.78 2.81-2.81c.8-.78.8-2.07 0-2.86zM5.41 20L4 18.59l7.72-7.72 1.47 1.35L5.41 20z\"/>\n",
              "  </svg>\n",
              "      </button>\n",
              "      \n",
              "  <style>\n",
              "    .colab-df-container {\n",
              "      display:flex;\n",
              "      flex-wrap:wrap;\n",
              "      gap: 12px;\n",
              "    }\n",
              "\n",
              "    .colab-df-convert {\n",
              "      background-color: #E8F0FE;\n",
              "      border: none;\n",
              "      border-radius: 50%;\n",
              "      cursor: pointer;\n",
              "      display: none;\n",
              "      fill: #1967D2;\n",
              "      height: 32px;\n",
              "      padding: 0 0 0 0;\n",
              "      width: 32px;\n",
              "    }\n",
              "\n",
              "    .colab-df-convert:hover {\n",
              "      background-color: #E2EBFA;\n",
              "      box-shadow: 0px 1px 2px rgba(60, 64, 67, 0.3), 0px 1px 3px 1px rgba(60, 64, 67, 0.15);\n",
              "      fill: #174EA6;\n",
              "    }\n",
              "\n",
              "    [theme=dark] .colab-df-convert {\n",
              "      background-color: #3B4455;\n",
              "      fill: #D2E3FC;\n",
              "    }\n",
              "\n",
              "    [theme=dark] .colab-df-convert:hover {\n",
              "      background-color: #434B5C;\n",
              "      box-shadow: 0px 1px 3px 1px rgba(0, 0, 0, 0.15);\n",
              "      filter: drop-shadow(0px 1px 2px rgba(0, 0, 0, 0.3));\n",
              "      fill: #FFFFFF;\n",
              "    }\n",
              "  </style>\n",
              "\n",
              "      <script>\n",
              "        const buttonEl =\n",
              "          document.querySelector('#df-b5f863b5-50ed-4479-b129-79dc9c6a252a button.colab-df-convert');\n",
              "        buttonEl.style.display =\n",
              "          google.colab.kernel.accessAllowed ? 'block' : 'none';\n",
              "\n",
              "        async function convertToInteractive(key) {\n",
              "          const element = document.querySelector('#df-b5f863b5-50ed-4479-b129-79dc9c6a252a');\n",
              "          const dataTable =\n",
              "            await google.colab.kernel.invokeFunction('convertToInteractive',\n",
              "                                                     [key], {});\n",
              "          if (!dataTable) return;\n",
              "\n",
              "          const docLinkHtml = 'Like what you see? Visit the ' +\n",
              "            '<a target=\"_blank\" href=https://colab.research.google.com/notebooks/data_table.ipynb>data table notebook</a>'\n",
              "            + ' to learn more about interactive tables.';\n",
              "          element.innerHTML = '';\n",
              "          dataTable['output_type'] = 'display_data';\n",
              "          await google.colab.output.renderOutput(dataTable, element);\n",
              "          const docLink = document.createElement('div');\n",
              "          docLink.innerHTML = docLinkHtml;\n",
              "          element.appendChild(docLink);\n",
              "        }\n",
              "      </script>\n",
              "    </div>\n",
              "  </div>\n",
              "  "
            ]
          },
          "metadata": {},
          "execution_count": 44
        }
      ]
    },
    {
      "cell_type": "code",
      "source": [
        "name_types = graf_df['name'].unique()\n",
        "\n",
        "for name_type in name_types: \n",
        "  spec_df = graf_df[graf_df['name']==name_type]\n",
        "\n",
        "  class_counts = spec_df['key_skills_list'].value_counts()[:5]\n",
        "  labels =class_counts.index\n",
        "\n",
        "  plt.title(name_type)\n",
        "  patches, texts = plt.pie(\n",
        "      class_counts.values, \n",
        "      labels = labels, \n",
        "      textprops=dict(color=\"b\") \n",
        "      )\n",
        "\n",
        "  plt.style.use('seaborn-white')\n",
        "  plt.show()"
      ],
      "metadata": {
        "id": "4ExcEi4-SY6B",
        "colab": {
          "base_uri": "https://localhost:8080/",
          "height": 1000
        },
        "outputId": "89b7207b-8386-4a90-d0da-90e415963013"
      },
      "execution_count": 45,
      "outputs": [
        {
          "output_type": "display_data",
          "data": {
            "text/plain": [
              "<Figure size 640x480 with 1 Axes>"
            ],
            "image/png": "[encoded data removed]"
          },
          "metadata": {}
        },
        {
          "output_type": "display_data",
          "data": {
            "text/plain": [
              "<Figure size 640x480 with 1 Axes>"
            ],
            "image/png": "[encoded data removed]"
          },
          "metadata": {}
        },
        {
          "output_type": "display_data",
          "data": {
            "text/plain": [
              "<Figure size 640x480 with 1 Axes>"
            ],
            "image/png": "[encoded data removed]"
          },
          "metadata": {}
        },
        {
          "output_type": "display_data",
          "data": {
            "text/plain": [
              "<Figure size 640x480 with 1 Axes>"
            ],
            "image/png": "[encoded data removed]"
          },
          "metadata": {}
        },
        {
          "output_type": "display_data",
          "data": {
            "text/plain": [
              "<Figure size 640x480 with 1 Axes>"
            ],
            "image/png": "[encoded data removed]"
          },
          "metadata": {}
        }
      ]
    },
    {
      "cell_type": "markdown",
      "source": [
        "**Вывод:** На графиках видно какие ключевые навыки требуются и какие из них чаще встречаются в топ-5 вакансиях. "
      ],
      "metadata": {
        "id": "wpQtjoZa8Z_v"
      }
    },
    {
      "cell_type": "markdown",
      "source": [
        "## Выводы."
      ],
      "metadata": {
        "id": "WbMkg7xyowdO"
      }
    },
    {
      "cell_type": "markdown",
      "source": [
        "Мы проанализировали датасет, выяснили, что в среднем размер зарплаты составляет 79000 для IT специализаций. Нашли популярные вакансии, ими оказались программист 1С, мпециалист службы поддержки, системный администратор. Увидели, что основными требуемыми навыками являются SQL, Linux, Git, знание английского языка. Так же вывели топ навыков для 10 топовых профессий."
      ],
      "metadata": {
        "id": "AVEkUKVRppoP"
      }
    },
    {
      "cell_type": "markdown",
      "source": [
        "# **Статистический анализ данных.**"
      ],
      "metadata": {
        "id": "E0nG6YV5V155"
      }
    },
    {
      "cell_type": "code",
      "source": [
        "%matplotlib inline\n",
        "import numpy as np\n",
        "import pandas as pd\n",
        "\n",
        "import matplotlib.pyplot as plt\n",
        "import seaborn as sns\n",
        "\n",
        "import scipy\n",
        "import scipy.stats as stats\n",
        "\n",
        "import sklearn.linear_model as lm\n",
        "\n",
        "import statsmodels.api as sm\n",
        "import statsmodels.formula.api as smf"
      ],
      "metadata": {
        "id": "gTTgspIIjYwI"
      },
      "execution_count": 46,
      "outputs": []
    },
    {
      "cell_type": "markdown",
      "source": [
        "## 1. Структурирование таблицы. Таблица \"объект-свойство\""
      ],
      "metadata": {
        "id": "A4OyWQOZcNs0"
      }
    },
    {
      "cell_type": "markdown",
      "source": [
        "Для статистического анализа нам нужны колонки name, salary, employer, region, schedule, experience. Нужно привести колонки employer, schedule, experience к удобному для нас виду."
      ],
      "metadata": {
        "id": "BqSaRCwJ3Gkp"
      }
    },
    {
      "cell_type": "markdown",
      "source": [
        "Преобразуем колонку \"работодатель\" в формат json. Затем запишем только названия компаний."
      ],
      "metadata": {
        "id": "T4T6bk464kmz"
      }
    },
    {
      "cell_type": "code",
      "source": [
        "df['employer_json'] = df['employer'].fillna('{}').apply(eval)"
      ],
      "metadata": {
        "id": "7qNAEAGu4bf1"
      },
      "execution_count": 47,
      "outputs": []
    },
    {
      "cell_type": "code",
      "source": [
        "def get_values(json):\n",
        "  try:\n",
        "    return json['name']\n",
        "  except:\n",
        "    return None\n",
        "df['employer_name'] = df['employer_json'].apply(get_values)"
      ],
      "metadata": {
        "id": "6ifKxdHa5Piy"
      },
      "execution_count": 48,
      "outputs": []
    },
    {
      "cell_type": "code",
      "source": [
        "df['employer_name'].value_counts()"
      ],
      "metadata": {
        "colab": {
          "base_uri": "https://localhost:8080/"
        },
        "id": "Z3xLLz2K5kbE",
        "outputId": "0ce5f38e-219c-45dc-ec0b-a96c3632d986"
      },
      "execution_count": 49,
      "outputs": [
        {
          "output_type": "execute_result",
          "data": {
            "text/plain": [
              "Яндекс                1892\n",
              "Газпром нефть          530\n",
              "Сбербанк               525\n",
              "Тинькофф               465\n",
              "Ростелеком             433\n",
              "                      ... \n",
              "1С-КПД                   1\n",
              "Hivex                    1\n",
              "Photo Lab                1\n",
              "Траст Недвижимость       1\n",
              "Хлебокомбинат            1\n",
              "Name: employer_name, Length: 13276, dtype: int64"
            ]
          },
          "metadata": {},
          "execution_count": 49
        }
      ]
    },
    {
      "cell_type": "markdown",
      "source": [
        "Аналогично преобразуем колонку с графиком работы."
      ],
      "metadata": {
        "id": "TVxbgI2n55X_"
      }
    },
    {
      "cell_type": "code",
      "source": [
        "df['schedule_json'] = df['schedule'].fillna('{}').apply(eval)"
      ],
      "metadata": {
        "id": "LG3Ofev86QMB"
      },
      "execution_count": 50,
      "outputs": []
    },
    {
      "cell_type": "code",
      "source": [
        "def get_values(json):\n",
        "  try:\n",
        "    return json['name']\n",
        "  except:\n",
        "    return None\n",
        "df['schedule_name'] = df['schedule_json'].apply(get_values)"
      ],
      "metadata": {
        "id": "Nb4U8ZmN6VqR"
      },
      "execution_count": 51,
      "outputs": []
    },
    {
      "cell_type": "code",
      "source": [
        "df['schedule_name'].value_counts()"
      ],
      "metadata": {
        "colab": {
          "base_uri": "https://localhost:8080/"
        },
        "id": "deCBgpoU0_Qz",
        "outputId": "eb18e61e-c0f5-4023-ce57-fca71515fa67"
      },
      "execution_count": 52,
      "outputs": [
        {
          "output_type": "execute_result",
          "data": {
            "text/plain": [
              "Полный день         36931\n",
              "Удаленная работа    10180\n",
              "Гибкий график        2051\n",
              "Сменный график        916\n",
              "Вахтовый метод        124\n",
              "Name: schedule_name, dtype: int64"
            ]
          },
          "metadata": {},
          "execution_count": 52
        }
      ]
    },
    {
      "cell_type": "markdown",
      "source": [
        "Теперь аналогично преобразуем колонку с опытом работы."
      ],
      "metadata": {
        "id": "FnB9Wq256frH"
      }
    },
    {
      "cell_type": "code",
      "source": [
        "df['experience_json'] = df['experience'].fillna('{}').apply(eval)"
      ],
      "metadata": {
        "id": "bHJteeMV6mrl"
      },
      "execution_count": 53,
      "outputs": []
    },
    {
      "cell_type": "code",
      "source": [
        "def get_values(json):\n",
        "  try:\n",
        "    return json['name']\n",
        "  except:\n",
        "    return None\n",
        "\n",
        "df['experience_name'] = df['experience_json'].apply(get_values)"
      ],
      "metadata": {
        "id": "ZiWZS_ZC64FY"
      },
      "execution_count": 54,
      "outputs": []
    },
    {
      "cell_type": "code",
      "source": [
        "df['experience_name'].value_counts()"
      ],
      "metadata": {
        "colab": {
          "base_uri": "https://localhost:8080/"
        },
        "id": "YhsSVFiR7dhv",
        "outputId": "29d8965f-5d64-46f3-903d-428d9daad401"
      },
      "execution_count": 55,
      "outputs": [
        {
          "output_type": "execute_result",
          "data": {
            "text/plain": [
              "От 1 года до 3 лет    26071\n",
              "От 3 до 6 лет         16464\n",
              "Нет опыта              6002\n",
              "Более 6 лет            1665\n",
              "Name: experience_name, dtype: int64"
            ]
          },
          "metadata": {},
          "execution_count": 55
        }
      ]
    },
    {
      "cell_type": "markdown",
      "source": [
        "### Итак, получаем таблицу для анализа."
      ],
      "metadata": {
        "id": "ot-V3Vxd9dKC"
      }
    },
    {
      "cell_type": "markdown",
      "source": [
        "Для удобства из всего датасета возьмем нужные нам колонки и некоторые переименуем."
      ],
      "metadata": {
        "id": "E0G9ej6n9vxN"
      }
    },
    {
      "cell_type": "code",
      "source": [
        "stat_df = df[['name', 'salary_min', 'salary_max', 'employer_name', 'region', 'schedule_name', 'experience_name', 'key_skills_list']]\n",
        "stat_df = stat_df.rename(columns={'employer_name': 'employer', 'schedule_name':'schedule', 'experience_name':'experience', 'key_skills_list': 'key_skills'})\n",
        "stat_df.head()"
      ],
      "metadata": {
        "colab": {
          "base_uri": "https://localhost:8080/",
          "height": 475
        },
        "id": "ng7Pewq28A26",
        "outputId": "1f020cae-12a2-4e9a-c834-7b43f9af2f2b"
      },
      "execution_count": 59,
      "outputs": [
        {
          "output_type": "execute_result",
          "data": {
            "text/plain": [
              "                                               name  salary_min  salary_max  \\\n",
              "0           Младший специалист ручного тестирования         NaN         NaN   \n",
              "1                                   Тестировщик.Net     21750.0     43500.0   \n",
              "2                                         Пентестер         NaN         NaN   \n",
              "3  Ведущий специалист по информационным технологиям     22620.0         NaN   \n",
              "4                   Специалист по защите информации     20000.0     20000.0   \n",
              "\n",
              "                                            employer                region  \\\n",
              "0                                             Яндекс  Астраханская область   \n",
              "1                                         МФК Саммит  Астраханская область   \n",
              "2                                       SearchInform  Астраханская область   \n",
              "3                                       Почта России  Астраханская область   \n",
              "4  ГБПОУ АО Астраханский музыкальный колледж имен...  Астраханская область   \n",
              "\n",
              "           schedule          experience  \\\n",
              "0  Удаленная работа           Нет опыта   \n",
              "1       Полный день  От 1 года до 3 лет   \n",
              "2       Полный день       От 3 до 6 лет   \n",
              "3       Полный день           Нет опыта   \n",
              "4       Полный день           Нет опыта   \n",
              "\n",
              "                                          key_skills  \n",
              "0                                                 []  \n",
              "1                  [Git, SQL, Тестирование, C#, API]  \n",
              "2  [SQL, Linux, Информационная безопасность, Рабо...  \n",
              "3  [Пользователь ПК, Работа в команде, 1С: Предпр...  \n",
              "4  [MS Dos, Диагностика ПК, Компьютер, Работа в у...  "
            ],
            "text/html": [
              "\n",
              "  <div id=\"df-f8cf588c-5c31-479f-af02-e4fca4234d90\">\n",
              "    <div class=\"colab-df-container\">\n",
              "      <div>\n",
              "<style scoped>\n",
              "    .dataframe tbody tr th:only-of-type {\n",
              "        vertical-align: middle;\n",
              "    }\n",
              "\n",
              "    .dataframe tbody tr th {\n",
              "        vertical-align: top;\n",
              "    }\n",
              "\n",
              "    .dataframe thead th {\n",
              "        text-align: right;\n",
              "    }\n",
              "</style>\n",
              "<table border=\"1\" class=\"dataframe\">\n",
              "  <thead>\n",
              "    <tr style=\"text-align: right;\">\n",
              "      <th></th>\n",
              "      <th>name</th>\n",
              "      <th>salary_min</th>\n",
              "      <th>salary_max</th>\n",
              "      <th>employer</th>\n",
              "      <th>region</th>\n",
              "      <th>schedule</th>\n",
              "      <th>experience</th>\n",
              "      <th>key_skills</th>\n",
              "    </tr>\n",
              "  </thead>\n",
              "  <tbody>\n",
              "    <tr>\n",
              "      <th>0</th>\n",
              "      <td>Младший специалист ручного тестирования</td>\n",
              "      <td>NaN</td>\n",
              "      <td>NaN</td>\n",
              "      <td>Яндекс</td>\n",
              "      <td>Астраханская область</td>\n",
              "      <td>Удаленная работа</td>\n",
              "      <td>Нет опыта</td>\n",
              "      <td>[]</td>\n",
              "    </tr>\n",
              "    <tr>\n",
              "      <th>1</th>\n",
              "      <td>Тестировщик.Net</td>\n",
              "      <td>21750.0</td>\n",
              "      <td>43500.0</td>\n",
              "      <td>МФК Саммит</td>\n",
              "      <td>Астраханская область</td>\n",
              "      <td>Полный день</td>\n",
              "      <td>От 1 года до 3 лет</td>\n",
              "      <td>[Git, SQL, Тестирование, C#, API]</td>\n",
              "    </tr>\n",
              "    <tr>\n",
              "      <th>2</th>\n",
              "      <td>Пентестер</td>\n",
              "      <td>NaN</td>\n",
              "      <td>NaN</td>\n",
              "      <td>SearchInform</td>\n",
              "      <td>Астраханская область</td>\n",
              "      <td>Полный день</td>\n",
              "      <td>От 3 до 6 лет</td>\n",
              "      <td>[SQL, Linux, Информационная безопасность, Рабо...</td>\n",
              "    </tr>\n",
              "    <tr>\n",
              "      <th>3</th>\n",
              "      <td>Ведущий специалист по информационным технологиям</td>\n",
              "      <td>22620.0</td>\n",
              "      <td>NaN</td>\n",
              "      <td>Почта России</td>\n",
              "      <td>Астраханская область</td>\n",
              "      <td>Полный день</td>\n",
              "      <td>Нет опыта</td>\n",
              "      <td>[Пользователь ПК, Работа в команде, 1С: Предпр...</td>\n",
              "    </tr>\n",
              "    <tr>\n",
              "      <th>4</th>\n",
              "      <td>Специалист по защите информации</td>\n",
              "      <td>20000.0</td>\n",
              "      <td>20000.0</td>\n",
              "      <td>ГБПОУ АО Астраханский музыкальный колледж имен...</td>\n",
              "      <td>Астраханская область</td>\n",
              "      <td>Полный день</td>\n",
              "      <td>Нет опыта</td>\n",
              "      <td>[MS Dos, Диагностика ПК, Компьютер, Работа в у...</td>\n",
              "    </tr>\n",
              "  </tbody>\n",
              "</table>\n",
              "</div>\n",
              "      <button class=\"colab-df-convert\" onclick=\"convertToInteractive('df-f8cf588c-5c31-479f-af02-e4fca4234d90')\"\n",
              "              title=\"Convert this dataframe to an interactive table.\"\n",
              "              style=\"display:none;\">\n",
              "        \n",
              "  <svg xmlns=\"http://www.w3.org/2000/svg\" height=\"24px\"viewBox=\"0 0 24 24\"\n",
              "       width=\"24px\">\n",
              "    <path d=\"M0 0h24v24H0V0z\" fill=\"none\"/>\n",
              "    <path d=\"M18.56 5.44l.94 2.06.94-2.06 2.06-.94-2.06-.94-.94-2.06-.94 2.06-2.06.94zm-11 1L8.5 8.5l.94-2.06 2.06-.94-2.06-.94L8.5 2.5l-.94 2.06-2.06.94zm10 10l.94 2.06.94-2.06 2.06-.94-2.06-.94-.94-2.06-.94 2.06-2.06.94z\"/><path d=\"M17.41 7.96l-1.37-1.37c-.4-.4-.92-.59-1.43-.59-.52 0-1.04.2-1.43.59L10.3 9.45l-7.72 7.72c-.78.78-.78 2.05 0 2.83L4 21.41c.39.39.9.59 1.41.59.51 0 1.02-.2 1.41-.59l7.78-7.78 2.81-2.81c.8-.78.8-2.07 0-2.86zM5.41 20L4 18.59l7.72-7.72 1.47 1.35L5.41 20z\"/>\n",
              "  </svg>\n",
              "      </button>\n",
              "      \n",
              "  <style>\n",
              "    .colab-df-container {\n",
              "      display:flex;\n",
              "      flex-wrap:wrap;\n",
              "      gap: 12px;\n",
              "    }\n",
              "\n",
              "    .colab-df-convert {\n",
              "      background-color: #E8F0FE;\n",
              "      border: none;\n",
              "      border-radius: 50%;\n",
              "      cursor: pointer;\n",
              "      display: none;\n",
              "      fill: #1967D2;\n",
              "      height: 32px;\n",
              "      padding: 0 0 0 0;\n",
              "      width: 32px;\n",
              "    }\n",
              "\n",
              "    .colab-df-convert:hover {\n",
              "      background-color: #E2EBFA;\n",
              "      box-shadow: 0px 1px 2px rgba(60, 64, 67, 0.3), 0px 1px 3px 1px rgba(60, 64, 67, 0.15);\n",
              "      fill: #174EA6;\n",
              "    }\n",
              "\n",
              "    [theme=dark] .colab-df-convert {\n",
              "      background-color: #3B4455;\n",
              "      fill: #D2E3FC;\n",
              "    }\n",
              "\n",
              "    [theme=dark] .colab-df-convert:hover {\n",
              "      background-color: #434B5C;\n",
              "      box-shadow: 0px 1px 3px 1px rgba(0, 0, 0, 0.15);\n",
              "      filter: drop-shadow(0px 1px 2px rgba(0, 0, 0, 0.3));\n",
              "      fill: #FFFFFF;\n",
              "    }\n",
              "  </style>\n",
              "\n",
              "      <script>\n",
              "        const buttonEl =\n",
              "          document.querySelector('#df-f8cf588c-5c31-479f-af02-e4fca4234d90 button.colab-df-convert');\n",
              "        buttonEl.style.display =\n",
              "          google.colab.kernel.accessAllowed ? 'block' : 'none';\n",
              "\n",
              "        async function convertToInteractive(key) {\n",
              "          const element = document.querySelector('#df-f8cf588c-5c31-479f-af02-e4fca4234d90');\n",
              "          const dataTable =\n",
              "            await google.colab.kernel.invokeFunction('convertToInteractive',\n",
              "                                                     [key], {});\n",
              "          if (!dataTable) return;\n",
              "\n",
              "          const docLinkHtml = 'Like what you see? Visit the ' +\n",
              "            '<a target=\"_blank\" href=https://colab.research.google.com/notebooks/data_table.ipynb>data table notebook</a>'\n",
              "            + ' to learn more about interactive tables.';\n",
              "          element.innerHTML = '';\n",
              "          dataTable['output_type'] = 'display_data';\n",
              "          await google.colab.output.renderOutput(dataTable, element);\n",
              "          const docLink = document.createElement('div');\n",
              "          docLink.innerHTML = docLinkHtml;\n",
              "          element.appendChild(docLink);\n",
              "        }\n",
              "      </script>\n",
              "    </div>\n",
              "  </div>\n",
              "  "
            ]
          },
          "metadata": {},
          "execution_count": 59
        }
      ]
    },
    {
      "cell_type": "markdown",
      "source": [
        "## 2. Определение типов данных."
      ],
      "metadata": {
        "id": "S4KieDticegZ"
      }
    },
    {
      "cell_type": "code",
      "source": [
        "stat_df.info()"
      ],
      "metadata": {
        "id": "gakad4kWcmv6",
        "colab": {
          "base_uri": "https://localhost:8080/"
        },
        "outputId": "2d290bfc-0e47-44f4-8411-c82614f21225"
      },
      "execution_count": 60,
      "outputs": [
        {
          "output_type": "stream",
          "name": "stdout",
          "text": [
            "<class 'pandas.core.frame.DataFrame'>\n",
            "Int64Index: 50202 entries, 0 to 69655\n",
            "Data columns (total 8 columns):\n",
            " #   Column      Non-Null Count  Dtype  \n",
            "---  ------      --------------  -----  \n",
            " 0   name        50202 non-null  object \n",
            " 1   salary_min  20148 non-null  float64\n",
            " 2   salary_max  11847 non-null  float64\n",
            " 3   employer    50202 non-null  object \n",
            " 4   region      50202 non-null  object \n",
            " 5   schedule    50202 non-null  object \n",
            " 6   experience  50202 non-null  object \n",
            " 7   key_skills  50202 non-null  object \n",
            "dtypes: float64(2), object(6)\n",
            "memory usage: 3.4+ MB\n"
          ]
        }
      ]
    },
    {
      "cell_type": "markdown",
      "source": [
        "Типы данных в stat_df:\n",
        " 1. name - категориальный тип\n",
        " 2. salary_ min, salary_max - количественный тип\n",
        " 3. employer - категориальный тип\n",
        " 4. region - категориальный тип\n",
        " 5. shedule - категориальный тип\n",
        " 6. experience - категориальный тип (можно привести к порядковому)\n",
        " 7. key_skills - категориальный тип\n"
      ],
      "metadata": {
        "id": "GxLFltMydYOu"
      }
    },
    {
      "cell_type": "markdown",
      "source": [
        "## 3. Визуализация данных в зависимости от типа."
      ],
      "metadata": {
        "id": "czVA42lfcnRm"
      }
    },
    {
      "cell_type": "markdown",
      "source": [
        "### Гистограмма"
      ],
      "metadata": {
        "id": "w8Az0pq4eYLq"
      }
    },
    {
      "cell_type": "code",
      "source": [
        "stat_df['salary_min'].hist(bins=12)\n",
        "plt.title(\"Распределение нижней границы з/п по количеству вакансий\", fontsize = 14)\n",
        "plt.ylabel('Количество вакансий', fontsize = 12) # Подпись оси Y\n",
        "plt.xlabel('Нижняя граница з/п, руб.', fontsize = 12) # Подпись оси x\n",
        "plt.style.use('seaborn')\n",
        "plt.show()"
      ],
      "metadata": {
        "id": "gyV5utaCcuxJ",
        "colab": {
          "base_uri": "https://localhost:8080/",
          "height": 304
        },
        "outputId": "d72da8d1-770e-464d-e43d-1d1aa118237e"
      },
      "execution_count": 61,
      "outputs": [
        {
          "output_type": "display_data",
          "data": {
            "text/plain": [
              "<Figure size 432x288 with 1 Axes>"
            ],
            "image/png": "[encoded data removed]"
          },
          "metadata": {
            "needs_background": "light"
          }
        }
      ]
    },
    {
      "cell_type": "markdown",
      "source": [
        "### Столбчатая диаграмма"
      ],
      "metadata": {
        "id": "c5VaLLKxfGji"
      }
    },
    {
      "cell_type": "code",
      "source": [
        "region_vac_count = stat_df['region'].value_counts()[:35]\n",
        "plt.xticks(rotation=90, ha='right')\n",
        "plt.title('Количество вакансий по регионам топ-35')\n",
        "plt.style.use('seaborn')\n",
        "plt.xlabel('Наименование региона')\n",
        "params = {\n",
        "    'axes.titlesize':16,\n",
        "    'xtick.labelsize':12,\n",
        "    'ytick.labelsize':14,\n",
        "    'axes.labelsize':14\n",
        "}\n",
        "plt.rcParams.update(params)\n",
        "plt.bar(region_vac_count.index, region_vac_count.values)\n",
        "plt.show()"
      ],
      "metadata": {
        "colab": {
          "base_uri": "https://localhost:8080/",
          "height": 498
        },
        "id": "tqTQGmtSg74c",
        "outputId": "067c9622-779d-4778-a726-b2f306764a2f"
      },
      "execution_count": 62,
      "outputs": [
        {
          "output_type": "display_data",
          "data": {
            "text/plain": [
              "<Figure size 576x396 with 1 Axes>"
            ],
            "image/png": "[encoded data removed]"
          },
          "metadata": {}
        }
      ]
    },
    {
      "cell_type": "markdown",
      "source": [
        "### Круговая диаграмма"
      ],
      "metadata": {
        "id": "gA_-yb6SiOnL"
      }
    },
    {
      "cell_type": "code",
      "source": [
        "experience_count = stat_df['experience'].value_counts()\n",
        "\n",
        "plt.pie(experience_count, labels = experience_count.index, autopct='%1.1f%%')\n",
        "plt.title(label = \"Количество вакансий по требуемому опыу работы\", fontsize = 14)\n",
        "plt.show()"
      ],
      "metadata": {
        "colab": {
          "base_uri": "https://localhost:8080/",
          "height": 354
        },
        "id": "Nl2E1CQKiRfx",
        "outputId": "34b125c7-a254-4eeb-df58-fd798c3df172"
      },
      "execution_count": 63,
      "outputs": [
        {
          "output_type": "display_data",
          "data": {
            "text/plain": [
              "<Figure size 576x396 with 1 Axes>"
            ],
            "image/png": "[encoded data removed]"
          },
          "metadata": {}
        }
      ]
    },
    {
      "cell_type": "markdown",
      "source": [
        "## 4. Проверка гипотезы о виде распределения для количественных показателей."
      ],
      "metadata": {
        "id": "cBhxKv22cvOe"
      }
    },
    {
      "cell_type": "markdown",
      "source": [
        "Проверяем на нормальность, чтобы в дальнейшем понять с какими критериями мы будем работать - параметрическими или непараметрическими. Если выборка отвечает нормальному распределению, то мы будем пользоваться параметрическими критериями."
      ],
      "metadata": {
        "id": "O_VLD2UTPd0r"
      }
    },
    {
      "cell_type": "markdown",
      "source": [
        "Тест д'Агостино(Ralph D’Agostino) - вычисляет итоговую статистику на основе данных, а именно, эксцесс и асимметрия, чтобы определить, отклоняется ли распределение данных от нормального распределения."
      ],
      "metadata": {
        "id": "KDlclbHXkWS5"
      }
    },
    {
      "cell_type": "markdown",
      "source": [
        "**Гипотеза Н0:** наблюдаемая выборка принадлежит нормальной генеральной совокупности, уровень значимости полагаем равным 0,05."
      ],
      "metadata": {
        "id": "hoDA-I2Gk-na"
      }
    },
    {
      "cell_type": "code",
      "source": [
        "stats.normaltest(stat_df['salary_min'].dropna())"
      ],
      "metadata": {
        "id": "ZUaA6Vsjc9nN",
        "colab": {
          "base_uri": "https://localhost:8080/"
        },
        "outputId": "004ed8ed-627e-4380-fbda-3ac3c917055b"
      },
      "execution_count": 64,
      "outputs": [
        {
          "output_type": "execute_result",
          "data": {
            "text/plain": [
              "NormaltestResult(statistic=8636.346403184487, pvalue=0.0)"
            ]
          },
          "metadata": {},
          "execution_count": 64
        }
      ]
    },
    {
      "cell_type": "markdown",
      "source": [
        "Значение p-value очень близко к нулю, оно меньше уровня значимости, поэтому гипотезу о том, что выборка подчиняется нормальному закону распределения **отклоняем.**"
      ],
      "metadata": {
        "id": "zVEw7fDclCy4"
      }
    },
    {
      "cell_type": "markdown",
      "source": [
        "## 5. Оценка связи между показателями."
      ],
      "metadata": {
        "id": "uufhYu13c-Ac"
      }
    },
    {
      "cell_type": "markdown",
      "source": [
        "### 1. Критерии сравнения групп для анализа связи количественных или порядковых показателей с категориальными. "
      ],
      "metadata": {
        "id": "ZlcQHB98dHrc"
      }
    },
    {
      "cell_type": "markdown",
      "source": [
        "**Гипотеза H0:** зависимость графика работы и зарплаты отсутствует."
      ],
      "metadata": {
        "id": "fAT7GvHZl-mq"
      }
    },
    {
      "cell_type": "markdown",
      "source": [
        "Удалим выбросы и построим график зарплат и графика работы."
      ],
      "metadata": {
        "id": "pOwSqd6BHnSO"
      }
    },
    {
      "cell_type": "code",
      "source": [
        "df1 = stat_df.drop(stat_df.loc[(stat_df['schedule'] == 'Полный день') & (stat_df['salary_min'] > 160_000)].index)\n",
        "df1 = df1.drop(df1.loc[(df1['schedule'] == 'Удаленная работа') & (df1['salary_min'] > 310_000)].index)\n",
        "df1 = df1.drop(df1.loc[(df1['schedule'] == 'Гибкий график') & (df1['salary_min'] > 245_000)].index)\n",
        "df1 = df1.drop(df1.loc[(df1['schedule'] == 'Сменный график') & (df1['salary_min'] > 110_000)].index)\n",
        "\n",
        "f, ax = plt.subplots(figsize=(6, 6))\n",
        "fig = sns.boxplot(x='schedule', y='salary_min', data=df1)\n",
        "plt.xticks(rotation=90, ha='right')\n",
        "plt.title('Размер зарплаты от графика работы')\n",
        "plt.xlabel('График работы')\n",
        "plt.ylabel('Размер зарплаты')"
      ],
      "metadata": {
        "id": "TDCZXuQqdPwT",
        "colab": {
          "base_uri": "https://localhost:8080/",
          "height": 530
        },
        "outputId": "5723f657-d888-4aff-e7df-e46025698a7f"
      },
      "execution_count": 65,
      "outputs": [
        {
          "output_type": "execute_result",
          "data": {
            "text/plain": [
              "Text(0, 0.5, 'Размер зарплаты')"
            ]
          },
          "metadata": {},
          "execution_count": 65
        },
        {
          "output_type": "display_data",
          "data": {
            "text/plain": [
              "<Figure size 432x432 with 1 Axes>"
            ],
            "image/png": "[encoded data removed]"
          },
          "metadata": {}
        }
      ]
    },
    {
      "cell_type": "code",
      "source": [
        "dfd1=np.array(df1[df1['schedule']=='Сменный график']['salary_min'])\n",
        "dfd2=np.array(df1[df1['schedule']=='Полный день']['salary_min'])\n",
        "dfd3=np.array(df1[df1['schedule']=='Гибкий график']['salary_min'])\n",
        "dfd4=np.array(df1[df1['schedule']=='Удаленная работа']['salary_min'])\n",
        "dfd5=np.array(df1[df1['schedule']=='Вахтовый метод']['salary_min'])\n",
        "stats.mstats.kruskalwallis(dfd1,dfd2,dfd3,dfd4,dfd5)"
      ],
      "metadata": {
        "id": "IvEDPRP-dPs3",
        "colab": {
          "base_uri": "https://localhost:8080/"
        },
        "outputId": "2d5cbe04-a391-4f89-95b8-8677ae6157d8"
      },
      "execution_count": 66,
      "outputs": [
        {
          "output_type": "execute_result",
          "data": {
            "text/plain": [
              "KruskalResult(statistic=276.6312530706038, pvalue=1.1865511569999586e-58)"
            ]
          },
          "metadata": {},
          "execution_count": 66
        }
      ]
    },
    {
      "cell_type": "markdown",
      "source": [
        "Получили значение p-value много меньше уровня значимости, значит мы отвергаем нулевую гипотезу и принимаем альтернативную: **график работы влияет на уровень зарплаты.**"
      ],
      "metadata": {
        "id": "oxlbrtD-Q7L9"
      }
    },
    {
      "cell_type": "markdown",
      "source": [
        "### 2. Анализ таблиц сопряженности для оценки связи двух категориальных признаков. "
      ],
      "metadata": {
        "id": "4AbxlauYdQZe"
      }
    },
    {
      "cell_type": "markdown",
      "source": [
        "Оценим статистическую значимость различий двух относительных показателей: опыт работы и график работы.\n",
        "Гипотеза H0: опыт работы не влияет на график работы."
      ],
      "metadata": {
        "id": "PA5xrOipU-h_"
      }
    },
    {
      "cell_type": "code",
      "source": [
        "wd=pd.crosstab(stat_df['experience'],stat_df['schedule']); wd"
      ],
      "metadata": {
        "id": "uDqRfr0OdVJW",
        "colab": {
          "base_uri": "https://localhost:8080/",
          "height": 206
        },
        "outputId": "c47fc845-1fa0-493e-e68c-7030fa3fa491"
      },
      "execution_count": 67,
      "outputs": [
        {
          "output_type": "execute_result",
          "data": {
            "text/plain": [
              "schedule            Вахтовый метод  Гибкий график  Полный день  \\\n",
              "experience                                                       \n",
              "Более 6 лет                      9             62         1320   \n",
              "Нет опыта                        2            294         3592   \n",
              "От 1 года до 3 лет              48           1071        19868   \n",
              "От 3 до 6 лет                   65            624        12151   \n",
              "\n",
              "schedule            Сменный график  Удаленная работа  \n",
              "experience                                            \n",
              "Более 6 лет                      1               273  \n",
              "Нет опыта                      331              1783  \n",
              "От 1 года до 3 лет             512              4572  \n",
              "От 3 до 6 лет                   72              3552  "
            ],
            "text/html": [
              "\n",
              "  <div id=\"df-6fc6138b-cc3f-43a8-872a-05c9db97a459\">\n",
              "    <div class=\"colab-df-container\">\n",
              "      <div>\n",
              "<style scoped>\n",
              "    .dataframe tbody tr th:only-of-type {\n",
              "        vertical-align: middle;\n",
              "    }\n",
              "\n",
              "    .dataframe tbody tr th {\n",
              "        vertical-align: top;\n",
              "    }\n",
              "\n",
              "    .dataframe thead th {\n",
              "        text-align: right;\n",
              "    }\n",
              "</style>\n",
              "<table border=\"1\" class=\"dataframe\">\n",
              "  <thead>\n",
              "    <tr style=\"text-align: right;\">\n",
              "      <th>schedule</th>\n",
              "      <th>Вахтовый метод</th>\n",
              "      <th>Гибкий график</th>\n",
              "      <th>Полный день</th>\n",
              "      <th>Сменный график</th>\n",
              "      <th>Удаленная работа</th>\n",
              "    </tr>\n",
              "    <tr>\n",
              "      <th>experience</th>\n",
              "      <th></th>\n",
              "      <th></th>\n",
              "      <th></th>\n",
              "      <th></th>\n",
              "      <th></th>\n",
              "    </tr>\n",
              "  </thead>\n",
              "  <tbody>\n",
              "    <tr>\n",
              "      <th>Более 6 лет</th>\n",
              "      <td>9</td>\n",
              "      <td>62</td>\n",
              "      <td>1320</td>\n",
              "      <td>1</td>\n",
              "      <td>273</td>\n",
              "    </tr>\n",
              "    <tr>\n",
              "      <th>Нет опыта</th>\n",
              "      <td>2</td>\n",
              "      <td>294</td>\n",
              "      <td>3592</td>\n",
              "      <td>331</td>\n",
              "      <td>1783</td>\n",
              "    </tr>\n",
              "    <tr>\n",
              "      <th>От 1 года до 3 лет</th>\n",
              "      <td>48</td>\n",
              "      <td>1071</td>\n",
              "      <td>19868</td>\n",
              "      <td>512</td>\n",
              "      <td>4572</td>\n",
              "    </tr>\n",
              "    <tr>\n",
              "      <th>От 3 до 6 лет</th>\n",
              "      <td>65</td>\n",
              "      <td>624</td>\n",
              "      <td>12151</td>\n",
              "      <td>72</td>\n",
              "      <td>3552</td>\n",
              "    </tr>\n",
              "  </tbody>\n",
              "</table>\n",
              "</div>\n",
              "      <button class=\"colab-df-convert\" onclick=\"convertToInteractive('df-6fc6138b-cc3f-43a8-872a-05c9db97a459')\"\n",
              "              title=\"Convert this dataframe to an interactive table.\"\n",
              "              style=\"display:none;\">\n",
              "        \n",
              "  <svg xmlns=\"http://www.w3.org/2000/svg\" height=\"24px\"viewBox=\"0 0 24 24\"\n",
              "       width=\"24px\">\n",
              "    <path d=\"M0 0h24v24H0V0z\" fill=\"none\"/>\n",
              "    <path d=\"M18.56 5.44l.94 2.06.94-2.06 2.06-.94-2.06-.94-.94-2.06-.94 2.06-2.06.94zm-11 1L8.5 8.5l.94-2.06 2.06-.94-2.06-.94L8.5 2.5l-.94 2.06-2.06.94zm10 10l.94 2.06.94-2.06 2.06-.94-2.06-.94-.94-2.06-.94 2.06-2.06.94z\"/><path d=\"M17.41 7.96l-1.37-1.37c-.4-.4-.92-.59-1.43-.59-.52 0-1.04.2-1.43.59L10.3 9.45l-7.72 7.72c-.78.78-.78 2.05 0 2.83L4 21.41c.39.39.9.59 1.41.59.51 0 1.02-.2 1.41-.59l7.78-7.78 2.81-2.81c.8-.78.8-2.07 0-2.86zM5.41 20L4 18.59l7.72-7.72 1.47 1.35L5.41 20z\"/>\n",
              "  </svg>\n",
              "      </button>\n",
              "      \n",
              "  <style>\n",
              "    .colab-df-container {\n",
              "      display:flex;\n",
              "      flex-wrap:wrap;\n",
              "      gap: 12px;\n",
              "    }\n",
              "\n",
              "    .colab-df-convert {\n",
              "      background-color: #E8F0FE;\n",
              "      border: none;\n",
              "      border-radius: 50%;\n",
              "      cursor: pointer;\n",
              "      display: none;\n",
              "      fill: #1967D2;\n",
              "      height: 32px;\n",
              "      padding: 0 0 0 0;\n",
              "      width: 32px;\n",
              "    }\n",
              "\n",
              "    .colab-df-convert:hover {\n",
              "      background-color: #E2EBFA;\n",
              "      box-shadow: 0px 1px 2px rgba(60, 64, 67, 0.3), 0px 1px 3px 1px rgba(60, 64, 67, 0.15);\n",
              "      fill: #174EA6;\n",
              "    }\n",
              "\n",
              "    [theme=dark] .colab-df-convert {\n",
              "      background-color: #3B4455;\n",
              "      fill: #D2E3FC;\n",
              "    }\n",
              "\n",
              "    [theme=dark] .colab-df-convert:hover {\n",
              "      background-color: #434B5C;\n",
              "      box-shadow: 0px 1px 3px 1px rgba(0, 0, 0, 0.15);\n",
              "      filter: drop-shadow(0px 1px 2px rgba(0, 0, 0, 0.3));\n",
              "      fill: #FFFFFF;\n",
              "    }\n",
              "  </style>\n",
              "\n",
              "      <script>\n",
              "        const buttonEl =\n",
              "          document.querySelector('#df-6fc6138b-cc3f-43a8-872a-05c9db97a459 button.colab-df-convert');\n",
              "        buttonEl.style.display =\n",
              "          google.colab.kernel.accessAllowed ? 'block' : 'none';\n",
              "\n",
              "        async function convertToInteractive(key) {\n",
              "          const element = document.querySelector('#df-6fc6138b-cc3f-43a8-872a-05c9db97a459');\n",
              "          const dataTable =\n",
              "            await google.colab.kernel.invokeFunction('convertToInteractive',\n",
              "                                                     [key], {});\n",
              "          if (!dataTable) return;\n",
              "\n",
              "          const docLinkHtml = 'Like what you see? Visit the ' +\n",
              "            '<a target=\"_blank\" href=https://colab.research.google.com/notebooks/data_table.ipynb>data table notebook</a>'\n",
              "            + ' to learn more about interactive tables.';\n",
              "          element.innerHTML = '';\n",
              "          dataTable['output_type'] = 'display_data';\n",
              "          await google.colab.output.renderOutput(dataTable, element);\n",
              "          const docLink = document.createElement('div');\n",
              "          docLink.innerHTML = docLinkHtml;\n",
              "          element.appendChild(docLink);\n",
              "        }\n",
              "      </script>\n",
              "    </div>\n",
              "  </div>\n",
              "  "
            ]
          },
          "metadata": {},
          "execution_count": 67
        }
      ]
    },
    {
      "cell_type": "code",
      "source": [
        "sns.countplot(x=stat_df['schedule'], hue=stat_df['experience'])\n",
        "plt.xticks(rotation=90, ha='right')"
      ],
      "metadata": {
        "id": "vRZVYS44dVGv",
        "colab": {
          "base_uri": "https://localhost:8080/",
          "height": 491
        },
        "outputId": "7bb9ff18-f137-4385-a65a-53e1e4d7f928"
      },
      "execution_count": 68,
      "outputs": [
        {
          "output_type": "execute_result",
          "data": {
            "text/plain": [
              "(array([0, 1, 2, 3, 4]), <a list of 5 Text major ticklabel objects>)"
            ]
          },
          "metadata": {},
          "execution_count": 68
        },
        {
          "output_type": "display_data",
          "data": {
            "text/plain": [
              "<Figure size 576x396 with 1 Axes>"
            ],
            "image/png": "[encoded data removed]"
          },
          "metadata": {}
        }
      ]
    },
    {
      "cell_type": "code",
      "source": [
        "chi2, prob, sdf, expected = scipy.stats.chi2_contingency(wd)\n",
        "output = \"test Statistics: {}\\ndegrees of freedom: {}\\np-value: {}\\n\"\n",
        " \n",
        "print(output.format( chi2, sdf, prob))"
      ],
      "metadata": {
        "colab": {
          "base_uri": "https://localhost:8080/"
        },
        "id": "BtOKGIw9Q6IF",
        "outputId": "3912ff4a-a248-4abf-b023-d3e47519264c"
      },
      "execution_count": 69,
      "outputs": [
        {
          "output_type": "stream",
          "name": "stdout",
          "text": [
            "test Statistics: 1273.7810607221456\n",
            "degrees of freedom: 12\n",
            "p-value: 2.2208402671185872e-265\n",
            "\n"
          ]
        }
      ]
    },
    {
      "cell_type": "markdown",
      "source": [
        "Мы видим, что p-value меньше нашего уровня значимости. Следовательно, мы должны отклонить нулевую и принять альтернативную гипотезу о том, что опыт работы влияет на график работы. Но на графике мы видим, что больше всего вакансий на полный день. То есть сам опыт работы не влияет на график работы. "
      ],
      "metadata": {
        "id": "EBoczt0zV1sx"
      }
    },
    {
      "cell_type": "markdown",
      "source": [
        "### 3. Корреляционный анализ Пирсона или Спирмена для количественных или порядковых переменных."
      ],
      "metadata": {
        "id": "f-NbQVZjdVef"
      }
    },
    {
      "cell_type": "markdown",
      "source": [
        "Приведем колонку с опытом к порядковым переменным."
      ],
      "metadata": {
        "id": "zIDM89xUYUdV"
      }
    },
    {
      "cell_type": "code",
      "source": [
        "stat_df['experience'].unique()"
      ],
      "metadata": {
        "colab": {
          "base_uri": "https://localhost:8080/"
        },
        "id": "y_YrWDATXgTh",
        "outputId": "d1645c60-1944-4481-9b49-6794a0af235f"
      },
      "execution_count": 70,
      "outputs": [
        {
          "output_type": "execute_result",
          "data": {
            "text/plain": [
              "array(['Нет опыта', 'От 1 года до 3 лет', 'От 3 до 6 лет', 'Более 6 лет'],\n",
              "      dtype=object)"
            ]
          },
          "metadata": {},
          "execution_count": 70
        }
      ]
    },
    {
      "cell_type": "code",
      "source": [
        "def exp(row):\n",
        "  if row == 'Нет опыта':\n",
        "    return 'exp_0'\n",
        "  if row == 'От 1 года до 3 лет':\n",
        "    return 'exp_1'\n",
        "  if row == 'От 3 до 6 лет':\n",
        "    return 'exp_2'\n",
        "  if row == 'Более 6 лет':\n",
        "    return 'exp_3'\n",
        "\n",
        "stat_df['experience_p'] = stat_df['experience'].apply(exp)\n",
        "\n",
        "stat_df"
      ],
      "metadata": {
        "id": "XD_Wrhr9dZxm",
        "colab": {
          "base_uri": "https://localhost:8080/",
          "height": 973
        },
        "outputId": "6457dc3c-e03d-4cdb-be2e-03524a519a3c"
      },
      "execution_count": 71,
      "outputs": [
        {
          "output_type": "execute_result",
          "data": {
            "text/plain": [
              "                                                    name  salary_min  \\\n",
              "0                Младший специалист ручного тестирования         NaN   \n",
              "1                                        Тестировщик.Net     21750.0   \n",
              "2                                              Пентестер         NaN   \n",
              "3       Ведущий специалист по информационным технологиям     22620.0   \n",
              "4                        Специалист по защите информации     20000.0   \n",
              "...                                                  ...         ...   \n",
              "69651                                   Программист Java         NaN   \n",
              "69652                                     Программист 1С    130000.0   \n",
              "69653         Начальник отдела информационных технологий     50000.0   \n",
              "69654            Технический директор (DevOps, технолог)     85000.0   \n",
              "69655  Начальник отдела по защите информации и информ...         NaN   \n",
              "\n",
              "       salary_max                                           employer  \\\n",
              "0             NaN                                             Яндекс   \n",
              "1         43500.0                                         МФК Саммит   \n",
              "2             NaN                                       SearchInform   \n",
              "3             NaN                                       Почта России   \n",
              "4         20000.0  ГБПОУ АО Астраханский музыкальный колледж имен...   \n",
              "...           ...                                                ...   \n",
              "69651         NaN              Центральный банк Российской Федерации   \n",
              "69652         NaN                                            Окраина   \n",
              "69653         NaN                                  ГУЗ ГБ № 3 Г.Тулы   \n",
              "69654         NaN                                          ИнтерЛабс   \n",
              "69655         NaN                                   ТИТАН-2, холдинг   \n",
              "\n",
              "                     region          schedule          experience  \\\n",
              "0      Астраханская область  Удаленная работа           Нет опыта   \n",
              "1      Астраханская область       Полный день  От 1 года до 3 лет   \n",
              "2      Астраханская область       Полный день       От 3 до 6 лет   \n",
              "3      Астраханская область       Полный день           Нет опыта   \n",
              "4      Астраханская область       Полный день           Нет опыта   \n",
              "...                     ...               ...                 ...   \n",
              "69651      Тульская область       Полный день       От 3 до 6 лет   \n",
              "69652      Тульская область       Полный день  От 1 года до 3 лет   \n",
              "69653      Тульская область       Полный день  От 1 года до 3 лет   \n",
              "69654      Тульская область       Полный день       От 3 до 6 лет   \n",
              "69655      Тульская область       Полный день         Более 6 лет   \n",
              "\n",
              "                                              key_skills experience_p  \n",
              "0                                                     []        exp_0  \n",
              "1                      [Git, SQL, Тестирование, C#, API]        exp_1  \n",
              "2      [SQL, Linux, Информационная безопасность, Рабо...        exp_2  \n",
              "3      [Пользователь ПК, Работа в команде, 1С: Предпр...        exp_0  \n",
              "4      [MS Dos, Диагностика ПК, Компьютер, Работа в у...        exp_0  \n",
              "...                                                  ...          ...  \n",
              "69651                                                 []        exp_2  \n",
              "69652  [1С: Управление Торговлей, 1С: Предприятие 8, ...        exp_1  \n",
              "69653  [Организаторские навыки, Работа в команде, Упр...        exp_1  \n",
              "69654                                                 []        exp_2  \n",
              "69655  [Информационная безопасность, Аудит безопаснос...        exp_3  \n",
              "\n",
              "[50202 rows x 9 columns]"
            ],
            "text/html": [
              "\n",
              "  <div id=\"df-eabc4c04-057f-4d96-916a-c625d7b8f735\">\n",
              "    <div class=\"colab-df-container\">\n",
              "      <div>\n",
              "<style scoped>\n",
              "    .dataframe tbody tr th:only-of-type {\n",
              "        vertical-align: middle;\n",
              "    }\n",
              "\n",
              "    .dataframe tbody tr th {\n",
              "        vertical-align: top;\n",
              "    }\n",
              "\n",
              "    .dataframe thead th {\n",
              "        text-align: right;\n",
              "    }\n",
              "</style>\n",
              "<table border=\"1\" class=\"dataframe\">\n",
              "  <thead>\n",
              "    <tr style=\"text-align: right;\">\n",
              "      <th></th>\n",
              "      <th>name</th>\n",
              "      <th>salary_min</th>\n",
              "      <th>salary_max</th>\n",
              "      <th>employer</th>\n",
              "      <th>region</th>\n",
              "      <th>schedule</th>\n",
              "      <th>experience</th>\n",
              "      <th>key_skills</th>\n",
              "      <th>experience_p</th>\n",
              "    </tr>\n",
              "  </thead>\n",
              "  <tbody>\n",
              "    <tr>\n",
              "      <th>0</th>\n",
              "      <td>Младший специалист ручного тестирования</td>\n",
              "      <td>NaN</td>\n",
              "      <td>NaN</td>\n",
              "      <td>Яндекс</td>\n",
              "      <td>Астраханская область</td>\n",
              "      <td>Удаленная работа</td>\n",
              "      <td>Нет опыта</td>\n",
              "      <td>[]</td>\n",
              "      <td>exp_0</td>\n",
              "    </tr>\n",
              "    <tr>\n",
              "      <th>1</th>\n",
              "      <td>Тестировщик.Net</td>\n",
              "      <td>21750.0</td>\n",
              "      <td>43500.0</td>\n",
              "      <td>МФК Саммит</td>\n",
              "      <td>Астраханская область</td>\n",
              "      <td>Полный день</td>\n",
              "      <td>От 1 года до 3 лет</td>\n",
              "      <td>[Git, SQL, Тестирование, C#, API]</td>\n",
              "      <td>exp_1</td>\n",
              "    </tr>\n",
              "    <tr>\n",
              "      <th>2</th>\n",
              "      <td>Пентестер</td>\n",
              "      <td>NaN</td>\n",
              "      <td>NaN</td>\n",
              "      <td>SearchInform</td>\n",
              "      <td>Астраханская область</td>\n",
              "      <td>Полный день</td>\n",
              "      <td>От 3 до 6 лет</td>\n",
              "      <td>[SQL, Linux, Информационная безопасность, Рабо...</td>\n",
              "      <td>exp_2</td>\n",
              "    </tr>\n",
              "    <tr>\n",
              "      <th>3</th>\n",
              "      <td>Ведущий специалист по информационным технологиям</td>\n",
              "      <td>22620.0</td>\n",
              "      <td>NaN</td>\n",
              "      <td>Почта России</td>\n",
              "      <td>Астраханская область</td>\n",
              "      <td>Полный день</td>\n",
              "      <td>Нет опыта</td>\n",
              "      <td>[Пользователь ПК, Работа в команде, 1С: Предпр...</td>\n",
              "      <td>exp_0</td>\n",
              "    </tr>\n",
              "    <tr>\n",
              "      <th>4</th>\n",
              "      <td>Специалист по защите информации</td>\n",
              "      <td>20000.0</td>\n",
              "      <td>20000.0</td>\n",
              "      <td>ГБПОУ АО Астраханский музыкальный колледж имен...</td>\n",
              "      <td>Астраханская область</td>\n",
              "      <td>Полный день</td>\n",
              "      <td>Нет опыта</td>\n",
              "      <td>[MS Dos, Диагностика ПК, Компьютер, Работа в у...</td>\n",
              "      <td>exp_0</td>\n",
              "    </tr>\n",
              "    <tr>\n",
              "      <th>...</th>\n",
              "      <td>...</td>\n",
              "      <td>...</td>\n",
              "      <td>...</td>\n",
              "      <td>...</td>\n",
              "      <td>...</td>\n",
              "      <td>...</td>\n",
              "      <td>...</td>\n",
              "      <td>...</td>\n",
              "      <td>...</td>\n",
              "    </tr>\n",
              "    <tr>\n",
              "      <th>69651</th>\n",
              "      <td>Программист Java</td>\n",
              "      <td>NaN</td>\n",
              "      <td>NaN</td>\n",
              "      <td>Центральный банк Российской Федерации</td>\n",
              "      <td>Тульская область</td>\n",
              "      <td>Полный день</td>\n",
              "      <td>От 3 до 6 лет</td>\n",
              "      <td>[]</td>\n",
              "      <td>exp_2</td>\n",
              "    </tr>\n",
              "    <tr>\n",
              "      <th>69652</th>\n",
              "      <td>Программист 1С</td>\n",
              "      <td>130000.0</td>\n",
              "      <td>NaN</td>\n",
              "      <td>Окраина</td>\n",
              "      <td>Тульская область</td>\n",
              "      <td>Полный день</td>\n",
              "      <td>От 1 года до 3 лет</td>\n",
              "      <td>[1С: Управление Торговлей, 1С: Предприятие 8, ...</td>\n",
              "      <td>exp_1</td>\n",
              "    </tr>\n",
              "    <tr>\n",
              "      <th>69653</th>\n",
              "      <td>Начальник отдела информационных технологий</td>\n",
              "      <td>50000.0</td>\n",
              "      <td>NaN</td>\n",
              "      <td>ГУЗ ГБ № 3 Г.Тулы</td>\n",
              "      <td>Тульская область</td>\n",
              "      <td>Полный день</td>\n",
              "      <td>От 1 года до 3 лет</td>\n",
              "      <td>[Организаторские навыки, Работа в команде, Упр...</td>\n",
              "      <td>exp_1</td>\n",
              "    </tr>\n",
              "    <tr>\n",
              "      <th>69654</th>\n",
              "      <td>Технический директор (DevOps, технолог)</td>\n",
              "      <td>85000.0</td>\n",
              "      <td>NaN</td>\n",
              "      <td>ИнтерЛабс</td>\n",
              "      <td>Тульская область</td>\n",
              "      <td>Полный день</td>\n",
              "      <td>От 3 до 6 лет</td>\n",
              "      <td>[]</td>\n",
              "      <td>exp_2</td>\n",
              "    </tr>\n",
              "    <tr>\n",
              "      <th>69655</th>\n",
              "      <td>Начальник отдела по защите информации и информ...</td>\n",
              "      <td>NaN</td>\n",
              "      <td>NaN</td>\n",
              "      <td>ТИТАН-2, холдинг</td>\n",
              "      <td>Тульская область</td>\n",
              "      <td>Полный день</td>\n",
              "      <td>Более 6 лет</td>\n",
              "      <td>[Информационная безопасность, Аудит безопаснос...</td>\n",
              "      <td>exp_3</td>\n",
              "    </tr>\n",
              "  </tbody>\n",
              "</table>\n",
              "<p>50202 rows × 9 columns</p>\n",
              "</div>\n",
              "      <button class=\"colab-df-convert\" onclick=\"convertToInteractive('df-eabc4c04-057f-4d96-916a-c625d7b8f735')\"\n",
              "              title=\"Convert this dataframe to an interactive table.\"\n",
              "              style=\"display:none;\">\n",
              "        \n",
              "  <svg xmlns=\"http://www.w3.org/2000/svg\" height=\"24px\"viewBox=\"0 0 24 24\"\n",
              "       width=\"24px\">\n",
              "    <path d=\"M0 0h24v24H0V0z\" fill=\"none\"/>\n",
              "    <path d=\"M18.56 5.44l.94 2.06.94-2.06 2.06-.94-2.06-.94-.94-2.06-.94 2.06-2.06.94zm-11 1L8.5 8.5l.94-2.06 2.06-.94-2.06-.94L8.5 2.5l-.94 2.06-2.06.94zm10 10l.94 2.06.94-2.06 2.06-.94-2.06-.94-.94-2.06-.94 2.06-2.06.94z\"/><path d=\"M17.41 7.96l-1.37-1.37c-.4-.4-.92-.59-1.43-.59-.52 0-1.04.2-1.43.59L10.3 9.45l-7.72 7.72c-.78.78-.78 2.05 0 2.83L4 21.41c.39.39.9.59 1.41.59.51 0 1.02-.2 1.41-.59l7.78-7.78 2.81-2.81c.8-.78.8-2.07 0-2.86zM5.41 20L4 18.59l7.72-7.72 1.47 1.35L5.41 20z\"/>\n",
              "  </svg>\n",
              "      </button>\n",
              "      \n",
              "  <style>\n",
              "    .colab-df-container {\n",
              "      display:flex;\n",
              "      flex-wrap:wrap;\n",
              "      gap: 12px;\n",
              "    }\n",
              "\n",
              "    .colab-df-convert {\n",
              "      background-color: #E8F0FE;\n",
              "      border: none;\n",
              "      border-radius: 50%;\n",
              "      cursor: pointer;\n",
              "      display: none;\n",
              "      fill: #1967D2;\n",
              "      height: 32px;\n",
              "      padding: 0 0 0 0;\n",
              "      width: 32px;\n",
              "    }\n",
              "\n",
              "    .colab-df-convert:hover {\n",
              "      background-color: #E2EBFA;\n",
              "      box-shadow: 0px 1px 2px rgba(60, 64, 67, 0.3), 0px 1px 3px 1px rgba(60, 64, 67, 0.15);\n",
              "      fill: #174EA6;\n",
              "    }\n",
              "\n",
              "    [theme=dark] .colab-df-convert {\n",
              "      background-color: #3B4455;\n",
              "      fill: #D2E3FC;\n",
              "    }\n",
              "\n",
              "    [theme=dark] .colab-df-convert:hover {\n",
              "      background-color: #434B5C;\n",
              "      box-shadow: 0px 1px 3px 1px rgba(0, 0, 0, 0.15);\n",
              "      filter: drop-shadow(0px 1px 2px rgba(0, 0, 0, 0.3));\n",
              "      fill: #FFFFFF;\n",
              "    }\n",
              "  </style>\n",
              "\n",
              "      <script>\n",
              "        const buttonEl =\n",
              "          document.querySelector('#df-eabc4c04-057f-4d96-916a-c625d7b8f735 button.colab-df-convert');\n",
              "        buttonEl.style.display =\n",
              "          google.colab.kernel.accessAllowed ? 'block' : 'none';\n",
              "\n",
              "        async function convertToInteractive(key) {\n",
              "          const element = document.querySelector('#df-eabc4c04-057f-4d96-916a-c625d7b8f735');\n",
              "          const dataTable =\n",
              "            await google.colab.kernel.invokeFunction('convertToInteractive',\n",
              "                                                     [key], {});\n",
              "          if (!dataTable) return;\n",
              "\n",
              "          const docLinkHtml = 'Like what you see? Visit the ' +\n",
              "            '<a target=\"_blank\" href=https://colab.research.google.com/notebooks/data_table.ipynb>data table notebook</a>'\n",
              "            + ' to learn more about interactive tables.';\n",
              "          element.innerHTML = '';\n",
              "          dataTable['output_type'] = 'display_data';\n",
              "          await google.colab.output.renderOutput(dataTable, element);\n",
              "          const docLink = document.createElement('div');\n",
              "          docLink.innerHTML = docLinkHtml;\n",
              "          element.appendChild(docLink);\n",
              "        }\n",
              "      </script>\n",
              "    </div>\n",
              "  </div>\n",
              "  "
            ]
          },
          "metadata": {},
          "execution_count": 71
        }
      ]
    },
    {
      "cell_type": "markdown",
      "source": [
        "Чтобы провести анализ с помощью критерия, нам надо чтобы пропусков в данных не было. Чтобы избавится от пропусков в колонке зарплаты, мы заменим пустые значения медианой."
      ],
      "metadata": {
        "id": "XEEJbpQoc7s_"
      }
    },
    {
      "cell_type": "code",
      "source": [
        "stat_df.loc[stat_df['salary_min'].isna(), 'salary_min'] = stat_df['salary_min'].median()\n",
        "stat_df.loc[stat_df['salary_max'].isna(), 'salary_max'] = stat_df['salary_max'].median()"
      ],
      "metadata": {
        "id": "twxF7EGdc7RL"
      },
      "execution_count": 72,
      "outputs": []
    },
    {
      "cell_type": "code",
      "source": [
        "stat_df['salary_min']"
      ],
      "metadata": {
        "colab": {
          "base_uri": "https://localhost:8080/"
        },
        "id": "1XEEQ6XpfULw",
        "outputId": "e02b34ef-462e-489c-88ed-c272904b1a82"
      },
      "execution_count": 73,
      "outputs": [
        {
          "output_type": "execute_result",
          "data": {
            "text/plain": [
              "0         60000.0\n",
              "1         21750.0\n",
              "2         60000.0\n",
              "3         22620.0\n",
              "4         20000.0\n",
              "           ...   \n",
              "69651     60000.0\n",
              "69652    130000.0\n",
              "69653     50000.0\n",
              "69654     85000.0\n",
              "69655     60000.0\n",
              "Name: salary_min, Length: 50202, dtype: float64"
            ]
          },
          "metadata": {},
          "execution_count": 73
        }
      ]
    },
    {
      "cell_type": "code",
      "source": [
        "num = ['salary_min','salary_max','experience_p']\n",
        "hm = sns.heatmap(stat_df[num].corr(),annot=True)"
      ],
      "metadata": {
        "colab": {
          "base_uri": "https://localhost:8080/",
          "height": 364
        },
        "id": "EvKGycS6huDQ",
        "outputId": "b74e4f71-ede4-4135-8903-1c49479cd679"
      },
      "execution_count": 74,
      "outputs": [
        {
          "output_type": "display_data",
          "data": {
            "text/plain": [
              "<Figure size 576x396 with 2 Axes>"
            ],
            "image/png": "[encoded data removed]"
          },
          "metadata": {}
        }
      ]
    },
    {
      "cell_type": "code",
      "source": [
        "scipy.stats.pearsonr(stat_df.salary_min, stat_df.salary_max)"
      ],
      "metadata": {
        "colab": {
          "base_uri": "https://localhost:8080/"
        },
        "id": "GE2FRig5j8qk",
        "outputId": "9663cba2-f855-47a6-c8a2-6097da2bb213"
      },
      "execution_count": 75,
      "outputs": [
        {
          "output_type": "execute_result",
          "data": {
            "text/plain": [
              "(0.5116052491744513, 0.0)"
            ]
          },
          "metadata": {},
          "execution_count": 75
        }
      ]
    },
    {
      "cell_type": "code",
      "source": [
        "f, ax = plt.subplots(figsize=(6, 6))\n",
        "fig = sns.boxplot(x='experience', y='salary_min', data=df1)\n",
        "plt.xticks(rotation=90, ha='right')\n",
        "plt.title('Размер зарплаты от опыта работы')\n",
        "plt.xlabel('Опыт работы')\n",
        "plt.ylabel('Размер зарплаты')"
      ],
      "metadata": {
        "colab": {
          "base_uri": "https://localhost:8080/",
          "height": 529
        },
        "id": "JMQ45O0Sw_mB",
        "outputId": "0ad63692-d989-4832-f83d-7ba35ed8e764"
      },
      "execution_count": 77,
      "outputs": [
        {
          "output_type": "execute_result",
          "data": {
            "text/plain": [
              "Text(0, 0.5, 'Размер зарплаты')"
            ]
          },
          "metadata": {},
          "execution_count": 77
        },
        {
          "output_type": "display_data",
          "data": {
            "text/plain": [
              "<Figure size 432x432 with 1 Axes>"
            ],
            "image/png": "[encoded data removed]"
          },
          "metadata": {}
        }
      ]
    },
    {
      "cell_type": "markdown",
      "source": [
        "Естественно, видим, что минимальная и максимальная зарплата связаны. А так же, зарплата связана с опытом работы, так как значение p-value близко к нулю, значит мы надежно отвергаем гипотезу об отсутствии связи."
      ],
      "metadata": {
        "id": "E-cwtXW_lUp5"
      }
    },
    {
      "cell_type": "markdown",
      "source": [
        "## 6. Формулирование гипотезы."
      ],
      "metadata": {
        "id": "pVNRHD5fdhAT"
      }
    },
    {
      "cell_type": "markdown",
      "source": [
        "Приведем график работы к порядковому типу."
      ],
      "metadata": {
        "id": "cOZPflFiekgg"
      }
    },
    {
      "cell_type": "code",
      "source": [
        "stat_df['schedule'].unique()"
      ],
      "metadata": {
        "colab": {
          "base_uri": "https://localhost:8080/"
        },
        "id": "bnccWOSeaf56",
        "outputId": "fdfaf3f9-ce37-4adb-8142-8c1c306129c7"
      },
      "execution_count": 78,
      "outputs": [
        {
          "output_type": "execute_result",
          "data": {
            "text/plain": [
              "array(['Удаленная работа', 'Полный день', 'Гибкий график',\n",
              "       'Сменный график', 'Вахтовый метод'], dtype=object)"
            ]
          },
          "metadata": {},
          "execution_count": 78
        }
      ]
    },
    {
      "cell_type": "code",
      "source": [
        "def sch(row):\n",
        "  if row == 'Удаленная работа':\n",
        "    return 'sch_0'\n",
        "  if row == 'Полный день':\n",
        "    return 'sch_1'\n",
        "  if row == 'Гибкий график':\n",
        "    return 'sch_2'\n",
        "  if row == 'Сменный график':\n",
        "    return 'sch_3'\n",
        "  return 'sch_4'\n",
        "\n",
        "stat_df['schedule_p'] = stat_df['schedule'].apply(sch)\n",
        "\n",
        "stat_df"
      ],
      "metadata": {
        "colab": {
          "base_uri": "https://localhost:8080/",
          "height": 973
        },
        "id": "J0-A5d-5bArC",
        "outputId": "8f8c04ac-374f-4e90-9975-de4277e3fb36"
      },
      "execution_count": 79,
      "outputs": [
        {
          "output_type": "execute_result",
          "data": {
            "text/plain": [
              "                                                    name  salary_min  \\\n",
              "0                Младший специалист ручного тестирования     60000.0   \n",
              "1                                        Тестировщик.Net     21750.0   \n",
              "2                                              Пентестер     60000.0   \n",
              "3       Ведущий специалист по информационным технологиям     22620.0   \n",
              "4                        Специалист по защите информации     20000.0   \n",
              "...                                                  ...         ...   \n",
              "69651                                   Программист Java     60000.0   \n",
              "69652                                     Программист 1С    130000.0   \n",
              "69653         Начальник отдела информационных технологий     50000.0   \n",
              "69654            Технический директор (DevOps, технолог)     85000.0   \n",
              "69655  Начальник отдела по защите информации и информ...     60000.0   \n",
              "\n",
              "       salary_max                                           employer  \\\n",
              "0         90000.0                                             Яндекс   \n",
              "1         43500.0                                         МФК Саммит   \n",
              "2         90000.0                                       SearchInform   \n",
              "3         90000.0                                       Почта России   \n",
              "4         20000.0  ГБПОУ АО Астраханский музыкальный колледж имен...   \n",
              "...           ...                                                ...   \n",
              "69651     90000.0              Центральный банк Российской Федерации   \n",
              "69652     90000.0                                            Окраина   \n",
              "69653     90000.0                                  ГУЗ ГБ № 3 Г.Тулы   \n",
              "69654     90000.0                                          ИнтерЛабс   \n",
              "69655     90000.0                                   ТИТАН-2, холдинг   \n",
              "\n",
              "                     region          schedule          experience  \\\n",
              "0      Астраханская область  Удаленная работа           Нет опыта   \n",
              "1      Астраханская область       Полный день  От 1 года до 3 лет   \n",
              "2      Астраханская область       Полный день       От 3 до 6 лет   \n",
              "3      Астраханская область       Полный день           Нет опыта   \n",
              "4      Астраханская область       Полный день           Нет опыта   \n",
              "...                     ...               ...                 ...   \n",
              "69651      Тульская область       Полный день       От 3 до 6 лет   \n",
              "69652      Тульская область       Полный день  От 1 года до 3 лет   \n",
              "69653      Тульская область       Полный день  От 1 года до 3 лет   \n",
              "69654      Тульская область       Полный день       От 3 до 6 лет   \n",
              "69655      Тульская область       Полный день         Более 6 лет   \n",
              "\n",
              "                                              key_skills experience_p  \\\n",
              "0                                                     []        exp_0   \n",
              "1                      [Git, SQL, Тестирование, C#, API]        exp_1   \n",
              "2      [SQL, Linux, Информационная безопасность, Рабо...        exp_2   \n",
              "3      [Пользователь ПК, Работа в команде, 1С: Предпр...        exp_0   \n",
              "4      [MS Dos, Диагностика ПК, Компьютер, Работа в у...        exp_0   \n",
              "...                                                  ...          ...   \n",
              "69651                                                 []        exp_2   \n",
              "69652  [1С: Управление Торговлей, 1С: Предприятие 8, ...        exp_1   \n",
              "69653  [Организаторские навыки, Работа в команде, Упр...        exp_1   \n",
              "69654                                                 []        exp_2   \n",
              "69655  [Информационная безопасность, Аудит безопаснос...        exp_3   \n",
              "\n",
              "      schedule_p  \n",
              "0          sch_0  \n",
              "1          sch_1  \n",
              "2          sch_1  \n",
              "3          sch_1  \n",
              "4          sch_1  \n",
              "...          ...  \n",
              "69651      sch_1  \n",
              "69652      sch_1  \n",
              "69653      sch_1  \n",
              "69654      sch_1  \n",
              "69655      sch_1  \n",
              "\n",
              "[50202 rows x 10 columns]"
            ],
            "text/html": [
              "\n",
              "  <div id=\"df-befd9857-6ab8-4cf5-9d8f-5f6b51d55cac\">\n",
              "    <div class=\"colab-df-container\">\n",
              "      <div>\n",
              "<style scoped>\n",
              "    .dataframe tbody tr th:only-of-type {\n",
              "        vertical-align: middle;\n",
              "    }\n",
              "\n",
              "    .dataframe tbody tr th {\n",
              "        vertical-align: top;\n",
              "    }\n",
              "\n",
              "    .dataframe thead th {\n",
              "        text-align: right;\n",
              "    }\n",
              "</style>\n",
              "<table border=\"1\" class=\"dataframe\">\n",
              "  <thead>\n",
              "    <tr style=\"text-align: right;\">\n",
              "      <th></th>\n",
              "      <th>name</th>\n",
              "      <th>salary_min</th>\n",
              "      <th>salary_max</th>\n",
              "      <th>employer</th>\n",
              "      <th>region</th>\n",
              "      <th>schedule</th>\n",
              "      <th>experience</th>\n",
              "      <th>key_skills</th>\n",
              "      <th>experience_p</th>\n",
              "      <th>schedule_p</th>\n",
              "    </tr>\n",
              "  </thead>\n",
              "  <tbody>\n",
              "    <tr>\n",
              "      <th>0</th>\n",
              "      <td>Младший специалист ручного тестирования</td>\n",
              "      <td>60000.0</td>\n",
              "      <td>90000.0</td>\n",
              "      <td>Яндекс</td>\n",
              "      <td>Астраханская область</td>\n",
              "      <td>Удаленная работа</td>\n",
              "      <td>Нет опыта</td>\n",
              "      <td>[]</td>\n",
              "      <td>exp_0</td>\n",
              "      <td>sch_0</td>\n",
              "    </tr>\n",
              "    <tr>\n",
              "      <th>1</th>\n",
              "      <td>Тестировщик.Net</td>\n",
              "      <td>21750.0</td>\n",
              "      <td>43500.0</td>\n",
              "      <td>МФК Саммит</td>\n",
              "      <td>Астраханская область</td>\n",
              "      <td>Полный день</td>\n",
              "      <td>От 1 года до 3 лет</td>\n",
              "      <td>[Git, SQL, Тестирование, C#, API]</td>\n",
              "      <td>exp_1</td>\n",
              "      <td>sch_1</td>\n",
              "    </tr>\n",
              "    <tr>\n",
              "      <th>2</th>\n",
              "      <td>Пентестер</td>\n",
              "      <td>60000.0</td>\n",
              "      <td>90000.0</td>\n",
              "      <td>SearchInform</td>\n",
              "      <td>Астраханская область</td>\n",
              "      <td>Полный день</td>\n",
              "      <td>От 3 до 6 лет</td>\n",
              "      <td>[SQL, Linux, Информационная безопасность, Рабо...</td>\n",
              "      <td>exp_2</td>\n",
              "      <td>sch_1</td>\n",
              "    </tr>\n",
              "    <tr>\n",
              "      <th>3</th>\n",
              "      <td>Ведущий специалист по информационным технологиям</td>\n",
              "      <td>22620.0</td>\n",
              "      <td>90000.0</td>\n",
              "      <td>Почта России</td>\n",
              "      <td>Астраханская область</td>\n",
              "      <td>Полный день</td>\n",
              "      <td>Нет опыта</td>\n",
              "      <td>[Пользователь ПК, Работа в команде, 1С: Предпр...</td>\n",
              "      <td>exp_0</td>\n",
              "      <td>sch_1</td>\n",
              "    </tr>\n",
              "    <tr>\n",
              "      <th>4</th>\n",
              "      <td>Специалист по защите информации</td>\n",
              "      <td>20000.0</td>\n",
              "      <td>20000.0</td>\n",
              "      <td>ГБПОУ АО Астраханский музыкальный колледж имен...</td>\n",
              "      <td>Астраханская область</td>\n",
              "      <td>Полный день</td>\n",
              "      <td>Нет опыта</td>\n",
              "      <td>[MS Dos, Диагностика ПК, Компьютер, Работа в у...</td>\n",
              "      <td>exp_0</td>\n",
              "      <td>sch_1</td>\n",
              "    </tr>\n",
              "    <tr>\n",
              "      <th>...</th>\n",
              "      <td>...</td>\n",
              "      <td>...</td>\n",
              "      <td>...</td>\n",
              "      <td>...</td>\n",
              "      <td>...</td>\n",
              "      <td>...</td>\n",
              "      <td>...</td>\n",
              "      <td>...</td>\n",
              "      <td>...</td>\n",
              "      <td>...</td>\n",
              "    </tr>\n",
              "    <tr>\n",
              "      <th>69651</th>\n",
              "      <td>Программист Java</td>\n",
              "      <td>60000.0</td>\n",
              "      <td>90000.0</td>\n",
              "      <td>Центральный банк Российской Федерации</td>\n",
              "      <td>Тульская область</td>\n",
              "      <td>Полный день</td>\n",
              "      <td>От 3 до 6 лет</td>\n",
              "      <td>[]</td>\n",
              "      <td>exp_2</td>\n",
              "      <td>sch_1</td>\n",
              "    </tr>\n",
              "    <tr>\n",
              "      <th>69652</th>\n",
              "      <td>Программист 1С</td>\n",
              "      <td>130000.0</td>\n",
              "      <td>90000.0</td>\n",
              "      <td>Окраина</td>\n",
              "      <td>Тульская область</td>\n",
              "      <td>Полный день</td>\n",
              "      <td>От 1 года до 3 лет</td>\n",
              "      <td>[1С: Управление Торговлей, 1С: Предприятие 8, ...</td>\n",
              "      <td>exp_1</td>\n",
              "      <td>sch_1</td>\n",
              "    </tr>\n",
              "    <tr>\n",
              "      <th>69653</th>\n",
              "      <td>Начальник отдела информационных технологий</td>\n",
              "      <td>50000.0</td>\n",
              "      <td>90000.0</td>\n",
              "      <td>ГУЗ ГБ № 3 Г.Тулы</td>\n",
              "      <td>Тульская область</td>\n",
              "      <td>Полный день</td>\n",
              "      <td>От 1 года до 3 лет</td>\n",
              "      <td>[Организаторские навыки, Работа в команде, Упр...</td>\n",
              "      <td>exp_1</td>\n",
              "      <td>sch_1</td>\n",
              "    </tr>\n",
              "    <tr>\n",
              "      <th>69654</th>\n",
              "      <td>Технический директор (DevOps, технолог)</td>\n",
              "      <td>85000.0</td>\n",
              "      <td>90000.0</td>\n",
              "      <td>ИнтерЛабс</td>\n",
              "      <td>Тульская область</td>\n",
              "      <td>Полный день</td>\n",
              "      <td>От 3 до 6 лет</td>\n",
              "      <td>[]</td>\n",
              "      <td>exp_2</td>\n",
              "      <td>sch_1</td>\n",
              "    </tr>\n",
              "    <tr>\n",
              "      <th>69655</th>\n",
              "      <td>Начальник отдела по защите информации и информ...</td>\n",
              "      <td>60000.0</td>\n",
              "      <td>90000.0</td>\n",
              "      <td>ТИТАН-2, холдинг</td>\n",
              "      <td>Тульская область</td>\n",
              "      <td>Полный день</td>\n",
              "      <td>Более 6 лет</td>\n",
              "      <td>[Информационная безопасность, Аудит безопаснос...</td>\n",
              "      <td>exp_3</td>\n",
              "      <td>sch_1</td>\n",
              "    </tr>\n",
              "  </tbody>\n",
              "</table>\n",
              "<p>50202 rows × 10 columns</p>\n",
              "</div>\n",
              "      <button class=\"colab-df-convert\" onclick=\"convertToInteractive('df-befd9857-6ab8-4cf5-9d8f-5f6b51d55cac')\"\n",
              "              title=\"Convert this dataframe to an interactive table.\"\n",
              "              style=\"display:none;\">\n",
              "        \n",
              "  <svg xmlns=\"http://www.w3.org/2000/svg\" height=\"24px\"viewBox=\"0 0 24 24\"\n",
              "       width=\"24px\">\n",
              "    <path d=\"M0 0h24v24H0V0z\" fill=\"none\"/>\n",
              "    <path d=\"M18.56 5.44l.94 2.06.94-2.06 2.06-.94-2.06-.94-.94-2.06-.94 2.06-2.06.94zm-11 1L8.5 8.5l.94-2.06 2.06-.94-2.06-.94L8.5 2.5l-.94 2.06-2.06.94zm10 10l.94 2.06.94-2.06 2.06-.94-2.06-.94-.94-2.06-.94 2.06-2.06.94z\"/><path d=\"M17.41 7.96l-1.37-1.37c-.4-.4-.92-.59-1.43-.59-.52 0-1.04.2-1.43.59L10.3 9.45l-7.72 7.72c-.78.78-.78 2.05 0 2.83L4 21.41c.39.39.9.59 1.41.59.51 0 1.02-.2 1.41-.59l7.78-7.78 2.81-2.81c.8-.78.8-2.07 0-2.86zM5.41 20L4 18.59l7.72-7.72 1.47 1.35L5.41 20z\"/>\n",
              "  </svg>\n",
              "      </button>\n",
              "      \n",
              "  <style>\n",
              "    .colab-df-container {\n",
              "      display:flex;\n",
              "      flex-wrap:wrap;\n",
              "      gap: 12px;\n",
              "    }\n",
              "\n",
              "    .colab-df-convert {\n",
              "      background-color: #E8F0FE;\n",
              "      border: none;\n",
              "      border-radius: 50%;\n",
              "      cursor: pointer;\n",
              "      display: none;\n",
              "      fill: #1967D2;\n",
              "      height: 32px;\n",
              "      padding: 0 0 0 0;\n",
              "      width: 32px;\n",
              "    }\n",
              "\n",
              "    .colab-df-convert:hover {\n",
              "      background-color: #E2EBFA;\n",
              "      box-shadow: 0px 1px 2px rgba(60, 64, 67, 0.3), 0px 1px 3px 1px rgba(60, 64, 67, 0.15);\n",
              "      fill: #174EA6;\n",
              "    }\n",
              "\n",
              "    [theme=dark] .colab-df-convert {\n",
              "      background-color: #3B4455;\n",
              "      fill: #D2E3FC;\n",
              "    }\n",
              "\n",
              "    [theme=dark] .colab-df-convert:hover {\n",
              "      background-color: #434B5C;\n",
              "      box-shadow: 0px 1px 3px 1px rgba(0, 0, 0, 0.15);\n",
              "      filter: drop-shadow(0px 1px 2px rgba(0, 0, 0, 0.3));\n",
              "      fill: #FFFFFF;\n",
              "    }\n",
              "  </style>\n",
              "\n",
              "      <script>\n",
              "        const buttonEl =\n",
              "          document.querySelector('#df-befd9857-6ab8-4cf5-9d8f-5f6b51d55cac button.colab-df-convert');\n",
              "        buttonEl.style.display =\n",
              "          google.colab.kernel.accessAllowed ? 'block' : 'none';\n",
              "\n",
              "        async function convertToInteractive(key) {\n",
              "          const element = document.querySelector('#df-befd9857-6ab8-4cf5-9d8f-5f6b51d55cac');\n",
              "          const dataTable =\n",
              "            await google.colab.kernel.invokeFunction('convertToInteractive',\n",
              "                                                     [key], {});\n",
              "          if (!dataTable) return;\n",
              "\n",
              "          const docLinkHtml = 'Like what you see? Visit the ' +\n",
              "            '<a target=\"_blank\" href=https://colab.research.google.com/notebooks/data_table.ipynb>data table notebook</a>'\n",
              "            + ' to learn more about interactive tables.';\n",
              "          element.innerHTML = '';\n",
              "          dataTable['output_type'] = 'display_data';\n",
              "          await google.colab.output.renderOutput(dataTable, element);\n",
              "          const docLink = document.createElement('div');\n",
              "          docLink.innerHTML = docLinkHtml;\n",
              "          element.appendChild(docLink);\n",
              "        }\n",
              "      </script>\n",
              "    </div>\n",
              "  </div>\n",
              "  "
            ]
          },
          "metadata": {},
          "execution_count": 79
        }
      ]
    },
    {
      "cell_type": "markdown",
      "source": [
        "Сгруппируем области по округам."
      ],
      "metadata": {
        "id": "K6T3BozRx_9Z"
      }
    },
    {
      "cell_type": "code",
      "source": [
        "central = ['Белгородская область', 'Брянская область', 'Владимирская область', 'Воронежская область','Ивановская область', 'Калужская область', 'Костромская область', 'Курская область', 'Липецкая область', 'Московская область', 'Орловская область', 'Рязанская область', 'Смоленская область', 'Тамбовская область', 'Тверская область', 'Тульская область', 'Ярославская область', 'Москва']\n",
        "south = ['Республика Адыгея', 'Республика Калмыкия', 'Краснодарский край', 'Астраханская область', 'Волгоградская область', 'Ростовская область']\n",
        "northwest = ['Республика Карелия', 'Республика Коми', 'Архангельская область', 'Вологодская область', 'Калининградская область', 'Ленинградская область', 'Мурманская область', 'Новгородская область', 'Псковская область', 'Санкт-Петербург', 'Ненецкий АО']\n",
        "far_eastern = ['Республика Саха (Якутия)', 'Камчатский край', 'Приморский край', 'Хабаровский край', 'Амурская область', 'Магаданская область', 'Сахалинская область', 'Еврейская АО', 'Чукотский АО']\n",
        "siberian = ['Республика Алтай', 'Республика Бурятия', 'Республика Тыва', 'Республика Хакасия', 'Алтайский край', 'Забайкальский край', 'Красноярский край', 'Иркутская область', 'Кемеровская область', 'Новосибирская область', 'Омская область', 'Томская область']\n",
        "uralsky = ['Курганская область', 'Свердловская область', 'Тюменская область', 'Челябинская область', 'Ханты-Мансийский АО - Югра', 'Ямало-Ненецкий АО']\n",
        "privolzhsky = ['Республика Башкортостан', 'Республика Марий Эл', 'Республика Мордовия', 'Республика Татарстан', 'Удмуртская Республика', 'Чувашская Республика', 'Кировская область', 'Нижегородская область', 'Оренбургская область', 'Пензенская область', 'Пермский край', 'Самарская область', 'Саратовская область', 'Ульяновская область']\n",
        "north_caucasian = ['Республика Дагестан', 'Республика Ингушетия', 'Кабардино-Балкарская республика', 'Карачаево-Черкесская Республика', 'Республика Северная Осетия-Алания', 'Чеченская республика', 'Ставропольский край']\n",
        "crimean = ['Республика Крым']"
      ],
      "metadata": {
        "id": "iZpz4fIfvGyf"
      },
      "execution_count": 80,
      "outputs": []
    },
    {
      "cell_type": "code",
      "source": [
        "def federal_district(row):\n",
        "    if row in central:\n",
        "      return 'central'\n",
        "    if row in south:\n",
        "      return 'south'\n",
        "    if row in northwest:\n",
        "      return 'northwest'\n",
        "    if row in far_eastern:\n",
        "      return 'far_eastern'\n",
        "    if row in siberian:\n",
        "      return 'siberian'\n",
        "    if row in uralsky:\n",
        "      return 'uralsky'\n",
        "    if row in privolzhsky:\n",
        "      return 'privolzhsky'\n",
        "    if row in north_caucasian:\n",
        "      return 'north_caucasian'\n",
        "    return 'crimean'"
      ],
      "metadata": {
        "id": "sSqatvXXvGve"
      },
      "execution_count": 81,
      "outputs": []
    },
    {
      "cell_type": "code",
      "source": [
        "stat_df['federal_district'] = stat_df['region'].apply(federal_district)"
      ],
      "metadata": {
        "id": "QqueFzKkvGq_"
      },
      "execution_count": 82,
      "outputs": []
    },
    {
      "cell_type": "code",
      "source": [
        "stat_df.info()"
      ],
      "metadata": {
        "colab": {
          "base_uri": "https://localhost:8080/"
        },
        "id": "0zttQpaT1YpC",
        "outputId": "1bc6fc81-42da-4072-e189-dcc5ed872a9d"
      },
      "execution_count": 83,
      "outputs": [
        {
          "output_type": "stream",
          "name": "stdout",
          "text": [
            "<class 'pandas.core.frame.DataFrame'>\n",
            "Int64Index: 50202 entries, 0 to 69655\n",
            "Data columns (total 11 columns):\n",
            " #   Column            Non-Null Count  Dtype  \n",
            "---  ------            --------------  -----  \n",
            " 0   name              50202 non-null  object \n",
            " 1   salary_min        50202 non-null  float64\n",
            " 2   salary_max        50202 non-null  float64\n",
            " 3   employer          50202 non-null  object \n",
            " 4   region            50202 non-null  object \n",
            " 5   schedule          50202 non-null  object \n",
            " 6   experience        50202 non-null  object \n",
            " 7   key_skills        50202 non-null  object \n",
            " 8   experience_p      50202 non-null  object \n",
            " 9   schedule_p        50202 non-null  object \n",
            " 10  federal_district  50202 non-null  object \n",
            "dtypes: float64(2), object(9)\n",
            "memory usage: 5.6+ MB\n"
          ]
        }
      ]
    },
    {
      "cell_type": "markdown",
      "source": [
        "1. salary_min - количественные\n",
        "2. schedule_p - порядковые\n",
        "3. experience_p - порядковые\n",
        "4. federal_district - категориальные\n",
        "5. key_skills - категориальные"
      ],
      "metadata": {
        "id": "CXi7MQiZ10tv"
      }
    },
    {
      "cell_type": "markdown",
      "source": [
        "### **Гипотеза H0:** Уровень зарплаты не зависит от федерального округа."
      ],
      "metadata": {
        "id": "SC4sguo0QrXc"
      }
    },
    {
      "cell_type": "code",
      "source": [
        "df01 = pd.concat((stat_df,pd.get_dummies(stat_df.federal_district, prefix_sep='',)),1)\n",
        "df01 = pd.concat((df01,pd.get_dummies(stat_df.experience_p, prefix='o', prefix_sep='',)),1)\n",
        "df01 = pd.concat((df01,pd.get_dummies(stat_df.schedule_p, prefix='o', prefix_sep='',)),1)\n",
        "\n",
        "resultsm = smf.ols('salary_min ~ C(schedule_p) + C(experience_p) + C(federal_district)', data=df01).fit()\n",
        "resultsm.summary()"
      ],
      "metadata": {
        "colab": {
          "base_uri": "https://localhost:8080/",
          "height": 861
        },
        "id": "7Mx7HJyMZrb9",
        "outputId": "f3a5b8e9-fea2-46d4-c940-a7257bfb77ef"
      },
      "execution_count": 84,
      "outputs": [
        {
          "output_type": "stream",
          "name": "stderr",
          "text": [
            "<ipython-input-84-d40ee1a9e47a>:1: FutureWarning: In a future version of pandas all arguments of concat except for the argument 'objs' will be keyword-only\n",
            "  df01 = pd.concat((stat_df,pd.get_dummies(stat_df.federal_district, prefix_sep='',)),1)\n",
            "<ipython-input-84-d40ee1a9e47a>:2: FutureWarning: In a future version of pandas all arguments of concat except for the argument 'objs' will be keyword-only\n",
            "  df01 = pd.concat((df01,pd.get_dummies(stat_df.experience_p, prefix='o', prefix_sep='',)),1)\n",
            "<ipython-input-84-d40ee1a9e47a>:3: FutureWarning: In a future version of pandas all arguments of concat except for the argument 'objs' will be keyword-only\n",
            "  df01 = pd.concat((df01,pd.get_dummies(stat_df.schedule_p, prefix='o', prefix_sep='',)),1)\n"
          ]
        },
        {
          "output_type": "execute_result",
          "data": {
            "text/plain": [
              "<class 'statsmodels.iolib.summary.Summary'>\n",
              "\"\"\"\n",
              "                            OLS Regression Results                            \n",
              "==============================================================================\n",
              "Dep. Variable:             salary_min   R-squared:                       0.107\n",
              "Model:                            OLS   Adj. R-squared:                  0.106\n",
              "Method:                 Least Squares   F-statistic:                     399.9\n",
              "Date:                Sat, 21 Jan 2023   Prob (F-statistic):               0.00\n",
              "Time:                        07:59:40   Log-Likelihood:            -6.0106e+05\n",
              "No. Observations:               50202   AIC:                         1.202e+06\n",
              "Df Residuals:                   50186   BIC:                         1.202e+06\n",
              "Df Model:                          15                                         \n",
              "Covariance Type:            nonrobust                                         \n",
              "==========================================================================================================\n",
              "                                             coef    std err          t      P>|t|      [0.025      0.975]\n",
              "----------------------------------------------------------------------------------------------------------\n",
              "Intercept                               5.219e+04    638.733     81.713      0.000    5.09e+04    5.34e+04\n",
              "C(schedule_p)[T.sch_1]                 -9754.2848    432.150    -22.572      0.000   -1.06e+04   -8907.266\n",
              "C(schedule_p)[T.sch_2]                 -1971.1030    929.362     -2.121      0.034   -3792.663    -149.543\n",
              "C(schedule_p)[T.sch_3]                 -1.453e+04   1329.174    -10.935      0.000   -1.71e+04   -1.19e+04\n",
              "C(schedule_p)[T.sch_4]                   785.0118   3480.648      0.226      0.822   -6037.097    7607.121\n",
              "C(experience_p)[T.exp_1]                2.197e+04    557.664     39.391      0.000    2.09e+04    2.31e+04\n",
              "C(experience_p)[T.exp_2]                3.718e+04    591.552     62.845      0.000     3.6e+04    3.83e+04\n",
              "C(experience_p)[T.exp_3]                4.713e+04   1073.830     43.892      0.000     4.5e+04    4.92e+04\n",
              "C(federal_district)[T.crimean]         -1.132e+04   2125.352     -5.324      0.000   -1.55e+04   -7150.302\n",
              "C(federal_district)[T.far_eastern]     -5358.7660   1177.086     -4.553      0.000   -7665.867   -3051.665\n",
              "C(federal_district)[T.north_caucasian]  -1.37e+04   2038.801     -6.718      0.000   -1.77e+04   -9700.699\n",
              "C(federal_district)[T.northwest]         180.4676    516.585      0.349      0.727    -832.045    1192.980\n",
              "C(federal_district)[T.privolzhsky]     -6290.2410    505.393    -12.446      0.000   -7280.818   -5299.664\n",
              "C(federal_district)[T.siberian]        -1834.3987    591.059     -3.104      0.002   -2992.882    -675.916\n",
              "C(federal_district)[T.south]           -4629.4388    730.167     -6.340      0.000   -6060.575   -3198.303\n",
              "C(federal_district)[T.uralsky]         -2701.2816    699.147     -3.864      0.000   -4071.617   -1330.946\n",
              "==============================================================================\n",
              "Omnibus:                    39905.590   Durbin-Watson:                   1.731\n",
              "Prob(Omnibus):                  0.000   Jarque-Bera (JB):          1184562.268\n",
              "Skew:                           3.651   Prob(JB):                         0.00\n",
              "Kurtosis:                      25.649   Cond. No.                         29.3\n",
              "==============================================================================\n",
              "\n",
              "Notes:\n",
              "[1] Standard Errors assume that the covariance matrix of the errors is correctly specified.\n",
              "\"\"\""
            ],
            "text/html": [
              "<table class=\"simpletable\">\n",
              "<caption>OLS Regression Results</caption>\n",
              "<tr>\n",
              "  <th>Dep. Variable:</th>       <td>salary_min</td>    <th>  R-squared:         </th>  <td>   0.107</td>  \n",
              "</tr>\n",
              "<tr>\n",
              "  <th>Model:</th>                   <td>OLS</td>       <th>  Adj. R-squared:    </th>  <td>   0.106</td>  \n",
              "</tr>\n",
              "<tr>\n",
              "  <th>Method:</th>             <td>Least Squares</td>  <th>  F-statistic:       </th>  <td>   399.9</td>  \n",
              "</tr>\n",
              "<tr>\n",
              "  <th>Date:</th>             <td>Sat, 21 Jan 2023</td> <th>  Prob (F-statistic):</th>   <td>  0.00</td>   \n",
              "</tr>\n",
              "<tr>\n",
              "  <th>Time:</th>                 <td>07:59:40</td>     <th>  Log-Likelihood:    </th> <td>-6.0106e+05</td>\n",
              "</tr>\n",
              "<tr>\n",
              "  <th>No. Observations:</th>      <td> 50202</td>      <th>  AIC:               </th>  <td>1.202e+06</td> \n",
              "</tr>\n",
              "<tr>\n",
              "  <th>Df Residuals:</th>          <td> 50186</td>      <th>  BIC:               </th>  <td>1.202e+06</td> \n",
              "</tr>\n",
              "<tr>\n",
              "  <th>Df Model:</th>              <td>    15</td>      <th>                     </th>      <td> </td>     \n",
              "</tr>\n",
              "<tr>\n",
              "  <th>Covariance Type:</th>      <td>nonrobust</td>    <th>                     </th>      <td> </td>     \n",
              "</tr>\n",
              "</table>\n",
              "<table class=\"simpletable\">\n",
              "<tr>\n",
              "                     <td></td>                       <th>coef</th>     <th>std err</th>      <th>t</th>      <th>P>|t|</th>  <th>[0.025</th>    <th>0.975]</th>  \n",
              "</tr>\n",
              "<tr>\n",
              "  <th>Intercept</th>                              <td> 5.219e+04</td> <td>  638.733</td> <td>   81.713</td> <td> 0.000</td> <td> 5.09e+04</td> <td> 5.34e+04</td>\n",
              "</tr>\n",
              "<tr>\n",
              "  <th>C(schedule_p)[T.sch_1]</th>                 <td>-9754.2848</td> <td>  432.150</td> <td>  -22.572</td> <td> 0.000</td> <td>-1.06e+04</td> <td>-8907.266</td>\n",
              "</tr>\n",
              "<tr>\n",
              "  <th>C(schedule_p)[T.sch_2]</th>                 <td>-1971.1030</td> <td>  929.362</td> <td>   -2.121</td> <td> 0.034</td> <td>-3792.663</td> <td> -149.543</td>\n",
              "</tr>\n",
              "<tr>\n",
              "  <th>C(schedule_p)[T.sch_3]</th>                 <td>-1.453e+04</td> <td> 1329.174</td> <td>  -10.935</td> <td> 0.000</td> <td>-1.71e+04</td> <td>-1.19e+04</td>\n",
              "</tr>\n",
              "<tr>\n",
              "  <th>C(schedule_p)[T.sch_4]</th>                 <td>  785.0118</td> <td> 3480.648</td> <td>    0.226</td> <td> 0.822</td> <td>-6037.097</td> <td> 7607.121</td>\n",
              "</tr>\n",
              "<tr>\n",
              "  <th>C(experience_p)[T.exp_1]</th>               <td> 2.197e+04</td> <td>  557.664</td> <td>   39.391</td> <td> 0.000</td> <td> 2.09e+04</td> <td> 2.31e+04</td>\n",
              "</tr>\n",
              "<tr>\n",
              "  <th>C(experience_p)[T.exp_2]</th>               <td> 3.718e+04</td> <td>  591.552</td> <td>   62.845</td> <td> 0.000</td> <td>  3.6e+04</td> <td> 3.83e+04</td>\n",
              "</tr>\n",
              "<tr>\n",
              "  <th>C(experience_p)[T.exp_3]</th>               <td> 4.713e+04</td> <td> 1073.830</td> <td>   43.892</td> <td> 0.000</td> <td>  4.5e+04</td> <td> 4.92e+04</td>\n",
              "</tr>\n",
              "<tr>\n",
              "  <th>C(federal_district)[T.crimean]</th>         <td>-1.132e+04</td> <td> 2125.352</td> <td>   -5.324</td> <td> 0.000</td> <td>-1.55e+04</td> <td>-7150.302</td>\n",
              "</tr>\n",
              "<tr>\n",
              "  <th>C(federal_district)[T.far_eastern]</th>     <td>-5358.7660</td> <td> 1177.086</td> <td>   -4.553</td> <td> 0.000</td> <td>-7665.867</td> <td>-3051.665</td>\n",
              "</tr>\n",
              "<tr>\n",
              "  <th>C(federal_district)[T.north_caucasian]</th> <td> -1.37e+04</td> <td> 2038.801</td> <td>   -6.718</td> <td> 0.000</td> <td>-1.77e+04</td> <td>-9700.699</td>\n",
              "</tr>\n",
              "<tr>\n",
              "  <th>C(federal_district)[T.northwest]</th>       <td>  180.4676</td> <td>  516.585</td> <td>    0.349</td> <td> 0.727</td> <td> -832.045</td> <td> 1192.980</td>\n",
              "</tr>\n",
              "<tr>\n",
              "  <th>C(federal_district)[T.privolzhsky]</th>     <td>-6290.2410</td> <td>  505.393</td> <td>  -12.446</td> <td> 0.000</td> <td>-7280.818</td> <td>-5299.664</td>\n",
              "</tr>\n",
              "<tr>\n",
              "  <th>C(federal_district)[T.siberian]</th>        <td>-1834.3987</td> <td>  591.059</td> <td>   -3.104</td> <td> 0.002</td> <td>-2992.882</td> <td> -675.916</td>\n",
              "</tr>\n",
              "<tr>\n",
              "  <th>C(federal_district)[T.south]</th>           <td>-4629.4388</td> <td>  730.167</td> <td>   -6.340</td> <td> 0.000</td> <td>-6060.575</td> <td>-3198.303</td>\n",
              "</tr>\n",
              "<tr>\n",
              "  <th>C(federal_district)[T.uralsky]</th>         <td>-2701.2816</td> <td>  699.147</td> <td>   -3.864</td> <td> 0.000</td> <td>-4071.617</td> <td>-1330.946</td>\n",
              "</tr>\n",
              "</table>\n",
              "<table class=\"simpletable\">\n",
              "<tr>\n",
              "  <th>Omnibus:</th>       <td>39905.590</td> <th>  Durbin-Watson:     </th>  <td>   1.731</td>  \n",
              "</tr>\n",
              "<tr>\n",
              "  <th>Prob(Omnibus):</th>  <td> 0.000</td>   <th>  Jarque-Bera (JB):  </th> <td>1184562.268</td>\n",
              "</tr>\n",
              "<tr>\n",
              "  <th>Skew:</th>           <td> 3.651</td>   <th>  Prob(JB):          </th>  <td>    0.00</td>  \n",
              "</tr>\n",
              "<tr>\n",
              "  <th>Kurtosis:</th>       <td>25.649</td>   <th>  Cond. No.          </th>  <td>    29.3</td>  \n",
              "</tr>\n",
              "</table><br/><br/>Notes:<br/>[1] Standard Errors assume that the covariance matrix of the errors is correctly specified."
            ]
          },
          "metadata": {},
          "execution_count": 84
        }
      ]
    },
    {
      "cell_type": "markdown",
      "source": [
        "Видим, что один из параметров в графике работы и в одном из округов не значим, убираем весь признак из модели."
      ],
      "metadata": {
        "id": "RUnUuwY0fFcc"
      }
    },
    {
      "cell_type": "code",
      "source": [
        "df01 = pd.concat((stat_df,pd.get_dummies(stat_df.experience_p, prefix='o', prefix_sep='',)),1)\n",
        "\n",
        "resultsm = smf.ols('salary_min ~ C(experience_p)', data=df01).fit()\n",
        "resultsm.summary()"
      ],
      "metadata": {
        "id": "HPWNvI2N1YhY",
        "colab": {
          "base_uri": "https://localhost:8080/",
          "height": 540
        },
        "outputId": "88208c97-8bc0-43e5-a495-50ad793c107f"
      },
      "execution_count": 85,
      "outputs": [
        {
          "output_type": "stream",
          "name": "stderr",
          "text": [
            "<ipython-input-85-fc52f0c345cf>:1: FutureWarning: In a future version of pandas all arguments of concat except for the argument 'objs' will be keyword-only\n",
            "  df01 = pd.concat((stat_df,pd.get_dummies(stat_df.experience_p, prefix='o', prefix_sep='',)),1)\n"
          ]
        },
        {
          "output_type": "execute_result",
          "data": {
            "text/plain": [
              "<class 'statsmodels.iolib.summary.Summary'>\n",
              "\"\"\"\n",
              "                            OLS Regression Results                            \n",
              "==============================================================================\n",
              "Dep. Variable:             salary_min   R-squared:                       0.092\n",
              "Model:                            OLS   Adj. R-squared:                  0.092\n",
              "Method:                 Least Squares   F-statistic:                     1701.\n",
              "Date:                Sat, 21 Jan 2023   Prob (F-statistic):               0.00\n",
              "Time:                        07:59:40   Log-Likelihood:            -6.0147e+05\n",
              "No. Observations:               50202   AIC:                         1.203e+06\n",
              "Df Residuals:                   50198   BIC:                         1.203e+06\n",
              "Df Model:                           3                                         \n",
              "Covariance Type:            nonrobust                                         \n",
              "============================================================================================\n",
              "                               coef    std err          t      P>|t|      [0.025      0.975]\n",
              "--------------------------------------------------------------------------------------------\n",
              "Intercept                 4.257e+04    498.754     85.348      0.000    4.16e+04    4.35e+04\n",
              "C(experience_p)[T.exp_1]  2.174e+04    553.194     39.297      0.000    2.07e+04    2.28e+04\n",
              "C(experience_p)[T.exp_2]  3.788e+04    582.615     65.025      0.000    3.67e+04     3.9e+04\n",
              "C(experience_p)[T.exp_3]  4.776e+04   1070.267     44.621      0.000    4.57e+04    4.99e+04\n",
              "==============================================================================\n",
              "Omnibus:                    40350.671   Durbin-Watson:                   1.718\n",
              "Prob(Omnibus):                  0.000   Jarque-Bera (JB):          1199837.824\n",
              "Skew:                           3.715   Prob(JB):                         0.00\n",
              "Kurtosis:                      25.768   Cond. No.                         8.24\n",
              "==============================================================================\n",
              "\n",
              "Notes:\n",
              "[1] Standard Errors assume that the covariance matrix of the errors is correctly specified.\n",
              "\"\"\""
            ],
            "text/html": [
              "<table class=\"simpletable\">\n",
              "<caption>OLS Regression Results</caption>\n",
              "<tr>\n",
              "  <th>Dep. Variable:</th>       <td>salary_min</td>    <th>  R-squared:         </th>  <td>   0.092</td>  \n",
              "</tr>\n",
              "<tr>\n",
              "  <th>Model:</th>                   <td>OLS</td>       <th>  Adj. R-squared:    </th>  <td>   0.092</td>  \n",
              "</tr>\n",
              "<tr>\n",
              "  <th>Method:</th>             <td>Least Squares</td>  <th>  F-statistic:       </th>  <td>   1701.</td>  \n",
              "</tr>\n",
              "<tr>\n",
              "  <th>Date:</th>             <td>Sat, 21 Jan 2023</td> <th>  Prob (F-statistic):</th>   <td>  0.00</td>   \n",
              "</tr>\n",
              "<tr>\n",
              "  <th>Time:</th>                 <td>07:59:40</td>     <th>  Log-Likelihood:    </th> <td>-6.0147e+05</td>\n",
              "</tr>\n",
              "<tr>\n",
              "  <th>No. Observations:</th>      <td> 50202</td>      <th>  AIC:               </th>  <td>1.203e+06</td> \n",
              "</tr>\n",
              "<tr>\n",
              "  <th>Df Residuals:</th>          <td> 50198</td>      <th>  BIC:               </th>  <td>1.203e+06</td> \n",
              "</tr>\n",
              "<tr>\n",
              "  <th>Df Model:</th>              <td>     3</td>      <th>                     </th>      <td> </td>     \n",
              "</tr>\n",
              "<tr>\n",
              "  <th>Covariance Type:</th>      <td>nonrobust</td>    <th>                     </th>      <td> </td>     \n",
              "</tr>\n",
              "</table>\n",
              "<table class=\"simpletable\">\n",
              "<tr>\n",
              "              <td></td>                <th>coef</th>     <th>std err</th>      <th>t</th>      <th>P>|t|</th>  <th>[0.025</th>    <th>0.975]</th>  \n",
              "</tr>\n",
              "<tr>\n",
              "  <th>Intercept</th>                <td> 4.257e+04</td> <td>  498.754</td> <td>   85.348</td> <td> 0.000</td> <td> 4.16e+04</td> <td> 4.35e+04</td>\n",
              "</tr>\n",
              "<tr>\n",
              "  <th>C(experience_p)[T.exp_1]</th> <td> 2.174e+04</td> <td>  553.194</td> <td>   39.297</td> <td> 0.000</td> <td> 2.07e+04</td> <td> 2.28e+04</td>\n",
              "</tr>\n",
              "<tr>\n",
              "  <th>C(experience_p)[T.exp_2]</th> <td> 3.788e+04</td> <td>  582.615</td> <td>   65.025</td> <td> 0.000</td> <td> 3.67e+04</td> <td>  3.9e+04</td>\n",
              "</tr>\n",
              "<tr>\n",
              "  <th>C(experience_p)[T.exp_3]</th> <td> 4.776e+04</td> <td> 1070.267</td> <td>   44.621</td> <td> 0.000</td> <td> 4.57e+04</td> <td> 4.99e+04</td>\n",
              "</tr>\n",
              "</table>\n",
              "<table class=\"simpletable\">\n",
              "<tr>\n",
              "  <th>Omnibus:</th>       <td>40350.671</td> <th>  Durbin-Watson:     </th>  <td>   1.718</td>  \n",
              "</tr>\n",
              "<tr>\n",
              "  <th>Prob(Omnibus):</th>  <td> 0.000</td>   <th>  Jarque-Bera (JB):  </th> <td>1199837.824</td>\n",
              "</tr>\n",
              "<tr>\n",
              "  <th>Skew:</th>           <td> 3.715</td>   <th>  Prob(JB):          </th>  <td>    0.00</td>  \n",
              "</tr>\n",
              "<tr>\n",
              "  <th>Kurtosis:</th>       <td>25.768</td>   <th>  Cond. No.          </th>  <td>    8.24</td>  \n",
              "</tr>\n",
              "</table><br/><br/>Notes:<br/>[1] Standard Errors assume that the covariance matrix of the errors is correctly specified."
            ]
          },
          "metadata": {},
          "execution_count": 85
        }
      ]
    },
    {
      "cell_type": "markdown",
      "source": [
        "Видим, что p-value говорит о значимости остатков, но данные по тесту Жака-Бера говорят о ненормальности распределения остатков. Значит такая модель ненадежна."
      ],
      "metadata": {
        "id": "BSVkylv-fw2e"
      }
    },
    {
      "cell_type": "markdown",
      "source": [
        "### **Гипотеза Н0:** Владение навыками SQL не влияет на уровень зарплаты Аналитиков."
      ],
      "metadata": {
        "id": "wxIdwyujmvEK"
      }
    },
    {
      "cell_type": "code",
      "source": [
        "name_analyst = stat_df.loc[stat_df['name'] == 'Аналитик']\n",
        "name_analyst['key_skills'][:5]"
      ],
      "metadata": {
        "colab": {
          "base_uri": "https://localhost:8080/"
        },
        "id": "Sg0-Y7lEgCBP",
        "outputId": "92d866ff-9111-4062-cf15-0f6a677f2663"
      },
      "execution_count": 86,
      "outputs": [
        {
          "output_type": "execute_result",
          "data": {
            "text/plain": [
              "256     [Пользователь ПК, MS Excel, 1С: Торговля и склад]\n",
              "695     [MS PowerPoint, Мониторинг СМИ, Социальные сет...\n",
              "705     [Работа с базами данных, Работа в команде, Раб...\n",
              "708     [Работа в команде, Грамотная речь, Анализ рынк...\n",
              "1516    [Работа в команде, Аналитические исследования,...\n",
              "Name: key_skills, dtype: object"
            ]
          },
          "metadata": {},
          "execution_count": 86
        }
      ]
    },
    {
      "cell_type": "code",
      "source": [
        "def sql_key(row):\n",
        "  if 'SQL' in row:\n",
        "    return 1\n",
        "  return 0\n",
        "\n",
        "name_analyst['sql'] = name_analyst['key_skills'].apply(sql_key)\n",
        "name_analyst"
      ],
      "metadata": {
        "colab": {
          "base_uri": "https://localhost:8080/",
          "height": 1000
        },
        "id": "cWZl3YZ3gB-a",
        "outputId": "9f8e916a-d5a8-4fec-94b0-558dad784326"
      },
      "execution_count": 87,
      "outputs": [
        {
          "output_type": "stream",
          "name": "stderr",
          "text": [
            "<ipython-input-87-3c14096f7820>:6: SettingWithCopyWarning: \n",
            "A value is trying to be set on a copy of a slice from a DataFrame.\n",
            "Try using .loc[row_indexer,col_indexer] = value instead\n",
            "\n",
            "See the caveats in the documentation: https://pandas.pydata.org/pandas-docs/stable/user_guide/indexing.html#returning-a-view-versus-a-copy\n",
            "  name_analyst['sql'] = name_analyst['key_skills'].apply(sql_key)\n"
          ]
        },
        {
          "output_type": "execute_result",
          "data": {
            "text/plain": [
              "           name  salary_min  salary_max  \\\n",
              "256    Аналитик     60000.0     90000.0   \n",
              "695    Аналитик     60000.0     90000.0   \n",
              "705    Аналитик     65000.0     85000.0   \n",
              "708    Аналитик     39150.0     90000.0   \n",
              "1516   Аналитик     60000.0     90000.0   \n",
              "...         ...         ...         ...   \n",
              "68060  Аналитик     14000.0     90000.0   \n",
              "68701  Аналитик     45000.0     55000.0   \n",
              "68712  Аналитик     40000.0     90000.0   \n",
              "68720  Аналитик     60000.0     90000.0   \n",
              "69267  Аналитик     26100.0     90000.0   \n",
              "\n",
              "                                                employer  \\\n",
              "256                                Sumitec International   \n",
              "695                                       Диалог Регионы   \n",
              "705                                      Граськова Ирина   \n",
              "708                  Грейн Холдинг, Управляющая компания   \n",
              "1516   ДПО Корпоративный Университет Правительства Ни...   \n",
              "...                                                  ...   \n",
              "68060          Отдел полиции № 9 УМВД России по г. Омску   \n",
              "68701                Крестьянское хозяйство Волкова А.П.   \n",
              "68712                                         СГМК-Трейд   \n",
              "68720                                              ЕВРАЗ   \n",
              "69267  Центр опережающей профессиональной подготовки ...   \n",
              "\n",
              "                      region          schedule          experience  \\\n",
              "256         Хабаровский край       Полный день  От 1 года до 3 лет   \n",
              "695        Рязанская область       Полный день  От 1 года до 3 лет   \n",
              "705        Рязанская область       Полный день  От 1 года до 3 лет   \n",
              "708        Рязанская область       Полный день  От 1 года до 3 лет   \n",
              "1516   Нижегородская область       Полный день  От 1 года до 3 лет   \n",
              "...                      ...               ...                 ...   \n",
              "68060         Омская область       Полный день           Нет опыта   \n",
              "68701    Кемеровская область  Удаленная работа  От 1 года до 3 лет   \n",
              "68712    Кемеровская область       Полный день  От 1 года до 3 лет   \n",
              "68720    Кемеровская область       Полный день  От 1 года до 3 лет   \n",
              "69267       Тульская область       Полный день           Нет опыта   \n",
              "\n",
              "                                              key_skills experience_p  \\\n",
              "256    [Пользователь ПК, MS Excel, 1С: Торговля и склад]        exp_1   \n",
              "695    [MS PowerPoint, Мониторинг СМИ, Социальные сет...        exp_1   \n",
              "705    [Работа с базами данных, Работа в команде, Раб...        exp_1   \n",
              "708    [Работа в команде, Грамотная речь, Анализ рынк...        exp_1   \n",
              "1516   [Работа в команде, Аналитические исследования,...        exp_1   \n",
              "...                                                  ...          ...   \n",
              "68060  [Пользователь ПК, Работа в команде, Грамотная ...        exp_0   \n",
              "68701  [Работа с большим объемом информации, MS Power...        exp_1   \n",
              "68712  [MS PowerPoint, VBA, SQL, Ответственность, Вни...        exp_1   \n",
              "68720  [MS PowerPoint, Проведение презентаций, Делова...        exp_1   \n",
              "69267                                                 []        exp_0   \n",
              "\n",
              "      schedule_p federal_district  sql  \n",
              "256        sch_1      far_eastern    0  \n",
              "695        sch_1          central    0  \n",
              "705        sch_1          central    0  \n",
              "708        sch_1          central    0  \n",
              "1516       sch_1      privolzhsky    0  \n",
              "...          ...              ...  ...  \n",
              "68060      sch_1         siberian    0  \n",
              "68701      sch_0         siberian    0  \n",
              "68712      sch_1         siberian    1  \n",
              "68720      sch_1         siberian    0  \n",
              "69267      sch_1          central    0  \n",
              "\n",
              "[343 rows x 12 columns]"
            ],
            "text/html": [
              "\n",
              "  <div id=\"df-7cda09be-bfc6-4cf4-b3e9-918bf022290a\">\n",
              "    <div class=\"colab-df-container\">\n",
              "      <div>\n",
              "<style scoped>\n",
              "    .dataframe tbody tr th:only-of-type {\n",
              "        vertical-align: middle;\n",
              "    }\n",
              "\n",
              "    .dataframe tbody tr th {\n",
              "        vertical-align: top;\n",
              "    }\n",
              "\n",
              "    .dataframe thead th {\n",
              "        text-align: right;\n",
              "    }\n",
              "</style>\n",
              "<table border=\"1\" class=\"dataframe\">\n",
              "  <thead>\n",
              "    <tr style=\"text-align: right;\">\n",
              "      <th></th>\n",
              "      <th>name</th>\n",
              "      <th>salary_min</th>\n",
              "      <th>salary_max</th>\n",
              "      <th>employer</th>\n",
              "      <th>region</th>\n",
              "      <th>schedule</th>\n",
              "      <th>experience</th>\n",
              "      <th>key_skills</th>\n",
              "      <th>experience_p</th>\n",
              "      <th>schedule_p</th>\n",
              "      <th>federal_district</th>\n",
              "      <th>sql</th>\n",
              "    </tr>\n",
              "  </thead>\n",
              "  <tbody>\n",
              "    <tr>\n",
              "      <th>256</th>\n",
              "      <td>Аналитик</td>\n",
              "      <td>60000.0</td>\n",
              "      <td>90000.0</td>\n",
              "      <td>Sumitec International</td>\n",
              "      <td>Хабаровский край</td>\n",
              "      <td>Полный день</td>\n",
              "      <td>От 1 года до 3 лет</td>\n",
              "      <td>[Пользователь ПК, MS Excel, 1С: Торговля и склад]</td>\n",
              "      <td>exp_1</td>\n",
              "      <td>sch_1</td>\n",
              "      <td>far_eastern</td>\n",
              "      <td>0</td>\n",
              "    </tr>\n",
              "    <tr>\n",
              "      <th>695</th>\n",
              "      <td>Аналитик</td>\n",
              "      <td>60000.0</td>\n",
              "      <td>90000.0</td>\n",
              "      <td>Диалог Регионы</td>\n",
              "      <td>Рязанская область</td>\n",
              "      <td>Полный день</td>\n",
              "      <td>От 1 года до 3 лет</td>\n",
              "      <td>[MS PowerPoint, Мониторинг СМИ, Социальные сет...</td>\n",
              "      <td>exp_1</td>\n",
              "      <td>sch_1</td>\n",
              "      <td>central</td>\n",
              "      <td>0</td>\n",
              "    </tr>\n",
              "    <tr>\n",
              "      <th>705</th>\n",
              "      <td>Аналитик</td>\n",
              "      <td>65000.0</td>\n",
              "      <td>85000.0</td>\n",
              "      <td>Граськова Ирина</td>\n",
              "      <td>Рязанская область</td>\n",
              "      <td>Полный день</td>\n",
              "      <td>От 1 года до 3 лет</td>\n",
              "      <td>[Работа с базами данных, Работа в команде, Раб...</td>\n",
              "      <td>exp_1</td>\n",
              "      <td>sch_1</td>\n",
              "      <td>central</td>\n",
              "      <td>0</td>\n",
              "    </tr>\n",
              "    <tr>\n",
              "      <th>708</th>\n",
              "      <td>Аналитик</td>\n",
              "      <td>39150.0</td>\n",
              "      <td>90000.0</td>\n",
              "      <td>Грейн Холдинг, Управляющая компания</td>\n",
              "      <td>Рязанская область</td>\n",
              "      <td>Полный день</td>\n",
              "      <td>От 1 года до 3 лет</td>\n",
              "      <td>[Работа в команде, Грамотная речь, Анализ рынк...</td>\n",
              "      <td>exp_1</td>\n",
              "      <td>sch_1</td>\n",
              "      <td>central</td>\n",
              "      <td>0</td>\n",
              "    </tr>\n",
              "    <tr>\n",
              "      <th>1516</th>\n",
              "      <td>Аналитик</td>\n",
              "      <td>60000.0</td>\n",
              "      <td>90000.0</td>\n",
              "      <td>ДПО Корпоративный Университет Правительства Ни...</td>\n",
              "      <td>Нижегородская область</td>\n",
              "      <td>Полный день</td>\n",
              "      <td>От 1 года до 3 лет</td>\n",
              "      <td>[Работа в команде, Аналитические исследования,...</td>\n",
              "      <td>exp_1</td>\n",
              "      <td>sch_1</td>\n",
              "      <td>privolzhsky</td>\n",
              "      <td>0</td>\n",
              "    </tr>\n",
              "    <tr>\n",
              "      <th>...</th>\n",
              "      <td>...</td>\n",
              "      <td>...</td>\n",
              "      <td>...</td>\n",
              "      <td>...</td>\n",
              "      <td>...</td>\n",
              "      <td>...</td>\n",
              "      <td>...</td>\n",
              "      <td>...</td>\n",
              "      <td>...</td>\n",
              "      <td>...</td>\n",
              "      <td>...</td>\n",
              "      <td>...</td>\n",
              "    </tr>\n",
              "    <tr>\n",
              "      <th>68060</th>\n",
              "      <td>Аналитик</td>\n",
              "      <td>14000.0</td>\n",
              "      <td>90000.0</td>\n",
              "      <td>Отдел полиции № 9 УМВД России по г. Омску</td>\n",
              "      <td>Омская область</td>\n",
              "      <td>Полный день</td>\n",
              "      <td>Нет опыта</td>\n",
              "      <td>[Пользователь ПК, Работа в команде, Грамотная ...</td>\n",
              "      <td>exp_0</td>\n",
              "      <td>sch_1</td>\n",
              "      <td>siberian</td>\n",
              "      <td>0</td>\n",
              "    </tr>\n",
              "    <tr>\n",
              "      <th>68701</th>\n",
              "      <td>Аналитик</td>\n",
              "      <td>45000.0</td>\n",
              "      <td>55000.0</td>\n",
              "      <td>Крестьянское хозяйство Волкова А.П.</td>\n",
              "      <td>Кемеровская область</td>\n",
              "      <td>Удаленная работа</td>\n",
              "      <td>От 1 года до 3 лет</td>\n",
              "      <td>[Работа с большим объемом информации, MS Power...</td>\n",
              "      <td>exp_1</td>\n",
              "      <td>sch_0</td>\n",
              "      <td>siberian</td>\n",
              "      <td>0</td>\n",
              "    </tr>\n",
              "    <tr>\n",
              "      <th>68712</th>\n",
              "      <td>Аналитик</td>\n",
              "      <td>40000.0</td>\n",
              "      <td>90000.0</td>\n",
              "      <td>СГМК-Трейд</td>\n",
              "      <td>Кемеровская область</td>\n",
              "      <td>Полный день</td>\n",
              "      <td>От 1 года до 3 лет</td>\n",
              "      <td>[MS PowerPoint, VBA, SQL, Ответственность, Вни...</td>\n",
              "      <td>exp_1</td>\n",
              "      <td>sch_1</td>\n",
              "      <td>siberian</td>\n",
              "      <td>1</td>\n",
              "    </tr>\n",
              "    <tr>\n",
              "      <th>68720</th>\n",
              "      <td>Аналитик</td>\n",
              "      <td>60000.0</td>\n",
              "      <td>90000.0</td>\n",
              "      <td>ЕВРАЗ</td>\n",
              "      <td>Кемеровская область</td>\n",
              "      <td>Полный день</td>\n",
              "      <td>От 1 года до 3 лет</td>\n",
              "      <td>[MS PowerPoint, Проведение презентаций, Делова...</td>\n",
              "      <td>exp_1</td>\n",
              "      <td>sch_1</td>\n",
              "      <td>siberian</td>\n",
              "      <td>0</td>\n",
              "    </tr>\n",
              "    <tr>\n",
              "      <th>69267</th>\n",
              "      <td>Аналитик</td>\n",
              "      <td>26100.0</td>\n",
              "      <td>90000.0</td>\n",
              "      <td>Центр опережающей профессиональной подготовки ...</td>\n",
              "      <td>Тульская область</td>\n",
              "      <td>Полный день</td>\n",
              "      <td>Нет опыта</td>\n",
              "      <td>[]</td>\n",
              "      <td>exp_0</td>\n",
              "      <td>sch_1</td>\n",
              "      <td>central</td>\n",
              "      <td>0</td>\n",
              "    </tr>\n",
              "  </tbody>\n",
              "</table>\n",
              "<p>343 rows × 12 columns</p>\n",
              "</div>\n",
              "      <button class=\"colab-df-convert\" onclick=\"convertToInteractive('df-7cda09be-bfc6-4cf4-b3e9-918bf022290a')\"\n",
              "              title=\"Convert this dataframe to an interactive table.\"\n",
              "              style=\"display:none;\">\n",
              "        \n",
              "  <svg xmlns=\"http://www.w3.org/2000/svg\" height=\"24px\"viewBox=\"0 0 24 24\"\n",
              "       width=\"24px\">\n",
              "    <path d=\"M0 0h24v24H0V0z\" fill=\"none\"/>\n",
              "    <path d=\"M18.56 5.44l.94 2.06.94-2.06 2.06-.94-2.06-.94-.94-2.06-.94 2.06-2.06.94zm-11 1L8.5 8.5l.94-2.06 2.06-.94-2.06-.94L8.5 2.5l-.94 2.06-2.06.94zm10 10l.94 2.06.94-2.06 2.06-.94-2.06-.94-.94-2.06-.94 2.06-2.06.94z\"/><path d=\"M17.41 7.96l-1.37-1.37c-.4-.4-.92-.59-1.43-.59-.52 0-1.04.2-1.43.59L10.3 9.45l-7.72 7.72c-.78.78-.78 2.05 0 2.83L4 21.41c.39.39.9.59 1.41.59.51 0 1.02-.2 1.41-.59l7.78-7.78 2.81-2.81c.8-.78.8-2.07 0-2.86zM5.41 20L4 18.59l7.72-7.72 1.47 1.35L5.41 20z\"/>\n",
              "  </svg>\n",
              "      </button>\n",
              "      \n",
              "  <style>\n",
              "    .colab-df-container {\n",
              "      display:flex;\n",
              "      flex-wrap:wrap;\n",
              "      gap: 12px;\n",
              "    }\n",
              "\n",
              "    .colab-df-convert {\n",
              "      background-color: #E8F0FE;\n",
              "      border: none;\n",
              "      border-radius: 50%;\n",
              "      cursor: pointer;\n",
              "      display: none;\n",
              "      fill: #1967D2;\n",
              "      height: 32px;\n",
              "      padding: 0 0 0 0;\n",
              "      width: 32px;\n",
              "    }\n",
              "\n",
              "    .colab-df-convert:hover {\n",
              "      background-color: #E2EBFA;\n",
              "      box-shadow: 0px 1px 2px rgba(60, 64, 67, 0.3), 0px 1px 3px 1px rgba(60, 64, 67, 0.15);\n",
              "      fill: #174EA6;\n",
              "    }\n",
              "\n",
              "    [theme=dark] .colab-df-convert {\n",
              "      background-color: #3B4455;\n",
              "      fill: #D2E3FC;\n",
              "    }\n",
              "\n",
              "    [theme=dark] .colab-df-convert:hover {\n",
              "      background-color: #434B5C;\n",
              "      box-shadow: 0px 1px 3px 1px rgba(0, 0, 0, 0.15);\n",
              "      filter: drop-shadow(0px 1px 2px rgba(0, 0, 0, 0.3));\n",
              "      fill: #FFFFFF;\n",
              "    }\n",
              "  </style>\n",
              "\n",
              "      <script>\n",
              "        const buttonEl =\n",
              "          document.querySelector('#df-7cda09be-bfc6-4cf4-b3e9-918bf022290a button.colab-df-convert');\n",
              "        buttonEl.style.display =\n",
              "          google.colab.kernel.accessAllowed ? 'block' : 'none';\n",
              "\n",
              "        async function convertToInteractive(key) {\n",
              "          const element = document.querySelector('#df-7cda09be-bfc6-4cf4-b3e9-918bf022290a');\n",
              "          const dataTable =\n",
              "            await google.colab.kernel.invokeFunction('convertToInteractive',\n",
              "                                                     [key], {});\n",
              "          if (!dataTable) return;\n",
              "\n",
              "          const docLinkHtml = 'Like what you see? Visit the ' +\n",
              "            '<a target=\"_blank\" href=https://colab.research.google.com/notebooks/data_table.ipynb>data table notebook</a>'\n",
              "            + ' to learn more about interactive tables.';\n",
              "          element.innerHTML = '';\n",
              "          dataTable['output_type'] = 'display_data';\n",
              "          await google.colab.output.renderOutput(dataTable, element);\n",
              "          const docLink = document.createElement('div');\n",
              "          docLink.innerHTML = docLinkHtml;\n",
              "          element.appendChild(docLink);\n",
              "        }\n",
              "      </script>\n",
              "    </div>\n",
              "  </div>\n",
              "  "
            ]
          },
          "metadata": {},
          "execution_count": 87
        }
      ]
    },
    {
      "cell_type": "code",
      "source": [
        "name_analyst.groupby('sql')['salary_min'].mean()"
      ],
      "metadata": {
        "colab": {
          "base_uri": "https://localhost:8080/"
        },
        "id": "7X9AjSzXgB7w",
        "outputId": "f87ff740-165c-4373-d3e9-6796be15da6f"
      },
      "execution_count": 88,
      "outputs": [
        {
          "output_type": "execute_result",
          "data": {
            "text/plain": [
              "sql\n",
              "0    55327.795097\n",
              "1    68153.023256\n",
              "Name: salary_min, dtype: float64"
            ]
          },
          "metadata": {},
          "execution_count": 88
        }
      ]
    },
    {
      "cell_type": "code",
      "source": [
        "n0 = name_analyst[name_analyst['sql'] == 0]\n",
        "n1 = name_analyst[name_analyst['sql'] == 1]\n",
        "scipy.stats.mannwhitneyu(n0['salary_min'], n1['salary_min'])"
      ],
      "metadata": {
        "colab": {
          "base_uri": "https://localhost:8080/"
        },
        "id": "yrguqD63ns5K",
        "outputId": "9413fd03-09e7-47bf-dbe6-44eacf0c9828"
      },
      "execution_count": 89,
      "outputs": [
        {
          "output_type": "execute_result",
          "data": {
            "text/plain": [
              "MannwhitneyuResult(statistic=7812.0, pvalue=2.7767640890806662e-06)"
            ]
          },
          "metadata": {},
          "execution_count": 89
        }
      ]
    },
    {
      "cell_type": "markdown",
      "source": [
        "**Итак,** p-value меньше нашего уровня значимости, значит знание SQL влияет на уровень зарплаты."
      ],
      "metadata": {
        "id": "ETOhidbRqAO8"
      }
    },
    {
      "cell_type": "markdown",
      "source": [
        "### **Н0:** Знание python не влияет на уровень зарплаты Аналитиков."
      ],
      "metadata": {
        "id": "MqfCPDn2qaxu"
      }
    },
    {
      "cell_type": "code",
      "source": [
        "def python_key(row):\n",
        "  if 'Python' in row:\n",
        "    return 1\n",
        "  return 0\n",
        "\n",
        "name_analyst['python'] = name_analyst['key_skills'].apply(python_key)\n",
        "name_analyst"
      ],
      "metadata": {
        "colab": {
          "base_uri": "https://localhost:8080/",
          "height": 1000
        },
        "id": "_WpcYTdNqaI_",
        "outputId": "a39303d2-0545-4e5f-c4bc-7c866b99f152"
      },
      "execution_count": 90,
      "outputs": [
        {
          "output_type": "stream",
          "name": "stderr",
          "text": [
            "<ipython-input-90-e43053d8cd12>:6: SettingWithCopyWarning: \n",
            "A value is trying to be set on a copy of a slice from a DataFrame.\n",
            "Try using .loc[row_indexer,col_indexer] = value instead\n",
            "\n",
            "See the caveats in the documentation: https://pandas.pydata.org/pandas-docs/stable/user_guide/indexing.html#returning-a-view-versus-a-copy\n",
            "  name_analyst['python'] = name_analyst['key_skills'].apply(python_key)\n"
          ]
        },
        {
          "output_type": "execute_result",
          "data": {
            "text/plain": [
              "           name  salary_min  salary_max  \\\n",
              "256    Аналитик     60000.0     90000.0   \n",
              "695    Аналитик     60000.0     90000.0   \n",
              "705    Аналитик     65000.0     85000.0   \n",
              "708    Аналитик     39150.0     90000.0   \n",
              "1516   Аналитик     60000.0     90000.0   \n",
              "...         ...         ...         ...   \n",
              "68060  Аналитик     14000.0     90000.0   \n",
              "68701  Аналитик     45000.0     55000.0   \n",
              "68712  Аналитик     40000.0     90000.0   \n",
              "68720  Аналитик     60000.0     90000.0   \n",
              "69267  Аналитик     26100.0     90000.0   \n",
              "\n",
              "                                                employer  \\\n",
              "256                                Sumitec International   \n",
              "695                                       Диалог Регионы   \n",
              "705                                      Граськова Ирина   \n",
              "708                  Грейн Холдинг, Управляющая компания   \n",
              "1516   ДПО Корпоративный Университет Правительства Ни...   \n",
              "...                                                  ...   \n",
              "68060          Отдел полиции № 9 УМВД России по г. Омску   \n",
              "68701                Крестьянское хозяйство Волкова А.П.   \n",
              "68712                                         СГМК-Трейд   \n",
              "68720                                              ЕВРАЗ   \n",
              "69267  Центр опережающей профессиональной подготовки ...   \n",
              "\n",
              "                      region          schedule          experience  \\\n",
              "256         Хабаровский край       Полный день  От 1 года до 3 лет   \n",
              "695        Рязанская область       Полный день  От 1 года до 3 лет   \n",
              "705        Рязанская область       Полный день  От 1 года до 3 лет   \n",
              "708        Рязанская область       Полный день  От 1 года до 3 лет   \n",
              "1516   Нижегородская область       Полный день  От 1 года до 3 лет   \n",
              "...                      ...               ...                 ...   \n",
              "68060         Омская область       Полный день           Нет опыта   \n",
              "68701    Кемеровская область  Удаленная работа  От 1 года до 3 лет   \n",
              "68712    Кемеровская область       Полный день  От 1 года до 3 лет   \n",
              "68720    Кемеровская область       Полный день  От 1 года до 3 лет   \n",
              "69267       Тульская область       Полный день           Нет опыта   \n",
              "\n",
              "                                              key_skills experience_p  \\\n",
              "256    [Пользователь ПК, MS Excel, 1С: Торговля и склад]        exp_1   \n",
              "695    [MS PowerPoint, Мониторинг СМИ, Социальные сет...        exp_1   \n",
              "705    [Работа с базами данных, Работа в команде, Раб...        exp_1   \n",
              "708    [Работа в команде, Грамотная речь, Анализ рынк...        exp_1   \n",
              "1516   [Работа в команде, Аналитические исследования,...        exp_1   \n",
              "...                                                  ...          ...   \n",
              "68060  [Пользователь ПК, Работа в команде, Грамотная ...        exp_0   \n",
              "68701  [Работа с большим объемом информации, MS Power...        exp_1   \n",
              "68712  [MS PowerPoint, VBA, SQL, Ответственность, Вни...        exp_1   \n",
              "68720  [MS PowerPoint, Проведение презентаций, Делова...        exp_1   \n",
              "69267                                                 []        exp_0   \n",
              "\n",
              "      schedule_p federal_district  sql  python  \n",
              "256        sch_1      far_eastern    0       0  \n",
              "695        sch_1          central    0       0  \n",
              "705        sch_1          central    0       0  \n",
              "708        sch_1          central    0       0  \n",
              "1516       sch_1      privolzhsky    0       0  \n",
              "...          ...              ...  ...     ...  \n",
              "68060      sch_1         siberian    0       0  \n",
              "68701      sch_0         siberian    0       0  \n",
              "68712      sch_1         siberian    1       0  \n",
              "68720      sch_1         siberian    0       0  \n",
              "69267      sch_1          central    0       0  \n",
              "\n",
              "[343 rows x 13 columns]"
            ],
            "text/html": [
              "\n",
              "  <div id=\"df-3aa89742-d9ad-4b64-be4c-1fa240f62f39\">\n",
              "    <div class=\"colab-df-container\">\n",
              "      <div>\n",
              "<style scoped>\n",
              "    .dataframe tbody tr th:only-of-type {\n",
              "        vertical-align: middle;\n",
              "    }\n",
              "\n",
              "    .dataframe tbody tr th {\n",
              "        vertical-align: top;\n",
              "    }\n",
              "\n",
              "    .dataframe thead th {\n",
              "        text-align: right;\n",
              "    }\n",
              "</style>\n",
              "<table border=\"1\" class=\"dataframe\">\n",
              "  <thead>\n",
              "    <tr style=\"text-align: right;\">\n",
              "      <th></th>\n",
              "      <th>name</th>\n",
              "      <th>salary_min</th>\n",
              "      <th>salary_max</th>\n",
              "      <th>employer</th>\n",
              "      <th>region</th>\n",
              "      <th>schedule</th>\n",
              "      <th>experience</th>\n",
              "      <th>key_skills</th>\n",
              "      <th>experience_p</th>\n",
              "      <th>schedule_p</th>\n",
              "      <th>federal_district</th>\n",
              "      <th>sql</th>\n",
              "      <th>python</th>\n",
              "    </tr>\n",
              "  </thead>\n",
              "  <tbody>\n",
              "    <tr>\n",
              "      <th>256</th>\n",
              "      <td>Аналитик</td>\n",
              "      <td>60000.0</td>\n",
              "      <td>90000.0</td>\n",
              "      <td>Sumitec International</td>\n",
              "      <td>Хабаровский край</td>\n",
              "      <td>Полный день</td>\n",
              "      <td>От 1 года до 3 лет</td>\n",
              "      <td>[Пользователь ПК, MS Excel, 1С: Торговля и склад]</td>\n",
              "      <td>exp_1</td>\n",
              "      <td>sch_1</td>\n",
              "      <td>far_eastern</td>\n",
              "      <td>0</td>\n",
              "      <td>0</td>\n",
              "    </tr>\n",
              "    <tr>\n",
              "      <th>695</th>\n",
              "      <td>Аналитик</td>\n",
              "      <td>60000.0</td>\n",
              "      <td>90000.0</td>\n",
              "      <td>Диалог Регионы</td>\n",
              "      <td>Рязанская область</td>\n",
              "      <td>Полный день</td>\n",
              "      <td>От 1 года до 3 лет</td>\n",
              "      <td>[MS PowerPoint, Мониторинг СМИ, Социальные сет...</td>\n",
              "      <td>exp_1</td>\n",
              "      <td>sch_1</td>\n",
              "      <td>central</td>\n",
              "      <td>0</td>\n",
              "      <td>0</td>\n",
              "    </tr>\n",
              "    <tr>\n",
              "      <th>705</th>\n",
              "      <td>Аналитик</td>\n",
              "      <td>65000.0</td>\n",
              "      <td>85000.0</td>\n",
              "      <td>Граськова Ирина</td>\n",
              "      <td>Рязанская область</td>\n",
              "      <td>Полный день</td>\n",
              "      <td>От 1 года до 3 лет</td>\n",
              "      <td>[Работа с базами данных, Работа в команде, Раб...</td>\n",
              "      <td>exp_1</td>\n",
              "      <td>sch_1</td>\n",
              "      <td>central</td>\n",
              "      <td>0</td>\n",
              "      <td>0</td>\n",
              "    </tr>\n",
              "    <tr>\n",
              "      <th>708</th>\n",
              "      <td>Аналитик</td>\n",
              "      <td>39150.0</td>\n",
              "      <td>90000.0</td>\n",
              "      <td>Грейн Холдинг, Управляющая компания</td>\n",
              "      <td>Рязанская область</td>\n",
              "      <td>Полный день</td>\n",
              "      <td>От 1 года до 3 лет</td>\n",
              "      <td>[Работа в команде, Грамотная речь, Анализ рынк...</td>\n",
              "      <td>exp_1</td>\n",
              "      <td>sch_1</td>\n",
              "      <td>central</td>\n",
              "      <td>0</td>\n",
              "      <td>0</td>\n",
              "    </tr>\n",
              "    <tr>\n",
              "      <th>1516</th>\n",
              "      <td>Аналитик</td>\n",
              "      <td>60000.0</td>\n",
              "      <td>90000.0</td>\n",
              "      <td>ДПО Корпоративный Университет Правительства Ни...</td>\n",
              "      <td>Нижегородская область</td>\n",
              "      <td>Полный день</td>\n",
              "      <td>От 1 года до 3 лет</td>\n",
              "      <td>[Работа в команде, Аналитические исследования,...</td>\n",
              "      <td>exp_1</td>\n",
              "      <td>sch_1</td>\n",
              "      <td>privolzhsky</td>\n",
              "      <td>0</td>\n",
              "      <td>0</td>\n",
              "    </tr>\n",
              "    <tr>\n",
              "      <th>...</th>\n",
              "      <td>...</td>\n",
              "      <td>...</td>\n",
              "      <td>...</td>\n",
              "      <td>...</td>\n",
              "      <td>...</td>\n",
              "      <td>...</td>\n",
              "      <td>...</td>\n",
              "      <td>...</td>\n",
              "      <td>...</td>\n",
              "      <td>...</td>\n",
              "      <td>...</td>\n",
              "      <td>...</td>\n",
              "      <td>...</td>\n",
              "    </tr>\n",
              "    <tr>\n",
              "      <th>68060</th>\n",
              "      <td>Аналитик</td>\n",
              "      <td>14000.0</td>\n",
              "      <td>90000.0</td>\n",
              "      <td>Отдел полиции № 9 УМВД России по г. Омску</td>\n",
              "      <td>Омская область</td>\n",
              "      <td>Полный день</td>\n",
              "      <td>Нет опыта</td>\n",
              "      <td>[Пользователь ПК, Работа в команде, Грамотная ...</td>\n",
              "      <td>exp_0</td>\n",
              "      <td>sch_1</td>\n",
              "      <td>siberian</td>\n",
              "      <td>0</td>\n",
              "      <td>0</td>\n",
              "    </tr>\n",
              "    <tr>\n",
              "      <th>68701</th>\n",
              "      <td>Аналитик</td>\n",
              "      <td>45000.0</td>\n",
              "      <td>55000.0</td>\n",
              "      <td>Крестьянское хозяйство Волкова А.П.</td>\n",
              "      <td>Кемеровская область</td>\n",
              "      <td>Удаленная работа</td>\n",
              "      <td>От 1 года до 3 лет</td>\n",
              "      <td>[Работа с большим объемом информации, MS Power...</td>\n",
              "      <td>exp_1</td>\n",
              "      <td>sch_0</td>\n",
              "      <td>siberian</td>\n",
              "      <td>0</td>\n",
              "      <td>0</td>\n",
              "    </tr>\n",
              "    <tr>\n",
              "      <th>68712</th>\n",
              "      <td>Аналитик</td>\n",
              "      <td>40000.0</td>\n",
              "      <td>90000.0</td>\n",
              "      <td>СГМК-Трейд</td>\n",
              "      <td>Кемеровская область</td>\n",
              "      <td>Полный день</td>\n",
              "      <td>От 1 года до 3 лет</td>\n",
              "      <td>[MS PowerPoint, VBA, SQL, Ответственность, Вни...</td>\n",
              "      <td>exp_1</td>\n",
              "      <td>sch_1</td>\n",
              "      <td>siberian</td>\n",
              "      <td>1</td>\n",
              "      <td>0</td>\n",
              "    </tr>\n",
              "    <tr>\n",
              "      <th>68720</th>\n",
              "      <td>Аналитик</td>\n",
              "      <td>60000.0</td>\n",
              "      <td>90000.0</td>\n",
              "      <td>ЕВРАЗ</td>\n",
              "      <td>Кемеровская область</td>\n",
              "      <td>Полный день</td>\n",
              "      <td>От 1 года до 3 лет</td>\n",
              "      <td>[MS PowerPoint, Проведение презентаций, Делова...</td>\n",
              "      <td>exp_1</td>\n",
              "      <td>sch_1</td>\n",
              "      <td>siberian</td>\n",
              "      <td>0</td>\n",
              "      <td>0</td>\n",
              "    </tr>\n",
              "    <tr>\n",
              "      <th>69267</th>\n",
              "      <td>Аналитик</td>\n",
              "      <td>26100.0</td>\n",
              "      <td>90000.0</td>\n",
              "      <td>Центр опережающей профессиональной подготовки ...</td>\n",
              "      <td>Тульская область</td>\n",
              "      <td>Полный день</td>\n",
              "      <td>Нет опыта</td>\n",
              "      <td>[]</td>\n",
              "      <td>exp_0</td>\n",
              "      <td>sch_1</td>\n",
              "      <td>central</td>\n",
              "      <td>0</td>\n",
              "      <td>0</td>\n",
              "    </tr>\n",
              "  </tbody>\n",
              "</table>\n",
              "<p>343 rows × 13 columns</p>\n",
              "</div>\n",
              "      <button class=\"colab-df-convert\" onclick=\"convertToInteractive('df-3aa89742-d9ad-4b64-be4c-1fa240f62f39')\"\n",
              "              title=\"Convert this dataframe to an interactive table.\"\n",
              "              style=\"display:none;\">\n",
              "        \n",
              "  <svg xmlns=\"http://www.w3.org/2000/svg\" height=\"24px\"viewBox=\"0 0 24 24\"\n",
              "       width=\"24px\">\n",
              "    <path d=\"M0 0h24v24H0V0z\" fill=\"none\"/>\n",
              "    <path d=\"M18.56 5.44l.94 2.06.94-2.06 2.06-.94-2.06-.94-.94-2.06-.94 2.06-2.06.94zm-11 1L8.5 8.5l.94-2.06 2.06-.94-2.06-.94L8.5 2.5l-.94 2.06-2.06.94zm10 10l.94 2.06.94-2.06 2.06-.94-2.06-.94-.94-2.06-.94 2.06-2.06.94z\"/><path d=\"M17.41 7.96l-1.37-1.37c-.4-.4-.92-.59-1.43-.59-.52 0-1.04.2-1.43.59L10.3 9.45l-7.72 7.72c-.78.78-.78 2.05 0 2.83L4 21.41c.39.39.9.59 1.41.59.51 0 1.02-.2 1.41-.59l7.78-7.78 2.81-2.81c.8-.78.8-2.07 0-2.86zM5.41 20L4 18.59l7.72-7.72 1.47 1.35L5.41 20z\"/>\n",
              "  </svg>\n",
              "      </button>\n",
              "      \n",
              "  <style>\n",
              "    .colab-df-container {\n",
              "      display:flex;\n",
              "      flex-wrap:wrap;\n",
              "      gap: 12px;\n",
              "    }\n",
              "\n",
              "    .colab-df-convert {\n",
              "      background-color: #E8F0FE;\n",
              "      border: none;\n",
              "      border-radius: 50%;\n",
              "      cursor: pointer;\n",
              "      display: none;\n",
              "      fill: #1967D2;\n",
              "      height: 32px;\n",
              "      padding: 0 0 0 0;\n",
              "      width: 32px;\n",
              "    }\n",
              "\n",
              "    .colab-df-convert:hover {\n",
              "      background-color: #E2EBFA;\n",
              "      box-shadow: 0px 1px 2px rgba(60, 64, 67, 0.3), 0px 1px 3px 1px rgba(60, 64, 67, 0.15);\n",
              "      fill: #174EA6;\n",
              "    }\n",
              "\n",
              "    [theme=dark] .colab-df-convert {\n",
              "      background-color: #3B4455;\n",
              "      fill: #D2E3FC;\n",
              "    }\n",
              "\n",
              "    [theme=dark] .colab-df-convert:hover {\n",
              "      background-color: #434B5C;\n",
              "      box-shadow: 0px 1px 3px 1px rgba(0, 0, 0, 0.15);\n",
              "      filter: drop-shadow(0px 1px 2px rgba(0, 0, 0, 0.3));\n",
              "      fill: #FFFFFF;\n",
              "    }\n",
              "  </style>\n",
              "\n",
              "      <script>\n",
              "        const buttonEl =\n",
              "          document.querySelector('#df-3aa89742-d9ad-4b64-be4c-1fa240f62f39 button.colab-df-convert');\n",
              "        buttonEl.style.display =\n",
              "          google.colab.kernel.accessAllowed ? 'block' : 'none';\n",
              "\n",
              "        async function convertToInteractive(key) {\n",
              "          const element = document.querySelector('#df-3aa89742-d9ad-4b64-be4c-1fa240f62f39');\n",
              "          const dataTable =\n",
              "            await google.colab.kernel.invokeFunction('convertToInteractive',\n",
              "                                                     [key], {});\n",
              "          if (!dataTable) return;\n",
              "\n",
              "          const docLinkHtml = 'Like what you see? Visit the ' +\n",
              "            '<a target=\"_blank\" href=https://colab.research.google.com/notebooks/data_table.ipynb>data table notebook</a>'\n",
              "            + ' to learn more about interactive tables.';\n",
              "          element.innerHTML = '';\n",
              "          dataTable['output_type'] = 'display_data';\n",
              "          await google.colab.output.renderOutput(dataTable, element);\n",
              "          const docLink = document.createElement('div');\n",
              "          docLink.innerHTML = docLinkHtml;\n",
              "          element.appendChild(docLink);\n",
              "        }\n",
              "      </script>\n",
              "    </div>\n",
              "  </div>\n",
              "  "
            ]
          },
          "metadata": {},
          "execution_count": 90
        }
      ]
    },
    {
      "cell_type": "code",
      "source": [
        "name_analyst.groupby('python')['salary_min'].mean()"
      ],
      "metadata": {
        "colab": {
          "base_uri": "https://localhost:8080/"
        },
        "id": "iiMJVP8kqaGJ",
        "outputId": "953c11c7-013b-4044-eef6-07ed6edbb6b4"
      },
      "execution_count": 91,
      "outputs": [
        {
          "output_type": "execute_result",
          "data": {
            "text/plain": [
              "python\n",
              "0    58129.032618\n",
              "1    63596.153846\n",
              "Name: salary_min, dtype: float64"
            ]
          },
          "metadata": {},
          "execution_count": 91
        }
      ]
    },
    {
      "cell_type": "code",
      "source": [
        "n0 = name_analyst[name_analyst['python'] == 0]\n",
        "n1 = name_analyst[name_analyst['python'] == 1]\n",
        "scipy.stats.mannwhitneyu(n0['salary_min'], n1['salary_min'])"
      ],
      "metadata": {
        "colab": {
          "base_uri": "https://localhost:8080/"
        },
        "id": "6XJAO_76qaDG",
        "outputId": "80e06164-fd29-447d-9def-6d99c2ad695f"
      },
      "execution_count": 92,
      "outputs": [
        {
          "output_type": "execute_result",
          "data": {
            "text/plain": [
              "MannwhitneyuResult(statistic=3345.0, pvalue=0.06608927569679994)"
            ]
          },
          "metadata": {},
          "execution_count": 92
        }
      ]
    },
    {
      "cell_type": "markdown",
      "source": [
        "**Итак,** p-value больше нашего уровня значимости, значит делаем вывод, что знание Pythona не влияет на уровень зарплаты."
      ],
      "metadata": {
        "id": "oq_ZHp4lsGpx"
      }
    },
    {
      "cell_type": "markdown",
      "source": [
        "## Вывод"
      ],
      "metadata": {
        "id": "Rrsws4Ffd5ah"
      }
    },
    {
      "cell_type": "markdown",
      "source": [
        "Итак,\n",
        "* график работы влияет на уровень зарплаты. Самая высокооплачиваемая работа с удаленным графиком работы, следущее по значимости - вахтовый метод.\n",
        "* из графика видно, что больше всего вакансий на полный рабочий день.\n",
        "* опыт работы влияет на уровень зарплаты, чем больше опыт, тем больше зарплата.\n",
        "* для аналитиков знание SQL увеличивает уровень зарплаты, а вот знание Python не влияет на уровень дохода."
      ],
      "metadata": {
        "id": "oXH3VgJEsXc0"
      }
    }
  ]
}