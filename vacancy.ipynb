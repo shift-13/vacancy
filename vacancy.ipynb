{
  "nbformat": 4,
  "nbformat_minor": 0,
  "metadata": {
    "colab": {
      "provenance": [],
      "authorship_tag": "ABX9TyPBiQofaXCvmhc53wNHO4+r"
    },
    "kernelspec": {
      "name": "python3",
      "display_name": "Python 3"
    },
    "language_info": {
      "name": "python"
    }
  },
  "cells": [
    {
      "cell_type": "markdown",
      "source": [
        "# **Разведочный анализ данных (EDA)**"
      ],
      "metadata": {
        "id": "pjLFRX6aV-XZ"
      }
    },
    {
      "cell_type": "markdown",
      "source": [
        "## 1. Загрузка и изучение датасета"
      ],
      "metadata": {
        "id": "IUHoGu_7Zda9"
      }
    },
    {
      "cell_type": "markdown",
      "source": [
        "Импорт библиотек."
      ],
      "metadata": {
        "id": "-OaTORE4iEaB"
      }
    },
    {
      "cell_type": "code",
      "source": [
        "%matplotlib inline\n",
        "import numpy as np\n",
        "import pandas as pd\n",
        "import ast\n",
        "import re\n",
        "import json\n",
        "\n",
        "import matplotlib.pyplot as plt\n",
        "import seaborn as sns\n",
        "\n",
        "import scipy\n",
        "import scipy.stats as stats\n",
        "\n",
        "import sklearn.linear_model as lm\n",
        "\n",
        "import statsmodels.api as sm\n",
        "import statsmodels.formula.api as smf"
      ],
      "metadata": {
        "id": "qoLkYESAiJVk"
      },
      "execution_count": 292,
      "outputs": []
    },
    {
      "cell_type": "code",
      "execution_count": 217,
      "metadata": {
        "colab": {
          "base_uri": "https://localhost:8080/"
        },
        "id": "vGJLZFQ0B-3A",
        "outputId": "99a1f910-225f-40be-adda-9bec5cc76b45"
      },
      "outputs": [
        {
          "output_type": "stream",
          "name": "stdout",
          "text": [
            "/usr/local/lib/python3.9/dist-packages/gdown/cli.py:127: FutureWarning: Option `--id` was deprecated in version 4.3.1 and will be removed in 5.0. You don't need to pass it anymore to use a file ID.\n",
            "  warnings.warn(\n",
            "Downloading...\n",
            "From: https://drive.google.com/uc?id=1929efzygq1eTd9qoXZo12CgG09sEIv2c\n",
            "To: /content/region roles (26.05.22).xlsx\n",
            "100% 84.4M/84.4M [00:00<00:00, 239MB/s]\n"
          ]
        }
      ],
      "source": [
        "!gdown --id 1929efzygq1eTd9qoXZo12CgG09sEIv2c\n",
        "\n",
        "row_df = pd.read_excel('region roles (26.05.22).xlsx')"
      ]
    },
    {
      "cell_type": "code",
      "source": [
        "row_df.head()"
      ],
      "metadata": {
        "id": "myUTWCZX3WHT",
        "outputId": "8f015e39-599d-47ed-9515-ced61da8a42a",
        "colab": {
          "base_uri": "https://localhost:8080/",
          "height": 681
        }
      },
      "execution_count": 218,
      "outputs": [
        {
          "output_type": "execute_result",
          "data": {
            "text/plain": [
              "   Unnamed: 0        id  premium  \\\n",
              "0           0  49059633    False   \n",
              "1           1  54653519    False   \n",
              "2           2  55116066    False   \n",
              "3           3  54031261    False   \n",
              "4           4  55243040    False   \n",
              "\n",
              "                                               name  \\\n",
              "0           Младший специалист ручного тестирования   \n",
              "1                                   Тестировщик.Net   \n",
              "2                                         Пентестер   \n",
              "3  Ведущий Специалист по информационным технологиям   \n",
              "4                   Специалист по защите информации   \n",
              "\n",
              "                                          department  has_test  \\\n",
              "0                                                NaN     False   \n",
              "1                                                NaN     False   \n",
              "2                                                NaN     False   \n",
              "3  {'id': 'pochta-4352-office', 'name': '«Почта Р...     False   \n",
              "4                                                NaN     False   \n",
              "\n",
              "   response_letter_required  \\\n",
              "0                     False   \n",
              "1                     False   \n",
              "2                     False   \n",
              "3                     False   \n",
              "4                     False   \n",
              "\n",
              "                                                area  \\\n",
              "0  {'id': '15', 'name': 'Астрахань', 'url': 'http...   \n",
              "1  {'id': '15', 'name': 'Астрахань', 'url': 'http...   \n",
              "2  {'id': '15', 'name': 'Астрахань', 'url': 'http...   \n",
              "3  {'id': '15', 'name': 'Астрахань', 'url': 'http...   \n",
              "4  {'id': '15', 'name': 'Астрахань', 'url': 'http...   \n",
              "\n",
              "                                              salary  \\\n",
              "0                                                NaN   \n",
              "1  {'from': 25000, 'to': 50000, 'currency': 'RUR'...   \n",
              "2                                                NaN   \n",
              "3  {'from': 26000, 'to': None, 'currency': 'RUR',...   \n",
              "4  {'from': 20000, 'to': 20000, 'currency': 'RUR'...   \n",
              "\n",
              "                                 type  ... working_days  \\\n",
              "0  {'id': 'open', 'name': 'Открытая'}  ...           []   \n",
              "1  {'id': 'open', 'name': 'Открытая'}  ...           []   \n",
              "2  {'id': 'open', 'name': 'Открытая'}  ...           []   \n",
              "3  {'id': 'open', 'name': 'Открытая'}  ...           []   \n",
              "4  {'id': 'open', 'name': 'Открытая'}  ...           []   \n",
              "\n",
              "  working_time_intervals  working_time_modes accept_temporary  \\\n",
              "0                     []                  []            False   \n",
              "1                     []                  []            False   \n",
              "2                     []                  []            False   \n",
              "3                     []                  []            False   \n",
              "4                     []                  []            False   \n",
              "\n",
              "                                         description  \\\n",
              "0  <p>В некоторых проектах Яндексу помогают компа...   \n",
              "1  <p><em><strong>Мы ищем талантливого и амбициоз...   \n",
              "2  <p>Лидер на рынке систем информационной безопа...   \n",
              "3  <ul> <li>Администрирование компьютерной сети</...   \n",
              "4  <strong>Обязанности:</strong> <ul> <li>Обеспеч...   \n",
              "\n",
              "                                          experience  \\\n",
              "0        {'id': 'noExperience', 'name': 'Нет опыта'}   \n",
              "1  {'id': 'between1And3', 'name': 'От 1 года до 3...   \n",
              "2    {'id': 'between3And6', 'name': 'От 3 до 6 лет'}   \n",
              "3        {'id': 'noExperience', 'name': 'Нет опыта'}   \n",
              "4        {'id': 'noExperience', 'name': 'Нет опыта'}   \n",
              "\n",
              "                                          key_skills  \\\n",
              "0                                                 []   \n",
              "1  [{'name': 'Git'}, {'name': 'SQL'}, {'name': 'Т...   \n",
              "2  [{'name': 'SQL'}, {'name': 'Linux'}, {'name': ...   \n",
              "3  [{'name': 'Пользователь ПК'}, {'name': 'Работа...   \n",
              "4  [{'name': 'MS Dos'}, {'name': 'Диагностика ПК'...   \n",
              "\n",
              "                                     specializations                region  \\\n",
              "0  [{'id': '1.172', 'name': 'Начальный уровень, М...  Астраханская область   \n",
              "1  [{'id': '1.221', 'name': 'Программирование, Ра...  Астраханская область   \n",
              "2  [{'id': '1.221', 'name': 'Программирование, Ра...  Астраханская область   \n",
              "3  [{'id': '1.110', 'name': 'Компьютерная безопас...  Астраханская область   \n",
              "4  [{'id': '1.110', 'name': 'Компьютерная безопас...  Астраханская область   \n",
              "\n",
              "  immediate_redirect_url  \n",
              "0                    NaN  \n",
              "1                    NaN  \n",
              "2                    NaN  \n",
              "3                    NaN  \n",
              "4                    NaN  \n",
              "\n",
              "[5 rows x 34 columns]"
            ],
            "text/html": [
              "\n",
              "  <div id=\"df-987ee51c-4e3b-4f28-a7a8-352f1d2a7dc0\">\n",
              "    <div class=\"colab-df-container\">\n",
              "      <div>\n",
              "<style scoped>\n",
              "    .dataframe tbody tr th:only-of-type {\n",
              "        vertical-align: middle;\n",
              "    }\n",
              "\n",
              "    .dataframe tbody tr th {\n",
              "        vertical-align: top;\n",
              "    }\n",
              "\n",
              "    .dataframe thead th {\n",
              "        text-align: right;\n",
              "    }\n",
              "</style>\n",
              "<table border=\"1\" class=\"dataframe\">\n",
              "  <thead>\n",
              "    <tr style=\"text-align: right;\">\n",
              "      <th></th>\n",
              "      <th>Unnamed: 0</th>\n",
              "      <th>id</th>\n",
              "      <th>premium</th>\n",
              "      <th>name</th>\n",
              "      <th>department</th>\n",
              "      <th>has_test</th>\n",
              "      <th>response_letter_required</th>\n",
              "      <th>area</th>\n",
              "      <th>salary</th>\n",
              "      <th>type</th>\n",
              "      <th>...</th>\n",
              "      <th>working_days</th>\n",
              "      <th>working_time_intervals</th>\n",
              "      <th>working_time_modes</th>\n",
              "      <th>accept_temporary</th>\n",
              "      <th>description</th>\n",
              "      <th>experience</th>\n",
              "      <th>key_skills</th>\n",
              "      <th>specializations</th>\n",
              "      <th>region</th>\n",
              "      <th>immediate_redirect_url</th>\n",
              "    </tr>\n",
              "  </thead>\n",
              "  <tbody>\n",
              "    <tr>\n",
              "      <th>0</th>\n",
              "      <td>0</td>\n",
              "      <td>49059633</td>\n",
              "      <td>False</td>\n",
              "      <td>Младший специалист ручного тестирования</td>\n",
              "      <td>NaN</td>\n",
              "      <td>False</td>\n",
              "      <td>False</td>\n",
              "      <td>{'id': '15', 'name': 'Астрахань', 'url': 'http...</td>\n",
              "      <td>NaN</td>\n",
              "      <td>{'id': 'open', 'name': 'Открытая'}</td>\n",
              "      <td>...</td>\n",
              "      <td>[]</td>\n",
              "      <td>[]</td>\n",
              "      <td>[]</td>\n",
              "      <td>False</td>\n",
              "      <td>&lt;p&gt;В некоторых проектах Яндексу помогают компа...</td>\n",
              "      <td>{'id': 'noExperience', 'name': 'Нет опыта'}</td>\n",
              "      <td>[]</td>\n",
              "      <td>[{'id': '1.172', 'name': 'Начальный уровень, М...</td>\n",
              "      <td>Астраханская область</td>\n",
              "      <td>NaN</td>\n",
              "    </tr>\n",
              "    <tr>\n",
              "      <th>1</th>\n",
              "      <td>1</td>\n",
              "      <td>54653519</td>\n",
              "      <td>False</td>\n",
              "      <td>Тестировщик.Net</td>\n",
              "      <td>NaN</td>\n",
              "      <td>False</td>\n",
              "      <td>False</td>\n",
              "      <td>{'id': '15', 'name': 'Астрахань', 'url': 'http...</td>\n",
              "      <td>{'from': 25000, 'to': 50000, 'currency': 'RUR'...</td>\n",
              "      <td>{'id': 'open', 'name': 'Открытая'}</td>\n",
              "      <td>...</td>\n",
              "      <td>[]</td>\n",
              "      <td>[]</td>\n",
              "      <td>[]</td>\n",
              "      <td>False</td>\n",
              "      <td>&lt;p&gt;&lt;em&gt;&lt;strong&gt;Мы ищем талантливого и амбициоз...</td>\n",
              "      <td>{'id': 'between1And3', 'name': 'От 1 года до 3...</td>\n",
              "      <td>[{'name': 'Git'}, {'name': 'SQL'}, {'name': 'Т...</td>\n",
              "      <td>[{'id': '1.221', 'name': 'Программирование, Ра...</td>\n",
              "      <td>Астраханская область</td>\n",
              "      <td>NaN</td>\n",
              "    </tr>\n",
              "    <tr>\n",
              "      <th>2</th>\n",
              "      <td>2</td>\n",
              "      <td>55116066</td>\n",
              "      <td>False</td>\n",
              "      <td>Пентестер</td>\n",
              "      <td>NaN</td>\n",
              "      <td>False</td>\n",
              "      <td>False</td>\n",
              "      <td>{'id': '15', 'name': 'Астрахань', 'url': 'http...</td>\n",
              "      <td>NaN</td>\n",
              "      <td>{'id': 'open', 'name': 'Открытая'}</td>\n",
              "      <td>...</td>\n",
              "      <td>[]</td>\n",
              "      <td>[]</td>\n",
              "      <td>[]</td>\n",
              "      <td>False</td>\n",
              "      <td>&lt;p&gt;Лидер на рынке систем информационной безопа...</td>\n",
              "      <td>{'id': 'between3And6', 'name': 'От 3 до 6 лет'}</td>\n",
              "      <td>[{'name': 'SQL'}, {'name': 'Linux'}, {'name': ...</td>\n",
              "      <td>[{'id': '1.221', 'name': 'Программирование, Ра...</td>\n",
              "      <td>Астраханская область</td>\n",
              "      <td>NaN</td>\n",
              "    </tr>\n",
              "    <tr>\n",
              "      <th>3</th>\n",
              "      <td>3</td>\n",
              "      <td>54031261</td>\n",
              "      <td>False</td>\n",
              "      <td>Ведущий Специалист по информационным технологиям</td>\n",
              "      <td>{'id': 'pochta-4352-office', 'name': '«Почта Р...</td>\n",
              "      <td>False</td>\n",
              "      <td>False</td>\n",
              "      <td>{'id': '15', 'name': 'Астрахань', 'url': 'http...</td>\n",
              "      <td>{'from': 26000, 'to': None, 'currency': 'RUR',...</td>\n",
              "      <td>{'id': 'open', 'name': 'Открытая'}</td>\n",
              "      <td>...</td>\n",
              "      <td>[]</td>\n",
              "      <td>[]</td>\n",
              "      <td>[]</td>\n",
              "      <td>False</td>\n",
              "      <td>&lt;ul&gt; &lt;li&gt;Администрирование компьютерной сети&lt;/...</td>\n",
              "      <td>{'id': 'noExperience', 'name': 'Нет опыта'}</td>\n",
              "      <td>[{'name': 'Пользователь ПК'}, {'name': 'Работа...</td>\n",
              "      <td>[{'id': '1.110', 'name': 'Компьютерная безопас...</td>\n",
              "      <td>Астраханская область</td>\n",
              "      <td>NaN</td>\n",
              "    </tr>\n",
              "    <tr>\n",
              "      <th>4</th>\n",
              "      <td>4</td>\n",
              "      <td>55243040</td>\n",
              "      <td>False</td>\n",
              "      <td>Специалист по защите информации</td>\n",
              "      <td>NaN</td>\n",
              "      <td>False</td>\n",
              "      <td>False</td>\n",
              "      <td>{'id': '15', 'name': 'Астрахань', 'url': 'http...</td>\n",
              "      <td>{'from': 20000, 'to': 20000, 'currency': 'RUR'...</td>\n",
              "      <td>{'id': 'open', 'name': 'Открытая'}</td>\n",
              "      <td>...</td>\n",
              "      <td>[]</td>\n",
              "      <td>[]</td>\n",
              "      <td>[]</td>\n",
              "      <td>False</td>\n",
              "      <td>&lt;strong&gt;Обязанности:&lt;/strong&gt; &lt;ul&gt; &lt;li&gt;Обеспеч...</td>\n",
              "      <td>{'id': 'noExperience', 'name': 'Нет опыта'}</td>\n",
              "      <td>[{'name': 'MS Dos'}, {'name': 'Диагностика ПК'...</td>\n",
              "      <td>[{'id': '1.110', 'name': 'Компьютерная безопас...</td>\n",
              "      <td>Астраханская область</td>\n",
              "      <td>NaN</td>\n",
              "    </tr>\n",
              "  </tbody>\n",
              "</table>\n",
              "<p>5 rows × 34 columns</p>\n",
              "</div>\n",
              "      <button class=\"colab-df-convert\" onclick=\"convertToInteractive('df-987ee51c-4e3b-4f28-a7a8-352f1d2a7dc0')\"\n",
              "              title=\"Convert this dataframe to an interactive table.\"\n",
              "              style=\"display:none;\">\n",
              "        \n",
              "  <svg xmlns=\"http://www.w3.org/2000/svg\" height=\"24px\"viewBox=\"0 0 24 24\"\n",
              "       width=\"24px\">\n",
              "    <path d=\"M0 0h24v24H0V0z\" fill=\"none\"/>\n",
              "    <path d=\"M18.56 5.44l.94 2.06.94-2.06 2.06-.94-2.06-.94-.94-2.06-.94 2.06-2.06.94zm-11 1L8.5 8.5l.94-2.06 2.06-.94-2.06-.94L8.5 2.5l-.94 2.06-2.06.94zm10 10l.94 2.06.94-2.06 2.06-.94-2.06-.94-.94-2.06-.94 2.06-2.06.94z\"/><path d=\"M17.41 7.96l-1.37-1.37c-.4-.4-.92-.59-1.43-.59-.52 0-1.04.2-1.43.59L10.3 9.45l-7.72 7.72c-.78.78-.78 2.05 0 2.83L4 21.41c.39.39.9.59 1.41.59.51 0 1.02-.2 1.41-.59l7.78-7.78 2.81-2.81c.8-.78.8-2.07 0-2.86zM5.41 20L4 18.59l7.72-7.72 1.47 1.35L5.41 20z\"/>\n",
              "  </svg>\n",
              "      </button>\n",
              "      \n",
              "  <style>\n",
              "    .colab-df-container {\n",
              "      display:flex;\n",
              "      flex-wrap:wrap;\n",
              "      gap: 12px;\n",
              "    }\n",
              "\n",
              "    .colab-df-convert {\n",
              "      background-color: #E8F0FE;\n",
              "      border: none;\n",
              "      border-radius: 50%;\n",
              "      cursor: pointer;\n",
              "      display: none;\n",
              "      fill: #1967D2;\n",
              "      height: 32px;\n",
              "      padding: 0 0 0 0;\n",
              "      width: 32px;\n",
              "    }\n",
              "\n",
              "    .colab-df-convert:hover {\n",
              "      background-color: #E2EBFA;\n",
              "      box-shadow: 0px 1px 2px rgba(60, 64, 67, 0.3), 0px 1px 3px 1px rgba(60, 64, 67, 0.15);\n",
              "      fill: #174EA6;\n",
              "    }\n",
              "\n",
              "    [theme=dark] .colab-df-convert {\n",
              "      background-color: #3B4455;\n",
              "      fill: #D2E3FC;\n",
              "    }\n",
              "\n",
              "    [theme=dark] .colab-df-convert:hover {\n",
              "      background-color: #434B5C;\n",
              "      box-shadow: 0px 1px 3px 1px rgba(0, 0, 0, 0.15);\n",
              "      filter: drop-shadow(0px 1px 2px rgba(0, 0, 0, 0.3));\n",
              "      fill: #FFFFFF;\n",
              "    }\n",
              "  </style>\n",
              "\n",
              "      <script>\n",
              "        const buttonEl =\n",
              "          document.querySelector('#df-987ee51c-4e3b-4f28-a7a8-352f1d2a7dc0 button.colab-df-convert');\n",
              "        buttonEl.style.display =\n",
              "          google.colab.kernel.accessAllowed ? 'block' : 'none';\n",
              "\n",
              "        async function convertToInteractive(key) {\n",
              "          const element = document.querySelector('#df-987ee51c-4e3b-4f28-a7a8-352f1d2a7dc0');\n",
              "          const dataTable =\n",
              "            await google.colab.kernel.invokeFunction('convertToInteractive',\n",
              "                                                     [key], {});\n",
              "          if (!dataTable) return;\n",
              "\n",
              "          const docLinkHtml = 'Like what you see? Visit the ' +\n",
              "            '<a target=\"_blank\" href=https://colab.research.google.com/notebooks/data_table.ipynb>data table notebook</a>'\n",
              "            + ' to learn more about interactive tables.';\n",
              "          element.innerHTML = '';\n",
              "          dataTable['output_type'] = 'display_data';\n",
              "          await google.colab.output.renderOutput(dataTable, element);\n",
              "          const docLink = document.createElement('div');\n",
              "          docLink.innerHTML = docLinkHtml;\n",
              "          element.appendChild(docLink);\n",
              "        }\n",
              "      </script>\n",
              "    </div>\n",
              "  </div>\n",
              "  "
            ]
          },
          "metadata": {},
          "execution_count": 218
        }
      ]
    },
    {
      "cell_type": "code",
      "source": [
        "row_df.info()"
      ],
      "metadata": {
        "colab": {
          "base_uri": "https://localhost:8080/"
        },
        "id": "vsjvboGgJ2kA",
        "outputId": "e66523e7-6c55-4129-df76-0ff9472664f0"
      },
      "execution_count": 219,
      "outputs": [
        {
          "output_type": "stream",
          "name": "stdout",
          "text": [
            "<class 'pandas.core.frame.DataFrame'>\n",
            "RangeIndex: 69656 entries, 0 to 69655\n",
            "Data columns (total 34 columns):\n",
            " #   Column                    Non-Null Count  Dtype  \n",
            "---  ------                    --------------  -----  \n",
            " 0   Unnamed: 0                69656 non-null  int64  \n",
            " 1   id                        69656 non-null  int64  \n",
            " 2   premium                   69656 non-null  bool   \n",
            " 3   name                      69656 non-null  object \n",
            " 4   department                5263 non-null   object \n",
            " 5   has_test                  69656 non-null  bool   \n",
            " 6   response_letter_required  69656 non-null  bool   \n",
            " 7   area                      69656 non-null  object \n",
            " 8   salary                    37590 non-null  object \n",
            " 9   type                      69656 non-null  object \n",
            " 10  address                   40318 non-null  object \n",
            " 11  response_url              1 non-null      object \n",
            " 12  sort_point_distance       0 non-null      float64\n",
            " 13  published_at              69656 non-null  object \n",
            " 14  created_at                69656 non-null  object \n",
            " 15  archived                  69656 non-null  bool   \n",
            " 16  insider_interview         522 non-null    object \n",
            " 17  url                       69656 non-null  object \n",
            " 18  alternate_url             69656 non-null  object \n",
            " 19  relations                 69656 non-null  object \n",
            " 20  employer                  69656 non-null  object \n",
            " 21  snippet                   69656 non-null  object \n",
            " 22  contacts                  35114 non-null  object \n",
            " 23  schedule                  69656 non-null  object \n",
            " 24  working_days              69656 non-null  object \n",
            " 25  working_time_intervals    69656 non-null  object \n",
            " 26  working_time_modes        69656 non-null  object \n",
            " 27  accept_temporary          69656 non-null  bool   \n",
            " 28  description               69656 non-null  object \n",
            " 29  experience                69656 non-null  object \n",
            " 30  key_skills                69656 non-null  object \n",
            " 31  specializations           69656 non-null  object \n",
            " 32  region                    69656 non-null  object \n",
            " 33  immediate_redirect_url    1 non-null      object \n",
            "dtypes: bool(5), float64(1), int64(2), object(26)\n",
            "memory usage: 15.7+ MB\n"
          ]
        }
      ]
    },
    {
      "cell_type": "markdown",
      "source": [
        "В датасете 69656 записей, 34 колонки.\n",
        "Записи по типам: логического типа 5, вещественного типа 1, целого типа 2, типа объект 26(в том числе и зарплата).\n",
        "Также в датасете есть практические нулевые записи(response_url, sort_point_distance, immediate_redirect_url) и insider_interview 552 ненулевых значений, которые не важны для нашего анализа.\n",
        "Также есть пустые строки в ячейках отдела, зарплаты, адреса и контактов."
      ],
      "metadata": {
        "id": "5N-OLzXPKOCy"
      }
    },
    {
      "cell_type": "markdown",
      "source": [
        "## 2. Выбор колонок для анализа."
      ],
      "metadata": {
        "id": "MOfwCA2BFes0"
      }
    },
    {
      "cell_type": "markdown",
      "source": [
        "Для анализа нам нужны:\n",
        "* id\n",
        "* название вакансии (name)\n",
        "* зарплата (salary)\n",
        "* работодатель (employer)\n",
        "* график работы (schedule)\n",
        "* опыт работы (experience)\n",
        "* ключевые навыки(key_skills)\n",
        "* специализация(specializations)\n",
        "* регион (region)\n",
        "\n",
        "\n",
        "\n",
        "\n"
      ],
      "metadata": {
        "id": "A7QDBdhvV_Im"
      }
    },
    {
      "cell_type": "markdown",
      "source": [
        "Посмотрим наличие явных дубликатов и удалим их."
      ],
      "metadata": {
        "id": "5iWzeH2zVrDn"
      }
    },
    {
      "cell_type": "code",
      "source": [
        "row_df['id'].duplicated().sum()"
      ],
      "metadata": {
        "colab": {
          "base_uri": "https://localhost:8080/"
        },
        "id": "GTnR-HFGV0lq",
        "outputId": "e38e977f-0095-477b-dfdc-ada2fdc71045"
      },
      "execution_count": 220,
      "outputs": [
        {
          "output_type": "execute_result",
          "data": {
            "text/plain": [
              "233"
            ]
          },
          "metadata": {},
          "execution_count": 220
        }
      ]
    },
    {
      "cell_type": "code",
      "source": [
        "row_df = row_df.drop_duplicates(subset='id')"
      ],
      "metadata": {
        "id": "fqoNbhYTUD6H"
      },
      "execution_count": 221,
      "outputs": []
    },
    {
      "cell_type": "code",
      "source": [
        "row_df['id'].duplicated().sum()"
      ],
      "metadata": {
        "colab": {
          "base_uri": "https://localhost:8080/"
        },
        "id": "2hzuz4ptUhAE",
        "outputId": "08a16200-5627-4b16-89cf-a4863b9e2ee8"
      },
      "execution_count": 222,
      "outputs": [
        {
          "output_type": "execute_result",
          "data": {
            "text/plain": [
              "0"
            ]
          },
          "metadata": {},
          "execution_count": 222
        }
      ]
    },
    {
      "cell_type": "markdown",
      "source": [
        "## 3. Обработка необходимых колонок"
      ],
      "metadata": {
        "id": "Lm1UOUbudwLS"
      }
    },
    {
      "cell_type": "markdown",
      "source": [
        "### Специализация (`specializations`)"
      ],
      "metadata": {
        "id": "m_sQhQl_ev7Y"
      }
    },
    {
      "cell_type": "markdown",
      "source": [
        "Нас интересуют информационные технологии. Перобразуем колонку специализации в тип list и отфильтруем весь датасет по интересующей нас специализации."
      ],
      "metadata": {
        "id": "Vhs__kvTZ57N"
      }
    },
    {
      "cell_type": "code",
      "source": [
        "row_df['specializations']"
      ],
      "metadata": {
        "colab": {
          "base_uri": "https://localhost:8080/"
        },
        "id": "tclvL4dqaRFZ",
        "outputId": "2c082bd9-7752-4bfb-adf3-71fb480079d4"
      },
      "execution_count": 223,
      "outputs": [
        {
          "output_type": "execute_result",
          "data": {
            "text/plain": [
              "0        [{'id': '1.172', 'name': 'Начальный уровень, М...\n",
              "1        [{'id': '1.221', 'name': 'Программирование, Ра...\n",
              "2        [{'id': '1.221', 'name': 'Программирование, Ра...\n",
              "3        [{'id': '1.110', 'name': 'Компьютерная безопас...\n",
              "4        [{'id': '1.110', 'name': 'Компьютерная безопас...\n",
              "                               ...                        \n",
              "69651    [{'id': '1.221', 'name': 'Программирование, Ра...\n",
              "69652    [{'id': '1.221', 'name': 'Программирование, Ра...\n",
              "69653    [{'id': '9.94', 'name': 'Информационные технол...\n",
              "69654    [{'id': '9.94', 'name': 'Информационные технол...\n",
              "69655    [{'id': '9.94', 'name': 'Информационные технол...\n",
              "Name: specializations, Length: 69423, dtype: object"
            ]
          },
          "metadata": {},
          "execution_count": 223
        }
      ]
    },
    {
      "cell_type": "markdown",
      "source": [
        "Функция для нахождения названия специализации."
      ],
      "metadata": {
        "id": "42mDzbxgRsSg"
      }
    },
    {
      "cell_type": "code",
      "source": [
        "def find_btw(s, first, last, x=None):\n",
        "  ss = s.replace(\"'\", \"\")\n",
        "  pattern = f'{first}(.*?){last}'\n",
        "  out = [] if ss == '[{}]' else re.findall(pattern, ss)\n",
        "  if out and x:\n",
        "    return out[0]\n",
        "  return out"
      ],
      "metadata": {
        "id": "0VeVdNPdG46Y"
      },
      "execution_count": 224,
      "outputs": []
    },
    {
      "cell_type": "code",
      "source": [
        "df_it = row_df.copy()\n",
        "df_it['specializations'] = [find_btw(x, 'profarea_name: ', '}') for x in row_df['specializations']]"
      ],
      "metadata": {
        "id": "f4myR5DpQSg9"
      },
      "execution_count": 225,
      "outputs": []
    },
    {
      "cell_type": "code",
      "source": [
        "df_it['specializations']"
      ],
      "metadata": {
        "colab": {
          "base_uri": "https://localhost:8080/"
        },
        "id": "igsechtZRHU9",
        "outputId": "8fad4fad-4003-4fef-d4d9-6a3a9533c007"
      },
      "execution_count": 226,
      "outputs": [
        {
          "output_type": "execute_result",
          "data": {
            "text/plain": [
              "0        [Информационные технологии, интернет, телеком,...\n",
              "1        [Информационные технологии, интернет, телеком,...\n",
              "2        [Информационные технологии, интернет, телеком,...\n",
              "3        [Информационные технологии, интернет, телеком,...\n",
              "4        [Информационные технологии, интернет, телеком,...\n",
              "                               ...                        \n",
              "69651    [Информационные технологии, интернет, телеком,...\n",
              "69652    [Информационные технологии, интернет, телеком,...\n",
              "69653    [Высший менеджмент, Информационные технологии,...\n",
              "69654    [Высший менеджмент, Информационные технологии,...\n",
              "69655    [Высший менеджмент, Информационные технологии,...\n",
              "Name: specializations, Length: 69423, dtype: object"
            ]
          },
          "metadata": {},
          "execution_count": 226
        }
      ]
    },
    {
      "cell_type": "code",
      "source": [
        "filter = ['Информационные технологии, интернет, телеком' in x for x in df_it['specializations']]"
      ],
      "metadata": {
        "id": "tR1X3nQJWJZf"
      },
      "execution_count": 227,
      "outputs": []
    },
    {
      "cell_type": "code",
      "source": [
        "df_it = df_it[filter]"
      ],
      "metadata": {
        "id": "87cvycolWpyv"
      },
      "execution_count": 228,
      "outputs": []
    },
    {
      "cell_type": "code",
      "source": [
        "df_it.info()"
      ],
      "metadata": {
        "colab": {
          "base_uri": "https://localhost:8080/"
        },
        "id": "ZbeMvKzhW8CZ",
        "outputId": "a8cb52a6-4251-4b6e-df1f-c9fbf03fce1c"
      },
      "execution_count": 229,
      "outputs": [
        {
          "output_type": "stream",
          "name": "stdout",
          "text": [
            "<class 'pandas.core.frame.DataFrame'>\n",
            "Int64Index: 50202 entries, 0 to 69655\n",
            "Data columns (total 34 columns):\n",
            " #   Column                    Non-Null Count  Dtype  \n",
            "---  ------                    --------------  -----  \n",
            " 0   Unnamed: 0                50202 non-null  int64  \n",
            " 1   id                        50202 non-null  int64  \n",
            " 2   premium                   50202 non-null  bool   \n",
            " 3   name                      50202 non-null  object \n",
            " 4   department                4467 non-null   object \n",
            " 5   has_test                  50202 non-null  bool   \n",
            " 6   response_letter_required  50202 non-null  bool   \n",
            " 7   area                      50202 non-null  object \n",
            " 8   salary                    22650 non-null  object \n",
            " 9   type                      50202 non-null  object \n",
            " 10  address                   26801 non-null  object \n",
            " 11  response_url              0 non-null      object \n",
            " 12  sort_point_distance       0 non-null      float64\n",
            " 13  published_at              50202 non-null  object \n",
            " 14  created_at                50202 non-null  object \n",
            " 15  archived                  50202 non-null  bool   \n",
            " 16  insider_interview         430 non-null    object \n",
            " 17  url                       50202 non-null  object \n",
            " 18  alternate_url             50202 non-null  object \n",
            " 19  relations                 50202 non-null  object \n",
            " 20  employer                  50202 non-null  object \n",
            " 21  snippet                   50202 non-null  object \n",
            " 22  contacts                  22309 non-null  object \n",
            " 23  schedule                  50202 non-null  object \n",
            " 24  working_days              50202 non-null  object \n",
            " 25  working_time_intervals    50202 non-null  object \n",
            " 26  working_time_modes        50202 non-null  object \n",
            " 27  accept_temporary          50202 non-null  bool   \n",
            " 28  description               50202 non-null  object \n",
            " 29  experience                50202 non-null  object \n",
            " 30  key_skills                50202 non-null  object \n",
            " 31  specializations           50202 non-null  object \n",
            " 32  region                    50202 non-null  object \n",
            " 33  immediate_redirect_url    0 non-null      object \n",
            "dtypes: bool(5), float64(1), int64(2), object(26)\n",
            "memory usage: 11.7+ MB\n"
          ]
        }
      ]
    },
    {
      "cell_type": "markdown",
      "source": [
        "### Ключевые навыки (`key_skills`)"
      ],
      "metadata": {
        "id": "ROqOexpff2G1"
      }
    },
    {
      "cell_type": "markdown",
      "source": [
        "Аналогично преобразуем колонку с ключевыми навыками."
      ],
      "metadata": {
        "id": "iC-kohP2eAFZ"
      }
    },
    {
      "cell_type": "code",
      "source": [
        "df_it['key_skills']"
      ],
      "metadata": {
        "colab": {
          "base_uri": "https://localhost:8080/"
        },
        "id": "hmH8G3tud_ma",
        "outputId": "283c2c25-0223-46ca-e411-a8efe4632933"
      },
      "execution_count": 230,
      "outputs": [
        {
          "output_type": "execute_result",
          "data": {
            "text/plain": [
              "0                                                       []\n",
              "1        [{'name': 'Git'}, {'name': 'SQL'}, {'name': 'Т...\n",
              "2        [{'name': 'SQL'}, {'name': 'Linux'}, {'name': ...\n",
              "3        [{'name': 'Пользователь ПК'}, {'name': 'Работа...\n",
              "4        [{'name': 'MS Dos'}, {'name': 'Диагностика ПК'...\n",
              "                               ...                        \n",
              "69651                                                   []\n",
              "69652    [{'name': '1С: Управление Торговлей'}, {'name'...\n",
              "69653    [{'name': 'Организаторские навыки'}, {'name': ...\n",
              "69654                                                   []\n",
              "69655    [{'name': 'Информационная безопасность'}, {'na...\n",
              "Name: key_skills, Length: 50202, dtype: object"
            ]
          },
          "metadata": {},
          "execution_count": 230
        }
      ]
    },
    {
      "cell_type": "code",
      "source": [
        "key_skills = df_it[['key_skills']].copy()"
      ],
      "metadata": {
        "id": "VlNtd83ugWwy"
      },
      "execution_count": 231,
      "outputs": []
    },
    {
      "cell_type": "code",
      "source": [
        "key_skills.loc[:, 'key_skills_list'] = [find_btw(x, 'name: ', '}') for x in df_it['key_skills']]\n",
        "key_skills"
      ],
      "metadata": {
        "colab": {
          "base_uri": "https://localhost:8080/",
          "height": 423
        },
        "id": "QfOFzZEBgHZR",
        "outputId": "d8df4dcc-02d9-4aac-a886-4b38b1f81ae0"
      },
      "execution_count": 232,
      "outputs": [
        {
          "output_type": "execute_result",
          "data": {
            "text/plain": [
              "                                              key_skills  \\\n",
              "0                                                     []   \n",
              "1      [{'name': 'Git'}, {'name': 'SQL'}, {'name': 'Т...   \n",
              "2      [{'name': 'SQL'}, {'name': 'Linux'}, {'name': ...   \n",
              "3      [{'name': 'Пользователь ПК'}, {'name': 'Работа...   \n",
              "4      [{'name': 'MS Dos'}, {'name': 'Диагностика ПК'...   \n",
              "...                                                  ...   \n",
              "69651                                                 []   \n",
              "69652  [{'name': '1С: Управление Торговлей'}, {'name'...   \n",
              "69653  [{'name': 'Организаторские навыки'}, {'name': ...   \n",
              "69654                                                 []   \n",
              "69655  [{'name': 'Информационная безопасность'}, {'na...   \n",
              "\n",
              "                                         key_skills_list  \n",
              "0                                                     []  \n",
              "1                      [Git, SQL, Тестирование, C#, API]  \n",
              "2      [SQL, Linux, Информационная безопасность, Рабо...  \n",
              "3      [Пользователь ПК, Работа в команде, 1С: Предпр...  \n",
              "4      [MS Dos, Диагностика ПК, Компьютер, Работа в у...  \n",
              "...                                                  ...  \n",
              "69651                                                 []  \n",
              "69652  [1С: Управление Торговлей, 1С: Предприятие 8, ...  \n",
              "69653  [Организаторские навыки, Работа в команде, Упр...  \n",
              "69654                                                 []  \n",
              "69655  [Информационная безопасность, Аудит безопаснос...  \n",
              "\n",
              "[50202 rows x 2 columns]"
            ],
            "text/html": [
              "\n",
              "  <div id=\"df-bc503708-6a9b-4c16-8ac2-2b5eb3412c8f\">\n",
              "    <div class=\"colab-df-container\">\n",
              "      <div>\n",
              "<style scoped>\n",
              "    .dataframe tbody tr th:only-of-type {\n",
              "        vertical-align: middle;\n",
              "    }\n",
              "\n",
              "    .dataframe tbody tr th {\n",
              "        vertical-align: top;\n",
              "    }\n",
              "\n",
              "    .dataframe thead th {\n",
              "        text-align: right;\n",
              "    }\n",
              "</style>\n",
              "<table border=\"1\" class=\"dataframe\">\n",
              "  <thead>\n",
              "    <tr style=\"text-align: right;\">\n",
              "      <th></th>\n",
              "      <th>key_skills</th>\n",
              "      <th>key_skills_list</th>\n",
              "    </tr>\n",
              "  </thead>\n",
              "  <tbody>\n",
              "    <tr>\n",
              "      <th>0</th>\n",
              "      <td>[]</td>\n",
              "      <td>[]</td>\n",
              "    </tr>\n",
              "    <tr>\n",
              "      <th>1</th>\n",
              "      <td>[{'name': 'Git'}, {'name': 'SQL'}, {'name': 'Т...</td>\n",
              "      <td>[Git, SQL, Тестирование, C#, API]</td>\n",
              "    </tr>\n",
              "    <tr>\n",
              "      <th>2</th>\n",
              "      <td>[{'name': 'SQL'}, {'name': 'Linux'}, {'name': ...</td>\n",
              "      <td>[SQL, Linux, Информационная безопасность, Рабо...</td>\n",
              "    </tr>\n",
              "    <tr>\n",
              "      <th>3</th>\n",
              "      <td>[{'name': 'Пользователь ПК'}, {'name': 'Работа...</td>\n",
              "      <td>[Пользователь ПК, Работа в команде, 1С: Предпр...</td>\n",
              "    </tr>\n",
              "    <tr>\n",
              "      <th>4</th>\n",
              "      <td>[{'name': 'MS Dos'}, {'name': 'Диагностика ПК'...</td>\n",
              "      <td>[MS Dos, Диагностика ПК, Компьютер, Работа в у...</td>\n",
              "    </tr>\n",
              "    <tr>\n",
              "      <th>...</th>\n",
              "      <td>...</td>\n",
              "      <td>...</td>\n",
              "    </tr>\n",
              "    <tr>\n",
              "      <th>69651</th>\n",
              "      <td>[]</td>\n",
              "      <td>[]</td>\n",
              "    </tr>\n",
              "    <tr>\n",
              "      <th>69652</th>\n",
              "      <td>[{'name': '1С: Управление Торговлей'}, {'name'...</td>\n",
              "      <td>[1С: Управление Торговлей, 1С: Предприятие 8, ...</td>\n",
              "    </tr>\n",
              "    <tr>\n",
              "      <th>69653</th>\n",
              "      <td>[{'name': 'Организаторские навыки'}, {'name': ...</td>\n",
              "      <td>[Организаторские навыки, Работа в команде, Упр...</td>\n",
              "    </tr>\n",
              "    <tr>\n",
              "      <th>69654</th>\n",
              "      <td>[]</td>\n",
              "      <td>[]</td>\n",
              "    </tr>\n",
              "    <tr>\n",
              "      <th>69655</th>\n",
              "      <td>[{'name': 'Информационная безопасность'}, {'na...</td>\n",
              "      <td>[Информационная безопасность, Аудит безопаснос...</td>\n",
              "    </tr>\n",
              "  </tbody>\n",
              "</table>\n",
              "<p>50202 rows × 2 columns</p>\n",
              "</div>\n",
              "      <button class=\"colab-df-convert\" onclick=\"convertToInteractive('df-bc503708-6a9b-4c16-8ac2-2b5eb3412c8f')\"\n",
              "              title=\"Convert this dataframe to an interactive table.\"\n",
              "              style=\"display:none;\">\n",
              "        \n",
              "  <svg xmlns=\"http://www.w3.org/2000/svg\" height=\"24px\"viewBox=\"0 0 24 24\"\n",
              "       width=\"24px\">\n",
              "    <path d=\"M0 0h24v24H0V0z\" fill=\"none\"/>\n",
              "    <path d=\"M18.56 5.44l.94 2.06.94-2.06 2.06-.94-2.06-.94-.94-2.06-.94 2.06-2.06.94zm-11 1L8.5 8.5l.94-2.06 2.06-.94-2.06-.94L8.5 2.5l-.94 2.06-2.06.94zm10 10l.94 2.06.94-2.06 2.06-.94-2.06-.94-.94-2.06-.94 2.06-2.06.94z\"/><path d=\"M17.41 7.96l-1.37-1.37c-.4-.4-.92-.59-1.43-.59-.52 0-1.04.2-1.43.59L10.3 9.45l-7.72 7.72c-.78.78-.78 2.05 0 2.83L4 21.41c.39.39.9.59 1.41.59.51 0 1.02-.2 1.41-.59l7.78-7.78 2.81-2.81c.8-.78.8-2.07 0-2.86zM5.41 20L4 18.59l7.72-7.72 1.47 1.35L5.41 20z\"/>\n",
              "  </svg>\n",
              "      </button>\n",
              "      \n",
              "  <style>\n",
              "    .colab-df-container {\n",
              "      display:flex;\n",
              "      flex-wrap:wrap;\n",
              "      gap: 12px;\n",
              "    }\n",
              "\n",
              "    .colab-df-convert {\n",
              "      background-color: #E8F0FE;\n",
              "      border: none;\n",
              "      border-radius: 50%;\n",
              "      cursor: pointer;\n",
              "      display: none;\n",
              "      fill: #1967D2;\n",
              "      height: 32px;\n",
              "      padding: 0 0 0 0;\n",
              "      width: 32px;\n",
              "    }\n",
              "\n",
              "    .colab-df-convert:hover {\n",
              "      background-color: #E2EBFA;\n",
              "      box-shadow: 0px 1px 2px rgba(60, 64, 67, 0.3), 0px 1px 3px 1px rgba(60, 64, 67, 0.15);\n",
              "      fill: #174EA6;\n",
              "    }\n",
              "\n",
              "    [theme=dark] .colab-df-convert {\n",
              "      background-color: #3B4455;\n",
              "      fill: #D2E3FC;\n",
              "    }\n",
              "\n",
              "    [theme=dark] .colab-df-convert:hover {\n",
              "      background-color: #434B5C;\n",
              "      box-shadow: 0px 1px 3px 1px rgba(0, 0, 0, 0.15);\n",
              "      filter: drop-shadow(0px 1px 2px rgba(0, 0, 0, 0.3));\n",
              "      fill: #FFFFFF;\n",
              "    }\n",
              "  </style>\n",
              "\n",
              "      <script>\n",
              "        const buttonEl =\n",
              "          document.querySelector('#df-bc503708-6a9b-4c16-8ac2-2b5eb3412c8f button.colab-df-convert');\n",
              "        buttonEl.style.display =\n",
              "          google.colab.kernel.accessAllowed ? 'block' : 'none';\n",
              "\n",
              "        async function convertToInteractive(key) {\n",
              "          const element = document.querySelector('#df-bc503708-6a9b-4c16-8ac2-2b5eb3412c8f');\n",
              "          const dataTable =\n",
              "            await google.colab.kernel.invokeFunction('convertToInteractive',\n",
              "                                                     [key], {});\n",
              "          if (!dataTable) return;\n",
              "\n",
              "          const docLinkHtml = 'Like what you see? Visit the ' +\n",
              "            '<a target=\"_blank\" href=https://colab.research.google.com/notebooks/data_table.ipynb>data table notebook</a>'\n",
              "            + ' to learn more about interactive tables.';\n",
              "          element.innerHTML = '';\n",
              "          dataTable['output_type'] = 'display_data';\n",
              "          await google.colab.output.renderOutput(dataTable, element);\n",
              "          const docLink = document.createElement('div');\n",
              "          docLink.innerHTML = docLinkHtml;\n",
              "          element.appendChild(docLink);\n",
              "        }\n",
              "      </script>\n",
              "    </div>\n",
              "  </div>\n",
              "  "
            ]
          },
          "metadata": {},
          "execution_count": 232
        }
      ]
    },
    {
      "cell_type": "code",
      "source": [
        "key_skills_r = key_skills[['key_skills_list']].copy()"
      ],
      "metadata": {
        "id": "Qi1ZCLizXDG7"
      },
      "execution_count": 233,
      "outputs": []
    },
    {
      "cell_type": "markdown",
      "source": [
        "### Зарплата (`salary`)"
      ],
      "metadata": {
        "id": "FwOP5jXJBKi3"
      }
    },
    {
      "cell_type": "code",
      "source": [
        "df_it['salary']"
      ],
      "metadata": {
        "colab": {
          "base_uri": "https://localhost:8080/"
        },
        "id": "8y-jSjb6MqKs",
        "outputId": "8f83e809-378f-4fc1-89a2-a1afd2aa6214"
      },
      "execution_count": 234,
      "outputs": [
        {
          "output_type": "execute_result",
          "data": {
            "text/plain": [
              "0                                                      NaN\n",
              "1        {'from': 25000, 'to': 50000, 'currency': 'RUR'...\n",
              "2                                                      NaN\n",
              "3        {'from': 26000, 'to': None, 'currency': 'RUR',...\n",
              "4        {'from': 20000, 'to': 20000, 'currency': 'RUR'...\n",
              "                               ...                        \n",
              "69651                                                  NaN\n",
              "69652    {'from': 130000, 'to': None, 'currency': 'RUR'...\n",
              "69653    {'from': 50000, 'to': None, 'currency': 'RUR',...\n",
              "69654    {'from': 85000, 'to': None, 'currency': 'RUR',...\n",
              "69655                                                  NaN\n",
              "Name: salary, Length: 50202, dtype: object"
            ]
          },
          "metadata": {},
          "execution_count": 234
        }
      ]
    },
    {
      "cell_type": "markdown",
      "source": [
        "Создадим колонки с зарплатой \"от\" и \"до\", столбец с валютой, а также ставку НДФЛ."
      ],
      "metadata": {
        "id": "Z-klpxaSUOvQ"
      }
    },
    {
      "cell_type": "code",
      "source": [
        "salary_row = df_it[['salary']].copy()\n",
        "salary_row['salary'] = salary_row['salary'].fillna('{}')\n",
        "salary_row['wage'] = [ast.literal_eval(x) for x in salary_row['salary']]"
      ],
      "metadata": {
        "id": "PG0cc6_tL-nc"
      },
      "execution_count": 235,
      "outputs": []
    },
    {
      "cell_type": "code",
      "source": [
        "salary = pd.DataFrame.from_records(salary_row['wage'].values, salary_row['wage'].index)"
      ],
      "metadata": {
        "id": "zQJmHfr8OSVC"
      },
      "execution_count": 236,
      "outputs": []
    },
    {
      "cell_type": "code",
      "source": [
        "salary.columns = list(map('salary_'.__add__, salary.columns))"
      ],
      "metadata": {
        "id": "uGRBG8ssOSHW"
      },
      "execution_count": 237,
      "outputs": []
    },
    {
      "cell_type": "code",
      "source": [
        "salary"
      ],
      "metadata": {
        "id": "fYO3Y6PTRZRJ",
        "outputId": "9e63a922-b91c-4499-eeba-90a89add6c89",
        "colab": {
          "base_uri": "https://localhost:8080/",
          "height": 423
        }
      },
      "execution_count": 238,
      "outputs": [
        {
          "output_type": "execute_result",
          "data": {
            "text/plain": [
              "       salary_from  salary_to salary_currency salary_gross\n",
              "0              NaN        NaN             NaN          NaN\n",
              "1          25000.0    50000.0             RUR         True\n",
              "2              NaN        NaN             NaN          NaN\n",
              "3          26000.0        NaN             RUR         True\n",
              "4          20000.0    20000.0             RUR        False\n",
              "...            ...        ...             ...          ...\n",
              "69651          NaN        NaN             NaN          NaN\n",
              "69652     130000.0        NaN             RUR        False\n",
              "69653      50000.0        NaN             RUR        False\n",
              "69654      85000.0        NaN             RUR        False\n",
              "69655          NaN        NaN             NaN          NaN\n",
              "\n",
              "[50202 rows x 4 columns]"
            ],
            "text/html": [
              "\n",
              "  <div id=\"df-4a59ee19-0108-4bc1-828c-5b73a5519ea2\">\n",
              "    <div class=\"colab-df-container\">\n",
              "      <div>\n",
              "<style scoped>\n",
              "    .dataframe tbody tr th:only-of-type {\n",
              "        vertical-align: middle;\n",
              "    }\n",
              "\n",
              "    .dataframe tbody tr th {\n",
              "        vertical-align: top;\n",
              "    }\n",
              "\n",
              "    .dataframe thead th {\n",
              "        text-align: right;\n",
              "    }\n",
              "</style>\n",
              "<table border=\"1\" class=\"dataframe\">\n",
              "  <thead>\n",
              "    <tr style=\"text-align: right;\">\n",
              "      <th></th>\n",
              "      <th>salary_from</th>\n",
              "      <th>salary_to</th>\n",
              "      <th>salary_currency</th>\n",
              "      <th>salary_gross</th>\n",
              "    </tr>\n",
              "  </thead>\n",
              "  <tbody>\n",
              "    <tr>\n",
              "      <th>0</th>\n",
              "      <td>NaN</td>\n",
              "      <td>NaN</td>\n",
              "      <td>NaN</td>\n",
              "      <td>NaN</td>\n",
              "    </tr>\n",
              "    <tr>\n",
              "      <th>1</th>\n",
              "      <td>25000.0</td>\n",
              "      <td>50000.0</td>\n",
              "      <td>RUR</td>\n",
              "      <td>True</td>\n",
              "    </tr>\n",
              "    <tr>\n",
              "      <th>2</th>\n",
              "      <td>NaN</td>\n",
              "      <td>NaN</td>\n",
              "      <td>NaN</td>\n",
              "      <td>NaN</td>\n",
              "    </tr>\n",
              "    <tr>\n",
              "      <th>3</th>\n",
              "      <td>26000.0</td>\n",
              "      <td>NaN</td>\n",
              "      <td>RUR</td>\n",
              "      <td>True</td>\n",
              "    </tr>\n",
              "    <tr>\n",
              "      <th>4</th>\n",
              "      <td>20000.0</td>\n",
              "      <td>20000.0</td>\n",
              "      <td>RUR</td>\n",
              "      <td>False</td>\n",
              "    </tr>\n",
              "    <tr>\n",
              "      <th>...</th>\n",
              "      <td>...</td>\n",
              "      <td>...</td>\n",
              "      <td>...</td>\n",
              "      <td>...</td>\n",
              "    </tr>\n",
              "    <tr>\n",
              "      <th>69651</th>\n",
              "      <td>NaN</td>\n",
              "      <td>NaN</td>\n",
              "      <td>NaN</td>\n",
              "      <td>NaN</td>\n",
              "    </tr>\n",
              "    <tr>\n",
              "      <th>69652</th>\n",
              "      <td>130000.0</td>\n",
              "      <td>NaN</td>\n",
              "      <td>RUR</td>\n",
              "      <td>False</td>\n",
              "    </tr>\n",
              "    <tr>\n",
              "      <th>69653</th>\n",
              "      <td>50000.0</td>\n",
              "      <td>NaN</td>\n",
              "      <td>RUR</td>\n",
              "      <td>False</td>\n",
              "    </tr>\n",
              "    <tr>\n",
              "      <th>69654</th>\n",
              "      <td>85000.0</td>\n",
              "      <td>NaN</td>\n",
              "      <td>RUR</td>\n",
              "      <td>False</td>\n",
              "    </tr>\n",
              "    <tr>\n",
              "      <th>69655</th>\n",
              "      <td>NaN</td>\n",
              "      <td>NaN</td>\n",
              "      <td>NaN</td>\n",
              "      <td>NaN</td>\n",
              "    </tr>\n",
              "  </tbody>\n",
              "</table>\n",
              "<p>50202 rows × 4 columns</p>\n",
              "</div>\n",
              "      <button class=\"colab-df-convert\" onclick=\"convertToInteractive('df-4a59ee19-0108-4bc1-828c-5b73a5519ea2')\"\n",
              "              title=\"Convert this dataframe to an interactive table.\"\n",
              "              style=\"display:none;\">\n",
              "        \n",
              "  <svg xmlns=\"http://www.w3.org/2000/svg\" height=\"24px\"viewBox=\"0 0 24 24\"\n",
              "       width=\"24px\">\n",
              "    <path d=\"M0 0h24v24H0V0z\" fill=\"none\"/>\n",
              "    <path d=\"M18.56 5.44l.94 2.06.94-2.06 2.06-.94-2.06-.94-.94-2.06-.94 2.06-2.06.94zm-11 1L8.5 8.5l.94-2.06 2.06-.94-2.06-.94L8.5 2.5l-.94 2.06-2.06.94zm10 10l.94 2.06.94-2.06 2.06-.94-2.06-.94-.94-2.06-.94 2.06-2.06.94z\"/><path d=\"M17.41 7.96l-1.37-1.37c-.4-.4-.92-.59-1.43-.59-.52 0-1.04.2-1.43.59L10.3 9.45l-7.72 7.72c-.78.78-.78 2.05 0 2.83L4 21.41c.39.39.9.59 1.41.59.51 0 1.02-.2 1.41-.59l7.78-7.78 2.81-2.81c.8-.78.8-2.07 0-2.86zM5.41 20L4 18.59l7.72-7.72 1.47 1.35L5.41 20z\"/>\n",
              "  </svg>\n",
              "      </button>\n",
              "      \n",
              "  <style>\n",
              "    .colab-df-container {\n",
              "      display:flex;\n",
              "      flex-wrap:wrap;\n",
              "      gap: 12px;\n",
              "    }\n",
              "\n",
              "    .colab-df-convert {\n",
              "      background-color: #E8F0FE;\n",
              "      border: none;\n",
              "      border-radius: 50%;\n",
              "      cursor: pointer;\n",
              "      display: none;\n",
              "      fill: #1967D2;\n",
              "      height: 32px;\n",
              "      padding: 0 0 0 0;\n",
              "      width: 32px;\n",
              "    }\n",
              "\n",
              "    .colab-df-convert:hover {\n",
              "      background-color: #E2EBFA;\n",
              "      box-shadow: 0px 1px 2px rgba(60, 64, 67, 0.3), 0px 1px 3px 1px rgba(60, 64, 67, 0.15);\n",
              "      fill: #174EA6;\n",
              "    }\n",
              "\n",
              "    [theme=dark] .colab-df-convert {\n",
              "      background-color: #3B4455;\n",
              "      fill: #D2E3FC;\n",
              "    }\n",
              "\n",
              "    [theme=dark] .colab-df-convert:hover {\n",
              "      background-color: #434B5C;\n",
              "      box-shadow: 0px 1px 3px 1px rgba(0, 0, 0, 0.15);\n",
              "      filter: drop-shadow(0px 1px 2px rgba(0, 0, 0, 0.3));\n",
              "      fill: #FFFFFF;\n",
              "    }\n",
              "  </style>\n",
              "\n",
              "      <script>\n",
              "        const buttonEl =\n",
              "          document.querySelector('#df-4a59ee19-0108-4bc1-828c-5b73a5519ea2 button.colab-df-convert');\n",
              "        buttonEl.style.display =\n",
              "          google.colab.kernel.accessAllowed ? 'block' : 'none';\n",
              "\n",
              "        async function convertToInteractive(key) {\n",
              "          const element = document.querySelector('#df-4a59ee19-0108-4bc1-828c-5b73a5519ea2');\n",
              "          const dataTable =\n",
              "            await google.colab.kernel.invokeFunction('convertToInteractive',\n",
              "                                                     [key], {});\n",
              "          if (!dataTable) return;\n",
              "\n",
              "          const docLinkHtml = 'Like what you see? Visit the ' +\n",
              "            '<a target=\"_blank\" href=https://colab.research.google.com/notebooks/data_table.ipynb>data table notebook</a>'\n",
              "            + ' to learn more about interactive tables.';\n",
              "          element.innerHTML = '';\n",
              "          dataTable['output_type'] = 'display_data';\n",
              "          await google.colab.output.renderOutput(dataTable, element);\n",
              "          const docLink = document.createElement('div');\n",
              "          docLink.innerHTML = docLinkHtml;\n",
              "          element.appendChild(docLink);\n",
              "        }\n",
              "      </script>\n",
              "    </div>\n",
              "  </div>\n",
              "  "
            ]
          },
          "metadata": {},
          "execution_count": 238
        }
      ]
    },
    {
      "cell_type": "markdown",
      "source": [
        "Заменим значения True и False на 0,87 и 1 соответсвенно. Так как зарплата указана где-то с учетом НДФЛ, а где-то без учета."
      ],
      "metadata": {
        "id": "j_jKvIbHk0AZ"
      }
    },
    {
      "cell_type": "code",
      "source": [
        "salary = salary.replace({'salary_gross':{True: 0.87, False:1}})\n",
        "salary"
      ],
      "metadata": {
        "colab": {
          "base_uri": "https://localhost:8080/",
          "height": 423
        },
        "id": "oMO2Gw2tkhr2",
        "outputId": "a140e769-ce99-42ff-d901-aaff0433d717"
      },
      "execution_count": 239,
      "outputs": [
        {
          "output_type": "execute_result",
          "data": {
            "text/plain": [
              "       salary_from  salary_to salary_currency  salary_gross\n",
              "0              NaN        NaN             NaN           NaN\n",
              "1          25000.0    50000.0             RUR          0.87\n",
              "2              NaN        NaN             NaN           NaN\n",
              "3          26000.0        NaN             RUR          0.87\n",
              "4          20000.0    20000.0             RUR          1.00\n",
              "...            ...        ...             ...           ...\n",
              "69651          NaN        NaN             NaN           NaN\n",
              "69652     130000.0        NaN             RUR          1.00\n",
              "69653      50000.0        NaN             RUR          1.00\n",
              "69654      85000.0        NaN             RUR          1.00\n",
              "69655          NaN        NaN             NaN           NaN\n",
              "\n",
              "[50202 rows x 4 columns]"
            ],
            "text/html": [
              "\n",
              "  <div id=\"df-0028377e-811c-40fa-b267-eeb45f3b18fe\">\n",
              "    <div class=\"colab-df-container\">\n",
              "      <div>\n",
              "<style scoped>\n",
              "    .dataframe tbody tr th:only-of-type {\n",
              "        vertical-align: middle;\n",
              "    }\n",
              "\n",
              "    .dataframe tbody tr th {\n",
              "        vertical-align: top;\n",
              "    }\n",
              "\n",
              "    .dataframe thead th {\n",
              "        text-align: right;\n",
              "    }\n",
              "</style>\n",
              "<table border=\"1\" class=\"dataframe\">\n",
              "  <thead>\n",
              "    <tr style=\"text-align: right;\">\n",
              "      <th></th>\n",
              "      <th>salary_from</th>\n",
              "      <th>salary_to</th>\n",
              "      <th>salary_currency</th>\n",
              "      <th>salary_gross</th>\n",
              "    </tr>\n",
              "  </thead>\n",
              "  <tbody>\n",
              "    <tr>\n",
              "      <th>0</th>\n",
              "      <td>NaN</td>\n",
              "      <td>NaN</td>\n",
              "      <td>NaN</td>\n",
              "      <td>NaN</td>\n",
              "    </tr>\n",
              "    <tr>\n",
              "      <th>1</th>\n",
              "      <td>25000.0</td>\n",
              "      <td>50000.0</td>\n",
              "      <td>RUR</td>\n",
              "      <td>0.87</td>\n",
              "    </tr>\n",
              "    <tr>\n",
              "      <th>2</th>\n",
              "      <td>NaN</td>\n",
              "      <td>NaN</td>\n",
              "      <td>NaN</td>\n",
              "      <td>NaN</td>\n",
              "    </tr>\n",
              "    <tr>\n",
              "      <th>3</th>\n",
              "      <td>26000.0</td>\n",
              "      <td>NaN</td>\n",
              "      <td>RUR</td>\n",
              "      <td>0.87</td>\n",
              "    </tr>\n",
              "    <tr>\n",
              "      <th>4</th>\n",
              "      <td>20000.0</td>\n",
              "      <td>20000.0</td>\n",
              "      <td>RUR</td>\n",
              "      <td>1.00</td>\n",
              "    </tr>\n",
              "    <tr>\n",
              "      <th>...</th>\n",
              "      <td>...</td>\n",
              "      <td>...</td>\n",
              "      <td>...</td>\n",
              "      <td>...</td>\n",
              "    </tr>\n",
              "    <tr>\n",
              "      <th>69651</th>\n",
              "      <td>NaN</td>\n",
              "      <td>NaN</td>\n",
              "      <td>NaN</td>\n",
              "      <td>NaN</td>\n",
              "    </tr>\n",
              "    <tr>\n",
              "      <th>69652</th>\n",
              "      <td>130000.0</td>\n",
              "      <td>NaN</td>\n",
              "      <td>RUR</td>\n",
              "      <td>1.00</td>\n",
              "    </tr>\n",
              "    <tr>\n",
              "      <th>69653</th>\n",
              "      <td>50000.0</td>\n",
              "      <td>NaN</td>\n",
              "      <td>RUR</td>\n",
              "      <td>1.00</td>\n",
              "    </tr>\n",
              "    <tr>\n",
              "      <th>69654</th>\n",
              "      <td>85000.0</td>\n",
              "      <td>NaN</td>\n",
              "      <td>RUR</td>\n",
              "      <td>1.00</td>\n",
              "    </tr>\n",
              "    <tr>\n",
              "      <th>69655</th>\n",
              "      <td>NaN</td>\n",
              "      <td>NaN</td>\n",
              "      <td>NaN</td>\n",
              "      <td>NaN</td>\n",
              "    </tr>\n",
              "  </tbody>\n",
              "</table>\n",
              "<p>50202 rows × 4 columns</p>\n",
              "</div>\n",
              "      <button class=\"colab-df-convert\" onclick=\"convertToInteractive('df-0028377e-811c-40fa-b267-eeb45f3b18fe')\"\n",
              "              title=\"Convert this dataframe to an interactive table.\"\n",
              "              style=\"display:none;\">\n",
              "        \n",
              "  <svg xmlns=\"http://www.w3.org/2000/svg\" height=\"24px\"viewBox=\"0 0 24 24\"\n",
              "       width=\"24px\">\n",
              "    <path d=\"M0 0h24v24H0V0z\" fill=\"none\"/>\n",
              "    <path d=\"M18.56 5.44l.94 2.06.94-2.06 2.06-.94-2.06-.94-.94-2.06-.94 2.06-2.06.94zm-11 1L8.5 8.5l.94-2.06 2.06-.94-2.06-.94L8.5 2.5l-.94 2.06-2.06.94zm10 10l.94 2.06.94-2.06 2.06-.94-2.06-.94-.94-2.06-.94 2.06-2.06.94z\"/><path d=\"M17.41 7.96l-1.37-1.37c-.4-.4-.92-.59-1.43-.59-.52 0-1.04.2-1.43.59L10.3 9.45l-7.72 7.72c-.78.78-.78 2.05 0 2.83L4 21.41c.39.39.9.59 1.41.59.51 0 1.02-.2 1.41-.59l7.78-7.78 2.81-2.81c.8-.78.8-2.07 0-2.86zM5.41 20L4 18.59l7.72-7.72 1.47 1.35L5.41 20z\"/>\n",
              "  </svg>\n",
              "      </button>\n",
              "      \n",
              "  <style>\n",
              "    .colab-df-container {\n",
              "      display:flex;\n",
              "      flex-wrap:wrap;\n",
              "      gap: 12px;\n",
              "    }\n",
              "\n",
              "    .colab-df-convert {\n",
              "      background-color: #E8F0FE;\n",
              "      border: none;\n",
              "      border-radius: 50%;\n",
              "      cursor: pointer;\n",
              "      display: none;\n",
              "      fill: #1967D2;\n",
              "      height: 32px;\n",
              "      padding: 0 0 0 0;\n",
              "      width: 32px;\n",
              "    }\n",
              "\n",
              "    .colab-df-convert:hover {\n",
              "      background-color: #E2EBFA;\n",
              "      box-shadow: 0px 1px 2px rgba(60, 64, 67, 0.3), 0px 1px 3px 1px rgba(60, 64, 67, 0.15);\n",
              "      fill: #174EA6;\n",
              "    }\n",
              "\n",
              "    [theme=dark] .colab-df-convert {\n",
              "      background-color: #3B4455;\n",
              "      fill: #D2E3FC;\n",
              "    }\n",
              "\n",
              "    [theme=dark] .colab-df-convert:hover {\n",
              "      background-color: #434B5C;\n",
              "      box-shadow: 0px 1px 3px 1px rgba(0, 0, 0, 0.15);\n",
              "      filter: drop-shadow(0px 1px 2px rgba(0, 0, 0, 0.3));\n",
              "      fill: #FFFFFF;\n",
              "    }\n",
              "  </style>\n",
              "\n",
              "      <script>\n",
              "        const buttonEl =\n",
              "          document.querySelector('#df-0028377e-811c-40fa-b267-eeb45f3b18fe button.colab-df-convert');\n",
              "        buttonEl.style.display =\n",
              "          google.colab.kernel.accessAllowed ? 'block' : 'none';\n",
              "\n",
              "        async function convertToInteractive(key) {\n",
              "          const element = document.querySelector('#df-0028377e-811c-40fa-b267-eeb45f3b18fe');\n",
              "          const dataTable =\n",
              "            await google.colab.kernel.invokeFunction('convertToInteractive',\n",
              "                                                     [key], {});\n",
              "          if (!dataTable) return;\n",
              "\n",
              "          const docLinkHtml = 'Like what you see? Visit the ' +\n",
              "            '<a target=\"_blank\" href=https://colab.research.google.com/notebooks/data_table.ipynb>data table notebook</a>'\n",
              "            + ' to learn more about interactive tables.';\n",
              "          element.innerHTML = '';\n",
              "          dataTable['output_type'] = 'display_data';\n",
              "          await google.colab.output.renderOutput(dataTable, element);\n",
              "          const docLink = document.createElement('div');\n",
              "          docLink.innerHTML = docLinkHtml;\n",
              "          element.appendChild(docLink);\n",
              "        }\n",
              "      </script>\n",
              "    </div>\n",
              "  </div>\n",
              "  "
            ]
          },
          "metadata": {},
          "execution_count": 239
        }
      ]
    },
    {
      "cell_type": "markdown",
      "source": [
        "Создаем столбы с зарплатой в рублях."
      ],
      "metadata": {
        "id": "MWCOz4wwlKhM"
      }
    },
    {
      "cell_type": "code",
      "source": [
        "rates = dict(RUR=1, USD=59.78, EUR=59.84, KZT=0.12)\n",
        "\n",
        "salary['salary_min'] = salary['salary_currency'].map(rates) * \\\n",
        "    salary['salary_from'] * salary['salary_gross']\n",
        "salary['salary_max'] = salary['salary_currency'].map(rates) * \\\n",
        "    salary['salary_to'] * salary['salary_gross']"
      ],
      "metadata": {
        "id": "xaI3-k_32iqX"
      },
      "execution_count": 240,
      "outputs": []
    },
    {
      "cell_type": "code",
      "source": [
        "salary[['salary_min', 'salary_max', 'salary_currency']]"
      ],
      "metadata": {
        "colab": {
          "base_uri": "https://localhost:8080/",
          "height": 423
        },
        "id": "OiM9sD963S6i",
        "outputId": "cbd22f56-8472-414c-d02f-de72adb4b0e3"
      },
      "execution_count": 241,
      "outputs": [
        {
          "output_type": "execute_result",
          "data": {
            "text/plain": [
              "       salary_min  salary_max salary_currency\n",
              "0             NaN         NaN             NaN\n",
              "1         21750.0     43500.0             RUR\n",
              "2             NaN         NaN             NaN\n",
              "3         22620.0         NaN             RUR\n",
              "4         20000.0     20000.0             RUR\n",
              "...           ...         ...             ...\n",
              "69651         NaN         NaN             NaN\n",
              "69652    130000.0         NaN             RUR\n",
              "69653     50000.0         NaN             RUR\n",
              "69654     85000.0         NaN             RUR\n",
              "69655         NaN         NaN             NaN\n",
              "\n",
              "[50202 rows x 3 columns]"
            ],
            "text/html": [
              "\n",
              "  <div id=\"df-64561130-c1ce-4226-8295-87822b4649b8\">\n",
              "    <div class=\"colab-df-container\">\n",
              "      <div>\n",
              "<style scoped>\n",
              "    .dataframe tbody tr th:only-of-type {\n",
              "        vertical-align: middle;\n",
              "    }\n",
              "\n",
              "    .dataframe tbody tr th {\n",
              "        vertical-align: top;\n",
              "    }\n",
              "\n",
              "    .dataframe thead th {\n",
              "        text-align: right;\n",
              "    }\n",
              "</style>\n",
              "<table border=\"1\" class=\"dataframe\">\n",
              "  <thead>\n",
              "    <tr style=\"text-align: right;\">\n",
              "      <th></th>\n",
              "      <th>salary_min</th>\n",
              "      <th>salary_max</th>\n",
              "      <th>salary_currency</th>\n",
              "    </tr>\n",
              "  </thead>\n",
              "  <tbody>\n",
              "    <tr>\n",
              "      <th>0</th>\n",
              "      <td>NaN</td>\n",
              "      <td>NaN</td>\n",
              "      <td>NaN</td>\n",
              "    </tr>\n",
              "    <tr>\n",
              "      <th>1</th>\n",
              "      <td>21750.0</td>\n",
              "      <td>43500.0</td>\n",
              "      <td>RUR</td>\n",
              "    </tr>\n",
              "    <tr>\n",
              "      <th>2</th>\n",
              "      <td>NaN</td>\n",
              "      <td>NaN</td>\n",
              "      <td>NaN</td>\n",
              "    </tr>\n",
              "    <tr>\n",
              "      <th>3</th>\n",
              "      <td>22620.0</td>\n",
              "      <td>NaN</td>\n",
              "      <td>RUR</td>\n",
              "    </tr>\n",
              "    <tr>\n",
              "      <th>4</th>\n",
              "      <td>20000.0</td>\n",
              "      <td>20000.0</td>\n",
              "      <td>RUR</td>\n",
              "    </tr>\n",
              "    <tr>\n",
              "      <th>...</th>\n",
              "      <td>...</td>\n",
              "      <td>...</td>\n",
              "      <td>...</td>\n",
              "    </tr>\n",
              "    <tr>\n",
              "      <th>69651</th>\n",
              "      <td>NaN</td>\n",
              "      <td>NaN</td>\n",
              "      <td>NaN</td>\n",
              "    </tr>\n",
              "    <tr>\n",
              "      <th>69652</th>\n",
              "      <td>130000.0</td>\n",
              "      <td>NaN</td>\n",
              "      <td>RUR</td>\n",
              "    </tr>\n",
              "    <tr>\n",
              "      <th>69653</th>\n",
              "      <td>50000.0</td>\n",
              "      <td>NaN</td>\n",
              "      <td>RUR</td>\n",
              "    </tr>\n",
              "    <tr>\n",
              "      <th>69654</th>\n",
              "      <td>85000.0</td>\n",
              "      <td>NaN</td>\n",
              "      <td>RUR</td>\n",
              "    </tr>\n",
              "    <tr>\n",
              "      <th>69655</th>\n",
              "      <td>NaN</td>\n",
              "      <td>NaN</td>\n",
              "      <td>NaN</td>\n",
              "    </tr>\n",
              "  </tbody>\n",
              "</table>\n",
              "<p>50202 rows × 3 columns</p>\n",
              "</div>\n",
              "      <button class=\"colab-df-convert\" onclick=\"convertToInteractive('df-64561130-c1ce-4226-8295-87822b4649b8')\"\n",
              "              title=\"Convert this dataframe to an interactive table.\"\n",
              "              style=\"display:none;\">\n",
              "        \n",
              "  <svg xmlns=\"http://www.w3.org/2000/svg\" height=\"24px\"viewBox=\"0 0 24 24\"\n",
              "       width=\"24px\">\n",
              "    <path d=\"M0 0h24v24H0V0z\" fill=\"none\"/>\n",
              "    <path d=\"M18.56 5.44l.94 2.06.94-2.06 2.06-.94-2.06-.94-.94-2.06-.94 2.06-2.06.94zm-11 1L8.5 8.5l.94-2.06 2.06-.94-2.06-.94L8.5 2.5l-.94 2.06-2.06.94zm10 10l.94 2.06.94-2.06 2.06-.94-2.06-.94-.94-2.06-.94 2.06-2.06.94z\"/><path d=\"M17.41 7.96l-1.37-1.37c-.4-.4-.92-.59-1.43-.59-.52 0-1.04.2-1.43.59L10.3 9.45l-7.72 7.72c-.78.78-.78 2.05 0 2.83L4 21.41c.39.39.9.59 1.41.59.51 0 1.02-.2 1.41-.59l7.78-7.78 2.81-2.81c.8-.78.8-2.07 0-2.86zM5.41 20L4 18.59l7.72-7.72 1.47 1.35L5.41 20z\"/>\n",
              "  </svg>\n",
              "      </button>\n",
              "      \n",
              "  <style>\n",
              "    .colab-df-container {\n",
              "      display:flex;\n",
              "      flex-wrap:wrap;\n",
              "      gap: 12px;\n",
              "    }\n",
              "\n",
              "    .colab-df-convert {\n",
              "      background-color: #E8F0FE;\n",
              "      border: none;\n",
              "      border-radius: 50%;\n",
              "      cursor: pointer;\n",
              "      display: none;\n",
              "      fill: #1967D2;\n",
              "      height: 32px;\n",
              "      padding: 0 0 0 0;\n",
              "      width: 32px;\n",
              "    }\n",
              "\n",
              "    .colab-df-convert:hover {\n",
              "      background-color: #E2EBFA;\n",
              "      box-shadow: 0px 1px 2px rgba(60, 64, 67, 0.3), 0px 1px 3px 1px rgba(60, 64, 67, 0.15);\n",
              "      fill: #174EA6;\n",
              "    }\n",
              "\n",
              "    [theme=dark] .colab-df-convert {\n",
              "      background-color: #3B4455;\n",
              "      fill: #D2E3FC;\n",
              "    }\n",
              "\n",
              "    [theme=dark] .colab-df-convert:hover {\n",
              "      background-color: #434B5C;\n",
              "      box-shadow: 0px 1px 3px 1px rgba(0, 0, 0, 0.15);\n",
              "      filter: drop-shadow(0px 1px 2px rgba(0, 0, 0, 0.3));\n",
              "      fill: #FFFFFF;\n",
              "    }\n",
              "  </style>\n",
              "\n",
              "      <script>\n",
              "        const buttonEl =\n",
              "          document.querySelector('#df-64561130-c1ce-4226-8295-87822b4649b8 button.colab-df-convert');\n",
              "        buttonEl.style.display =\n",
              "          google.colab.kernel.accessAllowed ? 'block' : 'none';\n",
              "\n",
              "        async function convertToInteractive(key) {\n",
              "          const element = document.querySelector('#df-64561130-c1ce-4226-8295-87822b4649b8');\n",
              "          const dataTable =\n",
              "            await google.colab.kernel.invokeFunction('convertToInteractive',\n",
              "                                                     [key], {});\n",
              "          if (!dataTable) return;\n",
              "\n",
              "          const docLinkHtml = 'Like what you see? Visit the ' +\n",
              "            '<a target=\"_blank\" href=https://colab.research.google.com/notebooks/data_table.ipynb>data table notebook</a>'\n",
              "            + ' to learn more about interactive tables.';\n",
              "          element.innerHTML = '';\n",
              "          dataTable['output_type'] = 'display_data';\n",
              "          await google.colab.output.renderOutput(dataTable, element);\n",
              "          const docLink = document.createElement('div');\n",
              "          docLink.innerHTML = docLinkHtml;\n",
              "          element.appendChild(docLink);\n",
              "        }\n",
              "      </script>\n",
              "    </div>\n",
              "  </div>\n",
              "  "
            ]
          },
          "metadata": {},
          "execution_count": 241
        }
      ]
    },
    {
      "cell_type": "code",
      "source": [
        "salary_r = salary[['salary_min', 'salary_max', 'salary_currency']].copy()"
      ],
      "metadata": {
        "id": "iQdEJehBW34m"
      },
      "execution_count": 242,
      "outputs": []
    },
    {
      "cell_type": "markdown",
      "source": [
        "### Работодатель(`employer`)"
      ],
      "metadata": {
        "id": "Qz1hQJMFi5lh"
      }
    },
    {
      "cell_type": "code",
      "source": [
        "df_it['employer'][0]"
      ],
      "metadata": {
        "colab": {
          "base_uri": "https://localhost:8080/",
          "height": 88
        },
        "id": "ToHKTshii-D_",
        "outputId": "10027b68-afc6-4126-b161-0c85dcda44d2"
      },
      "execution_count": 243,
      "outputs": [
        {
          "output_type": "execute_result",
          "data": {
            "text/plain": [
              "\"{'id': '1740', 'name': 'Яндекс', 'url': 'https://api.hh.ru/employers/1740', 'alternate_url': 'https://hh.ru/employer/1740', 'logo_urls': {'90': 'https://hhcdn.ru/employer-logo/3790847.png', '240': 'https://hhcdn.ru/employer-logo/3790848.png', 'original': 'https://hhcdn.ru/employer-logo-original/837491.png'}, 'vacancies_url': 'https://api.hh.ru/vacancies?employer_id=1740', 'trusted': True}\""
            ],
            "application/vnd.google.colaboratory.intrinsic+json": {
              "type": "string"
            }
          },
          "metadata": {},
          "execution_count": 243
        }
      ]
    },
    {
      "cell_type": "code",
      "source": [
        "employer = df_it[['employer']].copy()"
      ],
      "metadata": {
        "id": "fEKH8bsJjToX"
      },
      "execution_count": 244,
      "outputs": []
    },
    {
      "cell_type": "code",
      "source": [
        "employer.loc[:, 'employer_name'] = [find_btw(x, 'name: ', ',',5) for x in employer['employer']]\n",
        "employer"
      ],
      "metadata": {
        "colab": {
          "base_uri": "https://localhost:8080/",
          "height": 423
        },
        "id": "_zzWwSWJjXin",
        "outputId": "74fb9125-8f68-4ba5-f1c1-3794344954a1"
      },
      "execution_count": 245,
      "outputs": [
        {
          "output_type": "execute_result",
          "data": {
            "text/plain": [
              "                                                employer  \\\n",
              "0      {'id': '1740', 'name': 'Яндекс', 'url': 'https...   \n",
              "1      {'id': '1245158', 'name': 'МФК Саммит', 'url':...   \n",
              "2      {'id': '719820', 'name': 'SearchInform', 'url'...   \n",
              "3      {'id': '4352', 'name': 'Почта России', 'url': ...   \n",
              "4      {'id': '6694236', 'name': 'ГБПОУ АО Астраханск...   \n",
              "...                                                  ...   \n",
              "69651  {'id': '47858', 'name': 'Центральный банк Росс...   \n",
              "69652  {'id': '97966', 'name': 'Окраина', 'url': 'htt...   \n",
              "69653  {'id': '4494454', 'name': 'ГУЗ ГБ № 3 Г.Тулы',...   \n",
              "69654  {'id': '180706', 'name': 'ИнтерЛабс', 'url': '...   \n",
              "69655  {'id': '223916', 'name': 'ТИТАН-2, холдинг', '...   \n",
              "\n",
              "                                           employer_name  \n",
              "0                                                 Яндекс  \n",
              "1                                             МФК Саммит  \n",
              "2                                           SearchInform  \n",
              "3                                           Почта России  \n",
              "4      ГБПОУ АО Астраханский музыкальный колледж имен...  \n",
              "...                                                  ...  \n",
              "69651              Центральный банк Российской Федерации  \n",
              "69652                                            Окраина  \n",
              "69653                                  ГУЗ ГБ № 3 Г.Тулы  \n",
              "69654                                          ИнтерЛабс  \n",
              "69655                                            ТИТАН-2  \n",
              "\n",
              "[50202 rows x 2 columns]"
            ],
            "text/html": [
              "\n",
              "  <div id=\"df-577f2038-a1ed-42aa-900d-b9f83695dacf\">\n",
              "    <div class=\"colab-df-container\">\n",
              "      <div>\n",
              "<style scoped>\n",
              "    .dataframe tbody tr th:only-of-type {\n",
              "        vertical-align: middle;\n",
              "    }\n",
              "\n",
              "    .dataframe tbody tr th {\n",
              "        vertical-align: top;\n",
              "    }\n",
              "\n",
              "    .dataframe thead th {\n",
              "        text-align: right;\n",
              "    }\n",
              "</style>\n",
              "<table border=\"1\" class=\"dataframe\">\n",
              "  <thead>\n",
              "    <tr style=\"text-align: right;\">\n",
              "      <th></th>\n",
              "      <th>employer</th>\n",
              "      <th>employer_name</th>\n",
              "    </tr>\n",
              "  </thead>\n",
              "  <tbody>\n",
              "    <tr>\n",
              "      <th>0</th>\n",
              "      <td>{'id': '1740', 'name': 'Яндекс', 'url': 'https...</td>\n",
              "      <td>Яндекс</td>\n",
              "    </tr>\n",
              "    <tr>\n",
              "      <th>1</th>\n",
              "      <td>{'id': '1245158', 'name': 'МФК Саммит', 'url':...</td>\n",
              "      <td>МФК Саммит</td>\n",
              "    </tr>\n",
              "    <tr>\n",
              "      <th>2</th>\n",
              "      <td>{'id': '719820', 'name': 'SearchInform', 'url'...</td>\n",
              "      <td>SearchInform</td>\n",
              "    </tr>\n",
              "    <tr>\n",
              "      <th>3</th>\n",
              "      <td>{'id': '4352', 'name': 'Почта России', 'url': ...</td>\n",
              "      <td>Почта России</td>\n",
              "    </tr>\n",
              "    <tr>\n",
              "      <th>4</th>\n",
              "      <td>{'id': '6694236', 'name': 'ГБПОУ АО Астраханск...</td>\n",
              "      <td>ГБПОУ АО Астраханский музыкальный колледж имен...</td>\n",
              "    </tr>\n",
              "    <tr>\n",
              "      <th>...</th>\n",
              "      <td>...</td>\n",
              "      <td>...</td>\n",
              "    </tr>\n",
              "    <tr>\n",
              "      <th>69651</th>\n",
              "      <td>{'id': '47858', 'name': 'Центральный банк Росс...</td>\n",
              "      <td>Центральный банк Российской Федерации</td>\n",
              "    </tr>\n",
              "    <tr>\n",
              "      <th>69652</th>\n",
              "      <td>{'id': '97966', 'name': 'Окраина', 'url': 'htt...</td>\n",
              "      <td>Окраина</td>\n",
              "    </tr>\n",
              "    <tr>\n",
              "      <th>69653</th>\n",
              "      <td>{'id': '4494454', 'name': 'ГУЗ ГБ № 3 Г.Тулы',...</td>\n",
              "      <td>ГУЗ ГБ № 3 Г.Тулы</td>\n",
              "    </tr>\n",
              "    <tr>\n",
              "      <th>69654</th>\n",
              "      <td>{'id': '180706', 'name': 'ИнтерЛабс', 'url': '...</td>\n",
              "      <td>ИнтерЛабс</td>\n",
              "    </tr>\n",
              "    <tr>\n",
              "      <th>69655</th>\n",
              "      <td>{'id': '223916', 'name': 'ТИТАН-2, холдинг', '...</td>\n",
              "      <td>ТИТАН-2</td>\n",
              "    </tr>\n",
              "  </tbody>\n",
              "</table>\n",
              "<p>50202 rows × 2 columns</p>\n",
              "</div>\n",
              "      <button class=\"colab-df-convert\" onclick=\"convertToInteractive('df-577f2038-a1ed-42aa-900d-b9f83695dacf')\"\n",
              "              title=\"Convert this dataframe to an interactive table.\"\n",
              "              style=\"display:none;\">\n",
              "        \n",
              "  <svg xmlns=\"http://www.w3.org/2000/svg\" height=\"24px\"viewBox=\"0 0 24 24\"\n",
              "       width=\"24px\">\n",
              "    <path d=\"M0 0h24v24H0V0z\" fill=\"none\"/>\n",
              "    <path d=\"M18.56 5.44l.94 2.06.94-2.06 2.06-.94-2.06-.94-.94-2.06-.94 2.06-2.06.94zm-11 1L8.5 8.5l.94-2.06 2.06-.94-2.06-.94L8.5 2.5l-.94 2.06-2.06.94zm10 10l.94 2.06.94-2.06 2.06-.94-2.06-.94-.94-2.06-.94 2.06-2.06.94z\"/><path d=\"M17.41 7.96l-1.37-1.37c-.4-.4-.92-.59-1.43-.59-.52 0-1.04.2-1.43.59L10.3 9.45l-7.72 7.72c-.78.78-.78 2.05 0 2.83L4 21.41c.39.39.9.59 1.41.59.51 0 1.02-.2 1.41-.59l7.78-7.78 2.81-2.81c.8-.78.8-2.07 0-2.86zM5.41 20L4 18.59l7.72-7.72 1.47 1.35L5.41 20z\"/>\n",
              "  </svg>\n",
              "      </button>\n",
              "      \n",
              "  <style>\n",
              "    .colab-df-container {\n",
              "      display:flex;\n",
              "      flex-wrap:wrap;\n",
              "      gap: 12px;\n",
              "    }\n",
              "\n",
              "    .colab-df-convert {\n",
              "      background-color: #E8F0FE;\n",
              "      border: none;\n",
              "      border-radius: 50%;\n",
              "      cursor: pointer;\n",
              "      display: none;\n",
              "      fill: #1967D2;\n",
              "      height: 32px;\n",
              "      padding: 0 0 0 0;\n",
              "      width: 32px;\n",
              "    }\n",
              "\n",
              "    .colab-df-convert:hover {\n",
              "      background-color: #E2EBFA;\n",
              "      box-shadow: 0px 1px 2px rgba(60, 64, 67, 0.3), 0px 1px 3px 1px rgba(60, 64, 67, 0.15);\n",
              "      fill: #174EA6;\n",
              "    }\n",
              "\n",
              "    [theme=dark] .colab-df-convert {\n",
              "      background-color: #3B4455;\n",
              "      fill: #D2E3FC;\n",
              "    }\n",
              "\n",
              "    [theme=dark] .colab-df-convert:hover {\n",
              "      background-color: #434B5C;\n",
              "      box-shadow: 0px 1px 3px 1px rgba(0, 0, 0, 0.15);\n",
              "      filter: drop-shadow(0px 1px 2px rgba(0, 0, 0, 0.3));\n",
              "      fill: #FFFFFF;\n",
              "    }\n",
              "  </style>\n",
              "\n",
              "      <script>\n",
              "        const buttonEl =\n",
              "          document.querySelector('#df-577f2038-a1ed-42aa-900d-b9f83695dacf button.colab-df-convert');\n",
              "        buttonEl.style.display =\n",
              "          google.colab.kernel.accessAllowed ? 'block' : 'none';\n",
              "\n",
              "        async function convertToInteractive(key) {\n",
              "          const element = document.querySelector('#df-577f2038-a1ed-42aa-900d-b9f83695dacf');\n",
              "          const dataTable =\n",
              "            await google.colab.kernel.invokeFunction('convertToInteractive',\n",
              "                                                     [key], {});\n",
              "          if (!dataTable) return;\n",
              "\n",
              "          const docLinkHtml = 'Like what you see? Visit the ' +\n",
              "            '<a target=\"_blank\" href=https://colab.research.google.com/notebooks/data_table.ipynb>data table notebook</a>'\n",
              "            + ' to learn more about interactive tables.';\n",
              "          element.innerHTML = '';\n",
              "          dataTable['output_type'] = 'display_data';\n",
              "          await google.colab.output.renderOutput(dataTable, element);\n",
              "          const docLink = document.createElement('div');\n",
              "          docLink.innerHTML = docLinkHtml;\n",
              "          element.appendChild(docLink);\n",
              "        }\n",
              "      </script>\n",
              "    </div>\n",
              "  </div>\n",
              "  "
            ]
          },
          "metadata": {},
          "execution_count": 245
        }
      ]
    },
    {
      "cell_type": "code",
      "source": [
        "employer_r = employer[['employer_name']].copy()"
      ],
      "metadata": {
        "id": "XYOkUeyNWt63"
      },
      "execution_count": 246,
      "outputs": []
    },
    {
      "cell_type": "markdown",
      "source": [
        "### График работы (`schedule`)"
      ],
      "metadata": {
        "id": "duaf622Zl0pq"
      }
    },
    {
      "cell_type": "code",
      "source": [
        "df_it['schedule']"
      ],
      "metadata": {
        "colab": {
          "base_uri": "https://localhost:8080/"
        },
        "id": "bLTo2mEHl_CU",
        "outputId": "f1e867e2-e792-4671-c487-a83f115b36a5"
      },
      "execution_count": 247,
      "outputs": [
        {
          "output_type": "execute_result",
          "data": {
            "text/plain": [
              "0        {'id': 'remote', 'name': 'Удаленная работа'}\n",
              "1            {'id': 'fullDay', 'name': 'Полный день'}\n",
              "2            {'id': 'fullDay', 'name': 'Полный день'}\n",
              "3            {'id': 'fullDay', 'name': 'Полный день'}\n",
              "4            {'id': 'fullDay', 'name': 'Полный день'}\n",
              "                             ...                     \n",
              "69651        {'id': 'fullDay', 'name': 'Полный день'}\n",
              "69652        {'id': 'fullDay', 'name': 'Полный день'}\n",
              "69653        {'id': 'fullDay', 'name': 'Полный день'}\n",
              "69654        {'id': 'fullDay', 'name': 'Полный день'}\n",
              "69655        {'id': 'fullDay', 'name': 'Полный день'}\n",
              "Name: schedule, Length: 50202, dtype: object"
            ]
          },
          "metadata": {},
          "execution_count": 247
        }
      ]
    },
    {
      "cell_type": "code",
      "source": [
        "schedule = df_it[['schedule']].copy()\n",
        "schedule.loc[:, 'sched'] = [find_btw(x, 'name: ', '}',5) for x in schedule['schedule']]"
      ],
      "metadata": {
        "id": "igBa7VTanpWW"
      },
      "execution_count": 248,
      "outputs": []
    },
    {
      "cell_type": "code",
      "source": [
        "schedule.head()"
      ],
      "metadata": {
        "colab": {
          "base_uri": "https://localhost:8080/",
          "height": 206
        },
        "id": "NyP40hh_oVrg",
        "outputId": "f3acdb32-c8eb-4a4f-f783-9ceac01fc0ab"
      },
      "execution_count": 249,
      "outputs": [
        {
          "output_type": "execute_result",
          "data": {
            "text/plain": [
              "                                       schedule             sched\n",
              "0  {'id': 'remote', 'name': 'Удаленная работа'}  Удаленная работа\n",
              "1      {'id': 'fullDay', 'name': 'Полный день'}       Полный день\n",
              "2      {'id': 'fullDay', 'name': 'Полный день'}       Полный день\n",
              "3      {'id': 'fullDay', 'name': 'Полный день'}       Полный день\n",
              "4      {'id': 'fullDay', 'name': 'Полный день'}       Полный день"
            ],
            "text/html": [
              "\n",
              "  <div id=\"df-a0b46837-a3af-49ed-995b-7ee6edd63478\">\n",
              "    <div class=\"colab-df-container\">\n",
              "      <div>\n",
              "<style scoped>\n",
              "    .dataframe tbody tr th:only-of-type {\n",
              "        vertical-align: middle;\n",
              "    }\n",
              "\n",
              "    .dataframe tbody tr th {\n",
              "        vertical-align: top;\n",
              "    }\n",
              "\n",
              "    .dataframe thead th {\n",
              "        text-align: right;\n",
              "    }\n",
              "</style>\n",
              "<table border=\"1\" class=\"dataframe\">\n",
              "  <thead>\n",
              "    <tr style=\"text-align: right;\">\n",
              "      <th></th>\n",
              "      <th>schedule</th>\n",
              "      <th>sched</th>\n",
              "    </tr>\n",
              "  </thead>\n",
              "  <tbody>\n",
              "    <tr>\n",
              "      <th>0</th>\n",
              "      <td>{'id': 'remote', 'name': 'Удаленная работа'}</td>\n",
              "      <td>Удаленная работа</td>\n",
              "    </tr>\n",
              "    <tr>\n",
              "      <th>1</th>\n",
              "      <td>{'id': 'fullDay', 'name': 'Полный день'}</td>\n",
              "      <td>Полный день</td>\n",
              "    </tr>\n",
              "    <tr>\n",
              "      <th>2</th>\n",
              "      <td>{'id': 'fullDay', 'name': 'Полный день'}</td>\n",
              "      <td>Полный день</td>\n",
              "    </tr>\n",
              "    <tr>\n",
              "      <th>3</th>\n",
              "      <td>{'id': 'fullDay', 'name': 'Полный день'}</td>\n",
              "      <td>Полный день</td>\n",
              "    </tr>\n",
              "    <tr>\n",
              "      <th>4</th>\n",
              "      <td>{'id': 'fullDay', 'name': 'Полный день'}</td>\n",
              "      <td>Полный день</td>\n",
              "    </tr>\n",
              "  </tbody>\n",
              "</table>\n",
              "</div>\n",
              "      <button class=\"colab-df-convert\" onclick=\"convertToInteractive('df-a0b46837-a3af-49ed-995b-7ee6edd63478')\"\n",
              "              title=\"Convert this dataframe to an interactive table.\"\n",
              "              style=\"display:none;\">\n",
              "        \n",
              "  <svg xmlns=\"http://www.w3.org/2000/svg\" height=\"24px\"viewBox=\"0 0 24 24\"\n",
              "       width=\"24px\">\n",
              "    <path d=\"M0 0h24v24H0V0z\" fill=\"none\"/>\n",
              "    <path d=\"M18.56 5.44l.94 2.06.94-2.06 2.06-.94-2.06-.94-.94-2.06-.94 2.06-2.06.94zm-11 1L8.5 8.5l.94-2.06 2.06-.94-2.06-.94L8.5 2.5l-.94 2.06-2.06.94zm10 10l.94 2.06.94-2.06 2.06-.94-2.06-.94-.94-2.06-.94 2.06-2.06.94z\"/><path d=\"M17.41 7.96l-1.37-1.37c-.4-.4-.92-.59-1.43-.59-.52 0-1.04.2-1.43.59L10.3 9.45l-7.72 7.72c-.78.78-.78 2.05 0 2.83L4 21.41c.39.39.9.59 1.41.59.51 0 1.02-.2 1.41-.59l7.78-7.78 2.81-2.81c.8-.78.8-2.07 0-2.86zM5.41 20L4 18.59l7.72-7.72 1.47 1.35L5.41 20z\"/>\n",
              "  </svg>\n",
              "      </button>\n",
              "      \n",
              "  <style>\n",
              "    .colab-df-container {\n",
              "      display:flex;\n",
              "      flex-wrap:wrap;\n",
              "      gap: 12px;\n",
              "    }\n",
              "\n",
              "    .colab-df-convert {\n",
              "      background-color: #E8F0FE;\n",
              "      border: none;\n",
              "      border-radius: 50%;\n",
              "      cursor: pointer;\n",
              "      display: none;\n",
              "      fill: #1967D2;\n",
              "      height: 32px;\n",
              "      padding: 0 0 0 0;\n",
              "      width: 32px;\n",
              "    }\n",
              "\n",
              "    .colab-df-convert:hover {\n",
              "      background-color: #E2EBFA;\n",
              "      box-shadow: 0px 1px 2px rgba(60, 64, 67, 0.3), 0px 1px 3px 1px rgba(60, 64, 67, 0.15);\n",
              "      fill: #174EA6;\n",
              "    }\n",
              "\n",
              "    [theme=dark] .colab-df-convert {\n",
              "      background-color: #3B4455;\n",
              "      fill: #D2E3FC;\n",
              "    }\n",
              "\n",
              "    [theme=dark] .colab-df-convert:hover {\n",
              "      background-color: #434B5C;\n",
              "      box-shadow: 0px 1px 3px 1px rgba(0, 0, 0, 0.15);\n",
              "      filter: drop-shadow(0px 1px 2px rgba(0, 0, 0, 0.3));\n",
              "      fill: #FFFFFF;\n",
              "    }\n",
              "  </style>\n",
              "\n",
              "      <script>\n",
              "        const buttonEl =\n",
              "          document.querySelector('#df-a0b46837-a3af-49ed-995b-7ee6edd63478 button.colab-df-convert');\n",
              "        buttonEl.style.display =\n",
              "          google.colab.kernel.accessAllowed ? 'block' : 'none';\n",
              "\n",
              "        async function convertToInteractive(key) {\n",
              "          const element = document.querySelector('#df-a0b46837-a3af-49ed-995b-7ee6edd63478');\n",
              "          const dataTable =\n",
              "            await google.colab.kernel.invokeFunction('convertToInteractive',\n",
              "                                                     [key], {});\n",
              "          if (!dataTable) return;\n",
              "\n",
              "          const docLinkHtml = 'Like what you see? Visit the ' +\n",
              "            '<a target=\"_blank\" href=https://colab.research.google.com/notebooks/data_table.ipynb>data table notebook</a>'\n",
              "            + ' to learn more about interactive tables.';\n",
              "          element.innerHTML = '';\n",
              "          dataTable['output_type'] = 'display_data';\n",
              "          await google.colab.output.renderOutput(dataTable, element);\n",
              "          const docLink = document.createElement('div');\n",
              "          docLink.innerHTML = docLinkHtml;\n",
              "          element.appendChild(docLink);\n",
              "        }\n",
              "      </script>\n",
              "    </div>\n",
              "  </div>\n",
              "  "
            ]
          },
          "metadata": {},
          "execution_count": 249
        }
      ]
    },
    {
      "cell_type": "code",
      "source": [
        "schedule_r = schedule[['sched']].copy()"
      ],
      "metadata": {
        "id": "f3NeUFoLWgoB"
      },
      "execution_count": 250,
      "outputs": []
    },
    {
      "cell_type": "markdown",
      "source": [
        "### Опыт работы(experience)"
      ],
      "metadata": {
        "id": "zAkgHD_ijhmX"
      }
    },
    {
      "cell_type": "code",
      "source": [
        "experience = df_it[['experience']].copy()\n",
        "experience.head()"
      ],
      "metadata": {
        "colab": {
          "base_uri": "https://localhost:8080/",
          "height": 206
        },
        "id": "kYN7Rp33jkmX",
        "outputId": "f9c091d7-c453-443d-f906-a40fa979f161"
      },
      "execution_count": 251,
      "outputs": [
        {
          "output_type": "execute_result",
          "data": {
            "text/plain": [
              "                                          experience\n",
              "0        {'id': 'noExperience', 'name': 'Нет опыта'}\n",
              "1  {'id': 'between1And3', 'name': 'От 1 года до 3...\n",
              "2    {'id': 'between3And6', 'name': 'От 3 до 6 лет'}\n",
              "3        {'id': 'noExperience', 'name': 'Нет опыта'}\n",
              "4        {'id': 'noExperience', 'name': 'Нет опыта'}"
            ],
            "text/html": [
              "\n",
              "  <div id=\"df-42b32f01-61c2-457b-bdb3-0bc2cdc56842\">\n",
              "    <div class=\"colab-df-container\">\n",
              "      <div>\n",
              "<style scoped>\n",
              "    .dataframe tbody tr th:only-of-type {\n",
              "        vertical-align: middle;\n",
              "    }\n",
              "\n",
              "    .dataframe tbody tr th {\n",
              "        vertical-align: top;\n",
              "    }\n",
              "\n",
              "    .dataframe thead th {\n",
              "        text-align: right;\n",
              "    }\n",
              "</style>\n",
              "<table border=\"1\" class=\"dataframe\">\n",
              "  <thead>\n",
              "    <tr style=\"text-align: right;\">\n",
              "      <th></th>\n",
              "      <th>experience</th>\n",
              "    </tr>\n",
              "  </thead>\n",
              "  <tbody>\n",
              "    <tr>\n",
              "      <th>0</th>\n",
              "      <td>{'id': 'noExperience', 'name': 'Нет опыта'}</td>\n",
              "    </tr>\n",
              "    <tr>\n",
              "      <th>1</th>\n",
              "      <td>{'id': 'between1And3', 'name': 'От 1 года до 3...</td>\n",
              "    </tr>\n",
              "    <tr>\n",
              "      <th>2</th>\n",
              "      <td>{'id': 'between3And6', 'name': 'От 3 до 6 лет'}</td>\n",
              "    </tr>\n",
              "    <tr>\n",
              "      <th>3</th>\n",
              "      <td>{'id': 'noExperience', 'name': 'Нет опыта'}</td>\n",
              "    </tr>\n",
              "    <tr>\n",
              "      <th>4</th>\n",
              "      <td>{'id': 'noExperience', 'name': 'Нет опыта'}</td>\n",
              "    </tr>\n",
              "  </tbody>\n",
              "</table>\n",
              "</div>\n",
              "      <button class=\"colab-df-convert\" onclick=\"convertToInteractive('df-42b32f01-61c2-457b-bdb3-0bc2cdc56842')\"\n",
              "              title=\"Convert this dataframe to an interactive table.\"\n",
              "              style=\"display:none;\">\n",
              "        \n",
              "  <svg xmlns=\"http://www.w3.org/2000/svg\" height=\"24px\"viewBox=\"0 0 24 24\"\n",
              "       width=\"24px\">\n",
              "    <path d=\"M0 0h24v24H0V0z\" fill=\"none\"/>\n",
              "    <path d=\"M18.56 5.44l.94 2.06.94-2.06 2.06-.94-2.06-.94-.94-2.06-.94 2.06-2.06.94zm-11 1L8.5 8.5l.94-2.06 2.06-.94-2.06-.94L8.5 2.5l-.94 2.06-2.06.94zm10 10l.94 2.06.94-2.06 2.06-.94-2.06-.94-.94-2.06-.94 2.06-2.06.94z\"/><path d=\"M17.41 7.96l-1.37-1.37c-.4-.4-.92-.59-1.43-.59-.52 0-1.04.2-1.43.59L10.3 9.45l-7.72 7.72c-.78.78-.78 2.05 0 2.83L4 21.41c.39.39.9.59 1.41.59.51 0 1.02-.2 1.41-.59l7.78-7.78 2.81-2.81c.8-.78.8-2.07 0-2.86zM5.41 20L4 18.59l7.72-7.72 1.47 1.35L5.41 20z\"/>\n",
              "  </svg>\n",
              "      </button>\n",
              "      \n",
              "  <style>\n",
              "    .colab-df-container {\n",
              "      display:flex;\n",
              "      flex-wrap:wrap;\n",
              "      gap: 12px;\n",
              "    }\n",
              "\n",
              "    .colab-df-convert {\n",
              "      background-color: #E8F0FE;\n",
              "      border: none;\n",
              "      border-radius: 50%;\n",
              "      cursor: pointer;\n",
              "      display: none;\n",
              "      fill: #1967D2;\n",
              "      height: 32px;\n",
              "      padding: 0 0 0 0;\n",
              "      width: 32px;\n",
              "    }\n",
              "\n",
              "    .colab-df-convert:hover {\n",
              "      background-color: #E2EBFA;\n",
              "      box-shadow: 0px 1px 2px rgba(60, 64, 67, 0.3), 0px 1px 3px 1px rgba(60, 64, 67, 0.15);\n",
              "      fill: #174EA6;\n",
              "    }\n",
              "\n",
              "    [theme=dark] .colab-df-convert {\n",
              "      background-color: #3B4455;\n",
              "      fill: #D2E3FC;\n",
              "    }\n",
              "\n",
              "    [theme=dark] .colab-df-convert:hover {\n",
              "      background-color: #434B5C;\n",
              "      box-shadow: 0px 1px 3px 1px rgba(0, 0, 0, 0.15);\n",
              "      filter: drop-shadow(0px 1px 2px rgba(0, 0, 0, 0.3));\n",
              "      fill: #FFFFFF;\n",
              "    }\n",
              "  </style>\n",
              "\n",
              "      <script>\n",
              "        const buttonEl =\n",
              "          document.querySelector('#df-42b32f01-61c2-457b-bdb3-0bc2cdc56842 button.colab-df-convert');\n",
              "        buttonEl.style.display =\n",
              "          google.colab.kernel.accessAllowed ? 'block' : 'none';\n",
              "\n",
              "        async function convertToInteractive(key) {\n",
              "          const element = document.querySelector('#df-42b32f01-61c2-457b-bdb3-0bc2cdc56842');\n",
              "          const dataTable =\n",
              "            await google.colab.kernel.invokeFunction('convertToInteractive',\n",
              "                                                     [key], {});\n",
              "          if (!dataTable) return;\n",
              "\n",
              "          const docLinkHtml = 'Like what you see? Visit the ' +\n",
              "            '<a target=\"_blank\" href=https://colab.research.google.com/notebooks/data_table.ipynb>data table notebook</a>'\n",
              "            + ' to learn more about interactive tables.';\n",
              "          element.innerHTML = '';\n",
              "          dataTable['output_type'] = 'display_data';\n",
              "          await google.colab.output.renderOutput(dataTable, element);\n",
              "          const docLink = document.createElement('div');\n",
              "          docLink.innerHTML = docLinkHtml;\n",
              "          element.appendChild(docLink);\n",
              "        }\n",
              "      </script>\n",
              "    </div>\n",
              "  </div>\n",
              "  "
            ]
          },
          "metadata": {},
          "execution_count": 251
        }
      ]
    },
    {
      "cell_type": "code",
      "source": [
        "experience.loc[:, 'exp'] = [find_btw(x, 'name: ', '}',5) for x in experience['experience']]\n",
        "experience.head()"
      ],
      "metadata": {
        "colab": {
          "base_uri": "https://localhost:8080/",
          "height": 206
        },
        "id": "EBn31iZwj0k6",
        "outputId": "4d43fecd-f73d-4861-df8b-79f10aca2a8c"
      },
      "execution_count": 252,
      "outputs": [
        {
          "output_type": "execute_result",
          "data": {
            "text/plain": [
              "                                          experience                 exp\n",
              "0        {'id': 'noExperience', 'name': 'Нет опыта'}           Нет опыта\n",
              "1  {'id': 'between1And3', 'name': 'От 1 года до 3...  От 1 года до 3 лет\n",
              "2    {'id': 'between3And6', 'name': 'От 3 до 6 лет'}       От 3 до 6 лет\n",
              "3        {'id': 'noExperience', 'name': 'Нет опыта'}           Нет опыта\n",
              "4        {'id': 'noExperience', 'name': 'Нет опыта'}           Нет опыта"
            ],
            "text/html": [
              "\n",
              "  <div id=\"df-1d966804-8ea8-4ec7-89ed-cb3eedf3682f\">\n",
              "    <div class=\"colab-df-container\">\n",
              "      <div>\n",
              "<style scoped>\n",
              "    .dataframe tbody tr th:only-of-type {\n",
              "        vertical-align: middle;\n",
              "    }\n",
              "\n",
              "    .dataframe tbody tr th {\n",
              "        vertical-align: top;\n",
              "    }\n",
              "\n",
              "    .dataframe thead th {\n",
              "        text-align: right;\n",
              "    }\n",
              "</style>\n",
              "<table border=\"1\" class=\"dataframe\">\n",
              "  <thead>\n",
              "    <tr style=\"text-align: right;\">\n",
              "      <th></th>\n",
              "      <th>experience</th>\n",
              "      <th>exp</th>\n",
              "    </tr>\n",
              "  </thead>\n",
              "  <tbody>\n",
              "    <tr>\n",
              "      <th>0</th>\n",
              "      <td>{'id': 'noExperience', 'name': 'Нет опыта'}</td>\n",
              "      <td>Нет опыта</td>\n",
              "    </tr>\n",
              "    <tr>\n",
              "      <th>1</th>\n",
              "      <td>{'id': 'between1And3', 'name': 'От 1 года до 3...</td>\n",
              "      <td>От 1 года до 3 лет</td>\n",
              "    </tr>\n",
              "    <tr>\n",
              "      <th>2</th>\n",
              "      <td>{'id': 'between3And6', 'name': 'От 3 до 6 лет'}</td>\n",
              "      <td>От 3 до 6 лет</td>\n",
              "    </tr>\n",
              "    <tr>\n",
              "      <th>3</th>\n",
              "      <td>{'id': 'noExperience', 'name': 'Нет опыта'}</td>\n",
              "      <td>Нет опыта</td>\n",
              "    </tr>\n",
              "    <tr>\n",
              "      <th>4</th>\n",
              "      <td>{'id': 'noExperience', 'name': 'Нет опыта'}</td>\n",
              "      <td>Нет опыта</td>\n",
              "    </tr>\n",
              "  </tbody>\n",
              "</table>\n",
              "</div>\n",
              "      <button class=\"colab-df-convert\" onclick=\"convertToInteractive('df-1d966804-8ea8-4ec7-89ed-cb3eedf3682f')\"\n",
              "              title=\"Convert this dataframe to an interactive table.\"\n",
              "              style=\"display:none;\">\n",
              "        \n",
              "  <svg xmlns=\"http://www.w3.org/2000/svg\" height=\"24px\"viewBox=\"0 0 24 24\"\n",
              "       width=\"24px\">\n",
              "    <path d=\"M0 0h24v24H0V0z\" fill=\"none\"/>\n",
              "    <path d=\"M18.56 5.44l.94 2.06.94-2.06 2.06-.94-2.06-.94-.94-2.06-.94 2.06-2.06.94zm-11 1L8.5 8.5l.94-2.06 2.06-.94-2.06-.94L8.5 2.5l-.94 2.06-2.06.94zm10 10l.94 2.06.94-2.06 2.06-.94-2.06-.94-.94-2.06-.94 2.06-2.06.94z\"/><path d=\"M17.41 7.96l-1.37-1.37c-.4-.4-.92-.59-1.43-.59-.52 0-1.04.2-1.43.59L10.3 9.45l-7.72 7.72c-.78.78-.78 2.05 0 2.83L4 21.41c.39.39.9.59 1.41.59.51 0 1.02-.2 1.41-.59l7.78-7.78 2.81-2.81c.8-.78.8-2.07 0-2.86zM5.41 20L4 18.59l7.72-7.72 1.47 1.35L5.41 20z\"/>\n",
              "  </svg>\n",
              "      </button>\n",
              "      \n",
              "  <style>\n",
              "    .colab-df-container {\n",
              "      display:flex;\n",
              "      flex-wrap:wrap;\n",
              "      gap: 12px;\n",
              "    }\n",
              "\n",
              "    .colab-df-convert {\n",
              "      background-color: #E8F0FE;\n",
              "      border: none;\n",
              "      border-radius: 50%;\n",
              "      cursor: pointer;\n",
              "      display: none;\n",
              "      fill: #1967D2;\n",
              "      height: 32px;\n",
              "      padding: 0 0 0 0;\n",
              "      width: 32px;\n",
              "    }\n",
              "\n",
              "    .colab-df-convert:hover {\n",
              "      background-color: #E2EBFA;\n",
              "      box-shadow: 0px 1px 2px rgba(60, 64, 67, 0.3), 0px 1px 3px 1px rgba(60, 64, 67, 0.15);\n",
              "      fill: #174EA6;\n",
              "    }\n",
              "\n",
              "    [theme=dark] .colab-df-convert {\n",
              "      background-color: #3B4455;\n",
              "      fill: #D2E3FC;\n",
              "    }\n",
              "\n",
              "    [theme=dark] .colab-df-convert:hover {\n",
              "      background-color: #434B5C;\n",
              "      box-shadow: 0px 1px 3px 1px rgba(0, 0, 0, 0.15);\n",
              "      filter: drop-shadow(0px 1px 2px rgba(0, 0, 0, 0.3));\n",
              "      fill: #FFFFFF;\n",
              "    }\n",
              "  </style>\n",
              "\n",
              "      <script>\n",
              "        const buttonEl =\n",
              "          document.querySelector('#df-1d966804-8ea8-4ec7-89ed-cb3eedf3682f button.colab-df-convert');\n",
              "        buttonEl.style.display =\n",
              "          google.colab.kernel.accessAllowed ? 'block' : 'none';\n",
              "\n",
              "        async function convertToInteractive(key) {\n",
              "          const element = document.querySelector('#df-1d966804-8ea8-4ec7-89ed-cb3eedf3682f');\n",
              "          const dataTable =\n",
              "            await google.colab.kernel.invokeFunction('convertToInteractive',\n",
              "                                                     [key], {});\n",
              "          if (!dataTable) return;\n",
              "\n",
              "          const docLinkHtml = 'Like what you see? Visit the ' +\n",
              "            '<a target=\"_blank\" href=https://colab.research.google.com/notebooks/data_table.ipynb>data table notebook</a>'\n",
              "            + ' to learn more about interactive tables.';\n",
              "          element.innerHTML = '';\n",
              "          dataTable['output_type'] = 'display_data';\n",
              "          await google.colab.output.renderOutput(dataTable, element);\n",
              "          const docLink = document.createElement('div');\n",
              "          docLink.innerHTML = docLinkHtml;\n",
              "          element.appendChild(docLink);\n",
              "        }\n",
              "      </script>\n",
              "    </div>\n",
              "  </div>\n",
              "  "
            ]
          },
          "metadata": {},
          "execution_count": 252
        }
      ]
    },
    {
      "cell_type": "code",
      "source": [
        "experience_r = experience[['exp']].copy()"
      ],
      "metadata": {
        "id": "BfRCBVTukBn0"
      },
      "execution_count": 253,
      "outputs": []
    },
    {
      "cell_type": "markdown",
      "source": [
        "### Итоговый датасет"
      ],
      "metadata": {
        "id": "fPLfsJKySbeY"
      }
    },
    {
      "cell_type": "code",
      "source": [
        "df_contact = df_it[['id', 'name', 'region']].copy()"
      ],
      "metadata": {
        "id": "4_bsLKh2T62q"
      },
      "execution_count": 254,
      "outputs": []
    },
    {
      "cell_type": "markdown",
      "source": [
        "Соединим обработанные датасеты(`salary`, `employer`, `schedule`, `key_skills`) в один."
      ],
      "metadata": {
        "id": "Zp2OYy7QVAr6"
      }
    },
    {
      "cell_type": "code",
      "source": [
        "df = pd.concat([df_contact, salary_r, employer_r, schedule_r, key_skills_r, experience_r], axis=1)\n",
        "df.head()"
      ],
      "metadata": {
        "colab": {
          "base_uri": "https://localhost:8080/",
          "height": 548
        },
        "id": "-1i3DNqgU9ch",
        "outputId": "144ad2cd-ec11-4090-d40b-7d0cab36ff83"
      },
      "execution_count": 255,
      "outputs": [
        {
          "output_type": "execute_result",
          "data": {
            "text/plain": [
              "         id                                              name  \\\n",
              "0  49059633           Младший специалист ручного тестирования   \n",
              "1  54653519                                   Тестировщик.Net   \n",
              "2  55116066                                         Пентестер   \n",
              "3  54031261  Ведущий Специалист по информационным технологиям   \n",
              "4  55243040                   Специалист по защите информации   \n",
              "\n",
              "                 region  salary_min  salary_max salary_currency  \\\n",
              "0  Астраханская область         NaN         NaN             NaN   \n",
              "1  Астраханская область     21750.0     43500.0             RUR   \n",
              "2  Астраханская область         NaN         NaN             NaN   \n",
              "3  Астраханская область     22620.0         NaN             RUR   \n",
              "4  Астраханская область     20000.0     20000.0             RUR   \n",
              "\n",
              "                                       employer_name             sched  \\\n",
              "0                                             Яндекс  Удаленная работа   \n",
              "1                                         МФК Саммит       Полный день   \n",
              "2                                       SearchInform       Полный день   \n",
              "3                                       Почта России       Полный день   \n",
              "4  ГБПОУ АО Астраханский музыкальный колледж имен...       Полный день   \n",
              "\n",
              "                                     key_skills_list                 exp  \n",
              "0                                                 []           Нет опыта  \n",
              "1                  [Git, SQL, Тестирование, C#, API]  От 1 года до 3 лет  \n",
              "2  [SQL, Linux, Информационная безопасность, Рабо...       От 3 до 6 лет  \n",
              "3  [Пользователь ПК, Работа в команде, 1С: Предпр...           Нет опыта  \n",
              "4  [MS Dos, Диагностика ПК, Компьютер, Работа в у...           Нет опыта  "
            ],
            "text/html": [
              "\n",
              "  <div id=\"df-d984e47f-70f4-4d0c-9aa9-9c6b93cd8773\">\n",
              "    <div class=\"colab-df-container\">\n",
              "      <div>\n",
              "<style scoped>\n",
              "    .dataframe tbody tr th:only-of-type {\n",
              "        vertical-align: middle;\n",
              "    }\n",
              "\n",
              "    .dataframe tbody tr th {\n",
              "        vertical-align: top;\n",
              "    }\n",
              "\n",
              "    .dataframe thead th {\n",
              "        text-align: right;\n",
              "    }\n",
              "</style>\n",
              "<table border=\"1\" class=\"dataframe\">\n",
              "  <thead>\n",
              "    <tr style=\"text-align: right;\">\n",
              "      <th></th>\n",
              "      <th>id</th>\n",
              "      <th>name</th>\n",
              "      <th>region</th>\n",
              "      <th>salary_min</th>\n",
              "      <th>salary_max</th>\n",
              "      <th>salary_currency</th>\n",
              "      <th>employer_name</th>\n",
              "      <th>sched</th>\n",
              "      <th>key_skills_list</th>\n",
              "      <th>exp</th>\n",
              "    </tr>\n",
              "  </thead>\n",
              "  <tbody>\n",
              "    <tr>\n",
              "      <th>0</th>\n",
              "      <td>49059633</td>\n",
              "      <td>Младший специалист ручного тестирования</td>\n",
              "      <td>Астраханская область</td>\n",
              "      <td>NaN</td>\n",
              "      <td>NaN</td>\n",
              "      <td>NaN</td>\n",
              "      <td>Яндекс</td>\n",
              "      <td>Удаленная работа</td>\n",
              "      <td>[]</td>\n",
              "      <td>Нет опыта</td>\n",
              "    </tr>\n",
              "    <tr>\n",
              "      <th>1</th>\n",
              "      <td>54653519</td>\n",
              "      <td>Тестировщик.Net</td>\n",
              "      <td>Астраханская область</td>\n",
              "      <td>21750.0</td>\n",
              "      <td>43500.0</td>\n",
              "      <td>RUR</td>\n",
              "      <td>МФК Саммит</td>\n",
              "      <td>Полный день</td>\n",
              "      <td>[Git, SQL, Тестирование, C#, API]</td>\n",
              "      <td>От 1 года до 3 лет</td>\n",
              "    </tr>\n",
              "    <tr>\n",
              "      <th>2</th>\n",
              "      <td>55116066</td>\n",
              "      <td>Пентестер</td>\n",
              "      <td>Астраханская область</td>\n",
              "      <td>NaN</td>\n",
              "      <td>NaN</td>\n",
              "      <td>NaN</td>\n",
              "      <td>SearchInform</td>\n",
              "      <td>Полный день</td>\n",
              "      <td>[SQL, Linux, Информационная безопасность, Рабо...</td>\n",
              "      <td>От 3 до 6 лет</td>\n",
              "    </tr>\n",
              "    <tr>\n",
              "      <th>3</th>\n",
              "      <td>54031261</td>\n",
              "      <td>Ведущий Специалист по информационным технологиям</td>\n",
              "      <td>Астраханская область</td>\n",
              "      <td>22620.0</td>\n",
              "      <td>NaN</td>\n",
              "      <td>RUR</td>\n",
              "      <td>Почта России</td>\n",
              "      <td>Полный день</td>\n",
              "      <td>[Пользователь ПК, Работа в команде, 1С: Предпр...</td>\n",
              "      <td>Нет опыта</td>\n",
              "    </tr>\n",
              "    <tr>\n",
              "      <th>4</th>\n",
              "      <td>55243040</td>\n",
              "      <td>Специалист по защите информации</td>\n",
              "      <td>Астраханская область</td>\n",
              "      <td>20000.0</td>\n",
              "      <td>20000.0</td>\n",
              "      <td>RUR</td>\n",
              "      <td>ГБПОУ АО Астраханский музыкальный колледж имен...</td>\n",
              "      <td>Полный день</td>\n",
              "      <td>[MS Dos, Диагностика ПК, Компьютер, Работа в у...</td>\n",
              "      <td>Нет опыта</td>\n",
              "    </tr>\n",
              "  </tbody>\n",
              "</table>\n",
              "</div>\n",
              "      <button class=\"colab-df-convert\" onclick=\"convertToInteractive('df-d984e47f-70f4-4d0c-9aa9-9c6b93cd8773')\"\n",
              "              title=\"Convert this dataframe to an interactive table.\"\n",
              "              style=\"display:none;\">\n",
              "        \n",
              "  <svg xmlns=\"http://www.w3.org/2000/svg\" height=\"24px\"viewBox=\"0 0 24 24\"\n",
              "       width=\"24px\">\n",
              "    <path d=\"M0 0h24v24H0V0z\" fill=\"none\"/>\n",
              "    <path d=\"M18.56 5.44l.94 2.06.94-2.06 2.06-.94-2.06-.94-.94-2.06-.94 2.06-2.06.94zm-11 1L8.5 8.5l.94-2.06 2.06-.94-2.06-.94L8.5 2.5l-.94 2.06-2.06.94zm10 10l.94 2.06.94-2.06 2.06-.94-2.06-.94-.94-2.06-.94 2.06-2.06.94z\"/><path d=\"M17.41 7.96l-1.37-1.37c-.4-.4-.92-.59-1.43-.59-.52 0-1.04.2-1.43.59L10.3 9.45l-7.72 7.72c-.78.78-.78 2.05 0 2.83L4 21.41c.39.39.9.59 1.41.59.51 0 1.02-.2 1.41-.59l7.78-7.78 2.81-2.81c.8-.78.8-2.07 0-2.86zM5.41 20L4 18.59l7.72-7.72 1.47 1.35L5.41 20z\"/>\n",
              "  </svg>\n",
              "      </button>\n",
              "      \n",
              "  <style>\n",
              "    .colab-df-container {\n",
              "      display:flex;\n",
              "      flex-wrap:wrap;\n",
              "      gap: 12px;\n",
              "    }\n",
              "\n",
              "    .colab-df-convert {\n",
              "      background-color: #E8F0FE;\n",
              "      border: none;\n",
              "      border-radius: 50%;\n",
              "      cursor: pointer;\n",
              "      display: none;\n",
              "      fill: #1967D2;\n",
              "      height: 32px;\n",
              "      padding: 0 0 0 0;\n",
              "      width: 32px;\n",
              "    }\n",
              "\n",
              "    .colab-df-convert:hover {\n",
              "      background-color: #E2EBFA;\n",
              "      box-shadow: 0px 1px 2px rgba(60, 64, 67, 0.3), 0px 1px 3px 1px rgba(60, 64, 67, 0.15);\n",
              "      fill: #174EA6;\n",
              "    }\n",
              "\n",
              "    [theme=dark] .colab-df-convert {\n",
              "      background-color: #3B4455;\n",
              "      fill: #D2E3FC;\n",
              "    }\n",
              "\n",
              "    [theme=dark] .colab-df-convert:hover {\n",
              "      background-color: #434B5C;\n",
              "      box-shadow: 0px 1px 3px 1px rgba(0, 0, 0, 0.15);\n",
              "      filter: drop-shadow(0px 1px 2px rgba(0, 0, 0, 0.3));\n",
              "      fill: #FFFFFF;\n",
              "    }\n",
              "  </style>\n",
              "\n",
              "      <script>\n",
              "        const buttonEl =\n",
              "          document.querySelector('#df-d984e47f-70f4-4d0c-9aa9-9c6b93cd8773 button.colab-df-convert');\n",
              "        buttonEl.style.display =\n",
              "          google.colab.kernel.accessAllowed ? 'block' : 'none';\n",
              "\n",
              "        async function convertToInteractive(key) {\n",
              "          const element = document.querySelector('#df-d984e47f-70f4-4d0c-9aa9-9c6b93cd8773');\n",
              "          const dataTable =\n",
              "            await google.colab.kernel.invokeFunction('convertToInteractive',\n",
              "                                                     [key], {});\n",
              "          if (!dataTable) return;\n",
              "\n",
              "          const docLinkHtml = 'Like what you see? Visit the ' +\n",
              "            '<a target=\"_blank\" href=https://colab.research.google.com/notebooks/data_table.ipynb>data table notebook</a>'\n",
              "            + ' to learn more about interactive tables.';\n",
              "          element.innerHTML = '';\n",
              "          dataTable['output_type'] = 'display_data';\n",
              "          await google.colab.output.renderOutput(dataTable, element);\n",
              "          const docLink = document.createElement('div');\n",
              "          docLink.innerHTML = docLinkHtml;\n",
              "          element.appendChild(docLink);\n",
              "        }\n",
              "      </script>\n",
              "    </div>\n",
              "  </div>\n",
              "  "
            ]
          },
          "metadata": {},
          "execution_count": 255
        }
      ]
    },
    {
      "cell_type": "code",
      "source": [
        "df = df.rename(columns={'employer_name': 'employer', 'sched':'schedule', 'exp':'experience', 'key_skills_list': 'key_skills'})"
      ],
      "metadata": {
        "id": "2kVedcg8lRrX"
      },
      "execution_count": 256,
      "outputs": []
    },
    {
      "cell_type": "code",
      "source": [
        "df.info()"
      ],
      "metadata": {
        "id": "ySx1YseFYAV2",
        "outputId": "4724bf6c-b3c5-4952-9d8b-04e6136a2cbd",
        "colab": {
          "base_uri": "https://localhost:8080/"
        }
      },
      "execution_count": 257,
      "outputs": [
        {
          "output_type": "stream",
          "name": "stdout",
          "text": [
            "<class 'pandas.core.frame.DataFrame'>\n",
            "Int64Index: 50202 entries, 0 to 69655\n",
            "Data columns (total 10 columns):\n",
            " #   Column           Non-Null Count  Dtype  \n",
            "---  ------           --------------  -----  \n",
            " 0   id               50202 non-null  int64  \n",
            " 1   name             50202 non-null  object \n",
            " 2   region           50202 non-null  object \n",
            " 3   salary_min       20148 non-null  float64\n",
            " 4   salary_max       11847 non-null  float64\n",
            " 5   salary_currency  22650 non-null  object \n",
            " 6   employer         50202 non-null  object \n",
            " 7   schedule         50202 non-null  object \n",
            " 8   key_skills       50202 non-null  object \n",
            " 9   experience       50202 non-null  object \n",
            "dtypes: float64(2), int64(1), object(7)\n",
            "memory usage: 5.2+ MB\n"
          ]
        }
      ]
    },
    {
      "cell_type": "markdown",
      "source": [
        "## 5. Анализ числовых данных"
      ],
      "metadata": {
        "id": "0YPztHuIXf4l"
      }
    },
    {
      "cell_type": "markdown",
      "source": [
        "### **Неграфический анализ**"
      ],
      "metadata": {
        "id": "inmGlzWrMvYr"
      }
    },
    {
      "cell_type": "markdown",
      "source": [
        "Найдем максимальную зарплату, минимальную, среднюю и найдем медиану."
      ],
      "metadata": {
        "id": "FQRswAAL9xSr"
      }
    },
    {
      "cell_type": "code",
      "source": [
        "value_of_salary_from = df['salary_min']\n",
        "value_of_salary_to = df['salary_max']\n",
        "\n",
        "print('Максимальная зарплата', value_of_salary_to.max())\n",
        "print('Минимальная зарплата', value_of_salary_from.min())\n",
        "print('Средняя зарплата', value_of_salary_from.mean())\n",
        "print('Медиальная зарплата', value_of_salary_from.median())"
      ],
      "metadata": {
        "colab": {
          "base_uri": "https://localhost:8080/"
        },
        "id": "fXeoJnDY95K6",
        "outputId": "360625ab-f083-4d96-a812-74a4a2b4f1e5"
      },
      "execution_count": 258,
      "outputs": [
        {
          "output_type": "stream",
          "name": "stdout",
          "text": [
            "Максимальная зарплата 1740000.0\n",
            "Минимальная зарплата 25.0\n",
            "Средняя зарплата 79597.4225203494\n",
            "Медиальная зарплата 60000.0\n"
          ]
        }
      ]
    },
    {
      "cell_type": "code",
      "source": [
        "value_of_salary_from.describe().round(1)"
      ],
      "metadata": {
        "colab": {
          "base_uri": "https://localhost:8080/"
        },
        "id": "Z5UKMpBxLy06",
        "outputId": "62aded89-e06b-4c4d-8da6-cd2d22b7182d"
      },
      "execution_count": 259,
      "outputs": [
        {
          "output_type": "execute_result",
          "data": {
            "text/plain": [
              "count     20148.0\n",
              "mean      79597.4\n",
              "std       62195.5\n",
              "min          25.0\n",
              "25%       35000.0\n",
              "50%       60000.0\n",
              "75%      100000.0\n",
              "max      870000.0\n",
              "Name: salary_min, dtype: float64"
            ]
          },
          "metadata": {},
          "execution_count": 259
        }
      ]
    },
    {
      "cell_type": "markdown",
      "source": [
        "### **Графический анализ.**"
      ],
      "metadata": {
        "id": "QTlNQCqHMnTA"
      }
    },
    {
      "cell_type": "code",
      "source": [
        "value_of_salary_from = value_of_salary_from[value_of_salary_from < 350000]"
      ],
      "metadata": {
        "id": "POmy1tV9XkW_"
      },
      "execution_count": 260,
      "outputs": []
    },
    {
      "cell_type": "code",
      "source": [
        "plt.boxplot(value_of_salary_from)\n",
        "plt.axis(ymin=0, ymax=350000)\n",
        "plt.title('График boxplot зарплат \"от\"', fontsize=16)\n",
        "plt.ylabel('Размер зарплаты', fontsize=14)\n",
        "plt.style.use('seaborn')\n",
        "plt.show()"
      ],
      "metadata": {
        "colab": {
          "base_uri": "https://localhost:8080/",
          "height": 288
        },
        "id": "JnNDtgAkMuZ9",
        "outputId": "5d6ffa68-33bd-4144-a47b-f426cd0a2f3c"
      },
      "execution_count": 261,
      "outputs": [
        {
          "output_type": "display_data",
          "data": {
            "text/plain": [
              "<Figure size 432x288 with 1 Axes>"
            ],
            "image/png": "[encoded data removed]"
          },
          "metadata": {
            "needs_background": "light"
          }
        }
      ]
    },
    {
      "cell_type": "code",
      "source": [
        "plt.hist(value_of_salary_from, bins=20)\n",
        "plt.title('Гистограмма размера зарплат', fontsize=16)\n",
        "plt.ylabel('Количесто вакансий', fontsize=14)\n",
        "plt.xlabel('Размер зарплат', fontsize=14)\n",
        "plt.style.use('bmh')\n",
        "plt.show()"
      ],
      "metadata": {
        "colab": {
          "base_uri": "https://localhost:8080/",
          "height": 391
        },
        "id": "mmmqBwFyd_06",
        "outputId": "bc698dde-2b88-4b8e-e77a-6005b7827959"
      },
      "execution_count": 262,
      "outputs": [
        {
          "output_type": "display_data",
          "data": {
            "text/plain": [
              "<Figure size 576x396 with 1 Axes>"
            ],
            "image/png": "[encoded data removed]"
          },
          "metadata": {}
        }
      ]
    },
    {
      "cell_type": "markdown",
      "source": [
        "**Выводы:** Основной бокс зарплат от 36000 до 100000. Средняя зарплата по информационным технологиям 79000, медиальная 60000, то есть больше всего вакансий с зарплатой в размере 60000."
      ],
      "metadata": {
        "id": "J8HbBeydO11Q"
      }
    },
    {
      "cell_type": "markdown",
      "source": [
        "## 6. Анализ категориальных данных"
      ],
      "metadata": {
        "id": "-YTy0-x5XtCl"
      }
    },
    {
      "cell_type": "markdown",
      "source": [
        "### **Неграфический анализ**"
      ],
      "metadata": {
        "id": "UIorKSDNXpfe"
      }
    },
    {
      "cell_type": "code",
      "source": [
        "df['name'].describe()"
      ],
      "metadata": {
        "colab": {
          "base_uri": "https://localhost:8080/"
        },
        "id": "yKAGzsGrWHvO",
        "outputId": "193ae517-4736-43f9-9b27-eefc4467ba72"
      },
      "execution_count": 263,
      "outputs": [
        {
          "output_type": "execute_result",
          "data": {
            "text/plain": [
              "count                       50202\n",
              "unique                      24008\n",
              "top       Системный администратор\n",
              "freq                         1650\n",
              "Name: name, dtype: object"
            ]
          },
          "metadata": {},
          "execution_count": 263
        }
      ]
    },
    {
      "cell_type": "markdown",
      "source": [
        "Самая часто встречающаяся вакансия(1650 раз) \"Системный администратор\"."
      ],
      "metadata": {
        "id": "T69GUsnRWS9M"
      }
    },
    {
      "cell_type": "markdown",
      "source": [
        "Выведем топ-20 часто встречающихся вакансий."
      ],
      "metadata": {
        "id": "JZFesbmMXN0r"
      }
    },
    {
      "cell_type": "code",
      "source": [
        "df['name'].value_counts()[:20]"
      ],
      "metadata": {
        "colab": {
          "base_uri": "https://localhost:8080/"
        },
        "id": "rkTgLVlCWlXE",
        "outputId": "e62bbf59-5ca2-413c-82f6-2ee1a16eda81"
      },
      "execution_count": 264,
      "outputs": [
        {
          "output_type": "execute_result",
          "data": {
            "text/plain": [
              "Системный администратор                        1650\n",
              "Программист 1С                                 1119\n",
              "Специалист технической поддержки                478\n",
              "Системный аналитик                              465\n",
              "Аналитик                                        343\n",
              "Инженер-программист                             328\n",
              "Программист 1C                                  325\n",
              "Графический дизайнер                            312\n",
              "Инженер технической поддержки                   273\n",
              "Бизнес-аналитик                                 267\n",
              "Дизайнер                                        252\n",
              "Технический писатель                            214\n",
              "Руководитель проекта                            210\n",
              "Специалист по информационной безопасности       185\n",
              "Frontend-разработчик                            184\n",
              "Программист                                     181\n",
              "DevOps инженер                                  181\n",
              "Специалист службы поддержки в Яндекс Бизнес     168\n",
              "Руководитель проектов                           162\n",
              "Менеджер проектов                               161\n",
              "Name: name, dtype: int64"
            ]
          },
          "metadata": {},
          "execution_count": 264
        }
      ]
    },
    {
      "cell_type": "markdown",
      "source": [
        "Видим, что программист 1С встречается дважды, возможно, это из-за того, что \"С\" написано и на русском и на аглийском."
      ],
      "metadata": {
        "id": "4Pi4dRi0t0JF"
      }
    },
    {
      "cell_type": "markdown",
      "source": [
        "Посмотрим какие специальности еще повторяются и попытаемся привести их к одному виду. Напишем функцию для замены значений."
      ],
      "metadata": {
        "id": "dV7Yo1mwZmey"
      }
    },
    {
      "cell_type": "code",
      "source": [
        "def replace_duplicates_name(wrong_values, correct_value):\n",
        "  for wrong_value in wrong_values:\n",
        "    df['name'] = df['name'].replace(wrong_value, correct_value)"
      ],
      "metadata": {
        "id": "BsRPzhN5akmS"
      },
      "execution_count": 265,
      "outputs": []
    },
    {
      "cell_type": "markdown",
      "source": [
        "Функция для поиска подстроки в названии, которая выводит список со всеми некорректными названиями."
      ],
      "metadata": {
        "id": "4Wq7fGoOpHlZ"
      }
    },
    {
      "cell_type": "code",
      "source": [
        "def search_for_similar_name(str):\n",
        "  district = []\n",
        "  for name in df['name']:\n",
        "    if str.lower() in name.lower():\n",
        "      district.append(name)\n",
        "  return district"
      ],
      "metadata": {
        "id": "I5pdXoIWeEoM"
      },
      "execution_count": 266,
      "outputs": []
    },
    {
      "cell_type": "code",
      "source": [
        "replace_duplicates_name(search_for_similar_name('поддержки'), 'Специалист службы поддержки')\n",
        "replace_duplicates_name(search_for_similar_name('Ведущий специалист по информационным технологиям'), 'Ведущий специалист по информационным технологиям')\n",
        "replace_duplicates_name(search_for_similar_name('1с'), 'Программист 1С')\n",
        "replace_duplicates_name(search_for_similar_name('1c'), 'Программист 1С')\n",
        "replace_duplicates_name(search_for_similar_name('1 с'), 'Программист 1С')\n",
        "replace_duplicates_name(search_for_similar_name('1 c'), 'Программист 1С')"
      ],
      "metadata": {
        "id": "raq5f1kGcHUS"
      },
      "execution_count": 267,
      "outputs": []
    },
    {
      "cell_type": "code",
      "source": [
        "df['name'].describe()"
      ],
      "metadata": {
        "colab": {
          "base_uri": "https://localhost:8080/"
        },
        "id": "YoOhwCPEZYzE",
        "outputId": "224531ff-038c-4f4c-adba-f83ecad8e5f5"
      },
      "execution_count": 268,
      "outputs": [
        {
          "output_type": "execute_result",
          "data": {
            "text/plain": [
              "count              50202\n",
              "unique             21316\n",
              "top       Программист 1С\n",
              "freq                4809\n",
              "Name: name, dtype: object"
            ]
          },
          "metadata": {},
          "execution_count": 268
        }
      ]
    },
    {
      "cell_type": "markdown",
      "source": [
        "Видим, что значение популярной вакансии изменилось."
      ],
      "metadata": {
        "id": "oeR6HNrDii2f"
      }
    },
    {
      "cell_type": "code",
      "source": [
        "df['name'].value_counts()[:20]"
      ],
      "metadata": {
        "colab": {
          "base_uri": "https://localhost:8080/"
        },
        "id": "QN0wHmwWTVso",
        "outputId": "7bf02290-d4d4-428a-ddc1-5d3be8bba470"
      },
      "execution_count": 269,
      "outputs": [
        {
          "output_type": "execute_result",
          "data": {
            "text/plain": [
              "Программист 1С                               4809\n",
              "Специалист службы поддержки                  4187\n",
              "Системный администратор                      1650\n",
              "Системный аналитик                            465\n",
              "Аналитик                                      343\n",
              "Инженер-программист                           328\n",
              "Графический дизайнер                          312\n",
              "Бизнес-аналитик                               267\n",
              "Дизайнер                                      252\n",
              "Технический писатель                          214\n",
              "Руководитель проекта                          210\n",
              "Специалист по информационной безопасности     185\n",
              "Frontend-разработчик                          184\n",
              "Программист                                   181\n",
              "DevOps инженер                                181\n",
              "Руководитель проектов                         162\n",
              "Менеджер проектов                             161\n",
              "Младший специалист ручного тестирования       159\n",
              "Java-разработчик                              143\n",
              "Ведущий системный администратор               132\n",
              "Name: name, dtype: int64"
            ]
          },
          "metadata": {},
          "execution_count": 269
        }
      ]
    },
    {
      "cell_type": "markdown",
      "source": [
        "Выведем топ ключевых навыков."
      ],
      "metadata": {
        "id": "ARkrQOBgxM0g"
      }
    },
    {
      "cell_type": "code",
      "source": [
        "key_df = df[['key_skills', 'id']]\n",
        "key_df"
      ],
      "metadata": {
        "id": "UvK-8XJL1X9A",
        "colab": {
          "base_uri": "https://localhost:8080/",
          "height": 423
        },
        "outputId": "619efc67-d0e7-4fac-aeb5-8edd1f4084eb"
      },
      "execution_count": 271,
      "outputs": [
        {
          "output_type": "execute_result",
          "data": {
            "text/plain": [
              "                                              key_skills        id\n",
              "0                                                     []  49059633\n",
              "1                      [Git, SQL, Тестирование, C#, API]  54653519\n",
              "2      [SQL, Linux, Информационная безопасность, Рабо...  55116066\n",
              "3      [Пользователь ПК, Работа в команде, 1С: Предпр...  54031261\n",
              "4      [MS Dos, Диагностика ПК, Компьютер, Работа в у...  55243040\n",
              "...                                                  ...       ...\n",
              "69651                                                 []  66113834\n",
              "69652  [1С: Управление Торговлей, 1С: Предприятие 8, ...  66113885\n",
              "69653  [Организаторские навыки, Работа в команде, Упр...  54749225\n",
              "69654                                                 []  55498724\n",
              "69655  [Информационная безопасность, Аудит безопаснос...  55544352\n",
              "\n",
              "[50202 rows x 2 columns]"
            ],
            "text/html": [
              "\n",
              "  <div id=\"df-2e847167-ff28-4062-964e-a93ad623be3d\">\n",
              "    <div class=\"colab-df-container\">\n",
              "      <div>\n",
              "<style scoped>\n",
              "    .dataframe tbody tr th:only-of-type {\n",
              "        vertical-align: middle;\n",
              "    }\n",
              "\n",
              "    .dataframe tbody tr th {\n",
              "        vertical-align: top;\n",
              "    }\n",
              "\n",
              "    .dataframe thead th {\n",
              "        text-align: right;\n",
              "    }\n",
              "</style>\n",
              "<table border=\"1\" class=\"dataframe\">\n",
              "  <thead>\n",
              "    <tr style=\"text-align: right;\">\n",
              "      <th></th>\n",
              "      <th>key_skills</th>\n",
              "      <th>id</th>\n",
              "    </tr>\n",
              "  </thead>\n",
              "  <tbody>\n",
              "    <tr>\n",
              "      <th>0</th>\n",
              "      <td>[]</td>\n",
              "      <td>49059633</td>\n",
              "    </tr>\n",
              "    <tr>\n",
              "      <th>1</th>\n",
              "      <td>[Git, SQL, Тестирование, C#, API]</td>\n",
              "      <td>54653519</td>\n",
              "    </tr>\n",
              "    <tr>\n",
              "      <th>2</th>\n",
              "      <td>[SQL, Linux, Информационная безопасность, Рабо...</td>\n",
              "      <td>55116066</td>\n",
              "    </tr>\n",
              "    <tr>\n",
              "      <th>3</th>\n",
              "      <td>[Пользователь ПК, Работа в команде, 1С: Предпр...</td>\n",
              "      <td>54031261</td>\n",
              "    </tr>\n",
              "    <tr>\n",
              "      <th>4</th>\n",
              "      <td>[MS Dos, Диагностика ПК, Компьютер, Работа в у...</td>\n",
              "      <td>55243040</td>\n",
              "    </tr>\n",
              "    <tr>\n",
              "      <th>...</th>\n",
              "      <td>...</td>\n",
              "      <td>...</td>\n",
              "    </tr>\n",
              "    <tr>\n",
              "      <th>69651</th>\n",
              "      <td>[]</td>\n",
              "      <td>66113834</td>\n",
              "    </tr>\n",
              "    <tr>\n",
              "      <th>69652</th>\n",
              "      <td>[1С: Управление Торговлей, 1С: Предприятие 8, ...</td>\n",
              "      <td>66113885</td>\n",
              "    </tr>\n",
              "    <tr>\n",
              "      <th>69653</th>\n",
              "      <td>[Организаторские навыки, Работа в команде, Упр...</td>\n",
              "      <td>54749225</td>\n",
              "    </tr>\n",
              "    <tr>\n",
              "      <th>69654</th>\n",
              "      <td>[]</td>\n",
              "      <td>55498724</td>\n",
              "    </tr>\n",
              "    <tr>\n",
              "      <th>69655</th>\n",
              "      <td>[Информационная безопасность, Аудит безопаснос...</td>\n",
              "      <td>55544352</td>\n",
              "    </tr>\n",
              "  </tbody>\n",
              "</table>\n",
              "<p>50202 rows × 2 columns</p>\n",
              "</div>\n",
              "      <button class=\"colab-df-convert\" onclick=\"convertToInteractive('df-2e847167-ff28-4062-964e-a93ad623be3d')\"\n",
              "              title=\"Convert this dataframe to an interactive table.\"\n",
              "              style=\"display:none;\">\n",
              "        \n",
              "  <svg xmlns=\"http://www.w3.org/2000/svg\" height=\"24px\"viewBox=\"0 0 24 24\"\n",
              "       width=\"24px\">\n",
              "    <path d=\"M0 0h24v24H0V0z\" fill=\"none\"/>\n",
              "    <path d=\"M18.56 5.44l.94 2.06.94-2.06 2.06-.94-2.06-.94-.94-2.06-.94 2.06-2.06.94zm-11 1L8.5 8.5l.94-2.06 2.06-.94-2.06-.94L8.5 2.5l-.94 2.06-2.06.94zm10 10l.94 2.06.94-2.06 2.06-.94-2.06-.94-.94-2.06-.94 2.06-2.06.94z\"/><path d=\"M17.41 7.96l-1.37-1.37c-.4-.4-.92-.59-1.43-.59-.52 0-1.04.2-1.43.59L10.3 9.45l-7.72 7.72c-.78.78-.78 2.05 0 2.83L4 21.41c.39.39.9.59 1.41.59.51 0 1.02-.2 1.41-.59l7.78-7.78 2.81-2.81c.8-.78.8-2.07 0-2.86zM5.41 20L4 18.59l7.72-7.72 1.47 1.35L5.41 20z\"/>\n",
              "  </svg>\n",
              "      </button>\n",
              "      \n",
              "  <style>\n",
              "    .colab-df-container {\n",
              "      display:flex;\n",
              "      flex-wrap:wrap;\n",
              "      gap: 12px;\n",
              "    }\n",
              "\n",
              "    .colab-df-convert {\n",
              "      background-color: #E8F0FE;\n",
              "      border: none;\n",
              "      border-radius: 50%;\n",
              "      cursor: pointer;\n",
              "      display: none;\n",
              "      fill: #1967D2;\n",
              "      height: 32px;\n",
              "      padding: 0 0 0 0;\n",
              "      width: 32px;\n",
              "    }\n",
              "\n",
              "    .colab-df-convert:hover {\n",
              "      background-color: #E2EBFA;\n",
              "      box-shadow: 0px 1px 2px rgba(60, 64, 67, 0.3), 0px 1px 3px 1px rgba(60, 64, 67, 0.15);\n",
              "      fill: #174EA6;\n",
              "    }\n",
              "\n",
              "    [theme=dark] .colab-df-convert {\n",
              "      background-color: #3B4455;\n",
              "      fill: #D2E3FC;\n",
              "    }\n",
              "\n",
              "    [theme=dark] .colab-df-convert:hover {\n",
              "      background-color: #434B5C;\n",
              "      box-shadow: 0px 1px 3px 1px rgba(0, 0, 0, 0.15);\n",
              "      filter: drop-shadow(0px 1px 2px rgba(0, 0, 0, 0.3));\n",
              "      fill: #FFFFFF;\n",
              "    }\n",
              "  </style>\n",
              "\n",
              "      <script>\n",
              "        const buttonEl =\n",
              "          document.querySelector('#df-2e847167-ff28-4062-964e-a93ad623be3d button.colab-df-convert');\n",
              "        buttonEl.style.display =\n",
              "          google.colab.kernel.accessAllowed ? 'block' : 'none';\n",
              "\n",
              "        async function convertToInteractive(key) {\n",
              "          const element = document.querySelector('#df-2e847167-ff28-4062-964e-a93ad623be3d');\n",
              "          const dataTable =\n",
              "            await google.colab.kernel.invokeFunction('convertToInteractive',\n",
              "                                                     [key], {});\n",
              "          if (!dataTable) return;\n",
              "\n",
              "          const docLinkHtml = 'Like what you see? Visit the ' +\n",
              "            '<a target=\"_blank\" href=https://colab.research.google.com/notebooks/data_table.ipynb>data table notebook</a>'\n",
              "            + ' to learn more about interactive tables.';\n",
              "          element.innerHTML = '';\n",
              "          dataTable['output_type'] = 'display_data';\n",
              "          await google.colab.output.renderOutput(dataTable, element);\n",
              "          const docLink = document.createElement('div');\n",
              "          docLink.innerHTML = docLinkHtml;\n",
              "          element.appendChild(docLink);\n",
              "        }\n",
              "      </script>\n",
              "    </div>\n",
              "  </div>\n",
              "  "
            ]
          },
          "metadata": {},
          "execution_count": 271
        }
      ]
    },
    {
      "cell_type": "code",
      "source": [
        "key_df = key_df.explode('key_skills').dropna() \n",
        "key_df[:20]"
      ],
      "metadata": {
        "id": "ZzYqUPJB1763",
        "colab": {
          "base_uri": "https://localhost:8080/",
          "height": 676
        },
        "outputId": "eb58cdb3-5353-4553-863a-62e54fde4fdd"
      },
      "execution_count": 272,
      "outputs": [
        {
          "output_type": "execute_result",
          "data": {
            "text/plain": [
              "                           key_skills        id\n",
              "1                                 Git  54653519\n",
              "1                                 SQL  54653519\n",
              "1                        Тестирование  54653519\n",
              "1                                  C#  54653519\n",
              "1                                 API  54653519\n",
              "2                                 SQL  55116066\n",
              "2                               Linux  55116066\n",
              "2         Информационная безопасность  55116066\n",
              "2              Работа с базами данных  55116066\n",
              "2                         Базы данных  55116066\n",
              "3                     Пользователь ПК  54031261\n",
              "3                    Работа в команде  54031261\n",
              "3                   1С: Предприятие 8  54031261\n",
              "3                          MS Outlook  54031261\n",
              "3  Администрирование серверов Windows  54031261\n",
              "4                              MS Dos  55243040\n",
              "4                      Диагностика ПК  55243040\n",
              "4                           Компьютер  55243040\n",
              "4   Работа в условиях многозадачности  55243040\n",
              "4                Работа с компьютером  55243040"
            ],
            "text/html": [
              "\n",
              "  <div id=\"df-08c77da5-0c2d-4c07-a4df-fd95e243aee8\">\n",
              "    <div class=\"colab-df-container\">\n",
              "      <div>\n",
              "<style scoped>\n",
              "    .dataframe tbody tr th:only-of-type {\n",
              "        vertical-align: middle;\n",
              "    }\n",
              "\n",
              "    .dataframe tbody tr th {\n",
              "        vertical-align: top;\n",
              "    }\n",
              "\n",
              "    .dataframe thead th {\n",
              "        text-align: right;\n",
              "    }\n",
              "</style>\n",
              "<table border=\"1\" class=\"dataframe\">\n",
              "  <thead>\n",
              "    <tr style=\"text-align: right;\">\n",
              "      <th></th>\n",
              "      <th>key_skills</th>\n",
              "      <th>id</th>\n",
              "    </tr>\n",
              "  </thead>\n",
              "  <tbody>\n",
              "    <tr>\n",
              "      <th>1</th>\n",
              "      <td>Git</td>\n",
              "      <td>54653519</td>\n",
              "    </tr>\n",
              "    <tr>\n",
              "      <th>1</th>\n",
              "      <td>SQL</td>\n",
              "      <td>54653519</td>\n",
              "    </tr>\n",
              "    <tr>\n",
              "      <th>1</th>\n",
              "      <td>Тестирование</td>\n",
              "      <td>54653519</td>\n",
              "    </tr>\n",
              "    <tr>\n",
              "      <th>1</th>\n",
              "      <td>C#</td>\n",
              "      <td>54653519</td>\n",
              "    </tr>\n",
              "    <tr>\n",
              "      <th>1</th>\n",
              "      <td>API</td>\n",
              "      <td>54653519</td>\n",
              "    </tr>\n",
              "    <tr>\n",
              "      <th>2</th>\n",
              "      <td>SQL</td>\n",
              "      <td>55116066</td>\n",
              "    </tr>\n",
              "    <tr>\n",
              "      <th>2</th>\n",
              "      <td>Linux</td>\n",
              "      <td>55116066</td>\n",
              "    </tr>\n",
              "    <tr>\n",
              "      <th>2</th>\n",
              "      <td>Информационная безопасность</td>\n",
              "      <td>55116066</td>\n",
              "    </tr>\n",
              "    <tr>\n",
              "      <th>2</th>\n",
              "      <td>Работа с базами данных</td>\n",
              "      <td>55116066</td>\n",
              "    </tr>\n",
              "    <tr>\n",
              "      <th>2</th>\n",
              "      <td>Базы данных</td>\n",
              "      <td>55116066</td>\n",
              "    </tr>\n",
              "    <tr>\n",
              "      <th>3</th>\n",
              "      <td>Пользователь ПК</td>\n",
              "      <td>54031261</td>\n",
              "    </tr>\n",
              "    <tr>\n",
              "      <th>3</th>\n",
              "      <td>Работа в команде</td>\n",
              "      <td>54031261</td>\n",
              "    </tr>\n",
              "    <tr>\n",
              "      <th>3</th>\n",
              "      <td>1С: Предприятие 8</td>\n",
              "      <td>54031261</td>\n",
              "    </tr>\n",
              "    <tr>\n",
              "      <th>3</th>\n",
              "      <td>MS Outlook</td>\n",
              "      <td>54031261</td>\n",
              "    </tr>\n",
              "    <tr>\n",
              "      <th>3</th>\n",
              "      <td>Администрирование серверов Windows</td>\n",
              "      <td>54031261</td>\n",
              "    </tr>\n",
              "    <tr>\n",
              "      <th>4</th>\n",
              "      <td>MS Dos</td>\n",
              "      <td>55243040</td>\n",
              "    </tr>\n",
              "    <tr>\n",
              "      <th>4</th>\n",
              "      <td>Диагностика ПК</td>\n",
              "      <td>55243040</td>\n",
              "    </tr>\n",
              "    <tr>\n",
              "      <th>4</th>\n",
              "      <td>Компьютер</td>\n",
              "      <td>55243040</td>\n",
              "    </tr>\n",
              "    <tr>\n",
              "      <th>4</th>\n",
              "      <td>Работа в условиях многозадачности</td>\n",
              "      <td>55243040</td>\n",
              "    </tr>\n",
              "    <tr>\n",
              "      <th>4</th>\n",
              "      <td>Работа с компьютером</td>\n",
              "      <td>55243040</td>\n",
              "    </tr>\n",
              "  </tbody>\n",
              "</table>\n",
              "</div>\n",
              "      <button class=\"colab-df-convert\" onclick=\"convertToInteractive('df-08c77da5-0c2d-4c07-a4df-fd95e243aee8')\"\n",
              "              title=\"Convert this dataframe to an interactive table.\"\n",
              "              style=\"display:none;\">\n",
              "        \n",
              "  <svg xmlns=\"http://www.w3.org/2000/svg\" height=\"24px\"viewBox=\"0 0 24 24\"\n",
              "       width=\"24px\">\n",
              "    <path d=\"M0 0h24v24H0V0z\" fill=\"none\"/>\n",
              "    <path d=\"M18.56 5.44l.94 2.06.94-2.06 2.06-.94-2.06-.94-.94-2.06-.94 2.06-2.06.94zm-11 1L8.5 8.5l.94-2.06 2.06-.94-2.06-.94L8.5 2.5l-.94 2.06-2.06.94zm10 10l.94 2.06.94-2.06 2.06-.94-2.06-.94-.94-2.06-.94 2.06-2.06.94z\"/><path d=\"M17.41 7.96l-1.37-1.37c-.4-.4-.92-.59-1.43-.59-.52 0-1.04.2-1.43.59L10.3 9.45l-7.72 7.72c-.78.78-.78 2.05 0 2.83L4 21.41c.39.39.9.59 1.41.59.51 0 1.02-.2 1.41-.59l7.78-7.78 2.81-2.81c.8-.78.8-2.07 0-2.86zM5.41 20L4 18.59l7.72-7.72 1.47 1.35L5.41 20z\"/>\n",
              "  </svg>\n",
              "      </button>\n",
              "      \n",
              "  <style>\n",
              "    .colab-df-container {\n",
              "      display:flex;\n",
              "      flex-wrap:wrap;\n",
              "      gap: 12px;\n",
              "    }\n",
              "\n",
              "    .colab-df-convert {\n",
              "      background-color: #E8F0FE;\n",
              "      border: none;\n",
              "      border-radius: 50%;\n",
              "      cursor: pointer;\n",
              "      display: none;\n",
              "      fill: #1967D2;\n",
              "      height: 32px;\n",
              "      padding: 0 0 0 0;\n",
              "      width: 32px;\n",
              "    }\n",
              "\n",
              "    .colab-df-convert:hover {\n",
              "      background-color: #E2EBFA;\n",
              "      box-shadow: 0px 1px 2px rgba(60, 64, 67, 0.3), 0px 1px 3px 1px rgba(60, 64, 67, 0.15);\n",
              "      fill: #174EA6;\n",
              "    }\n",
              "\n",
              "    [theme=dark] .colab-df-convert {\n",
              "      background-color: #3B4455;\n",
              "      fill: #D2E3FC;\n",
              "    }\n",
              "\n",
              "    [theme=dark] .colab-df-convert:hover {\n",
              "      background-color: #434B5C;\n",
              "      box-shadow: 0px 1px 3px 1px rgba(0, 0, 0, 0.15);\n",
              "      filter: drop-shadow(0px 1px 2px rgba(0, 0, 0, 0.3));\n",
              "      fill: #FFFFFF;\n",
              "    }\n",
              "  </style>\n",
              "\n",
              "      <script>\n",
              "        const buttonEl =\n",
              "          document.querySelector('#df-08c77da5-0c2d-4c07-a4df-fd95e243aee8 button.colab-df-convert');\n",
              "        buttonEl.style.display =\n",
              "          google.colab.kernel.accessAllowed ? 'block' : 'none';\n",
              "\n",
              "        async function convertToInteractive(key) {\n",
              "          const element = document.querySelector('#df-08c77da5-0c2d-4c07-a4df-fd95e243aee8');\n",
              "          const dataTable =\n",
              "            await google.colab.kernel.invokeFunction('convertToInteractive',\n",
              "                                                     [key], {});\n",
              "          if (!dataTable) return;\n",
              "\n",
              "          const docLinkHtml = 'Like what you see? Visit the ' +\n",
              "            '<a target=\"_blank\" href=https://colab.research.google.com/notebooks/data_table.ipynb>data table notebook</a>'\n",
              "            + ' to learn more about interactive tables.';\n",
              "          element.innerHTML = '';\n",
              "          dataTable['output_type'] = 'display_data';\n",
              "          await google.colab.output.renderOutput(dataTable, element);\n",
              "          const docLink = document.createElement('div');\n",
              "          docLink.innerHTML = docLinkHtml;\n",
              "          element.appendChild(docLink);\n",
              "        }\n",
              "      </script>\n",
              "    </div>\n",
              "  </div>\n",
              "  "
            ]
          },
          "metadata": {},
          "execution_count": 272
        }
      ]
    },
    {
      "cell_type": "code",
      "source": [
        "top_key = key_df['key_skills'].value_counts()\n",
        "top_key[:10]"
      ],
      "metadata": {
        "id": "mATS_dRR4Z9s",
        "colab": {
          "base_uri": "https://localhost:8080/"
        },
        "outputId": "7acbf4d2-b50c-4f9d-fbc4-df1df214b7a7"
      },
      "execution_count": 273,
      "outputs": [
        {
          "output_type": "execute_result",
          "data": {
            "text/plain": [
              "SQL                     6360\n",
              "Linux                   4912\n",
              "Git                     4569\n",
              "Английский язык         3948\n",
              "Работа в команде        3465\n",
              "Управление проектами    3443\n",
              "Python                  3227\n",
              "JavaScript              2755\n",
              "1С программирование     2587\n",
              "PostgreSQL              2550\n",
              "Name: key_skills, dtype: int64"
            ]
          },
          "metadata": {},
          "execution_count": 273
        }
      ]
    },
    {
      "cell_type": "markdown",
      "source": [
        "Видим, что наиболее популярные навыки это SQL, Linux, Git, Английский язык, Работа в команде."
      ],
      "metadata": {
        "id": "f9zaDXNooQua"
      }
    },
    {
      "cell_type": "markdown",
      "source": [
        "### **Графический анализ**"
      ],
      "metadata": {
        "id": "52NN5JfuXw0U"
      }
    },
    {
      "cell_type": "markdown",
      "source": [
        "Построим топ вакансий IT."
      ],
      "metadata": {
        "id": "Ezdev22MKnzL"
      }
    },
    {
      "cell_type": "code",
      "source": [
        "top_name = df['name'].value_counts()[:20]"
      ],
      "metadata": {
        "id": "CzXASec3Kr5p"
      },
      "execution_count": 274,
      "outputs": []
    },
    {
      "cell_type": "code",
      "source": [
        "plt.xticks(rotation=30, ha='right')\n",
        "plt.title('Топ 20 IT вакансий')\n",
        "plt.style.use('seaborn-pastel')\n",
        "plt.xlabel('Количество вакансий')\n",
        "params = {\n",
        "    'axes.titlesize':16,\n",
        "    'xtick.labelsize':12,\n",
        "    'ytick.labelsize':14,\n",
        "    'axes.labelsize':14\n",
        "}\n",
        "plt.rcParams.update(params)\n",
        "plt.barh(top_name.index, top_name.values)\n",
        "plt.show()"
      ],
      "metadata": {
        "colab": {
          "base_uri": "https://localhost:8080/",
          "height": 398
        },
        "id": "Wbpy4MW8LKsQ",
        "outputId": "1ccc629e-9535-40b7-f4d4-faae0798d34c"
      },
      "execution_count": 275,
      "outputs": [
        {
          "output_type": "display_data",
          "data": {
            "text/plain": [
              "<Figure size 576x396 with 1 Axes>"
            ],
            "image/png": "[encoded data removed]"
          },
          "metadata": {}
        }
      ]
    },
    {
      "cell_type": "markdown",
      "source": [
        "Построим график топ-20 навыков."
      ],
      "metadata": {
        "id": "PpceNZuNnSOu"
      }
    },
    {
      "cell_type": "code",
      "source": [
        "top_key = top_key[:20]"
      ],
      "metadata": {
        "id": "w_cVgB3wqtKi"
      },
      "execution_count": 276,
      "outputs": []
    },
    {
      "cell_type": "code",
      "source": [
        "plt.xticks(rotation=30, ha='right')\n",
        "plt.title('Топ 20 ключевых навыков')\n",
        "plt.style.use('classic')\n",
        "plt.xlabel('Количество вакансий с требованиями')\n",
        "params = {\n",
        "    'axes.titlesize':16,\n",
        "    'xtick.labelsize':12,\n",
        "    'ytick.labelsize':14,\n",
        "    'axes.labelsize':14\n",
        "}\n",
        "plt.rcParams.update(params)\n",
        "plt.barh(top_key.index, top_key.values)\n",
        "plt.show()"
      ],
      "metadata": {
        "colab": {
          "base_uri": "https://localhost:8080/",
          "height": 407
        },
        "id": "vKFyTlGYX0X0",
        "outputId": "45adb78b-88bf-4581-b616-dd404dab2023"
      },
      "execution_count": 277,
      "outputs": [
        {
          "output_type": "display_data",
          "data": {
            "text/plain": [
              "<Figure size 576x396 with 1 Axes>"
            ],
            "image/png": "[encoded data removed]"
          },
          "metadata": {}
        }
      ]
    },
    {
      "cell_type": "markdown",
      "source": [
        "**Вывод:** Видим, что популярными вакансиями являются Программист 1С, Специалист службы поддержки, Системный администратор. \n",
        "Востребованные навыки: SQL, Linux, Git."
      ],
      "metadata": {
        "id": "_iYfKCVYhqL0"
      }
    },
    {
      "cell_type": "markdown",
      "source": [
        "## 7. Анализ взаимосвязей колонок"
      ],
      "metadata": {
        "id": "bJzZ0i1OX8i_"
      }
    },
    {
      "cell_type": "markdown",
      "source": [
        "### **1. Анализ взаимосвязи категориальной и числовой переменных.**"
      ],
      "metadata": {
        "id": "jYTlVrsNL_nJ"
      }
    },
    {
      "cell_type": "markdown",
      "source": [
        "Возьмем колонку с зарплатой \"от\" и название вакансии. Посчитаем среднюю зарплату по вакансиям."
      ],
      "metadata": {
        "id": "8gWsliJ6MLUl"
      }
    },
    {
      "cell_type": "code",
      "source": [
        "districts = ['Программист 1С', 'Специалист службы поддержки', 'Системный администратор', 'Системный аналитик', 'Аналитик']\n",
        "\n",
        "filter = df['name'].isin(districts)\n",
        "\n",
        "filter_df = df[filter]"
      ],
      "metadata": {
        "id": "zrgj3tQuQVv5"
      },
      "execution_count": 278,
      "outputs": []
    },
    {
      "cell_type": "code",
      "source": [
        "filter_df.groupby('name')['salary_min'].describe()"
      ],
      "metadata": {
        "colab": {
          "base_uri": "https://localhost:8080/",
          "height": 281
        },
        "id": "1L-4sRVQPwm0",
        "outputId": "1d364051-d687-495e-ab1a-a654feb67dde"
      },
      "execution_count": 279,
      "outputs": [
        {
          "output_type": "execute_result",
          "data": {
            "text/plain": [
              "                              count           mean           std      min  \\\n",
              "name                                                                        \n",
              "Аналитик                      138.0   56379.734348  37089.575511     30.0   \n",
              "Программист 1С               2482.0   97017.128884  46796.829914     60.0   \n",
              "Системный администратор      1002.0   51545.705409  23455.860209     30.0   \n",
              "Системный аналитик             78.0  106606.192564  55576.227781  28971.0   \n",
              "Специалист службы поддержки  2796.0   33343.926295  23922.014991  11310.0   \n",
              "\n",
              "                                   25%      50%       75%       max  \n",
              "name                                                                 \n",
              "Аналитик                     35000.000  45000.0   60000.0  200100.0  \n",
              "Программист 1С               60000.000  95700.0  130000.0  304500.0  \n",
              "Системный администратор      35000.000  47000.0   60900.0  180000.0  \n",
              "Системный аналитик           67215.765  90000.0  150000.0  261000.0  \n",
              "Специалист службы поддержки  13050.000  27000.0   40237.5  300000.0  "
            ],
            "text/html": [
              "\n",
              "  <div id=\"df-a2c7a6e7-d5e2-462d-8ede-83bbfb986bcc\">\n",
              "    <div class=\"colab-df-container\">\n",
              "      <div>\n",
              "<style scoped>\n",
              "    .dataframe tbody tr th:only-of-type {\n",
              "        vertical-align: middle;\n",
              "    }\n",
              "\n",
              "    .dataframe tbody tr th {\n",
              "        vertical-align: top;\n",
              "    }\n",
              "\n",
              "    .dataframe thead th {\n",
              "        text-align: right;\n",
              "    }\n",
              "</style>\n",
              "<table border=\"1\" class=\"dataframe\">\n",
              "  <thead>\n",
              "    <tr style=\"text-align: right;\">\n",
              "      <th></th>\n",
              "      <th>count</th>\n",
              "      <th>mean</th>\n",
              "      <th>std</th>\n",
              "      <th>min</th>\n",
              "      <th>25%</th>\n",
              "      <th>50%</th>\n",
              "      <th>75%</th>\n",
              "      <th>max</th>\n",
              "    </tr>\n",
              "    <tr>\n",
              "      <th>name</th>\n",
              "      <th></th>\n",
              "      <th></th>\n",
              "      <th></th>\n",
              "      <th></th>\n",
              "      <th></th>\n",
              "      <th></th>\n",
              "      <th></th>\n",
              "      <th></th>\n",
              "    </tr>\n",
              "  </thead>\n",
              "  <tbody>\n",
              "    <tr>\n",
              "      <th>Аналитик</th>\n",
              "      <td>138.0</td>\n",
              "      <td>56379.734348</td>\n",
              "      <td>37089.575511</td>\n",
              "      <td>30.0</td>\n",
              "      <td>35000.000</td>\n",
              "      <td>45000.0</td>\n",
              "      <td>60000.0</td>\n",
              "      <td>200100.0</td>\n",
              "    </tr>\n",
              "    <tr>\n",
              "      <th>Программист 1С</th>\n",
              "      <td>2482.0</td>\n",
              "      <td>97017.128884</td>\n",
              "      <td>46796.829914</td>\n",
              "      <td>60.0</td>\n",
              "      <td>60000.000</td>\n",
              "      <td>95700.0</td>\n",
              "      <td>130000.0</td>\n",
              "      <td>304500.0</td>\n",
              "    </tr>\n",
              "    <tr>\n",
              "      <th>Системный администратор</th>\n",
              "      <td>1002.0</td>\n",
              "      <td>51545.705409</td>\n",
              "      <td>23455.860209</td>\n",
              "      <td>30.0</td>\n",
              "      <td>35000.000</td>\n",
              "      <td>47000.0</td>\n",
              "      <td>60900.0</td>\n",
              "      <td>180000.0</td>\n",
              "    </tr>\n",
              "    <tr>\n",
              "      <th>Системный аналитик</th>\n",
              "      <td>78.0</td>\n",
              "      <td>106606.192564</td>\n",
              "      <td>55576.227781</td>\n",
              "      <td>28971.0</td>\n",
              "      <td>67215.765</td>\n",
              "      <td>90000.0</td>\n",
              "      <td>150000.0</td>\n",
              "      <td>261000.0</td>\n",
              "    </tr>\n",
              "    <tr>\n",
              "      <th>Специалист службы поддержки</th>\n",
              "      <td>2796.0</td>\n",
              "      <td>33343.926295</td>\n",
              "      <td>23922.014991</td>\n",
              "      <td>11310.0</td>\n",
              "      <td>13050.000</td>\n",
              "      <td>27000.0</td>\n",
              "      <td>40237.5</td>\n",
              "      <td>300000.0</td>\n",
              "    </tr>\n",
              "  </tbody>\n",
              "</table>\n",
              "</div>\n",
              "      <button class=\"colab-df-convert\" onclick=\"convertToInteractive('df-a2c7a6e7-d5e2-462d-8ede-83bbfb986bcc')\"\n",
              "              title=\"Convert this dataframe to an interactive table.\"\n",
              "              style=\"display:none;\">\n",
              "        \n",
              "  <svg xmlns=\"http://www.w3.org/2000/svg\" height=\"24px\"viewBox=\"0 0 24 24\"\n",
              "       width=\"24px\">\n",
              "    <path d=\"M0 0h24v24H0V0z\" fill=\"none\"/>\n",
              "    <path d=\"M18.56 5.44l.94 2.06.94-2.06 2.06-.94-2.06-.94-.94-2.06-.94 2.06-2.06.94zm-11 1L8.5 8.5l.94-2.06 2.06-.94-2.06-.94L8.5 2.5l-.94 2.06-2.06.94zm10 10l.94 2.06.94-2.06 2.06-.94-2.06-.94-.94-2.06-.94 2.06-2.06.94z\"/><path d=\"M17.41 7.96l-1.37-1.37c-.4-.4-.92-.59-1.43-.59-.52 0-1.04.2-1.43.59L10.3 9.45l-7.72 7.72c-.78.78-.78 2.05 0 2.83L4 21.41c.39.39.9.59 1.41.59.51 0 1.02-.2 1.41-.59l7.78-7.78 2.81-2.81c.8-.78.8-2.07 0-2.86zM5.41 20L4 18.59l7.72-7.72 1.47 1.35L5.41 20z\"/>\n",
              "  </svg>\n",
              "      </button>\n",
              "      \n",
              "  <style>\n",
              "    .colab-df-container {\n",
              "      display:flex;\n",
              "      flex-wrap:wrap;\n",
              "      gap: 12px;\n",
              "    }\n",
              "\n",
              "    .colab-df-convert {\n",
              "      background-color: #E8F0FE;\n",
              "      border: none;\n",
              "      border-radius: 50%;\n",
              "      cursor: pointer;\n",
              "      display: none;\n",
              "      fill: #1967D2;\n",
              "      height: 32px;\n",
              "      padding: 0 0 0 0;\n",
              "      width: 32px;\n",
              "    }\n",
              "\n",
              "    .colab-df-convert:hover {\n",
              "      background-color: #E2EBFA;\n",
              "      box-shadow: 0px 1px 2px rgba(60, 64, 67, 0.3), 0px 1px 3px 1px rgba(60, 64, 67, 0.15);\n",
              "      fill: #174EA6;\n",
              "    }\n",
              "\n",
              "    [theme=dark] .colab-df-convert {\n",
              "      background-color: #3B4455;\n",
              "      fill: #D2E3FC;\n",
              "    }\n",
              "\n",
              "    [theme=dark] .colab-df-convert:hover {\n",
              "      background-color: #434B5C;\n",
              "      box-shadow: 0px 1px 3px 1px rgba(0, 0, 0, 0.15);\n",
              "      filter: drop-shadow(0px 1px 2px rgba(0, 0, 0, 0.3));\n",
              "      fill: #FFFFFF;\n",
              "    }\n",
              "  </style>\n",
              "\n",
              "      <script>\n",
              "        const buttonEl =\n",
              "          document.querySelector('#df-a2c7a6e7-d5e2-462d-8ede-83bbfb986bcc button.colab-df-convert');\n",
              "        buttonEl.style.display =\n",
              "          google.colab.kernel.accessAllowed ? 'block' : 'none';\n",
              "\n",
              "        async function convertToInteractive(key) {\n",
              "          const element = document.querySelector('#df-a2c7a6e7-d5e2-462d-8ede-83bbfb986bcc');\n",
              "          const dataTable =\n",
              "            await google.colab.kernel.invokeFunction('convertToInteractive',\n",
              "                                                     [key], {});\n",
              "          if (!dataTable) return;\n",
              "\n",
              "          const docLinkHtml = 'Like what you see? Visit the ' +\n",
              "            '<a target=\"_blank\" href=https://colab.research.google.com/notebooks/data_table.ipynb>data table notebook</a>'\n",
              "            + ' to learn more about interactive tables.';\n",
              "          element.innerHTML = '';\n",
              "          dataTable['output_type'] = 'display_data';\n",
              "          await google.colab.output.renderOutput(dataTable, element);\n",
              "          const docLink = document.createElement('div');\n",
              "          docLink.innerHTML = docLinkHtml;\n",
              "          element.appendChild(docLink);\n",
              "        }\n",
              "      </script>\n",
              "    </div>\n",
              "  </div>\n",
              "  "
            ]
          },
          "metadata": {},
          "execution_count": 279
        }
      ]
    },
    {
      "cell_type": "markdown",
      "source": [
        "*Построим график.*"
      ],
      "metadata": {
        "id": "GuvPgGmyVnxW"
      }
    },
    {
      "cell_type": "code",
      "source": [
        "plt.axis(ymin=0, ymax=270000)\n",
        "plt.title('График зарплат топ-5 вакансий', fontsize=16)\n",
        "plt.ylabel('Зарплата', fontsize=14)\n",
        "plt.xlabel('Вакансии', fontsize=14)\n",
        "plt.style.use('seaborn-bright')\n",
        "sns.boxplot(x='salary_min', y='name', data=filter_df)\n",
        "plt.show()"
      ],
      "metadata": {
        "colab": {
          "base_uri": "https://localhost:8080/",
          "height": 475
        },
        "id": "cXfICLtUVJXQ",
        "outputId": "92f49ac7-3167-4df2-90cf-71f7a5ca021e"
      },
      "execution_count": 280,
      "outputs": [
        {
          "output_type": "display_data",
          "data": {
            "text/plain": [
              "<Figure size 640x480 with 1 Axes>"
            ],
            "image/png": "[encoded data removed]"
          },
          "metadata": {}
        }
      ]
    },
    {
      "cell_type": "markdown",
      "source": [
        "### **2. Анализ двух категориальных переменных.**"
      ],
      "metadata": {
        "id": "HV8hQLF_QCBo"
      }
    },
    {
      "cell_type": "markdown",
      "source": [
        "Возьмем названия топ-5 вакансий и ключевые навыки."
      ],
      "metadata": {
        "id": "7lunUibnQKgN"
      }
    },
    {
      "cell_type": "code",
      "source": [
        "graf_df = filter_df[['key_skills', 'name']]\n",
        "graf_df = graf_df.explode('key_skills').dropna()\n",
        "graf_df\n"
      ],
      "metadata": {
        "colab": {
          "base_uri": "https://localhost:8080/",
          "height": 423
        },
        "id": "qYTaqYbPzMV0",
        "outputId": "fb49334a-bca3-4be5-a8c3-b3507254117d"
      },
      "execution_count": 282,
      "outputs": [
        {
          "output_type": "execute_result",
          "data": {
            "text/plain": [
              "                                    key_skills                     name\n",
              "56            Ответственность и пунктуальность  Системный администратор\n",
              "56     Администрирование сетевого оборудования  Системный администратор\n",
              "56               Настройка сетевых подключений  Системный администратор\n",
              "56                                Настройка ПК  Системный администратор\n",
              "56                                Настройка ПО  Системный администратор\n",
              "...                                        ...                      ...\n",
              "69652                 1С: Управление Торговлей           Программист 1С\n",
              "69652                        1С: Предприятие 8           Программист 1С\n",
              "69652                      1С программирование           Программист 1С\n",
              "69652     1С: Зарплата и управление персоналом           Программист 1С\n",
              "69652                             1С: Торговля           Программист 1С\n",
              "\n",
              "[51694 rows x 2 columns]"
            ],
            "text/html": [
              "\n",
              "  <div id=\"df-65c25fd3-a5b1-45ab-9d1d-d63cc3e90796\">\n",
              "    <div class=\"colab-df-container\">\n",
              "      <div>\n",
              "<style scoped>\n",
              "    .dataframe tbody tr th:only-of-type {\n",
              "        vertical-align: middle;\n",
              "    }\n",
              "\n",
              "    .dataframe tbody tr th {\n",
              "        vertical-align: top;\n",
              "    }\n",
              "\n",
              "    .dataframe thead th {\n",
              "        text-align: right;\n",
              "    }\n",
              "</style>\n",
              "<table border=\"1\" class=\"dataframe\">\n",
              "  <thead>\n",
              "    <tr style=\"text-align: right;\">\n",
              "      <th></th>\n",
              "      <th>key_skills</th>\n",
              "      <th>name</th>\n",
              "    </tr>\n",
              "  </thead>\n",
              "  <tbody>\n",
              "    <tr>\n",
              "      <th>56</th>\n",
              "      <td>Ответственность и пунктуальность</td>\n",
              "      <td>Системный администратор</td>\n",
              "    </tr>\n",
              "    <tr>\n",
              "      <th>56</th>\n",
              "      <td>Администрирование сетевого оборудования</td>\n",
              "      <td>Системный администратор</td>\n",
              "    </tr>\n",
              "    <tr>\n",
              "      <th>56</th>\n",
              "      <td>Настройка сетевых подключений</td>\n",
              "      <td>Системный администратор</td>\n",
              "    </tr>\n",
              "    <tr>\n",
              "      <th>56</th>\n",
              "      <td>Настройка ПК</td>\n",
              "      <td>Системный администратор</td>\n",
              "    </tr>\n",
              "    <tr>\n",
              "      <th>56</th>\n",
              "      <td>Настройка ПО</td>\n",
              "      <td>Системный администратор</td>\n",
              "    </tr>\n",
              "    <tr>\n",
              "      <th>...</th>\n",
              "      <td>...</td>\n",
              "      <td>...</td>\n",
              "    </tr>\n",
              "    <tr>\n",
              "      <th>69652</th>\n",
              "      <td>1С: Управление Торговлей</td>\n",
              "      <td>Программист 1С</td>\n",
              "    </tr>\n",
              "    <tr>\n",
              "      <th>69652</th>\n",
              "      <td>1С: Предприятие 8</td>\n",
              "      <td>Программист 1С</td>\n",
              "    </tr>\n",
              "    <tr>\n",
              "      <th>69652</th>\n",
              "      <td>1С программирование</td>\n",
              "      <td>Программист 1С</td>\n",
              "    </tr>\n",
              "    <tr>\n",
              "      <th>69652</th>\n",
              "      <td>1С: Зарплата и управление персоналом</td>\n",
              "      <td>Программист 1С</td>\n",
              "    </tr>\n",
              "    <tr>\n",
              "      <th>69652</th>\n",
              "      <td>1С: Торговля</td>\n",
              "      <td>Программист 1С</td>\n",
              "    </tr>\n",
              "  </tbody>\n",
              "</table>\n",
              "<p>51694 rows × 2 columns</p>\n",
              "</div>\n",
              "      <button class=\"colab-df-convert\" onclick=\"convertToInteractive('df-65c25fd3-a5b1-45ab-9d1d-d63cc3e90796')\"\n",
              "              title=\"Convert this dataframe to an interactive table.\"\n",
              "              style=\"display:none;\">\n",
              "        \n",
              "  <svg xmlns=\"http://www.w3.org/2000/svg\" height=\"24px\"viewBox=\"0 0 24 24\"\n",
              "       width=\"24px\">\n",
              "    <path d=\"M0 0h24v24H0V0z\" fill=\"none\"/>\n",
              "    <path d=\"M18.56 5.44l.94 2.06.94-2.06 2.06-.94-2.06-.94-.94-2.06-.94 2.06-2.06.94zm-11 1L8.5 8.5l.94-2.06 2.06-.94-2.06-.94L8.5 2.5l-.94 2.06-2.06.94zm10 10l.94 2.06.94-2.06 2.06-.94-2.06-.94-.94-2.06-.94 2.06-2.06.94z\"/><path d=\"M17.41 7.96l-1.37-1.37c-.4-.4-.92-.59-1.43-.59-.52 0-1.04.2-1.43.59L10.3 9.45l-7.72 7.72c-.78.78-.78 2.05 0 2.83L4 21.41c.39.39.9.59 1.41.59.51 0 1.02-.2 1.41-.59l7.78-7.78 2.81-2.81c.8-.78.8-2.07 0-2.86zM5.41 20L4 18.59l7.72-7.72 1.47 1.35L5.41 20z\"/>\n",
              "  </svg>\n",
              "      </button>\n",
              "      \n",
              "  <style>\n",
              "    .colab-df-container {\n",
              "      display:flex;\n",
              "      flex-wrap:wrap;\n",
              "      gap: 12px;\n",
              "    }\n",
              "\n",
              "    .colab-df-convert {\n",
              "      background-color: #E8F0FE;\n",
              "      border: none;\n",
              "      border-radius: 50%;\n",
              "      cursor: pointer;\n",
              "      display: none;\n",
              "      fill: #1967D2;\n",
              "      height: 32px;\n",
              "      padding: 0 0 0 0;\n",
              "      width: 32px;\n",
              "    }\n",
              "\n",
              "    .colab-df-convert:hover {\n",
              "      background-color: #E2EBFA;\n",
              "      box-shadow: 0px 1px 2px rgba(60, 64, 67, 0.3), 0px 1px 3px 1px rgba(60, 64, 67, 0.15);\n",
              "      fill: #174EA6;\n",
              "    }\n",
              "\n",
              "    [theme=dark] .colab-df-convert {\n",
              "      background-color: #3B4455;\n",
              "      fill: #D2E3FC;\n",
              "    }\n",
              "\n",
              "    [theme=dark] .colab-df-convert:hover {\n",
              "      background-color: #434B5C;\n",
              "      box-shadow: 0px 1px 3px 1px rgba(0, 0, 0, 0.15);\n",
              "      filter: drop-shadow(0px 1px 2px rgba(0, 0, 0, 0.3));\n",
              "      fill: #FFFFFF;\n",
              "    }\n",
              "  </style>\n",
              "\n",
              "      <script>\n",
              "        const buttonEl =\n",
              "          document.querySelector('#df-65c25fd3-a5b1-45ab-9d1d-d63cc3e90796 button.colab-df-convert');\n",
              "        buttonEl.style.display =\n",
              "          google.colab.kernel.accessAllowed ? 'block' : 'none';\n",
              "\n",
              "        async function convertToInteractive(key) {\n",
              "          const element = document.querySelector('#df-65c25fd3-a5b1-45ab-9d1d-d63cc3e90796');\n",
              "          const dataTable =\n",
              "            await google.colab.kernel.invokeFunction('convertToInteractive',\n",
              "                                                     [key], {});\n",
              "          if (!dataTable) return;\n",
              "\n",
              "          const docLinkHtml = 'Like what you see? Visit the ' +\n",
              "            '<a target=\"_blank\" href=https://colab.research.google.com/notebooks/data_table.ipynb>data table notebook</a>'\n",
              "            + ' to learn more about interactive tables.';\n",
              "          element.innerHTML = '';\n",
              "          dataTable['output_type'] = 'display_data';\n",
              "          await google.colab.output.renderOutput(dataTable, element);\n",
              "          const docLink = document.createElement('div');\n",
              "          docLink.innerHTML = docLinkHtml;\n",
              "          element.appendChild(docLink);\n",
              "        }\n",
              "      </script>\n",
              "    </div>\n",
              "  </div>\n",
              "  "
            ]
          },
          "metadata": {},
          "execution_count": 282
        }
      ]
    },
    {
      "cell_type": "code",
      "source": [
        "name_types = graf_df['name'].unique()\n",
        "\n",
        "for name_type in name_types: \n",
        "  spec_df = graf_df[graf_df['name']==name_type]\n",
        "\n",
        "  class_counts = spec_df['key_skills'].value_counts()[:5]\n",
        "  labels =class_counts.index\n",
        "\n",
        "  plt.title(name_type)\n",
        "  patches, texts = plt.pie(\n",
        "      class_counts.values, \n",
        "      labels = labels, \n",
        "      textprops=dict(color=\"b\") \n",
        "      )\n",
        "\n",
        "  plt.style.use('seaborn-white')\n",
        "  plt.show()"
      ],
      "metadata": {
        "id": "4ExcEi4-SY6B",
        "colab": {
          "base_uri": "https://localhost:8080/",
          "height": 1000
        },
        "outputId": "2fc0a832-4d55-4ee0-b137-f88aa50e7563"
      },
      "execution_count": 284,
      "outputs": [
        {
          "output_type": "display_data",
          "data": {
            "text/plain": [
              "<Figure size 640x480 with 1 Axes>"
            ],
            "image/png": "[encoded data removed]"
          },
          "metadata": {}
        },
        {
          "output_type": "display_data",
          "data": {
            "text/plain": [
              "<Figure size 640x480 with 1 Axes>"
            ],
            "image/png": "[encoded data removed]"
          },
          "metadata": {}
        },
        {
          "output_type": "display_data",
          "data": {
            "text/plain": [
              "<Figure size 640x480 with 1 Axes>"
            ],
            "image/png": "[encoded data removed]"
          },
          "metadata": {}
        },
        {
          "output_type": "display_data",
          "data": {
            "text/plain": [
              "<Figure size 640x480 with 1 Axes>"
            ],
            "image/png": "[encoded data removed]"
          },
          "metadata": {}
        },
        {
          "output_type": "display_data",
          "data": {
            "text/plain": [
              "<Figure size 640x480 with 1 Axes>"
            ],
            "image/png": "[encoded data removed]"
          },
          "metadata": {}
        }
      ]
    },
    {
      "cell_type": "markdown",
      "source": [
        "**Вывод:** На графиках видно какие ключевые навыки требуются и какие из них чаще встречаются в топ-5 вакансиях. "
      ],
      "metadata": {
        "id": "wpQtjoZa8Z_v"
      }
    },
    {
      "cell_type": "markdown",
      "source": [
        "## Выводы."
      ],
      "metadata": {
        "id": "WbMkg7xyowdO"
      }
    },
    {
      "cell_type": "markdown",
      "source": [
        "Мы проанализировали датасет, выяснили, что в среднем размер зарплаты составляет 79000 для IT специализаций. Нашли популярные вакансии, ими оказались программист 1С, мпециалист службы поддержки, системный администратор. Увидели, что основными требуемыми навыками являются SQL, Linux, Git, знание английского языка. Так же вывели топ навыков для 10 топовых профессий."
      ],
      "metadata": {
        "id": "AVEkUKVRppoP"
      }
    },
    {
      "cell_type": "markdown",
      "source": [
        "# **Статистический анализ данных.**"
      ],
      "metadata": {
        "id": "E0nG6YV5V155"
      }
    },
    {
      "cell_type": "markdown",
      "source": [
        "## 1. Структурирование таблицы. Таблица \"объект-свойство\""
      ],
      "metadata": {
        "id": "A4OyWQOZcNs0"
      }
    },
    {
      "cell_type": "markdown",
      "source": [
        "Для удобства из всего датасета возьмем нужные нам колонки."
      ],
      "metadata": {
        "id": "E0G9ej6n9vxN"
      }
    },
    {
      "cell_type": "code",
      "source": [
        "stat_df = df.drop(['id', 'salary_currency'], axis=1)\n",
        "stat_df.head()"
      ],
      "metadata": {
        "colab": {
          "base_uri": "https://localhost:8080/",
          "height": 475
        },
        "id": "ng7Pewq28A26",
        "outputId": "f5c91b0d-c785-418d-da6a-9519d402995e"
      },
      "execution_count": 285,
      "outputs": [
        {
          "output_type": "execute_result",
          "data": {
            "text/plain": [
              "                                               name                region  \\\n",
              "0           Младший специалист ручного тестирования  Астраханская область   \n",
              "1                                   Тестировщик.Net  Астраханская область   \n",
              "2                                         Пентестер  Астраханская область   \n",
              "3  Ведущий специалист по информационным технологиям  Астраханская область   \n",
              "4                   Специалист по защите информации  Астраханская область   \n",
              "\n",
              "   salary_min  salary_max                                           employer  \\\n",
              "0         NaN         NaN                                             Яндекс   \n",
              "1     21750.0     43500.0                                         МФК Саммит   \n",
              "2         NaN         NaN                                       SearchInform   \n",
              "3     22620.0         NaN                                       Почта России   \n",
              "4     20000.0     20000.0  ГБПОУ АО Астраханский музыкальный колледж имен...   \n",
              "\n",
              "           schedule                                         key_skills  \\\n",
              "0  Удаленная работа                                                 []   \n",
              "1       Полный день                  [Git, SQL, Тестирование, C#, API]   \n",
              "2       Полный день  [SQL, Linux, Информационная безопасность, Рабо...   \n",
              "3       Полный день  [Пользователь ПК, Работа в команде, 1С: Предпр...   \n",
              "4       Полный день  [MS Dos, Диагностика ПК, Компьютер, Работа в у...   \n",
              "\n",
              "           experience  \n",
              "0           Нет опыта  \n",
              "1  От 1 года до 3 лет  \n",
              "2       От 3 до 6 лет  \n",
              "3           Нет опыта  \n",
              "4           Нет опыта  "
            ],
            "text/html": [
              "\n",
              "  <div id=\"df-b8bd34c9-f01b-4224-ba5f-3f34d1df5f7c\">\n",
              "    <div class=\"colab-df-container\">\n",
              "      <div>\n",
              "<style scoped>\n",
              "    .dataframe tbody tr th:only-of-type {\n",
              "        vertical-align: middle;\n",
              "    }\n",
              "\n",
              "    .dataframe tbody tr th {\n",
              "        vertical-align: top;\n",
              "    }\n",
              "\n",
              "    .dataframe thead th {\n",
              "        text-align: right;\n",
              "    }\n",
              "</style>\n",
              "<table border=\"1\" class=\"dataframe\">\n",
              "  <thead>\n",
              "    <tr style=\"text-align: right;\">\n",
              "      <th></th>\n",
              "      <th>name</th>\n",
              "      <th>region</th>\n",
              "      <th>salary_min</th>\n",
              "      <th>salary_max</th>\n",
              "      <th>employer</th>\n",
              "      <th>schedule</th>\n",
              "      <th>key_skills</th>\n",
              "      <th>experience</th>\n",
              "    </tr>\n",
              "  </thead>\n",
              "  <tbody>\n",
              "    <tr>\n",
              "      <th>0</th>\n",
              "      <td>Младший специалист ручного тестирования</td>\n",
              "      <td>Астраханская область</td>\n",
              "      <td>NaN</td>\n",
              "      <td>NaN</td>\n",
              "      <td>Яндекс</td>\n",
              "      <td>Удаленная работа</td>\n",
              "      <td>[]</td>\n",
              "      <td>Нет опыта</td>\n",
              "    </tr>\n",
              "    <tr>\n",
              "      <th>1</th>\n",
              "      <td>Тестировщик.Net</td>\n",
              "      <td>Астраханская область</td>\n",
              "      <td>21750.0</td>\n",
              "      <td>43500.0</td>\n",
              "      <td>МФК Саммит</td>\n",
              "      <td>Полный день</td>\n",
              "      <td>[Git, SQL, Тестирование, C#, API]</td>\n",
              "      <td>От 1 года до 3 лет</td>\n",
              "    </tr>\n",
              "    <tr>\n",
              "      <th>2</th>\n",
              "      <td>Пентестер</td>\n",
              "      <td>Астраханская область</td>\n",
              "      <td>NaN</td>\n",
              "      <td>NaN</td>\n",
              "      <td>SearchInform</td>\n",
              "      <td>Полный день</td>\n",
              "      <td>[SQL, Linux, Информационная безопасность, Рабо...</td>\n",
              "      <td>От 3 до 6 лет</td>\n",
              "    </tr>\n",
              "    <tr>\n",
              "      <th>3</th>\n",
              "      <td>Ведущий специалист по информационным технологиям</td>\n",
              "      <td>Астраханская область</td>\n",
              "      <td>22620.0</td>\n",
              "      <td>NaN</td>\n",
              "      <td>Почта России</td>\n",
              "      <td>Полный день</td>\n",
              "      <td>[Пользователь ПК, Работа в команде, 1С: Предпр...</td>\n",
              "      <td>Нет опыта</td>\n",
              "    </tr>\n",
              "    <tr>\n",
              "      <th>4</th>\n",
              "      <td>Специалист по защите информации</td>\n",
              "      <td>Астраханская область</td>\n",
              "      <td>20000.0</td>\n",
              "      <td>20000.0</td>\n",
              "      <td>ГБПОУ АО Астраханский музыкальный колледж имен...</td>\n",
              "      <td>Полный день</td>\n",
              "      <td>[MS Dos, Диагностика ПК, Компьютер, Работа в у...</td>\n",
              "      <td>Нет опыта</td>\n",
              "    </tr>\n",
              "  </tbody>\n",
              "</table>\n",
              "</div>\n",
              "      <button class=\"colab-df-convert\" onclick=\"convertToInteractive('df-b8bd34c9-f01b-4224-ba5f-3f34d1df5f7c')\"\n",
              "              title=\"Convert this dataframe to an interactive table.\"\n",
              "              style=\"display:none;\">\n",
              "        \n",
              "  <svg xmlns=\"http://www.w3.org/2000/svg\" height=\"24px\"viewBox=\"0 0 24 24\"\n",
              "       width=\"24px\">\n",
              "    <path d=\"M0 0h24v24H0V0z\" fill=\"none\"/>\n",
              "    <path d=\"M18.56 5.44l.94 2.06.94-2.06 2.06-.94-2.06-.94-.94-2.06-.94 2.06-2.06.94zm-11 1L8.5 8.5l.94-2.06 2.06-.94-2.06-.94L8.5 2.5l-.94 2.06-2.06.94zm10 10l.94 2.06.94-2.06 2.06-.94-2.06-.94-.94-2.06-.94 2.06-2.06.94z\"/><path d=\"M17.41 7.96l-1.37-1.37c-.4-.4-.92-.59-1.43-.59-.52 0-1.04.2-1.43.59L10.3 9.45l-7.72 7.72c-.78.78-.78 2.05 0 2.83L4 21.41c.39.39.9.59 1.41.59.51 0 1.02-.2 1.41-.59l7.78-7.78 2.81-2.81c.8-.78.8-2.07 0-2.86zM5.41 20L4 18.59l7.72-7.72 1.47 1.35L5.41 20z\"/>\n",
              "  </svg>\n",
              "      </button>\n",
              "      \n",
              "  <style>\n",
              "    .colab-df-container {\n",
              "      display:flex;\n",
              "      flex-wrap:wrap;\n",
              "      gap: 12px;\n",
              "    }\n",
              "\n",
              "    .colab-df-convert {\n",
              "      background-color: #E8F0FE;\n",
              "      border: none;\n",
              "      border-radius: 50%;\n",
              "      cursor: pointer;\n",
              "      display: none;\n",
              "      fill: #1967D2;\n",
              "      height: 32px;\n",
              "      padding: 0 0 0 0;\n",
              "      width: 32px;\n",
              "    }\n",
              "\n",
              "    .colab-df-convert:hover {\n",
              "      background-color: #E2EBFA;\n",
              "      box-shadow: 0px 1px 2px rgba(60, 64, 67, 0.3), 0px 1px 3px 1px rgba(60, 64, 67, 0.15);\n",
              "      fill: #174EA6;\n",
              "    }\n",
              "\n",
              "    [theme=dark] .colab-df-convert {\n",
              "      background-color: #3B4455;\n",
              "      fill: #D2E3FC;\n",
              "    }\n",
              "\n",
              "    [theme=dark] .colab-df-convert:hover {\n",
              "      background-color: #434B5C;\n",
              "      box-shadow: 0px 1px 3px 1px rgba(0, 0, 0, 0.15);\n",
              "      filter: drop-shadow(0px 1px 2px rgba(0, 0, 0, 0.3));\n",
              "      fill: #FFFFFF;\n",
              "    }\n",
              "  </style>\n",
              "\n",
              "      <script>\n",
              "        const buttonEl =\n",
              "          document.querySelector('#df-b8bd34c9-f01b-4224-ba5f-3f34d1df5f7c button.colab-df-convert');\n",
              "        buttonEl.style.display =\n",
              "          google.colab.kernel.accessAllowed ? 'block' : 'none';\n",
              "\n",
              "        async function convertToInteractive(key) {\n",
              "          const element = document.querySelector('#df-b8bd34c9-f01b-4224-ba5f-3f34d1df5f7c');\n",
              "          const dataTable =\n",
              "            await google.colab.kernel.invokeFunction('convertToInteractive',\n",
              "                                                     [key], {});\n",
              "          if (!dataTable) return;\n",
              "\n",
              "          const docLinkHtml = 'Like what you see? Visit the ' +\n",
              "            '<a target=\"_blank\" href=https://colab.research.google.com/notebooks/data_table.ipynb>data table notebook</a>'\n",
              "            + ' to learn more about interactive tables.';\n",
              "          element.innerHTML = '';\n",
              "          dataTable['output_type'] = 'display_data';\n",
              "          await google.colab.output.renderOutput(dataTable, element);\n",
              "          const docLink = document.createElement('div');\n",
              "          docLink.innerHTML = docLinkHtml;\n",
              "          element.appendChild(docLink);\n",
              "        }\n",
              "      </script>\n",
              "    </div>\n",
              "  </div>\n",
              "  "
            ]
          },
          "metadata": {},
          "execution_count": 285
        }
      ]
    },
    {
      "cell_type": "markdown",
      "source": [
        "## 2. Определение типов данных."
      ],
      "metadata": {
        "id": "S4KieDticegZ"
      }
    },
    {
      "cell_type": "code",
      "source": [
        "stat_df.info()"
      ],
      "metadata": {
        "id": "gakad4kWcmv6",
        "colab": {
          "base_uri": "https://localhost:8080/"
        },
        "outputId": "7be12336-058f-4eb7-a9af-70ad55cf8233"
      },
      "execution_count": 286,
      "outputs": [
        {
          "output_type": "stream",
          "name": "stdout",
          "text": [
            "<class 'pandas.core.frame.DataFrame'>\n",
            "Int64Index: 50202 entries, 0 to 69655\n",
            "Data columns (total 8 columns):\n",
            " #   Column      Non-Null Count  Dtype  \n",
            "---  ------      --------------  -----  \n",
            " 0   name        50202 non-null  object \n",
            " 1   region      50202 non-null  object \n",
            " 2   salary_min  20148 non-null  float64\n",
            " 3   salary_max  11847 non-null  float64\n",
            " 4   employer    50202 non-null  object \n",
            " 5   schedule    50202 non-null  object \n",
            " 6   key_skills  50202 non-null  object \n",
            " 7   experience  50202 non-null  object \n",
            "dtypes: float64(2), object(6)\n",
            "memory usage: 4.5+ MB\n"
          ]
        }
      ]
    },
    {
      "cell_type": "markdown",
      "source": [
        "Типы данных в stat_df:\n",
        " 1. name - категориальный тип\n",
        " 2. salary_ min, salary_max - количественный тип\n",
        " 3. employer - категориальный тип\n",
        " 4. region - категориальный тип\n",
        " 5. shedule - категориальный тип\n",
        " 6. experience - категориальный тип (можно привести к порядковому)\n",
        " 7. key_skills - категориальный тип\n"
      ],
      "metadata": {
        "id": "GxLFltMydYOu"
      }
    },
    {
      "cell_type": "markdown",
      "source": [
        "## 3. Визуализация данных в зависимости от типа."
      ],
      "metadata": {
        "id": "czVA42lfcnRm"
      }
    },
    {
      "cell_type": "markdown",
      "source": [
        "### Гистограмма"
      ],
      "metadata": {
        "id": "w8Az0pq4eYLq"
      }
    },
    {
      "cell_type": "code",
      "source": [
        "stat_df['salary_min'].hist(bins=12)\n",
        "plt.title(\"Распределение нижней границы з/п по количеству вакансий\", fontsize = 14)\n",
        "plt.ylabel('Количество вакансий', fontsize = 12) # Подпись оси Y\n",
        "plt.xlabel('Нижняя граница з/п, руб.', fontsize = 12) # Подпись оси x\n",
        "plt.style.use('seaborn')\n",
        "plt.show()"
      ],
      "metadata": {
        "id": "gyV5utaCcuxJ",
        "colab": {
          "base_uri": "https://localhost:8080/",
          "height": 469
        },
        "outputId": "dbd84f42-c709-40a3-99dc-d29067ec48d7"
      },
      "execution_count": 287,
      "outputs": [
        {
          "output_type": "display_data",
          "data": {
            "text/plain": [
              "<Figure size 640x480 with 1 Axes>"
            ],
            "image/png": "[encoded data removed]"
          },
          "metadata": {}
        }
      ]
    },
    {
      "cell_type": "markdown",
      "source": [
        "### Столбчатая диаграмма"
      ],
      "metadata": {
        "id": "c5VaLLKxfGji"
      }
    },
    {
      "cell_type": "code",
      "source": [
        "region_vac_count = stat_df['region'].value_counts()[:35]\n",
        "plt.xticks(rotation=90, ha='right')\n",
        "plt.title('Количество вакансий по регионам топ-35')\n",
        "plt.style.use('seaborn')\n",
        "plt.xlabel('Наименование региона')\n",
        "params = {\n",
        "    'axes.titlesize':16,\n",
        "    'xtick.labelsize':12,\n",
        "    'ytick.labelsize':14,\n",
        "    'axes.labelsize':14\n",
        "}\n",
        "plt.rcParams.update(params)\n",
        "plt.bar(region_vac_count.index, region_vac_count.values)\n",
        "plt.show()"
      ],
      "metadata": {
        "colab": {
          "base_uri": "https://localhost:8080/",
          "height": 562
        },
        "id": "tqTQGmtSg74c",
        "outputId": "a421f289-52f6-4249-ef88-d63a4f7da659"
      },
      "execution_count": 288,
      "outputs": [
        {
          "output_type": "display_data",
          "data": {
            "text/plain": [
              "<Figure size 640x440 with 1 Axes>"
            ],
            "image/png": "[encoded data removed]"
          },
          "metadata": {}
        }
      ]
    },
    {
      "cell_type": "markdown",
      "source": [
        "### Круговая диаграмма"
      ],
      "metadata": {
        "id": "gA_-yb6SiOnL"
      }
    },
    {
      "cell_type": "code",
      "source": [
        "experience_count = stat_df['experience'].value_counts()\n",
        "\n",
        "plt.pie(experience_count, labels = experience_count.index, autopct='%1.1f%%')\n",
        "plt.title(label = \"Количество вакансий по требуемому опыу работы\", fontsize = 14)\n",
        "plt.show()"
      ],
      "metadata": {
        "colab": {
          "base_uri": "https://localhost:8080/",
          "height": 403
        },
        "id": "Nl2E1CQKiRfx",
        "outputId": "6fc74551-46be-4ab6-9be3-f5cf02c4fed7"
      },
      "execution_count": 289,
      "outputs": [
        {
          "output_type": "display_data",
          "data": {
            "text/plain": [
              "<Figure size 640x440 with 1 Axes>"
            ],
            "image/png": "[encoded data removed]"
          },
          "metadata": {}
        }
      ]
    },
    {
      "cell_type": "markdown",
      "source": [
        "## 4. Проверка гипотезы о виде распределения для количественных показателей."
      ],
      "metadata": {
        "id": "cBhxKv22cvOe"
      }
    },
    {
      "cell_type": "markdown",
      "source": [
        "Проверяем на нормальность, чтобы в дальнейшем понять с какими критериями мы будем работать - параметрическими или непараметрическими. Если выборка отвечает нормальному распределению, то мы будем пользоваться параметрическими критериями."
      ],
      "metadata": {
        "id": "O_VLD2UTPd0r"
      }
    },
    {
      "cell_type": "markdown",
      "source": [
        "Тест д'Агостино(Ralph D’Agostino) - вычисляет итоговую статистику на основе данных, а именно, эксцесс и асимметрия, чтобы определить, отклоняется ли распределение данных от нормального распределения."
      ],
      "metadata": {
        "id": "KDlclbHXkWS5"
      }
    },
    {
      "cell_type": "markdown",
      "source": [
        "**Гипотеза Н0:** наблюдаемая выборка принадлежит нормальной генеральной совокупности, уровень значимости полагаем равным 0,05."
      ],
      "metadata": {
        "id": "hoDA-I2Gk-na"
      }
    },
    {
      "cell_type": "code",
      "source": [
        "stats.normaltest(stat_df['salary_min'].dropna())"
      ],
      "metadata": {
        "id": "ZUaA6Vsjc9nN",
        "colab": {
          "base_uri": "https://localhost:8080/"
        },
        "outputId": "9c6b124d-f0d2-4c09-edc1-f6a860009791"
      },
      "execution_count": 290,
      "outputs": [
        {
          "output_type": "execute_result",
          "data": {
            "text/plain": [
              "NormaltestResult(statistic=8636.346403184487, pvalue=0.0)"
            ]
          },
          "metadata": {},
          "execution_count": 290
        }
      ]
    },
    {
      "cell_type": "markdown",
      "source": [
        "Значение p-value очень близко к нулю, оно меньше уровня значимости, поэтому гипотезу о том, что выборка подчиняется нормальному закону распределения **отклоняем.**"
      ],
      "metadata": {
        "id": "zVEw7fDclCy4"
      }
    },
    {
      "cell_type": "markdown",
      "source": [
        "## 5. Оценка связи между показателями."
      ],
      "metadata": {
        "id": "uufhYu13c-Ac"
      }
    },
    {
      "cell_type": "markdown",
      "source": [
        "### 1. Критерии сравнения групп для анализа связи количественных или порядковых показателей с категориальными. "
      ],
      "metadata": {
        "id": "ZlcQHB98dHrc"
      }
    },
    {
      "cell_type": "markdown",
      "source": [
        "**Гипотеза H0:** зависимость графика работы и зарплаты отсутствует."
      ],
      "metadata": {
        "id": "fAT7GvHZl-mq"
      }
    },
    {
      "cell_type": "markdown",
      "source": [
        "Удалим выбросы и построим график зарплат и графика работы."
      ],
      "metadata": {
        "id": "pOwSqd6BHnSO"
      }
    },
    {
      "cell_type": "code",
      "source": [
        "df1 = stat_df.drop(stat_df.loc[(stat_df['schedule'] == 'Полный день') & (stat_df['salary_min'] > 160_000)].index)\n",
        "df1 = df1.drop(df1.loc[(df1['schedule'] == 'Удаленная работа') & (df1['salary_min'] > 310_000)].index)\n",
        "df1 = df1.drop(df1.loc[(df1['schedule'] == 'Гибкий график') & (df1['salary_min'] > 245_000)].index)\n",
        "df1 = df1.drop(df1.loc[(df1['schedule'] == 'Сменный график') & (df1['salary_min'] > 110_000)].index)\n",
        "\n",
        "f, ax = plt.subplots(figsize=(6, 6))\n",
        "fig = sns.boxplot(x='schedule', y='salary_min', data=df1)\n",
        "plt.xticks(rotation=90, ha='right')\n",
        "plt.title('Размер зарплаты от графика работы')\n",
        "plt.xlabel('График работы')\n",
        "plt.ylabel('Размер зарплаты')"
      ],
      "metadata": {
        "id": "TDCZXuQqdPwT",
        "colab": {
          "base_uri": "https://localhost:8080/",
          "height": 597
        },
        "outputId": "a65355d8-e807-4a5d-e635-638e121da30b"
      },
      "execution_count": 291,
      "outputs": [
        {
          "output_type": "execute_result",
          "data": {
            "text/plain": [
              "Text(0, 0.5, 'Размер зарплаты')"
            ]
          },
          "metadata": {},
          "execution_count": 291
        },
        {
          "output_type": "display_data",
          "data": {
            "text/plain": [
              "<Figure size 480x480 with 1 Axes>"
            ],
            "image/png": "[encoded data removed]"
          },
          "metadata": {}
        }
      ]
    },
    {
      "cell_type": "code",
      "source": [
        "dfd1=np.array(df1[df1['schedule']=='Сменный график']['salary_min'])\n",
        "dfd2=np.array(df1[df1['schedule']=='Полный день']['salary_min'])\n",
        "dfd3=np.array(df1[df1['schedule']=='Гибкий график']['salary_min'])\n",
        "dfd4=np.array(df1[df1['schedule']=='Удаленная работа']['salary_min'])\n",
        "dfd5=np.array(df1[df1['schedule']=='Вахтовый метод']['salary_min'])\n",
        "stats.mstats.kruskalwallis(dfd1,dfd2,dfd3,dfd4,dfd5)"
      ],
      "metadata": {
        "id": "IvEDPRP-dPs3",
        "colab": {
          "base_uri": "https://localhost:8080/"
        },
        "outputId": "a9082dd6-dbef-4ca8-d8ea-22c5694303c6"
      },
      "execution_count": 293,
      "outputs": [
        {
          "output_type": "execute_result",
          "data": {
            "text/plain": [
              "KruskalResult(statistic=276.6312530706038, pvalue=1.1865511569999586e-58)"
            ]
          },
          "metadata": {},
          "execution_count": 293
        }
      ]
    },
    {
      "cell_type": "markdown",
      "source": [
        "Получили значение p-value много меньше уровня значимости, значит мы отвергаем нулевую гипотезу и принимаем альтернативную: **график работы влияет на уровень зарплаты.**"
      ],
      "metadata": {
        "id": "oxlbrtD-Q7L9"
      }
    },
    {
      "cell_type": "markdown",
      "source": [
        "### 2. Анализ таблиц сопряженности для оценки связи двух категориальных признаков. "
      ],
      "metadata": {
        "id": "4AbxlauYdQZe"
      }
    },
    {
      "cell_type": "markdown",
      "source": [
        "Оценим статистическую значимость различий двух относительных показателей: опыт работы и график работы.\n",
        "Гипотеза H0: опыт работы не влияет на график работы."
      ],
      "metadata": {
        "id": "PA5xrOipU-h_"
      }
    },
    {
      "cell_type": "code",
      "source": [
        "wd=pd.crosstab(stat_df['experience'],stat_df['schedule']); wd"
      ],
      "metadata": {
        "id": "uDqRfr0OdVJW",
        "colab": {
          "base_uri": "https://localhost:8080/",
          "height": 206
        },
        "outputId": "32e6a402-ecde-4287-b128-d911eaf98905"
      },
      "execution_count": 294,
      "outputs": [
        {
          "output_type": "execute_result",
          "data": {
            "text/plain": [
              "schedule            Вахтовый метод  Гибкий график  Полный день  \\\n",
              "experience                                                       \n",
              "Более 6 лет                      9             62         1320   \n",
              "Нет опыта                        2            294         3592   \n",
              "От 1 года до 3 лет              48           1071        19868   \n",
              "От 3 до 6 лет                   65            624        12151   \n",
              "\n",
              "schedule            Сменный график  Удаленная работа  \n",
              "experience                                            \n",
              "Более 6 лет                      1               273  \n",
              "Нет опыта                      331              1783  \n",
              "От 1 года до 3 лет             512              4572  \n",
              "От 3 до 6 лет                   72              3552  "
            ],
            "text/html": [
              "\n",
              "  <div id=\"df-deded2b6-2008-413c-8114-70454ee8321a\">\n",
              "    <div class=\"colab-df-container\">\n",
              "      <div>\n",
              "<style scoped>\n",
              "    .dataframe tbody tr th:only-of-type {\n",
              "        vertical-align: middle;\n",
              "    }\n",
              "\n",
              "    .dataframe tbody tr th {\n",
              "        vertical-align: top;\n",
              "    }\n",
              "\n",
              "    .dataframe thead th {\n",
              "        text-align: right;\n",
              "    }\n",
              "</style>\n",
              "<table border=\"1\" class=\"dataframe\">\n",
              "  <thead>\n",
              "    <tr style=\"text-align: right;\">\n",
              "      <th>schedule</th>\n",
              "      <th>Вахтовый метод</th>\n",
              "      <th>Гибкий график</th>\n",
              "      <th>Полный день</th>\n",
              "      <th>Сменный график</th>\n",
              "      <th>Удаленная работа</th>\n",
              "    </tr>\n",
              "    <tr>\n",
              "      <th>experience</th>\n",
              "      <th></th>\n",
              "      <th></th>\n",
              "      <th></th>\n",
              "      <th></th>\n",
              "      <th></th>\n",
              "    </tr>\n",
              "  </thead>\n",
              "  <tbody>\n",
              "    <tr>\n",
              "      <th>Более 6 лет</th>\n",
              "      <td>9</td>\n",
              "      <td>62</td>\n",
              "      <td>1320</td>\n",
              "      <td>1</td>\n",
              "      <td>273</td>\n",
              "    </tr>\n",
              "    <tr>\n",
              "      <th>Нет опыта</th>\n",
              "      <td>2</td>\n",
              "      <td>294</td>\n",
              "      <td>3592</td>\n",
              "      <td>331</td>\n",
              "      <td>1783</td>\n",
              "    </tr>\n",
              "    <tr>\n",
              "      <th>От 1 года до 3 лет</th>\n",
              "      <td>48</td>\n",
              "      <td>1071</td>\n",
              "      <td>19868</td>\n",
              "      <td>512</td>\n",
              "      <td>4572</td>\n",
              "    </tr>\n",
              "    <tr>\n",
              "      <th>От 3 до 6 лет</th>\n",
              "      <td>65</td>\n",
              "      <td>624</td>\n",
              "      <td>12151</td>\n",
              "      <td>72</td>\n",
              "      <td>3552</td>\n",
              "    </tr>\n",
              "  </tbody>\n",
              "</table>\n",
              "</div>\n",
              "      <button class=\"colab-df-convert\" onclick=\"convertToInteractive('df-deded2b6-2008-413c-8114-70454ee8321a')\"\n",
              "              title=\"Convert this dataframe to an interactive table.\"\n",
              "              style=\"display:none;\">\n",
              "        \n",
              "  <svg xmlns=\"http://www.w3.org/2000/svg\" height=\"24px\"viewBox=\"0 0 24 24\"\n",
              "       width=\"24px\">\n",
              "    <path d=\"M0 0h24v24H0V0z\" fill=\"none\"/>\n",
              "    <path d=\"M18.56 5.44l.94 2.06.94-2.06 2.06-.94-2.06-.94-.94-2.06-.94 2.06-2.06.94zm-11 1L8.5 8.5l.94-2.06 2.06-.94-2.06-.94L8.5 2.5l-.94 2.06-2.06.94zm10 10l.94 2.06.94-2.06 2.06-.94-2.06-.94-.94-2.06-.94 2.06-2.06.94z\"/><path d=\"M17.41 7.96l-1.37-1.37c-.4-.4-.92-.59-1.43-.59-.52 0-1.04.2-1.43.59L10.3 9.45l-7.72 7.72c-.78.78-.78 2.05 0 2.83L4 21.41c.39.39.9.59 1.41.59.51 0 1.02-.2 1.41-.59l7.78-7.78 2.81-2.81c.8-.78.8-2.07 0-2.86zM5.41 20L4 18.59l7.72-7.72 1.47 1.35L5.41 20z\"/>\n",
              "  </svg>\n",
              "      </button>\n",
              "      \n",
              "  <style>\n",
              "    .colab-df-container {\n",
              "      display:flex;\n",
              "      flex-wrap:wrap;\n",
              "      gap: 12px;\n",
              "    }\n",
              "\n",
              "    .colab-df-convert {\n",
              "      background-color: #E8F0FE;\n",
              "      border: none;\n",
              "      border-radius: 50%;\n",
              "      cursor: pointer;\n",
              "      display: none;\n",
              "      fill: #1967D2;\n",
              "      height: 32px;\n",
              "      padding: 0 0 0 0;\n",
              "      width: 32px;\n",
              "    }\n",
              "\n",
              "    .colab-df-convert:hover {\n",
              "      background-color: #E2EBFA;\n",
              "      box-shadow: 0px 1px 2px rgba(60, 64, 67, 0.3), 0px 1px 3px 1px rgba(60, 64, 67, 0.15);\n",
              "      fill: #174EA6;\n",
              "    }\n",
              "\n",
              "    [theme=dark] .colab-df-convert {\n",
              "      background-color: #3B4455;\n",
              "      fill: #D2E3FC;\n",
              "    }\n",
              "\n",
              "    [theme=dark] .colab-df-convert:hover {\n",
              "      background-color: #434B5C;\n",
              "      box-shadow: 0px 1px 3px 1px rgba(0, 0, 0, 0.15);\n",
              "      filter: drop-shadow(0px 1px 2px rgba(0, 0, 0, 0.3));\n",
              "      fill: #FFFFFF;\n",
              "    }\n",
              "  </style>\n",
              "\n",
              "      <script>\n",
              "        const buttonEl =\n",
              "          document.querySelector('#df-deded2b6-2008-413c-8114-70454ee8321a button.colab-df-convert');\n",
              "        buttonEl.style.display =\n",
              "          google.colab.kernel.accessAllowed ? 'block' : 'none';\n",
              "\n",
              "        async function convertToInteractive(key) {\n",
              "          const element = document.querySelector('#df-deded2b6-2008-413c-8114-70454ee8321a');\n",
              "          const dataTable =\n",
              "            await google.colab.kernel.invokeFunction('convertToInteractive',\n",
              "                                                     [key], {});\n",
              "          if (!dataTable) return;\n",
              "\n",
              "          const docLinkHtml = 'Like what you see? Visit the ' +\n",
              "            '<a target=\"_blank\" href=https://colab.research.google.com/notebooks/data_table.ipynb>data table notebook</a>'\n",
              "            + ' to learn more about interactive tables.';\n",
              "          element.innerHTML = '';\n",
              "          dataTable['output_type'] = 'display_data';\n",
              "          await google.colab.output.renderOutput(dataTable, element);\n",
              "          const docLink = document.createElement('div');\n",
              "          docLink.innerHTML = docLinkHtml;\n",
              "          element.appendChild(docLink);\n",
              "        }\n",
              "      </script>\n",
              "    </div>\n",
              "  </div>\n",
              "  "
            ]
          },
          "metadata": {},
          "execution_count": 294
        }
      ]
    },
    {
      "cell_type": "code",
      "source": [
        "sns.countplot(x=stat_df['schedule'], hue=stat_df['experience'])\n",
        "plt.xticks(rotation=90, ha='right')"
      ],
      "metadata": {
        "id": "vRZVYS44dVGv",
        "colab": {
          "base_uri": "https://localhost:8080/",
          "height": 494
        },
        "outputId": "cf9a0097-2043-48c7-a727-45242dbec176"
      },
      "execution_count": 295,
      "outputs": [
        {
          "output_type": "execute_result",
          "data": {
            "text/plain": [
              "(array([0, 1, 2, 3, 4]),\n",
              " [Text(0, 0, 'Удаленная работа'),\n",
              "  Text(1, 0, 'Полный день'),\n",
              "  Text(2, 0, 'Гибкий график'),\n",
              "  Text(3, 0, 'Сменный график'),\n",
              "  Text(4, 0, 'Вахтовый метод')])"
            ]
          },
          "metadata": {},
          "execution_count": 295
        },
        {
          "output_type": "display_data",
          "data": {
            "text/plain": [
              "<Figure size 432x288 with 1 Axes>"
            ],
            "image/png": "[encoded data removed]"
          },
          "metadata": {
            "needs_background": "light"
          }
        }
      ]
    },
    {
      "cell_type": "code",
      "source": [
        "chi2, prob, sdf, expected = scipy.stats.chi2_contingency(wd)\n",
        "output = \"test Statistics: {}\\ndegrees of freedom: {}\\np-value: {}\\n\"\n",
        " \n",
        "print(output.format( chi2, sdf, prob))"
      ],
      "metadata": {
        "colab": {
          "base_uri": "https://localhost:8080/"
        },
        "id": "BtOKGIw9Q6IF",
        "outputId": "65561a4d-dc37-424e-ce96-27fd78b27887"
      },
      "execution_count": 296,
      "outputs": [
        {
          "output_type": "stream",
          "name": "stdout",
          "text": [
            "test Statistics: 1273.7810607221456\n",
            "degrees of freedom: 12\n",
            "p-value: 2.2208402671185872e-265\n",
            "\n"
          ]
        }
      ]
    },
    {
      "cell_type": "markdown",
      "source": [
        "Мы видим, что p-value меньше нашего уровня значимости. Следовательно, мы должны отклонить нулевую и принять альтернативную гипотезу о том, что опыт работы влияет на график работы. Но на графике мы видим, что больше всего вакансий на полный день. То есть сам опыт работы не влияет на график работы. "
      ],
      "metadata": {
        "id": "EBoczt0zV1sx"
      }
    },
    {
      "cell_type": "markdown",
      "source": [
        "### 3. Корреляционный анализ Пирсона или Спирмена для количественных или порядковых переменных."
      ],
      "metadata": {
        "id": "f-NbQVZjdVef"
      }
    },
    {
      "cell_type": "markdown",
      "source": [
        "Приведем колонку с опытом к порядковым переменным."
      ],
      "metadata": {
        "id": "zIDM89xUYUdV"
      }
    },
    {
      "cell_type": "code",
      "source": [
        "stat_df['experience'].unique()"
      ],
      "metadata": {
        "colab": {
          "base_uri": "https://localhost:8080/"
        },
        "id": "y_YrWDATXgTh",
        "outputId": "1e88fa3c-9fa7-4433-e2ba-67290d832fec"
      },
      "execution_count": 297,
      "outputs": [
        {
          "output_type": "execute_result",
          "data": {
            "text/plain": [
              "array(['Нет опыта', 'От 1 года до 3 лет', 'От 3 до 6 лет', 'Более 6 лет'],\n",
              "      dtype=object)"
            ]
          },
          "metadata": {},
          "execution_count": 297
        }
      ]
    },
    {
      "cell_type": "code",
      "source": [
        "def exp(row):\n",
        "  if row == 'Нет опыта':\n",
        "    return 'exp_0'\n",
        "  if row == 'От 1 года до 3 лет':\n",
        "    return 'exp_1'\n",
        "  if row == 'От 3 до 6 лет':\n",
        "    return 'exp_2'\n",
        "  if row == 'Более 6 лет':\n",
        "    return 'exp_3'\n",
        "\n",
        "stat_df['experience_p'] = stat_df['experience'].apply(exp)\n",
        "\n",
        "stat_df"
      ],
      "metadata": {
        "id": "XD_Wrhr9dZxm",
        "colab": {
          "base_uri": "https://localhost:8080/",
          "height": 973
        },
        "outputId": "22be4c6c-ef8e-47fd-a03b-0d39dd6c4e67"
      },
      "execution_count": 298,
      "outputs": [
        {
          "output_type": "execute_result",
          "data": {
            "text/plain": [
              "                                                    name  \\\n",
              "0                Младший специалист ручного тестирования   \n",
              "1                                        Тестировщик.Net   \n",
              "2                                              Пентестер   \n",
              "3       Ведущий специалист по информационным технологиям   \n",
              "4                        Специалист по защите информации   \n",
              "...                                                  ...   \n",
              "69651                                   Программист Java   \n",
              "69652                                     Программист 1С   \n",
              "69653         Начальник отдела информационных технологий   \n",
              "69654            Технический директор (DevOps, технолог)   \n",
              "69655  Начальник отдела по защите информации и информ...   \n",
              "\n",
              "                     region  salary_min  salary_max  \\\n",
              "0      Астраханская область         NaN         NaN   \n",
              "1      Астраханская область     21750.0     43500.0   \n",
              "2      Астраханская область         NaN         NaN   \n",
              "3      Астраханская область     22620.0         NaN   \n",
              "4      Астраханская область     20000.0     20000.0   \n",
              "...                     ...         ...         ...   \n",
              "69651      Тульская область         NaN         NaN   \n",
              "69652      Тульская область    130000.0         NaN   \n",
              "69653      Тульская область     50000.0         NaN   \n",
              "69654      Тульская область     85000.0         NaN   \n",
              "69655      Тульская область         NaN         NaN   \n",
              "\n",
              "                                                employer          schedule  \\\n",
              "0                                                 Яндекс  Удаленная работа   \n",
              "1                                             МФК Саммит       Полный день   \n",
              "2                                           SearchInform       Полный день   \n",
              "3                                           Почта России       Полный день   \n",
              "4      ГБПОУ АО Астраханский музыкальный колледж имен...       Полный день   \n",
              "...                                                  ...               ...   \n",
              "69651              Центральный банк Российской Федерации       Полный день   \n",
              "69652                                            Окраина       Полный день   \n",
              "69653                                  ГУЗ ГБ № 3 Г.Тулы       Полный день   \n",
              "69654                                          ИнтерЛабс       Полный день   \n",
              "69655                                            ТИТАН-2       Полный день   \n",
              "\n",
              "                                              key_skills          experience  \\\n",
              "0                                                     []           Нет опыта   \n",
              "1                      [Git, SQL, Тестирование, C#, API]  От 1 года до 3 лет   \n",
              "2      [SQL, Linux, Информационная безопасность, Рабо...       От 3 до 6 лет   \n",
              "3      [Пользователь ПК, Работа в команде, 1С: Предпр...           Нет опыта   \n",
              "4      [MS Dos, Диагностика ПК, Компьютер, Работа в у...           Нет опыта   \n",
              "...                                                  ...                 ...   \n",
              "69651                                                 []       От 3 до 6 лет   \n",
              "69652  [1С: Управление Торговлей, 1С: Предприятие 8, ...  От 1 года до 3 лет   \n",
              "69653  [Организаторские навыки, Работа в команде, Упр...  От 1 года до 3 лет   \n",
              "69654                                                 []       От 3 до 6 лет   \n",
              "69655  [Информационная безопасность, Аудит безопаснос...         Более 6 лет   \n",
              "\n",
              "      experience_p  \n",
              "0            exp_0  \n",
              "1            exp_1  \n",
              "2            exp_2  \n",
              "3            exp_0  \n",
              "4            exp_0  \n",
              "...            ...  \n",
              "69651        exp_2  \n",
              "69652        exp_1  \n",
              "69653        exp_1  \n",
              "69654        exp_2  \n",
              "69655        exp_3  \n",
              "\n",
              "[50202 rows x 9 columns]"
            ],
            "text/html": [
              "\n",
              "  <div id=\"df-58573949-ca9d-42fc-987c-bf71ea5fbabb\">\n",
              "    <div class=\"colab-df-container\">\n",
              "      <div>\n",
              "<style scoped>\n",
              "    .dataframe tbody tr th:only-of-type {\n",
              "        vertical-align: middle;\n",
              "    }\n",
              "\n",
              "    .dataframe tbody tr th {\n",
              "        vertical-align: top;\n",
              "    }\n",
              "\n",
              "    .dataframe thead th {\n",
              "        text-align: right;\n",
              "    }\n",
              "</style>\n",
              "<table border=\"1\" class=\"dataframe\">\n",
              "  <thead>\n",
              "    <tr style=\"text-align: right;\">\n",
              "      <th></th>\n",
              "      <th>name</th>\n",
              "      <th>region</th>\n",
              "      <th>salary_min</th>\n",
              "      <th>salary_max</th>\n",
              "      <th>employer</th>\n",
              "      <th>schedule</th>\n",
              "      <th>key_skills</th>\n",
              "      <th>experience</th>\n",
              "      <th>experience_p</th>\n",
              "    </tr>\n",
              "  </thead>\n",
              "  <tbody>\n",
              "    <tr>\n",
              "      <th>0</th>\n",
              "      <td>Младший специалист ручного тестирования</td>\n",
              "      <td>Астраханская область</td>\n",
              "      <td>NaN</td>\n",
              "      <td>NaN</td>\n",
              "      <td>Яндекс</td>\n",
              "      <td>Удаленная работа</td>\n",
              "      <td>[]</td>\n",
              "      <td>Нет опыта</td>\n",
              "      <td>exp_0</td>\n",
              "    </tr>\n",
              "    <tr>\n",
              "      <th>1</th>\n",
              "      <td>Тестировщик.Net</td>\n",
              "      <td>Астраханская область</td>\n",
              "      <td>21750.0</td>\n",
              "      <td>43500.0</td>\n",
              "      <td>МФК Саммит</td>\n",
              "      <td>Полный день</td>\n",
              "      <td>[Git, SQL, Тестирование, C#, API]</td>\n",
              "      <td>От 1 года до 3 лет</td>\n",
              "      <td>exp_1</td>\n",
              "    </tr>\n",
              "    <tr>\n",
              "      <th>2</th>\n",
              "      <td>Пентестер</td>\n",
              "      <td>Астраханская область</td>\n",
              "      <td>NaN</td>\n",
              "      <td>NaN</td>\n",
              "      <td>SearchInform</td>\n",
              "      <td>Полный день</td>\n",
              "      <td>[SQL, Linux, Информационная безопасность, Рабо...</td>\n",
              "      <td>От 3 до 6 лет</td>\n",
              "      <td>exp_2</td>\n",
              "    </tr>\n",
              "    <tr>\n",
              "      <th>3</th>\n",
              "      <td>Ведущий специалист по информационным технологиям</td>\n",
              "      <td>Астраханская область</td>\n",
              "      <td>22620.0</td>\n",
              "      <td>NaN</td>\n",
              "      <td>Почта России</td>\n",
              "      <td>Полный день</td>\n",
              "      <td>[Пользователь ПК, Работа в команде, 1С: Предпр...</td>\n",
              "      <td>Нет опыта</td>\n",
              "      <td>exp_0</td>\n",
              "    </tr>\n",
              "    <tr>\n",
              "      <th>4</th>\n",
              "      <td>Специалист по защите информации</td>\n",
              "      <td>Астраханская область</td>\n",
              "      <td>20000.0</td>\n",
              "      <td>20000.0</td>\n",
              "      <td>ГБПОУ АО Астраханский музыкальный колледж имен...</td>\n",
              "      <td>Полный день</td>\n",
              "      <td>[MS Dos, Диагностика ПК, Компьютер, Работа в у...</td>\n",
              "      <td>Нет опыта</td>\n",
              "      <td>exp_0</td>\n",
              "    </tr>\n",
              "    <tr>\n",
              "      <th>...</th>\n",
              "      <td>...</td>\n",
              "      <td>...</td>\n",
              "      <td>...</td>\n",
              "      <td>...</td>\n",
              "      <td>...</td>\n",
              "      <td>...</td>\n",
              "      <td>...</td>\n",
              "      <td>...</td>\n",
              "      <td>...</td>\n",
              "    </tr>\n",
              "    <tr>\n",
              "      <th>69651</th>\n",
              "      <td>Программист Java</td>\n",
              "      <td>Тульская область</td>\n",
              "      <td>NaN</td>\n",
              "      <td>NaN</td>\n",
              "      <td>Центральный банк Российской Федерации</td>\n",
              "      <td>Полный день</td>\n",
              "      <td>[]</td>\n",
              "      <td>От 3 до 6 лет</td>\n",
              "      <td>exp_2</td>\n",
              "    </tr>\n",
              "    <tr>\n",
              "      <th>69652</th>\n",
              "      <td>Программист 1С</td>\n",
              "      <td>Тульская область</td>\n",
              "      <td>130000.0</td>\n",
              "      <td>NaN</td>\n",
              "      <td>Окраина</td>\n",
              "      <td>Полный день</td>\n",
              "      <td>[1С: Управление Торговлей, 1С: Предприятие 8, ...</td>\n",
              "      <td>От 1 года до 3 лет</td>\n",
              "      <td>exp_1</td>\n",
              "    </tr>\n",
              "    <tr>\n",
              "      <th>69653</th>\n",
              "      <td>Начальник отдела информационных технологий</td>\n",
              "      <td>Тульская область</td>\n",
              "      <td>50000.0</td>\n",
              "      <td>NaN</td>\n",
              "      <td>ГУЗ ГБ № 3 Г.Тулы</td>\n",
              "      <td>Полный день</td>\n",
              "      <td>[Организаторские навыки, Работа в команде, Упр...</td>\n",
              "      <td>От 1 года до 3 лет</td>\n",
              "      <td>exp_1</td>\n",
              "    </tr>\n",
              "    <tr>\n",
              "      <th>69654</th>\n",
              "      <td>Технический директор (DevOps, технолог)</td>\n",
              "      <td>Тульская область</td>\n",
              "      <td>85000.0</td>\n",
              "      <td>NaN</td>\n",
              "      <td>ИнтерЛабс</td>\n",
              "      <td>Полный день</td>\n",
              "      <td>[]</td>\n",
              "      <td>От 3 до 6 лет</td>\n",
              "      <td>exp_2</td>\n",
              "    </tr>\n",
              "    <tr>\n",
              "      <th>69655</th>\n",
              "      <td>Начальник отдела по защите информации и информ...</td>\n",
              "      <td>Тульская область</td>\n",
              "      <td>NaN</td>\n",
              "      <td>NaN</td>\n",
              "      <td>ТИТАН-2</td>\n",
              "      <td>Полный день</td>\n",
              "      <td>[Информационная безопасность, Аудит безопаснос...</td>\n",
              "      <td>Более 6 лет</td>\n",
              "      <td>exp_3</td>\n",
              "    </tr>\n",
              "  </tbody>\n",
              "</table>\n",
              "<p>50202 rows × 9 columns</p>\n",
              "</div>\n",
              "      <button class=\"colab-df-convert\" onclick=\"convertToInteractive('df-58573949-ca9d-42fc-987c-bf71ea5fbabb')\"\n",
              "              title=\"Convert this dataframe to an interactive table.\"\n",
              "              style=\"display:none;\">\n",
              "        \n",
              "  <svg xmlns=\"http://www.w3.org/2000/svg\" height=\"24px\"viewBox=\"0 0 24 24\"\n",
              "       width=\"24px\">\n",
              "    <path d=\"M0 0h24v24H0V0z\" fill=\"none\"/>\n",
              "    <path d=\"M18.56 5.44l.94 2.06.94-2.06 2.06-.94-2.06-.94-.94-2.06-.94 2.06-2.06.94zm-11 1L8.5 8.5l.94-2.06 2.06-.94-2.06-.94L8.5 2.5l-.94 2.06-2.06.94zm10 10l.94 2.06.94-2.06 2.06-.94-2.06-.94-.94-2.06-.94 2.06-2.06.94z\"/><path d=\"M17.41 7.96l-1.37-1.37c-.4-.4-.92-.59-1.43-.59-.52 0-1.04.2-1.43.59L10.3 9.45l-7.72 7.72c-.78.78-.78 2.05 0 2.83L4 21.41c.39.39.9.59 1.41.59.51 0 1.02-.2 1.41-.59l7.78-7.78 2.81-2.81c.8-.78.8-2.07 0-2.86zM5.41 20L4 18.59l7.72-7.72 1.47 1.35L5.41 20z\"/>\n",
              "  </svg>\n",
              "      </button>\n",
              "      \n",
              "  <style>\n",
              "    .colab-df-container {\n",
              "      display:flex;\n",
              "      flex-wrap:wrap;\n",
              "      gap: 12px;\n",
              "    }\n",
              "\n",
              "    .colab-df-convert {\n",
              "      background-color: #E8F0FE;\n",
              "      border: none;\n",
              "      border-radius: 50%;\n",
              "      cursor: pointer;\n",
              "      display: none;\n",
              "      fill: #1967D2;\n",
              "      height: 32px;\n",
              "      padding: 0 0 0 0;\n",
              "      width: 32px;\n",
              "    }\n",
              "\n",
              "    .colab-df-convert:hover {\n",
              "      background-color: #E2EBFA;\n",
              "      box-shadow: 0px 1px 2px rgba(60, 64, 67, 0.3), 0px 1px 3px 1px rgba(60, 64, 67, 0.15);\n",
              "      fill: #174EA6;\n",
              "    }\n",
              "\n",
              "    [theme=dark] .colab-df-convert {\n",
              "      background-color: #3B4455;\n",
              "      fill: #D2E3FC;\n",
              "    }\n",
              "\n",
              "    [theme=dark] .colab-df-convert:hover {\n",
              "      background-color: #434B5C;\n",
              "      box-shadow: 0px 1px 3px 1px rgba(0, 0, 0, 0.15);\n",
              "      filter: drop-shadow(0px 1px 2px rgba(0, 0, 0, 0.3));\n",
              "      fill: #FFFFFF;\n",
              "    }\n",
              "  </style>\n",
              "\n",
              "      <script>\n",
              "        const buttonEl =\n",
              "          document.querySelector('#df-58573949-ca9d-42fc-987c-bf71ea5fbabb button.colab-df-convert');\n",
              "        buttonEl.style.display =\n",
              "          google.colab.kernel.accessAllowed ? 'block' : 'none';\n",
              "\n",
              "        async function convertToInteractive(key) {\n",
              "          const element = document.querySelector('#df-58573949-ca9d-42fc-987c-bf71ea5fbabb');\n",
              "          const dataTable =\n",
              "            await google.colab.kernel.invokeFunction('convertToInteractive',\n",
              "                                                     [key], {});\n",
              "          if (!dataTable) return;\n",
              "\n",
              "          const docLinkHtml = 'Like what you see? Visit the ' +\n",
              "            '<a target=\"_blank\" href=https://colab.research.google.com/notebooks/data_table.ipynb>data table notebook</a>'\n",
              "            + ' to learn more about interactive tables.';\n",
              "          element.innerHTML = '';\n",
              "          dataTable['output_type'] = 'display_data';\n",
              "          await google.colab.output.renderOutput(dataTable, element);\n",
              "          const docLink = document.createElement('div');\n",
              "          docLink.innerHTML = docLinkHtml;\n",
              "          element.appendChild(docLink);\n",
              "        }\n",
              "      </script>\n",
              "    </div>\n",
              "  </div>\n",
              "  "
            ]
          },
          "metadata": {},
          "execution_count": 298
        }
      ]
    },
    {
      "cell_type": "markdown",
      "source": [
        "Чтобы провести анализ с помощью критерия, нам надо чтобы пропусков в данных не было. Чтобы избавится от пропусков в колонке зарплаты, мы заменим пустые значения медианой."
      ],
      "metadata": {
        "id": "XEEJbpQoc7s_"
      }
    },
    {
      "cell_type": "code",
      "source": [
        "stat_df.loc[stat_df['salary_min'].isna(), 'salary_min'] = stat_df['salary_min'].median()\n",
        "stat_df.loc[stat_df['salary_max'].isna(), 'salary_max'] = stat_df['salary_max'].median()"
      ],
      "metadata": {
        "id": "twxF7EGdc7RL"
      },
      "execution_count": 299,
      "outputs": []
    },
    {
      "cell_type": "code",
      "source": [
        "stat_df['salary_min']"
      ],
      "metadata": {
        "colab": {
          "base_uri": "https://localhost:8080/"
        },
        "id": "1XEEQ6XpfULw",
        "outputId": "a96e61fe-e853-4cf0-8f99-e35f22dd36c9"
      },
      "execution_count": 300,
      "outputs": [
        {
          "output_type": "execute_result",
          "data": {
            "text/plain": [
              "0         60000.0\n",
              "1         21750.0\n",
              "2         60000.0\n",
              "3         22620.0\n",
              "4         20000.0\n",
              "           ...   \n",
              "69651     60000.0\n",
              "69652    130000.0\n",
              "69653     50000.0\n",
              "69654     85000.0\n",
              "69655     60000.0\n",
              "Name: salary_min, Length: 50202, dtype: float64"
            ]
          },
          "metadata": {},
          "execution_count": 300
        }
      ]
    },
    {
      "cell_type": "code",
      "source": [
        "num = ['salary_min','salary_max','experience_p']\n",
        "hm = sns.heatmap(stat_df[num].corr(),annot=True)"
      ],
      "metadata": {
        "colab": {
          "base_uri": "https://localhost:8080/",
          "height": 280
        },
        "id": "EvKGycS6huDQ",
        "outputId": "8fa0fa80-db95-4b24-bab8-946581751f3e"
      },
      "execution_count": 301,
      "outputs": [
        {
          "output_type": "display_data",
          "data": {
            "text/plain": [
              "<Figure size 432x288 with 2 Axes>"
            ],
            "image/png": "[encoded data removed]"
          },
          "metadata": {
            "needs_background": "light"
          }
        }
      ]
    },
    {
      "cell_type": "code",
      "source": [
        "scipy.stats.pearsonr(stat_df.salary_min, stat_df.salary_max)"
      ],
      "metadata": {
        "colab": {
          "base_uri": "https://localhost:8080/"
        },
        "id": "GE2FRig5j8qk",
        "outputId": "f0391326-d837-4894-c5ec-3b06cdcb76fd"
      },
      "execution_count": 302,
      "outputs": [
        {
          "output_type": "execute_result",
          "data": {
            "text/plain": [
              "PearsonRResult(statistic=0.5116052491744513, pvalue=0.0)"
            ]
          },
          "metadata": {},
          "execution_count": 302
        }
      ]
    },
    {
      "cell_type": "code",
      "source": [
        "f, ax = plt.subplots(figsize=(6, 6))\n",
        "fig = sns.boxplot(x='experience', y='salary_min', data=df1)\n",
        "plt.xticks(rotation=90, ha='right')\n",
        "plt.title('Размер зарплаты от опыта работы')\n",
        "plt.xlabel('Опыт работы')\n",
        "plt.ylabel('Размер зарплаты')"
      ],
      "metadata": {
        "colab": {
          "base_uri": "https://localhost:8080/",
          "height": 529
        },
        "id": "JMQ45O0Sw_mB",
        "outputId": "8736f0a1-a588-4084-f18c-770393bdb136"
      },
      "execution_count": 303,
      "outputs": [
        {
          "output_type": "execute_result",
          "data": {
            "text/plain": [
              "Text(0, 0.5, 'Размер зарплаты')"
            ]
          },
          "metadata": {},
          "execution_count": 303
        },
        {
          "output_type": "display_data",
          "data": {
            "text/plain": [
              "<Figure size 432x432 with 1 Axes>"
            ],
            "image/png": "[encoded data removed]"
          },
          "metadata": {
            "needs_background": "light"
          }
        }
      ]
    },
    {
      "cell_type": "markdown",
      "source": [
        "Естественно, видим, что минимальная и максимальная зарплата связаны. А так же, зарплата связана с опытом работы, так как значение p-value близко к нулю, значит мы надежно отвергаем гипотезу об отсутствии связи."
      ],
      "metadata": {
        "id": "E-cwtXW_lUp5"
      }
    },
    {
      "cell_type": "markdown",
      "source": [
        "## 6. Формулирование гипотезы."
      ],
      "metadata": {
        "id": "pVNRHD5fdhAT"
      }
    },
    {
      "cell_type": "markdown",
      "source": [
        "Приведем график работы к порядковому типу."
      ],
      "metadata": {
        "id": "cOZPflFiekgg"
      }
    },
    {
      "cell_type": "code",
      "source": [
        "stat_df['schedule'].unique()"
      ],
      "metadata": {
        "colab": {
          "base_uri": "https://localhost:8080/"
        },
        "id": "bnccWOSeaf56",
        "outputId": "75cc3ae8-a2eb-425c-84b2-b0da46edb3a8"
      },
      "execution_count": 304,
      "outputs": [
        {
          "output_type": "execute_result",
          "data": {
            "text/plain": [
              "array(['Удаленная работа', 'Полный день', 'Гибкий график',\n",
              "       'Сменный график', 'Вахтовый метод'], dtype=object)"
            ]
          },
          "metadata": {},
          "execution_count": 304
        }
      ]
    },
    {
      "cell_type": "code",
      "source": [
        "def sch(row):\n",
        "  if row == 'Удаленная работа':\n",
        "    return 'sch_0'\n",
        "  if row == 'Полный день':\n",
        "    return 'sch_1'\n",
        "  if row == 'Гибкий график':\n",
        "    return 'sch_2'\n",
        "  if row == 'Сменный график':\n",
        "    return 'sch_3'\n",
        "  return 'sch_4'\n",
        "\n",
        "stat_df['schedule_p'] = stat_df['schedule'].apply(sch)\n",
        "\n",
        "stat_df"
      ],
      "metadata": {
        "colab": {
          "base_uri": "https://localhost:8080/",
          "height": 973
        },
        "id": "J0-A5d-5bArC",
        "outputId": "13c5bdb6-e983-4b30-d6da-dd57e8949c0c"
      },
      "execution_count": 305,
      "outputs": [
        {
          "output_type": "execute_result",
          "data": {
            "text/plain": [
              "                                                    name  \\\n",
              "0                Младший специалист ручного тестирования   \n",
              "1                                        Тестировщик.Net   \n",
              "2                                              Пентестер   \n",
              "3       Ведущий специалист по информационным технологиям   \n",
              "4                        Специалист по защите информации   \n",
              "...                                                  ...   \n",
              "69651                                   Программист Java   \n",
              "69652                                     Программист 1С   \n",
              "69653         Начальник отдела информационных технологий   \n",
              "69654            Технический директор (DevOps, технолог)   \n",
              "69655  Начальник отдела по защите информации и информ...   \n",
              "\n",
              "                     region  salary_min  salary_max  \\\n",
              "0      Астраханская область     60000.0     90000.0   \n",
              "1      Астраханская область     21750.0     43500.0   \n",
              "2      Астраханская область     60000.0     90000.0   \n",
              "3      Астраханская область     22620.0     90000.0   \n",
              "4      Астраханская область     20000.0     20000.0   \n",
              "...                     ...         ...         ...   \n",
              "69651      Тульская область     60000.0     90000.0   \n",
              "69652      Тульская область    130000.0     90000.0   \n",
              "69653      Тульская область     50000.0     90000.0   \n",
              "69654      Тульская область     85000.0     90000.0   \n",
              "69655      Тульская область     60000.0     90000.0   \n",
              "\n",
              "                                                employer          schedule  \\\n",
              "0                                                 Яндекс  Удаленная работа   \n",
              "1                                             МФК Саммит       Полный день   \n",
              "2                                           SearchInform       Полный день   \n",
              "3                                           Почта России       Полный день   \n",
              "4      ГБПОУ АО Астраханский музыкальный колледж имен...       Полный день   \n",
              "...                                                  ...               ...   \n",
              "69651              Центральный банк Российской Федерации       Полный день   \n",
              "69652                                            Окраина       Полный день   \n",
              "69653                                  ГУЗ ГБ № 3 Г.Тулы       Полный день   \n",
              "69654                                          ИнтерЛабс       Полный день   \n",
              "69655                                            ТИТАН-2       Полный день   \n",
              "\n",
              "                                              key_skills          experience  \\\n",
              "0                                                     []           Нет опыта   \n",
              "1                      [Git, SQL, Тестирование, C#, API]  От 1 года до 3 лет   \n",
              "2      [SQL, Linux, Информационная безопасность, Рабо...       От 3 до 6 лет   \n",
              "3      [Пользователь ПК, Работа в команде, 1С: Предпр...           Нет опыта   \n",
              "4      [MS Dos, Диагностика ПК, Компьютер, Работа в у...           Нет опыта   \n",
              "...                                                  ...                 ...   \n",
              "69651                                                 []       От 3 до 6 лет   \n",
              "69652  [1С: Управление Торговлей, 1С: Предприятие 8, ...  От 1 года до 3 лет   \n",
              "69653  [Организаторские навыки, Работа в команде, Упр...  От 1 года до 3 лет   \n",
              "69654                                                 []       От 3 до 6 лет   \n",
              "69655  [Информационная безопасность, Аудит безопаснос...         Более 6 лет   \n",
              "\n",
              "      experience_p schedule_p  \n",
              "0            exp_0      sch_0  \n",
              "1            exp_1      sch_1  \n",
              "2            exp_2      sch_1  \n",
              "3            exp_0      sch_1  \n",
              "4            exp_0      sch_1  \n",
              "...            ...        ...  \n",
              "69651        exp_2      sch_1  \n",
              "69652        exp_1      sch_1  \n",
              "69653        exp_1      sch_1  \n",
              "69654        exp_2      sch_1  \n",
              "69655        exp_3      sch_1  \n",
              "\n",
              "[50202 rows x 10 columns]"
            ],
            "text/html": [
              "\n",
              "  <div id=\"df-14bce55e-2e65-4d34-8e50-832af6277cbd\">\n",
              "    <div class=\"colab-df-container\">\n",
              "      <div>\n",
              "<style scoped>\n",
              "    .dataframe tbody tr th:only-of-type {\n",
              "        vertical-align: middle;\n",
              "    }\n",
              "\n",
              "    .dataframe tbody tr th {\n",
              "        vertical-align: top;\n",
              "    }\n",
              "\n",
              "    .dataframe thead th {\n",
              "        text-align: right;\n",
              "    }\n",
              "</style>\n",
              "<table border=\"1\" class=\"dataframe\">\n",
              "  <thead>\n",
              "    <tr style=\"text-align: right;\">\n",
              "      <th></th>\n",
              "      <th>name</th>\n",
              "      <th>region</th>\n",
              "      <th>salary_min</th>\n",
              "      <th>salary_max</th>\n",
              "      <th>employer</th>\n",
              "      <th>schedule</th>\n",
              "      <th>key_skills</th>\n",
              "      <th>experience</th>\n",
              "      <th>experience_p</th>\n",
              "      <th>schedule_p</th>\n",
              "    </tr>\n",
              "  </thead>\n",
              "  <tbody>\n",
              "    <tr>\n",
              "      <th>0</th>\n",
              "      <td>Младший специалист ручного тестирования</td>\n",
              "      <td>Астраханская область</td>\n",
              "      <td>60000.0</td>\n",
              "      <td>90000.0</td>\n",
              "      <td>Яндекс</td>\n",
              "      <td>Удаленная работа</td>\n",
              "      <td>[]</td>\n",
              "      <td>Нет опыта</td>\n",
              "      <td>exp_0</td>\n",
              "      <td>sch_0</td>\n",
              "    </tr>\n",
              "    <tr>\n",
              "      <th>1</th>\n",
              "      <td>Тестировщик.Net</td>\n",
              "      <td>Астраханская область</td>\n",
              "      <td>21750.0</td>\n",
              "      <td>43500.0</td>\n",
              "      <td>МФК Саммит</td>\n",
              "      <td>Полный день</td>\n",
              "      <td>[Git, SQL, Тестирование, C#, API]</td>\n",
              "      <td>От 1 года до 3 лет</td>\n",
              "      <td>exp_1</td>\n",
              "      <td>sch_1</td>\n",
              "    </tr>\n",
              "    <tr>\n",
              "      <th>2</th>\n",
              "      <td>Пентестер</td>\n",
              "      <td>Астраханская область</td>\n",
              "      <td>60000.0</td>\n",
              "      <td>90000.0</td>\n",
              "      <td>SearchInform</td>\n",
              "      <td>Полный день</td>\n",
              "      <td>[SQL, Linux, Информационная безопасность, Рабо...</td>\n",
              "      <td>От 3 до 6 лет</td>\n",
              "      <td>exp_2</td>\n",
              "      <td>sch_1</td>\n",
              "    </tr>\n",
              "    <tr>\n",
              "      <th>3</th>\n",
              "      <td>Ведущий специалист по информационным технологиям</td>\n",
              "      <td>Астраханская область</td>\n",
              "      <td>22620.0</td>\n",
              "      <td>90000.0</td>\n",
              "      <td>Почта России</td>\n",
              "      <td>Полный день</td>\n",
              "      <td>[Пользователь ПК, Работа в команде, 1С: Предпр...</td>\n",
              "      <td>Нет опыта</td>\n",
              "      <td>exp_0</td>\n",
              "      <td>sch_1</td>\n",
              "    </tr>\n",
              "    <tr>\n",
              "      <th>4</th>\n",
              "      <td>Специалист по защите информации</td>\n",
              "      <td>Астраханская область</td>\n",
              "      <td>20000.0</td>\n",
              "      <td>20000.0</td>\n",
              "      <td>ГБПОУ АО Астраханский музыкальный колледж имен...</td>\n",
              "      <td>Полный день</td>\n",
              "      <td>[MS Dos, Диагностика ПК, Компьютер, Работа в у...</td>\n",
              "      <td>Нет опыта</td>\n",
              "      <td>exp_0</td>\n",
              "      <td>sch_1</td>\n",
              "    </tr>\n",
              "    <tr>\n",
              "      <th>...</th>\n",
              "      <td>...</td>\n",
              "      <td>...</td>\n",
              "      <td>...</td>\n",
              "      <td>...</td>\n",
              "      <td>...</td>\n",
              "      <td>...</td>\n",
              "      <td>...</td>\n",
              "      <td>...</td>\n",
              "      <td>...</td>\n",
              "      <td>...</td>\n",
              "    </tr>\n",
              "    <tr>\n",
              "      <th>69651</th>\n",
              "      <td>Программист Java</td>\n",
              "      <td>Тульская область</td>\n",
              "      <td>60000.0</td>\n",
              "      <td>90000.0</td>\n",
              "      <td>Центральный банк Российской Федерации</td>\n",
              "      <td>Полный день</td>\n",
              "      <td>[]</td>\n",
              "      <td>От 3 до 6 лет</td>\n",
              "      <td>exp_2</td>\n",
              "      <td>sch_1</td>\n",
              "    </tr>\n",
              "    <tr>\n",
              "      <th>69652</th>\n",
              "      <td>Программист 1С</td>\n",
              "      <td>Тульская область</td>\n",
              "      <td>130000.0</td>\n",
              "      <td>90000.0</td>\n",
              "      <td>Окраина</td>\n",
              "      <td>Полный день</td>\n",
              "      <td>[1С: Управление Торговлей, 1С: Предприятие 8, ...</td>\n",
              "      <td>От 1 года до 3 лет</td>\n",
              "      <td>exp_1</td>\n",
              "      <td>sch_1</td>\n",
              "    </tr>\n",
              "    <tr>\n",
              "      <th>69653</th>\n",
              "      <td>Начальник отдела информационных технологий</td>\n",
              "      <td>Тульская область</td>\n",
              "      <td>50000.0</td>\n",
              "      <td>90000.0</td>\n",
              "      <td>ГУЗ ГБ № 3 Г.Тулы</td>\n",
              "      <td>Полный день</td>\n",
              "      <td>[Организаторские навыки, Работа в команде, Упр...</td>\n",
              "      <td>От 1 года до 3 лет</td>\n",
              "      <td>exp_1</td>\n",
              "      <td>sch_1</td>\n",
              "    </tr>\n",
              "    <tr>\n",
              "      <th>69654</th>\n",
              "      <td>Технический директор (DevOps, технолог)</td>\n",
              "      <td>Тульская область</td>\n",
              "      <td>85000.0</td>\n",
              "      <td>90000.0</td>\n",
              "      <td>ИнтерЛабс</td>\n",
              "      <td>Полный день</td>\n",
              "      <td>[]</td>\n",
              "      <td>От 3 до 6 лет</td>\n",
              "      <td>exp_2</td>\n",
              "      <td>sch_1</td>\n",
              "    </tr>\n",
              "    <tr>\n",
              "      <th>69655</th>\n",
              "      <td>Начальник отдела по защите информации и информ...</td>\n",
              "      <td>Тульская область</td>\n",
              "      <td>60000.0</td>\n",
              "      <td>90000.0</td>\n",
              "      <td>ТИТАН-2</td>\n",
              "      <td>Полный день</td>\n",
              "      <td>[Информационная безопасность, Аудит безопаснос...</td>\n",
              "      <td>Более 6 лет</td>\n",
              "      <td>exp_3</td>\n",
              "      <td>sch_1</td>\n",
              "    </tr>\n",
              "  </tbody>\n",
              "</table>\n",
              "<p>50202 rows × 10 columns</p>\n",
              "</div>\n",
              "      <button class=\"colab-df-convert\" onclick=\"convertToInteractive('df-14bce55e-2e65-4d34-8e50-832af6277cbd')\"\n",
              "              title=\"Convert this dataframe to an interactive table.\"\n",
              "              style=\"display:none;\">\n",
              "        \n",
              "  <svg xmlns=\"http://www.w3.org/2000/svg\" height=\"24px\"viewBox=\"0 0 24 24\"\n",
              "       width=\"24px\">\n",
              "    <path d=\"M0 0h24v24H0V0z\" fill=\"none\"/>\n",
              "    <path d=\"M18.56 5.44l.94 2.06.94-2.06 2.06-.94-2.06-.94-.94-2.06-.94 2.06-2.06.94zm-11 1L8.5 8.5l.94-2.06 2.06-.94-2.06-.94L8.5 2.5l-.94 2.06-2.06.94zm10 10l.94 2.06.94-2.06 2.06-.94-2.06-.94-.94-2.06-.94 2.06-2.06.94z\"/><path d=\"M17.41 7.96l-1.37-1.37c-.4-.4-.92-.59-1.43-.59-.52 0-1.04.2-1.43.59L10.3 9.45l-7.72 7.72c-.78.78-.78 2.05 0 2.83L4 21.41c.39.39.9.59 1.41.59.51 0 1.02-.2 1.41-.59l7.78-7.78 2.81-2.81c.8-.78.8-2.07 0-2.86zM5.41 20L4 18.59l7.72-7.72 1.47 1.35L5.41 20z\"/>\n",
              "  </svg>\n",
              "      </button>\n",
              "      \n",
              "  <style>\n",
              "    .colab-df-container {\n",
              "      display:flex;\n",
              "      flex-wrap:wrap;\n",
              "      gap: 12px;\n",
              "    }\n",
              "\n",
              "    .colab-df-convert {\n",
              "      background-color: #E8F0FE;\n",
              "      border: none;\n",
              "      border-radius: 50%;\n",
              "      cursor: pointer;\n",
              "      display: none;\n",
              "      fill: #1967D2;\n",
              "      height: 32px;\n",
              "      padding: 0 0 0 0;\n",
              "      width: 32px;\n",
              "    }\n",
              "\n",
              "    .colab-df-convert:hover {\n",
              "      background-color: #E2EBFA;\n",
              "      box-shadow: 0px 1px 2px rgba(60, 64, 67, 0.3), 0px 1px 3px 1px rgba(60, 64, 67, 0.15);\n",
              "      fill: #174EA6;\n",
              "    }\n",
              "\n",
              "    [theme=dark] .colab-df-convert {\n",
              "      background-color: #3B4455;\n",
              "      fill: #D2E3FC;\n",
              "    }\n",
              "\n",
              "    [theme=dark] .colab-df-convert:hover {\n",
              "      background-color: #434B5C;\n",
              "      box-shadow: 0px 1px 3px 1px rgba(0, 0, 0, 0.15);\n",
              "      filter: drop-shadow(0px 1px 2px rgba(0, 0, 0, 0.3));\n",
              "      fill: #FFFFFF;\n",
              "    }\n",
              "  </style>\n",
              "\n",
              "      <script>\n",
              "        const buttonEl =\n",
              "          document.querySelector('#df-14bce55e-2e65-4d34-8e50-832af6277cbd button.colab-df-convert');\n",
              "        buttonEl.style.display =\n",
              "          google.colab.kernel.accessAllowed ? 'block' : 'none';\n",
              "\n",
              "        async function convertToInteractive(key) {\n",
              "          const element = document.querySelector('#df-14bce55e-2e65-4d34-8e50-832af6277cbd');\n",
              "          const dataTable =\n",
              "            await google.colab.kernel.invokeFunction('convertToInteractive',\n",
              "                                                     [key], {});\n",
              "          if (!dataTable) return;\n",
              "\n",
              "          const docLinkHtml = 'Like what you see? Visit the ' +\n",
              "            '<a target=\"_blank\" href=https://colab.research.google.com/notebooks/data_table.ipynb>data table notebook</a>'\n",
              "            + ' to learn more about interactive tables.';\n",
              "          element.innerHTML = '';\n",
              "          dataTable['output_type'] = 'display_data';\n",
              "          await google.colab.output.renderOutput(dataTable, element);\n",
              "          const docLink = document.createElement('div');\n",
              "          docLink.innerHTML = docLinkHtml;\n",
              "          element.appendChild(docLink);\n",
              "        }\n",
              "      </script>\n",
              "    </div>\n",
              "  </div>\n",
              "  "
            ]
          },
          "metadata": {},
          "execution_count": 305
        }
      ]
    },
    {
      "cell_type": "markdown",
      "source": [
        "Сгруппируем области по округам."
      ],
      "metadata": {
        "id": "K6T3BozRx_9Z"
      }
    },
    {
      "cell_type": "code",
      "source": [
        "central = ['Белгородская область', 'Брянская область', 'Владимирская область', 'Воронежская область','Ивановская область', 'Калужская область', 'Костромская область', 'Курская область', 'Липецкая область', 'Московская область', 'Орловская область', 'Рязанская область', 'Смоленская область', 'Тамбовская область', 'Тверская область', 'Тульская область', 'Ярославская область', 'Москва']\n",
        "south = ['Республика Адыгея', 'Республика Калмыкия', 'Краснодарский край', 'Астраханская область', 'Волгоградская область', 'Ростовская область']\n",
        "northwest = ['Республика Карелия', 'Республика Коми', 'Архангельская область', 'Вологодская область', 'Калининградская область', 'Ленинградская область', 'Мурманская область', 'Новгородская область', 'Псковская область', 'Санкт-Петербург', 'Ненецкий АО']\n",
        "far_eastern = ['Республика Саха (Якутия)', 'Камчатский край', 'Приморский край', 'Хабаровский край', 'Амурская область', 'Магаданская область', 'Сахалинская область', 'Еврейская АО', 'Чукотский АО']\n",
        "siberian = ['Республика Алтай', 'Республика Бурятия', 'Республика Тыва', 'Республика Хакасия', 'Алтайский край', 'Забайкальский край', 'Красноярский край', 'Иркутская область', 'Кемеровская область', 'Новосибирская область', 'Омская область', 'Томская область']\n",
        "uralsky = ['Курганская область', 'Свердловская область', 'Тюменская область', 'Челябинская область', 'Ханты-Мансийский АО - Югра', 'Ямало-Ненецкий АО']\n",
        "privolzhsky = ['Республика Башкортостан', 'Республика Марий Эл', 'Республика Мордовия', 'Республика Татарстан', 'Удмуртская Республика', 'Чувашская Республика', 'Кировская область', 'Нижегородская область', 'Оренбургская область', 'Пензенская область', 'Пермский край', 'Самарская область', 'Саратовская область', 'Ульяновская область']\n",
        "north_caucasian = ['Республика Дагестан', 'Республика Ингушетия', 'Кабардино-Балкарская республика', 'Карачаево-Черкесская Республика', 'Республика Северная Осетия-Алания', 'Чеченская республика', 'Ставропольский край']\n",
        "crimean = ['Республика Крым']"
      ],
      "metadata": {
        "id": "iZpz4fIfvGyf"
      },
      "execution_count": 306,
      "outputs": []
    },
    {
      "cell_type": "code",
      "source": [
        "def federal_district(row):\n",
        "    if row in central:\n",
        "      return 'central'\n",
        "    if row in south:\n",
        "      return 'south'\n",
        "    if row in northwest:\n",
        "      return 'northwest'\n",
        "    if row in far_eastern:\n",
        "      return 'far_eastern'\n",
        "    if row in siberian:\n",
        "      return 'siberian'\n",
        "    if row in uralsky:\n",
        "      return 'uralsky'\n",
        "    if row in privolzhsky:\n",
        "      return 'privolzhsky'\n",
        "    if row in north_caucasian:\n",
        "      return 'north_caucasian'\n",
        "    return 'crimean'"
      ],
      "metadata": {
        "id": "sSqatvXXvGve"
      },
      "execution_count": 307,
      "outputs": []
    },
    {
      "cell_type": "code",
      "source": [
        "stat_df['federal_district'] = stat_df['region'].apply(federal_district)"
      ],
      "metadata": {
        "id": "QqueFzKkvGq_"
      },
      "execution_count": 308,
      "outputs": []
    },
    {
      "cell_type": "code",
      "source": [
        "stat_df.info()"
      ],
      "metadata": {
        "colab": {
          "base_uri": "https://localhost:8080/"
        },
        "id": "0zttQpaT1YpC",
        "outputId": "327655a9-688b-4dba-e53c-20780d3ea6d5"
      },
      "execution_count": 309,
      "outputs": [
        {
          "output_type": "stream",
          "name": "stdout",
          "text": [
            "<class 'pandas.core.frame.DataFrame'>\n",
            "Int64Index: 50202 entries, 0 to 69655\n",
            "Data columns (total 11 columns):\n",
            " #   Column            Non-Null Count  Dtype  \n",
            "---  ------            --------------  -----  \n",
            " 0   name              50202 non-null  object \n",
            " 1   region            50202 non-null  object \n",
            " 2   salary_min        50202 non-null  float64\n",
            " 3   salary_max        50202 non-null  float64\n",
            " 4   employer          50202 non-null  object \n",
            " 5   schedule          50202 non-null  object \n",
            " 6   key_skills        50202 non-null  object \n",
            " 7   experience        50202 non-null  object \n",
            " 8   experience_p      50202 non-null  object \n",
            " 9   schedule_p        50202 non-null  object \n",
            " 10  federal_district  50202 non-null  object \n",
            "dtypes: float64(2), object(9)\n",
            "memory usage: 5.6+ MB\n"
          ]
        }
      ]
    },
    {
      "cell_type": "markdown",
      "source": [
        "1. salary_min - количественные\n",
        "2. schedule_p - порядковые\n",
        "3. experience_p - порядковые\n",
        "4. federal_district - категориальные\n",
        "5. key_skills - категориальные"
      ],
      "metadata": {
        "id": "CXi7MQiZ10tv"
      }
    },
    {
      "cell_type": "markdown",
      "source": [
        "### **Гипотеза H0:** Уровень зарплаты не зависит от федерального округа."
      ],
      "metadata": {
        "id": "SC4sguo0QrXc"
      }
    },
    {
      "cell_type": "code",
      "source": [
        "df01 = pd.concat((stat_df,pd.get_dummies(stat_df.federal_district, prefix_sep='',)),1)\n",
        "df01 = pd.concat((df01,pd.get_dummies(stat_df.experience_p, prefix='o', prefix_sep='',)),1)\n",
        "df01 = pd.concat((df01,pd.get_dummies(stat_df.schedule_p, prefix='o', prefix_sep='',)),1)\n",
        "\n",
        "resultsm = smf.ols('salary_min ~ C(schedule_p) + C(experience_p) + C(federal_district)', data=df01).fit()\n",
        "resultsm.summary()"
      ],
      "metadata": {
        "colab": {
          "base_uri": "https://localhost:8080/",
          "height": 861
        },
        "id": "7Mx7HJyMZrb9",
        "outputId": "d577b865-74ff-486d-9d5d-a221f4b41b92"
      },
      "execution_count": 310,
      "outputs": [
        {
          "output_type": "stream",
          "name": "stderr",
          "text": [
            "<ipython-input-310-d40ee1a9e47a>:1: FutureWarning: In a future version of pandas all arguments of concat except for the argument 'objs' will be keyword-only.\n",
            "  df01 = pd.concat((stat_df,pd.get_dummies(stat_df.federal_district, prefix_sep='',)),1)\n",
            "<ipython-input-310-d40ee1a9e47a>:2: FutureWarning: In a future version of pandas all arguments of concat except for the argument 'objs' will be keyword-only.\n",
            "  df01 = pd.concat((df01,pd.get_dummies(stat_df.experience_p, prefix='o', prefix_sep='',)),1)\n",
            "<ipython-input-310-d40ee1a9e47a>:3: FutureWarning: In a future version of pandas all arguments of concat except for the argument 'objs' will be keyword-only.\n",
            "  df01 = pd.concat((df01,pd.get_dummies(stat_df.schedule_p, prefix='o', prefix_sep='',)),1)\n"
          ]
        },
        {
          "output_type": "execute_result",
          "data": {
            "text/plain": [
              "<class 'statsmodels.iolib.summary.Summary'>\n",
              "\"\"\"\n",
              "                            OLS Regression Results                            \n",
              "==============================================================================\n",
              "Dep. Variable:             salary_min   R-squared:                       0.107\n",
              "Model:                            OLS   Adj. R-squared:                  0.106\n",
              "Method:                 Least Squares   F-statistic:                     399.9\n",
              "Date:                Tue, 14 Mar 2023   Prob (F-statistic):               0.00\n",
              "Time:                        05:34:50   Log-Likelihood:            -6.0106e+05\n",
              "No. Observations:               50202   AIC:                         1.202e+06\n",
              "Df Residuals:                   50186   BIC:                         1.202e+06\n",
              "Df Model:                          15                                         \n",
              "Covariance Type:            nonrobust                                         \n",
              "==========================================================================================================\n",
              "                                             coef    std err          t      P>|t|      [0.025      0.975]\n",
              "----------------------------------------------------------------------------------------------------------\n",
              "Intercept                               5.219e+04    638.733     81.713      0.000    5.09e+04    5.34e+04\n",
              "C(schedule_p)[T.sch_1]                 -9754.2848    432.150    -22.572      0.000   -1.06e+04   -8907.266\n",
              "C(schedule_p)[T.sch_2]                 -1971.1030    929.362     -2.121      0.034   -3792.663    -149.543\n",
              "C(schedule_p)[T.sch_3]                 -1.453e+04   1329.174    -10.935      0.000   -1.71e+04   -1.19e+04\n",
              "C(schedule_p)[T.sch_4]                   785.0118   3480.648      0.226      0.822   -6037.097    7607.121\n",
              "C(experience_p)[T.exp_1]                2.197e+04    557.664     39.391      0.000    2.09e+04    2.31e+04\n",
              "C(experience_p)[T.exp_2]                3.718e+04    591.552     62.845      0.000     3.6e+04    3.83e+04\n",
              "C(experience_p)[T.exp_3]                4.713e+04   1073.830     43.892      0.000     4.5e+04    4.92e+04\n",
              "C(federal_district)[T.crimean]         -1.132e+04   2125.352     -5.324      0.000   -1.55e+04   -7150.302\n",
              "C(federal_district)[T.far_eastern]     -5358.7660   1177.086     -4.553      0.000   -7665.867   -3051.665\n",
              "C(federal_district)[T.north_caucasian]  -1.37e+04   2038.801     -6.718      0.000   -1.77e+04   -9700.699\n",
              "C(federal_district)[T.northwest]         180.4676    516.585      0.349      0.727    -832.045    1192.980\n",
              "C(federal_district)[T.privolzhsky]     -6290.2410    505.393    -12.446      0.000   -7280.818   -5299.664\n",
              "C(federal_district)[T.siberian]        -1834.3987    591.059     -3.104      0.002   -2992.882    -675.916\n",
              "C(federal_district)[T.south]           -4629.4388    730.167     -6.340      0.000   -6060.575   -3198.303\n",
              "C(federal_district)[T.uralsky]         -2701.2816    699.147     -3.864      0.000   -4071.617   -1330.946\n",
              "==============================================================================\n",
              "Omnibus:                    39905.590   Durbin-Watson:                   1.731\n",
              "Prob(Omnibus):                  0.000   Jarque-Bera (JB):          1184562.268\n",
              "Skew:                           3.651   Prob(JB):                         0.00\n",
              "Kurtosis:                      25.649   Cond. No.                         29.3\n",
              "==============================================================================\n",
              "\n",
              "Notes:\n",
              "[1] Standard Errors assume that the covariance matrix of the errors is correctly specified.\n",
              "\"\"\""
            ],
            "text/html": [
              "<table class=\"simpletable\">\n",
              "<caption>OLS Regression Results</caption>\n",
              "<tr>\n",
              "  <th>Dep. Variable:</th>       <td>salary_min</td>    <th>  R-squared:         </th>  <td>   0.107</td>  \n",
              "</tr>\n",
              "<tr>\n",
              "  <th>Model:</th>                   <td>OLS</td>       <th>  Adj. R-squared:    </th>  <td>   0.106</td>  \n",
              "</tr>\n",
              "<tr>\n",
              "  <th>Method:</th>             <td>Least Squares</td>  <th>  F-statistic:       </th>  <td>   399.9</td>  \n",
              "</tr>\n",
              "<tr>\n",
              "  <th>Date:</th>             <td>Tue, 14 Mar 2023</td> <th>  Prob (F-statistic):</th>   <td>  0.00</td>   \n",
              "</tr>\n",
              "<tr>\n",
              "  <th>Time:</th>                 <td>05:34:50</td>     <th>  Log-Likelihood:    </th> <td>-6.0106e+05</td>\n",
              "</tr>\n",
              "<tr>\n",
              "  <th>No. Observations:</th>      <td> 50202</td>      <th>  AIC:               </th>  <td>1.202e+06</td> \n",
              "</tr>\n",
              "<tr>\n",
              "  <th>Df Residuals:</th>          <td> 50186</td>      <th>  BIC:               </th>  <td>1.202e+06</td> \n",
              "</tr>\n",
              "<tr>\n",
              "  <th>Df Model:</th>              <td>    15</td>      <th>                     </th>      <td> </td>     \n",
              "</tr>\n",
              "<tr>\n",
              "  <th>Covariance Type:</th>      <td>nonrobust</td>    <th>                     </th>      <td> </td>     \n",
              "</tr>\n",
              "</table>\n",
              "<table class=\"simpletable\">\n",
              "<tr>\n",
              "                     <td></td>                       <th>coef</th>     <th>std err</th>      <th>t</th>      <th>P>|t|</th>  <th>[0.025</th>    <th>0.975]</th>  \n",
              "</tr>\n",
              "<tr>\n",
              "  <th>Intercept</th>                              <td> 5.219e+04</td> <td>  638.733</td> <td>   81.713</td> <td> 0.000</td> <td> 5.09e+04</td> <td> 5.34e+04</td>\n",
              "</tr>\n",
              "<tr>\n",
              "  <th>C(schedule_p)[T.sch_1]</th>                 <td>-9754.2848</td> <td>  432.150</td> <td>  -22.572</td> <td> 0.000</td> <td>-1.06e+04</td> <td>-8907.266</td>\n",
              "</tr>\n",
              "<tr>\n",
              "  <th>C(schedule_p)[T.sch_2]</th>                 <td>-1971.1030</td> <td>  929.362</td> <td>   -2.121</td> <td> 0.034</td> <td>-3792.663</td> <td> -149.543</td>\n",
              "</tr>\n",
              "<tr>\n",
              "  <th>C(schedule_p)[T.sch_3]</th>                 <td>-1.453e+04</td> <td> 1329.174</td> <td>  -10.935</td> <td> 0.000</td> <td>-1.71e+04</td> <td>-1.19e+04</td>\n",
              "</tr>\n",
              "<tr>\n",
              "  <th>C(schedule_p)[T.sch_4]</th>                 <td>  785.0118</td> <td> 3480.648</td> <td>    0.226</td> <td> 0.822</td> <td>-6037.097</td> <td> 7607.121</td>\n",
              "</tr>\n",
              "<tr>\n",
              "  <th>C(experience_p)[T.exp_1]</th>               <td> 2.197e+04</td> <td>  557.664</td> <td>   39.391</td> <td> 0.000</td> <td> 2.09e+04</td> <td> 2.31e+04</td>\n",
              "</tr>\n",
              "<tr>\n",
              "  <th>C(experience_p)[T.exp_2]</th>               <td> 3.718e+04</td> <td>  591.552</td> <td>   62.845</td> <td> 0.000</td> <td>  3.6e+04</td> <td> 3.83e+04</td>\n",
              "</tr>\n",
              "<tr>\n",
              "  <th>C(experience_p)[T.exp_3]</th>               <td> 4.713e+04</td> <td> 1073.830</td> <td>   43.892</td> <td> 0.000</td> <td>  4.5e+04</td> <td> 4.92e+04</td>\n",
              "</tr>\n",
              "<tr>\n",
              "  <th>C(federal_district)[T.crimean]</th>         <td>-1.132e+04</td> <td> 2125.352</td> <td>   -5.324</td> <td> 0.000</td> <td>-1.55e+04</td> <td>-7150.302</td>\n",
              "</tr>\n",
              "<tr>\n",
              "  <th>C(federal_district)[T.far_eastern]</th>     <td>-5358.7660</td> <td> 1177.086</td> <td>   -4.553</td> <td> 0.000</td> <td>-7665.867</td> <td>-3051.665</td>\n",
              "</tr>\n",
              "<tr>\n",
              "  <th>C(federal_district)[T.north_caucasian]</th> <td> -1.37e+04</td> <td> 2038.801</td> <td>   -6.718</td> <td> 0.000</td> <td>-1.77e+04</td> <td>-9700.699</td>\n",
              "</tr>\n",
              "<tr>\n",
              "  <th>C(federal_district)[T.northwest]</th>       <td>  180.4676</td> <td>  516.585</td> <td>    0.349</td> <td> 0.727</td> <td> -832.045</td> <td> 1192.980</td>\n",
              "</tr>\n",
              "<tr>\n",
              "  <th>C(federal_district)[T.privolzhsky]</th>     <td>-6290.2410</td> <td>  505.393</td> <td>  -12.446</td> <td> 0.000</td> <td>-7280.818</td> <td>-5299.664</td>\n",
              "</tr>\n",
              "<tr>\n",
              "  <th>C(federal_district)[T.siberian]</th>        <td>-1834.3987</td> <td>  591.059</td> <td>   -3.104</td> <td> 0.002</td> <td>-2992.882</td> <td> -675.916</td>\n",
              "</tr>\n",
              "<tr>\n",
              "  <th>C(federal_district)[T.south]</th>           <td>-4629.4388</td> <td>  730.167</td> <td>   -6.340</td> <td> 0.000</td> <td>-6060.575</td> <td>-3198.303</td>\n",
              "</tr>\n",
              "<tr>\n",
              "  <th>C(federal_district)[T.uralsky]</th>         <td>-2701.2816</td> <td>  699.147</td> <td>   -3.864</td> <td> 0.000</td> <td>-4071.617</td> <td>-1330.946</td>\n",
              "</tr>\n",
              "</table>\n",
              "<table class=\"simpletable\">\n",
              "<tr>\n",
              "  <th>Omnibus:</th>       <td>39905.590</td> <th>  Durbin-Watson:     </th>  <td>   1.731</td>  \n",
              "</tr>\n",
              "<tr>\n",
              "  <th>Prob(Omnibus):</th>  <td> 0.000</td>   <th>  Jarque-Bera (JB):  </th> <td>1184562.268</td>\n",
              "</tr>\n",
              "<tr>\n",
              "  <th>Skew:</th>           <td> 3.651</td>   <th>  Prob(JB):          </th>  <td>    0.00</td>  \n",
              "</tr>\n",
              "<tr>\n",
              "  <th>Kurtosis:</th>       <td>25.649</td>   <th>  Cond. No.          </th>  <td>    29.3</td>  \n",
              "</tr>\n",
              "</table><br/><br/>Notes:<br/>[1] Standard Errors assume that the covariance matrix of the errors is correctly specified."
            ]
          },
          "metadata": {},
          "execution_count": 310
        }
      ]
    },
    {
      "cell_type": "markdown",
      "source": [
        "Видим, что один из параметров в графике работы и в одном из округов не значим, убираем весь признак из модели."
      ],
      "metadata": {
        "id": "RUnUuwY0fFcc"
      }
    },
    {
      "cell_type": "code",
      "source": [
        "df01 = pd.concat((stat_df,pd.get_dummies(stat_df.experience_p, prefix='o', prefix_sep='',)),1)\n",
        "\n",
        "resultsm = smf.ols('salary_min ~ C(experience_p)', data=df01).fit()\n",
        "resultsm.summary()"
      ],
      "metadata": {
        "id": "HPWNvI2N1YhY",
        "colab": {
          "base_uri": "https://localhost:8080/",
          "height": 540
        },
        "outputId": "7309053a-7c5c-45be-8002-50b380b2beb1"
      },
      "execution_count": 311,
      "outputs": [
        {
          "output_type": "stream",
          "name": "stderr",
          "text": [
            "<ipython-input-311-fc52f0c345cf>:1: FutureWarning: In a future version of pandas all arguments of concat except for the argument 'objs' will be keyword-only.\n",
            "  df01 = pd.concat((stat_df,pd.get_dummies(stat_df.experience_p, prefix='o', prefix_sep='',)),1)\n"
          ]
        },
        {
          "output_type": "execute_result",
          "data": {
            "text/plain": [
              "<class 'statsmodels.iolib.summary.Summary'>\n",
              "\"\"\"\n",
              "                            OLS Regression Results                            \n",
              "==============================================================================\n",
              "Dep. Variable:             salary_min   R-squared:                       0.092\n",
              "Model:                            OLS   Adj. R-squared:                  0.092\n",
              "Method:                 Least Squares   F-statistic:                     1701.\n",
              "Date:                Tue, 14 Mar 2023   Prob (F-statistic):               0.00\n",
              "Time:                        05:34:54   Log-Likelihood:            -6.0147e+05\n",
              "No. Observations:               50202   AIC:                         1.203e+06\n",
              "Df Residuals:                   50198   BIC:                         1.203e+06\n",
              "Df Model:                           3                                         \n",
              "Covariance Type:            nonrobust                                         \n",
              "============================================================================================\n",
              "                               coef    std err          t      P>|t|      [0.025      0.975]\n",
              "--------------------------------------------------------------------------------------------\n",
              "Intercept                 4.257e+04    498.754     85.348      0.000    4.16e+04    4.35e+04\n",
              "C(experience_p)[T.exp_1]  2.174e+04    553.194     39.297      0.000    2.07e+04    2.28e+04\n",
              "C(experience_p)[T.exp_2]  3.788e+04    582.615     65.025      0.000    3.67e+04     3.9e+04\n",
              "C(experience_p)[T.exp_3]  4.776e+04   1070.267     44.621      0.000    4.57e+04    4.99e+04\n",
              "==============================================================================\n",
              "Omnibus:                    40350.671   Durbin-Watson:                   1.718\n",
              "Prob(Omnibus):                  0.000   Jarque-Bera (JB):          1199837.824\n",
              "Skew:                           3.715   Prob(JB):                         0.00\n",
              "Kurtosis:                      25.768   Cond. No.                         8.24\n",
              "==============================================================================\n",
              "\n",
              "Notes:\n",
              "[1] Standard Errors assume that the covariance matrix of the errors is correctly specified.\n",
              "\"\"\""
            ],
            "text/html": [
              "<table class=\"simpletable\">\n",
              "<caption>OLS Regression Results</caption>\n",
              "<tr>\n",
              "  <th>Dep. Variable:</th>       <td>salary_min</td>    <th>  R-squared:         </th>  <td>   0.092</td>  \n",
              "</tr>\n",
              "<tr>\n",
              "  <th>Model:</th>                   <td>OLS</td>       <th>  Adj. R-squared:    </th>  <td>   0.092</td>  \n",
              "</tr>\n",
              "<tr>\n",
              "  <th>Method:</th>             <td>Least Squares</td>  <th>  F-statistic:       </th>  <td>   1701.</td>  \n",
              "</tr>\n",
              "<tr>\n",
              "  <th>Date:</th>             <td>Tue, 14 Mar 2023</td> <th>  Prob (F-statistic):</th>   <td>  0.00</td>   \n",
              "</tr>\n",
              "<tr>\n",
              "  <th>Time:</th>                 <td>05:34:54</td>     <th>  Log-Likelihood:    </th> <td>-6.0147e+05</td>\n",
              "</tr>\n",
              "<tr>\n",
              "  <th>No. Observations:</th>      <td> 50202</td>      <th>  AIC:               </th>  <td>1.203e+06</td> \n",
              "</tr>\n",
              "<tr>\n",
              "  <th>Df Residuals:</th>          <td> 50198</td>      <th>  BIC:               </th>  <td>1.203e+06</td> \n",
              "</tr>\n",
              "<tr>\n",
              "  <th>Df Model:</th>              <td>     3</td>      <th>                     </th>      <td> </td>     \n",
              "</tr>\n",
              "<tr>\n",
              "  <th>Covariance Type:</th>      <td>nonrobust</td>    <th>                     </th>      <td> </td>     \n",
              "</tr>\n",
              "</table>\n",
              "<table class=\"simpletable\">\n",
              "<tr>\n",
              "              <td></td>                <th>coef</th>     <th>std err</th>      <th>t</th>      <th>P>|t|</th>  <th>[0.025</th>    <th>0.975]</th>  \n",
              "</tr>\n",
              "<tr>\n",
              "  <th>Intercept</th>                <td> 4.257e+04</td> <td>  498.754</td> <td>   85.348</td> <td> 0.000</td> <td> 4.16e+04</td> <td> 4.35e+04</td>\n",
              "</tr>\n",
              "<tr>\n",
              "  <th>C(experience_p)[T.exp_1]</th> <td> 2.174e+04</td> <td>  553.194</td> <td>   39.297</td> <td> 0.000</td> <td> 2.07e+04</td> <td> 2.28e+04</td>\n",
              "</tr>\n",
              "<tr>\n",
              "  <th>C(experience_p)[T.exp_2]</th> <td> 3.788e+04</td> <td>  582.615</td> <td>   65.025</td> <td> 0.000</td> <td> 3.67e+04</td> <td>  3.9e+04</td>\n",
              "</tr>\n",
              "<tr>\n",
              "  <th>C(experience_p)[T.exp_3]</th> <td> 4.776e+04</td> <td> 1070.267</td> <td>   44.621</td> <td> 0.000</td> <td> 4.57e+04</td> <td> 4.99e+04</td>\n",
              "</tr>\n",
              "</table>\n",
              "<table class=\"simpletable\">\n",
              "<tr>\n",
              "  <th>Omnibus:</th>       <td>40350.671</td> <th>  Durbin-Watson:     </th>  <td>   1.718</td>  \n",
              "</tr>\n",
              "<tr>\n",
              "  <th>Prob(Omnibus):</th>  <td> 0.000</td>   <th>  Jarque-Bera (JB):  </th> <td>1199837.824</td>\n",
              "</tr>\n",
              "<tr>\n",
              "  <th>Skew:</th>           <td> 3.715</td>   <th>  Prob(JB):          </th>  <td>    0.00</td>  \n",
              "</tr>\n",
              "<tr>\n",
              "  <th>Kurtosis:</th>       <td>25.768</td>   <th>  Cond. No.          </th>  <td>    8.24</td>  \n",
              "</tr>\n",
              "</table><br/><br/>Notes:<br/>[1] Standard Errors assume that the covariance matrix of the errors is correctly specified."
            ]
          },
          "metadata": {},
          "execution_count": 311
        }
      ]
    },
    {
      "cell_type": "markdown",
      "source": [
        "Видим, что p-value говорит о значимости остатков, но данные по тесту Жака-Бера говорят о ненормальности распределения остатков. Значит такая модель ненадежна."
      ],
      "metadata": {
        "id": "BSVkylv-fw2e"
      }
    },
    {
      "cell_type": "markdown",
      "source": [
        "### **Гипотеза Н0:** Владение навыками SQL не влияет на уровень зарплаты Аналитиков."
      ],
      "metadata": {
        "id": "wxIdwyujmvEK"
      }
    },
    {
      "cell_type": "code",
      "source": [
        "name_analyst = stat_df.loc[stat_df['name'] == 'Аналитик']\n",
        "name_analyst['key_skills'][:5]"
      ],
      "metadata": {
        "colab": {
          "base_uri": "https://localhost:8080/"
        },
        "id": "Sg0-Y7lEgCBP",
        "outputId": "bef30b21-73f8-4847-a387-661e30d3f6af"
      },
      "execution_count": 312,
      "outputs": [
        {
          "output_type": "execute_result",
          "data": {
            "text/plain": [
              "256     [Пользователь ПК, MS Excel, 1С: Торговля и склад]\n",
              "695     [MS PowerPoint, Мониторинг СМИ, Социальные сет...\n",
              "705     [Работа с базами данных, Работа в команде, Раб...\n",
              "708     [Работа в команде, Грамотная речь, Анализ рынк...\n",
              "1516    [Работа в команде, Аналитические исследования,...\n",
              "Name: key_skills, dtype: object"
            ]
          },
          "metadata": {},
          "execution_count": 312
        }
      ]
    },
    {
      "cell_type": "code",
      "source": [
        "def sql_key(row):\n",
        "  if 'SQL' in row:\n",
        "    return 1\n",
        "  return 0\n",
        "\n",
        "name_analyst['sql'] = name_analyst['key_skills'].apply(sql_key)\n",
        "name_analyst"
      ],
      "metadata": {
        "colab": {
          "base_uri": "https://localhost:8080/",
          "height": 1000
        },
        "id": "cWZl3YZ3gB-a",
        "outputId": "7d1ff08f-7ee7-4236-d87b-3d194607dd87"
      },
      "execution_count": 313,
      "outputs": [
        {
          "output_type": "stream",
          "name": "stderr",
          "text": [
            "<ipython-input-313-3c14096f7820>:6: SettingWithCopyWarning: \n",
            "A value is trying to be set on a copy of a slice from a DataFrame.\n",
            "Try using .loc[row_indexer,col_indexer] = value instead\n",
            "\n",
            "See the caveats in the documentation: https://pandas.pydata.org/pandas-docs/stable/user_guide/indexing.html#returning-a-view-versus-a-copy\n",
            "  name_analyst['sql'] = name_analyst['key_skills'].apply(sql_key)\n"
          ]
        },
        {
          "output_type": "execute_result",
          "data": {
            "text/plain": [
              "           name                 region  salary_min  salary_max  \\\n",
              "256    Аналитик       Хабаровский край     60000.0     90000.0   \n",
              "695    Аналитик      Рязанская область     60000.0     90000.0   \n",
              "705    Аналитик      Рязанская область     65000.0     85000.0   \n",
              "708    Аналитик      Рязанская область     39150.0     90000.0   \n",
              "1516   Аналитик  Нижегородская область     60000.0     90000.0   \n",
              "...         ...                    ...         ...         ...   \n",
              "68060  Аналитик         Омская область     14000.0     90000.0   \n",
              "68701  Аналитик    Кемеровская область     45000.0     55000.0   \n",
              "68712  Аналитик    Кемеровская область     40000.0     90000.0   \n",
              "68720  Аналитик    Кемеровская область     60000.0     90000.0   \n",
              "69267  Аналитик       Тульская область     26100.0     90000.0   \n",
              "\n",
              "                                                employer          schedule  \\\n",
              "256                                Sumitec International       Полный день   \n",
              "695                                       Диалог Регионы       Полный день   \n",
              "705                                      Граськова Ирина       Полный день   \n",
              "708                                        Грейн Холдинг       Полный день   \n",
              "1516   ДПО Корпоративный Университет Правительства Ни...       Полный день   \n",
              "...                                                  ...               ...   \n",
              "68060          Отдел полиции № 9 УМВД России по г. Омску       Полный день   \n",
              "68701                Крестьянское хозяйство Волкова А.П.  Удаленная работа   \n",
              "68712                                         СГМК-Трейд       Полный день   \n",
              "68720                                              ЕВРАЗ       Полный день   \n",
              "69267  Центр опережающей профессиональной подготовки ...       Полный день   \n",
              "\n",
              "                                              key_skills          experience  \\\n",
              "256    [Пользователь ПК, MS Excel, 1С: Торговля и склад]  От 1 года до 3 лет   \n",
              "695    [MS PowerPoint, Мониторинг СМИ, Социальные сет...  От 1 года до 3 лет   \n",
              "705    [Работа с базами данных, Работа в команде, Раб...  От 1 года до 3 лет   \n",
              "708    [Работа в команде, Грамотная речь, Анализ рынк...  От 1 года до 3 лет   \n",
              "1516   [Работа в команде, Аналитические исследования,...  От 1 года до 3 лет   \n",
              "...                                                  ...                 ...   \n",
              "68060  [Пользователь ПК, Работа в команде, Грамотная ...           Нет опыта   \n",
              "68701  [Работа с большим объемом информации, MS Power...  От 1 года до 3 лет   \n",
              "68712  [MS PowerPoint, VBA, SQL, Ответственность, Вни...  От 1 года до 3 лет   \n",
              "68720  [MS PowerPoint, Проведение презентаций, Делова...  От 1 года до 3 лет   \n",
              "69267                                                 []           Нет опыта   \n",
              "\n",
              "      experience_p schedule_p federal_district  sql  \n",
              "256          exp_1      sch_1      far_eastern    0  \n",
              "695          exp_1      sch_1          central    0  \n",
              "705          exp_1      sch_1          central    0  \n",
              "708          exp_1      sch_1          central    0  \n",
              "1516         exp_1      sch_1      privolzhsky    0  \n",
              "...            ...        ...              ...  ...  \n",
              "68060        exp_0      sch_1         siberian    0  \n",
              "68701        exp_1      sch_0         siberian    0  \n",
              "68712        exp_1      sch_1         siberian    1  \n",
              "68720        exp_1      sch_1         siberian    0  \n",
              "69267        exp_0      sch_1          central    0  \n",
              "\n",
              "[343 rows x 12 columns]"
            ],
            "text/html": [
              "\n",
              "  <div id=\"df-7a2b6262-fb50-44ec-bf95-2b0a7f9878cc\">\n",
              "    <div class=\"colab-df-container\">\n",
              "      <div>\n",
              "<style scoped>\n",
              "    .dataframe tbody tr th:only-of-type {\n",
              "        vertical-align: middle;\n",
              "    }\n",
              "\n",
              "    .dataframe tbody tr th {\n",
              "        vertical-align: top;\n",
              "    }\n",
              "\n",
              "    .dataframe thead th {\n",
              "        text-align: right;\n",
              "    }\n",
              "</style>\n",
              "<table border=\"1\" class=\"dataframe\">\n",
              "  <thead>\n",
              "    <tr style=\"text-align: right;\">\n",
              "      <th></th>\n",
              "      <th>name</th>\n",
              "      <th>region</th>\n",
              "      <th>salary_min</th>\n",
              "      <th>salary_max</th>\n",
              "      <th>employer</th>\n",
              "      <th>schedule</th>\n",
              "      <th>key_skills</th>\n",
              "      <th>experience</th>\n",
              "      <th>experience_p</th>\n",
              "      <th>schedule_p</th>\n",
              "      <th>federal_district</th>\n",
              "      <th>sql</th>\n",
              "    </tr>\n",
              "  </thead>\n",
              "  <tbody>\n",
              "    <tr>\n",
              "      <th>256</th>\n",
              "      <td>Аналитик</td>\n",
              "      <td>Хабаровский край</td>\n",
              "      <td>60000.0</td>\n",
              "      <td>90000.0</td>\n",
              "      <td>Sumitec International</td>\n",
              "      <td>Полный день</td>\n",
              "      <td>[Пользователь ПК, MS Excel, 1С: Торговля и склад]</td>\n",
              "      <td>От 1 года до 3 лет</td>\n",
              "      <td>exp_1</td>\n",
              "      <td>sch_1</td>\n",
              "      <td>far_eastern</td>\n",
              "      <td>0</td>\n",
              "    </tr>\n",
              "    <tr>\n",
              "      <th>695</th>\n",
              "      <td>Аналитик</td>\n",
              "      <td>Рязанская область</td>\n",
              "      <td>60000.0</td>\n",
              "      <td>90000.0</td>\n",
              "      <td>Диалог Регионы</td>\n",
              "      <td>Полный день</td>\n",
              "      <td>[MS PowerPoint, Мониторинг СМИ, Социальные сет...</td>\n",
              "      <td>От 1 года до 3 лет</td>\n",
              "      <td>exp_1</td>\n",
              "      <td>sch_1</td>\n",
              "      <td>central</td>\n",
              "      <td>0</td>\n",
              "    </tr>\n",
              "    <tr>\n",
              "      <th>705</th>\n",
              "      <td>Аналитик</td>\n",
              "      <td>Рязанская область</td>\n",
              "      <td>65000.0</td>\n",
              "      <td>85000.0</td>\n",
              "      <td>Граськова Ирина</td>\n",
              "      <td>Полный день</td>\n",
              "      <td>[Работа с базами данных, Работа в команде, Раб...</td>\n",
              "      <td>От 1 года до 3 лет</td>\n",
              "      <td>exp_1</td>\n",
              "      <td>sch_1</td>\n",
              "      <td>central</td>\n",
              "      <td>0</td>\n",
              "    </tr>\n",
              "    <tr>\n",
              "      <th>708</th>\n",
              "      <td>Аналитик</td>\n",
              "      <td>Рязанская область</td>\n",
              "      <td>39150.0</td>\n",
              "      <td>90000.0</td>\n",
              "      <td>Грейн Холдинг</td>\n",
              "      <td>Полный день</td>\n",
              "      <td>[Работа в команде, Грамотная речь, Анализ рынк...</td>\n",
              "      <td>От 1 года до 3 лет</td>\n",
              "      <td>exp_1</td>\n",
              "      <td>sch_1</td>\n",
              "      <td>central</td>\n",
              "      <td>0</td>\n",
              "    </tr>\n",
              "    <tr>\n",
              "      <th>1516</th>\n",
              "      <td>Аналитик</td>\n",
              "      <td>Нижегородская область</td>\n",
              "      <td>60000.0</td>\n",
              "      <td>90000.0</td>\n",
              "      <td>ДПО Корпоративный Университет Правительства Ни...</td>\n",
              "      <td>Полный день</td>\n",
              "      <td>[Работа в команде, Аналитические исследования,...</td>\n",
              "      <td>От 1 года до 3 лет</td>\n",
              "      <td>exp_1</td>\n",
              "      <td>sch_1</td>\n",
              "      <td>privolzhsky</td>\n",
              "      <td>0</td>\n",
              "    </tr>\n",
              "    <tr>\n",
              "      <th>...</th>\n",
              "      <td>...</td>\n",
              "      <td>...</td>\n",
              "      <td>...</td>\n",
              "      <td>...</td>\n",
              "      <td>...</td>\n",
              "      <td>...</td>\n",
              "      <td>...</td>\n",
              "      <td>...</td>\n",
              "      <td>...</td>\n",
              "      <td>...</td>\n",
              "      <td>...</td>\n",
              "      <td>...</td>\n",
              "    </tr>\n",
              "    <tr>\n",
              "      <th>68060</th>\n",
              "      <td>Аналитик</td>\n",
              "      <td>Омская область</td>\n",
              "      <td>14000.0</td>\n",
              "      <td>90000.0</td>\n",
              "      <td>Отдел полиции № 9 УМВД России по г. Омску</td>\n",
              "      <td>Полный день</td>\n",
              "      <td>[Пользователь ПК, Работа в команде, Грамотная ...</td>\n",
              "      <td>Нет опыта</td>\n",
              "      <td>exp_0</td>\n",
              "      <td>sch_1</td>\n",
              "      <td>siberian</td>\n",
              "      <td>0</td>\n",
              "    </tr>\n",
              "    <tr>\n",
              "      <th>68701</th>\n",
              "      <td>Аналитик</td>\n",
              "      <td>Кемеровская область</td>\n",
              "      <td>45000.0</td>\n",
              "      <td>55000.0</td>\n",
              "      <td>Крестьянское хозяйство Волкова А.П.</td>\n",
              "      <td>Удаленная работа</td>\n",
              "      <td>[Работа с большим объемом информации, MS Power...</td>\n",
              "      <td>От 1 года до 3 лет</td>\n",
              "      <td>exp_1</td>\n",
              "      <td>sch_0</td>\n",
              "      <td>siberian</td>\n",
              "      <td>0</td>\n",
              "    </tr>\n",
              "    <tr>\n",
              "      <th>68712</th>\n",
              "      <td>Аналитик</td>\n",
              "      <td>Кемеровская область</td>\n",
              "      <td>40000.0</td>\n",
              "      <td>90000.0</td>\n",
              "      <td>СГМК-Трейд</td>\n",
              "      <td>Полный день</td>\n",
              "      <td>[MS PowerPoint, VBA, SQL, Ответственность, Вни...</td>\n",
              "      <td>От 1 года до 3 лет</td>\n",
              "      <td>exp_1</td>\n",
              "      <td>sch_1</td>\n",
              "      <td>siberian</td>\n",
              "      <td>1</td>\n",
              "    </tr>\n",
              "    <tr>\n",
              "      <th>68720</th>\n",
              "      <td>Аналитик</td>\n",
              "      <td>Кемеровская область</td>\n",
              "      <td>60000.0</td>\n",
              "      <td>90000.0</td>\n",
              "      <td>ЕВРАЗ</td>\n",
              "      <td>Полный день</td>\n",
              "      <td>[MS PowerPoint, Проведение презентаций, Делова...</td>\n",
              "      <td>От 1 года до 3 лет</td>\n",
              "      <td>exp_1</td>\n",
              "      <td>sch_1</td>\n",
              "      <td>siberian</td>\n",
              "      <td>0</td>\n",
              "    </tr>\n",
              "    <tr>\n",
              "      <th>69267</th>\n",
              "      <td>Аналитик</td>\n",
              "      <td>Тульская область</td>\n",
              "      <td>26100.0</td>\n",
              "      <td>90000.0</td>\n",
              "      <td>Центр опережающей профессиональной подготовки ...</td>\n",
              "      <td>Полный день</td>\n",
              "      <td>[]</td>\n",
              "      <td>Нет опыта</td>\n",
              "      <td>exp_0</td>\n",
              "      <td>sch_1</td>\n",
              "      <td>central</td>\n",
              "      <td>0</td>\n",
              "    </tr>\n",
              "  </tbody>\n",
              "</table>\n",
              "<p>343 rows × 12 columns</p>\n",
              "</div>\n",
              "      <button class=\"colab-df-convert\" onclick=\"convertToInteractive('df-7a2b6262-fb50-44ec-bf95-2b0a7f9878cc')\"\n",
              "              title=\"Convert this dataframe to an interactive table.\"\n",
              "              style=\"display:none;\">\n",
              "        \n",
              "  <svg xmlns=\"http://www.w3.org/2000/svg\" height=\"24px\"viewBox=\"0 0 24 24\"\n",
              "       width=\"24px\">\n",
              "    <path d=\"M0 0h24v24H0V0z\" fill=\"none\"/>\n",
              "    <path d=\"M18.56 5.44l.94 2.06.94-2.06 2.06-.94-2.06-.94-.94-2.06-.94 2.06-2.06.94zm-11 1L8.5 8.5l.94-2.06 2.06-.94-2.06-.94L8.5 2.5l-.94 2.06-2.06.94zm10 10l.94 2.06.94-2.06 2.06-.94-2.06-.94-.94-2.06-.94 2.06-2.06.94z\"/><path d=\"M17.41 7.96l-1.37-1.37c-.4-.4-.92-.59-1.43-.59-.52 0-1.04.2-1.43.59L10.3 9.45l-7.72 7.72c-.78.78-.78 2.05 0 2.83L4 21.41c.39.39.9.59 1.41.59.51 0 1.02-.2 1.41-.59l7.78-7.78 2.81-2.81c.8-.78.8-2.07 0-2.86zM5.41 20L4 18.59l7.72-7.72 1.47 1.35L5.41 20z\"/>\n",
              "  </svg>\n",
              "      </button>\n",
              "      \n",
              "  <style>\n",
              "    .colab-df-container {\n",
              "      display:flex;\n",
              "      flex-wrap:wrap;\n",
              "      gap: 12px;\n",
              "    }\n",
              "\n",
              "    .colab-df-convert {\n",
              "      background-color: #E8F0FE;\n",
              "      border: none;\n",
              "      border-radius: 50%;\n",
              "      cursor: pointer;\n",
              "      display: none;\n",
              "      fill: #1967D2;\n",
              "      height: 32px;\n",
              "      padding: 0 0 0 0;\n",
              "      width: 32px;\n",
              "    }\n",
              "\n",
              "    .colab-df-convert:hover {\n",
              "      background-color: #E2EBFA;\n",
              "      box-shadow: 0px 1px 2px rgba(60, 64, 67, 0.3), 0px 1px 3px 1px rgba(60, 64, 67, 0.15);\n",
              "      fill: #174EA6;\n",
              "    }\n",
              "\n",
              "    [theme=dark] .colab-df-convert {\n",
              "      background-color: #3B4455;\n",
              "      fill: #D2E3FC;\n",
              "    }\n",
              "\n",
              "    [theme=dark] .colab-df-convert:hover {\n",
              "      background-color: #434B5C;\n",
              "      box-shadow: 0px 1px 3px 1px rgba(0, 0, 0, 0.15);\n",
              "      filter: drop-shadow(0px 1px 2px rgba(0, 0, 0, 0.3));\n",
              "      fill: #FFFFFF;\n",
              "    }\n",
              "  </style>\n",
              "\n",
              "      <script>\n",
              "        const buttonEl =\n",
              "          document.querySelector('#df-7a2b6262-fb50-44ec-bf95-2b0a7f9878cc button.colab-df-convert');\n",
              "        buttonEl.style.display =\n",
              "          google.colab.kernel.accessAllowed ? 'block' : 'none';\n",
              "\n",
              "        async function convertToInteractive(key) {\n",
              "          const element = document.querySelector('#df-7a2b6262-fb50-44ec-bf95-2b0a7f9878cc');\n",
              "          const dataTable =\n",
              "            await google.colab.kernel.invokeFunction('convertToInteractive',\n",
              "                                                     [key], {});\n",
              "          if (!dataTable) return;\n",
              "\n",
              "          const docLinkHtml = 'Like what you see? Visit the ' +\n",
              "            '<a target=\"_blank\" href=https://colab.research.google.com/notebooks/data_table.ipynb>data table notebook</a>'\n",
              "            + ' to learn more about interactive tables.';\n",
              "          element.innerHTML = '';\n",
              "          dataTable['output_type'] = 'display_data';\n",
              "          await google.colab.output.renderOutput(dataTable, element);\n",
              "          const docLink = document.createElement('div');\n",
              "          docLink.innerHTML = docLinkHtml;\n",
              "          element.appendChild(docLink);\n",
              "        }\n",
              "      </script>\n",
              "    </div>\n",
              "  </div>\n",
              "  "
            ]
          },
          "metadata": {},
          "execution_count": 313
        }
      ]
    },
    {
      "cell_type": "code",
      "source": [
        "name_analyst.groupby('sql')['salary_min'].mean()"
      ],
      "metadata": {
        "colab": {
          "base_uri": "https://localhost:8080/"
        },
        "id": "7X9AjSzXgB7w",
        "outputId": "b5bc65f9-6565-4657-cc75-f13b92ed0d41"
      },
      "execution_count": 314,
      "outputs": [
        {
          "output_type": "execute_result",
          "data": {
            "text/plain": [
              "sql\n",
              "0    55327.795097\n",
              "1    68153.023256\n",
              "Name: salary_min, dtype: float64"
            ]
          },
          "metadata": {},
          "execution_count": 314
        }
      ]
    },
    {
      "cell_type": "code",
      "source": [
        "n0 = name_analyst[name_analyst['sql'] == 0]\n",
        "n1 = name_analyst[name_analyst['sql'] == 1]\n",
        "scipy.stats.mannwhitneyu(n0['salary_min'], n1['salary_min'])"
      ],
      "metadata": {
        "colab": {
          "base_uri": "https://localhost:8080/"
        },
        "id": "yrguqD63ns5K",
        "outputId": "2c02eee4-ead9-455a-caeb-7d206e9e66cf"
      },
      "execution_count": 315,
      "outputs": [
        {
          "output_type": "execute_result",
          "data": {
            "text/plain": [
              "MannwhitneyuResult(statistic=7812.0, pvalue=2.7767640890806662e-06)"
            ]
          },
          "metadata": {},
          "execution_count": 315
        }
      ]
    },
    {
      "cell_type": "markdown",
      "source": [
        "**Итак,** p-value меньше нашего уровня значимости, значит знание SQL влияет на уровень зарплаты."
      ],
      "metadata": {
        "id": "ETOhidbRqAO8"
      }
    },
    {
      "cell_type": "markdown",
      "source": [
        "### **Н0:** Знание python не влияет на уровень зарплаты Аналитиков."
      ],
      "metadata": {
        "id": "MqfCPDn2qaxu"
      }
    },
    {
      "cell_type": "code",
      "source": [
        "def python_key(row):\n",
        "  if 'Python' in row:\n",
        "    return 1\n",
        "  return 0\n",
        "\n",
        "name_analyst['python'] = name_analyst['key_skills'].apply(python_key)\n",
        "name_analyst"
      ],
      "metadata": {
        "colab": {
          "base_uri": "https://localhost:8080/",
          "height": 1000
        },
        "id": "_WpcYTdNqaI_",
        "outputId": "ded4fb9b-96b0-45e4-cace-8cc1d3cf7413"
      },
      "execution_count": 316,
      "outputs": [
        {
          "output_type": "stream",
          "name": "stderr",
          "text": [
            "<ipython-input-316-e43053d8cd12>:6: SettingWithCopyWarning: \n",
            "A value is trying to be set on a copy of a slice from a DataFrame.\n",
            "Try using .loc[row_indexer,col_indexer] = value instead\n",
            "\n",
            "See the caveats in the documentation: https://pandas.pydata.org/pandas-docs/stable/user_guide/indexing.html#returning-a-view-versus-a-copy\n",
            "  name_analyst['python'] = name_analyst['key_skills'].apply(python_key)\n"
          ]
        },
        {
          "output_type": "execute_result",
          "data": {
            "text/plain": [
              "           name                 region  salary_min  salary_max  \\\n",
              "256    Аналитик       Хабаровский край     60000.0     90000.0   \n",
              "695    Аналитик      Рязанская область     60000.0     90000.0   \n",
              "705    Аналитик      Рязанская область     65000.0     85000.0   \n",
              "708    Аналитик      Рязанская область     39150.0     90000.0   \n",
              "1516   Аналитик  Нижегородская область     60000.0     90000.0   \n",
              "...         ...                    ...         ...         ...   \n",
              "68060  Аналитик         Омская область     14000.0     90000.0   \n",
              "68701  Аналитик    Кемеровская область     45000.0     55000.0   \n",
              "68712  Аналитик    Кемеровская область     40000.0     90000.0   \n",
              "68720  Аналитик    Кемеровская область     60000.0     90000.0   \n",
              "69267  Аналитик       Тульская область     26100.0     90000.0   \n",
              "\n",
              "                                                employer          schedule  \\\n",
              "256                                Sumitec International       Полный день   \n",
              "695                                       Диалог Регионы       Полный день   \n",
              "705                                      Граськова Ирина       Полный день   \n",
              "708                                        Грейн Холдинг       Полный день   \n",
              "1516   ДПО Корпоративный Университет Правительства Ни...       Полный день   \n",
              "...                                                  ...               ...   \n",
              "68060          Отдел полиции № 9 УМВД России по г. Омску       Полный день   \n",
              "68701                Крестьянское хозяйство Волкова А.П.  Удаленная работа   \n",
              "68712                                         СГМК-Трейд       Полный день   \n",
              "68720                                              ЕВРАЗ       Полный день   \n",
              "69267  Центр опережающей профессиональной подготовки ...       Полный день   \n",
              "\n",
              "                                              key_skills          experience  \\\n",
              "256    [Пользователь ПК, MS Excel, 1С: Торговля и склад]  От 1 года до 3 лет   \n",
              "695    [MS PowerPoint, Мониторинг СМИ, Социальные сет...  От 1 года до 3 лет   \n",
              "705    [Работа с базами данных, Работа в команде, Раб...  От 1 года до 3 лет   \n",
              "708    [Работа в команде, Грамотная речь, Анализ рынк...  От 1 года до 3 лет   \n",
              "1516   [Работа в команде, Аналитические исследования,...  От 1 года до 3 лет   \n",
              "...                                                  ...                 ...   \n",
              "68060  [Пользователь ПК, Работа в команде, Грамотная ...           Нет опыта   \n",
              "68701  [Работа с большим объемом информации, MS Power...  От 1 года до 3 лет   \n",
              "68712  [MS PowerPoint, VBA, SQL, Ответственность, Вни...  От 1 года до 3 лет   \n",
              "68720  [MS PowerPoint, Проведение презентаций, Делова...  От 1 года до 3 лет   \n",
              "69267                                                 []           Нет опыта   \n",
              "\n",
              "      experience_p schedule_p federal_district  sql  python  \n",
              "256          exp_1      sch_1      far_eastern    0       0  \n",
              "695          exp_1      sch_1          central    0       0  \n",
              "705          exp_1      sch_1          central    0       0  \n",
              "708          exp_1      sch_1          central    0       0  \n",
              "1516         exp_1      sch_1      privolzhsky    0       0  \n",
              "...            ...        ...              ...  ...     ...  \n",
              "68060        exp_0      sch_1         siberian    0       0  \n",
              "68701        exp_1      sch_0         siberian    0       0  \n",
              "68712        exp_1      sch_1         siberian    1       0  \n",
              "68720        exp_1      sch_1         siberian    0       0  \n",
              "69267        exp_0      sch_1          central    0       0  \n",
              "\n",
              "[343 rows x 13 columns]"
            ],
            "text/html": [
              "\n",
              "  <div id=\"df-5d8efb78-02bc-4af4-b195-cc03380228c2\">\n",
              "    <div class=\"colab-df-container\">\n",
              "      <div>\n",
              "<style scoped>\n",
              "    .dataframe tbody tr th:only-of-type {\n",
              "        vertical-align: middle;\n",
              "    }\n",
              "\n",
              "    .dataframe tbody tr th {\n",
              "        vertical-align: top;\n",
              "    }\n",
              "\n",
              "    .dataframe thead th {\n",
              "        text-align: right;\n",
              "    }\n",
              "</style>\n",
              "<table border=\"1\" class=\"dataframe\">\n",
              "  <thead>\n",
              "    <tr style=\"text-align: right;\">\n",
              "      <th></th>\n",
              "      <th>name</th>\n",
              "      <th>region</th>\n",
              "      <th>salary_min</th>\n",
              "      <th>salary_max</th>\n",
              "      <th>employer</th>\n",
              "      <th>schedule</th>\n",
              "      <th>key_skills</th>\n",
              "      <th>experience</th>\n",
              "      <th>experience_p</th>\n",
              "      <th>schedule_p</th>\n",
              "      <th>federal_district</th>\n",
              "      <th>sql</th>\n",
              "      <th>python</th>\n",
              "    </tr>\n",
              "  </thead>\n",
              "  <tbody>\n",
              "    <tr>\n",
              "      <th>256</th>\n",
              "      <td>Аналитик</td>\n",
              "      <td>Хабаровский край</td>\n",
              "      <td>60000.0</td>\n",
              "      <td>90000.0</td>\n",
              "      <td>Sumitec International</td>\n",
              "      <td>Полный день</td>\n",
              "      <td>[Пользователь ПК, MS Excel, 1С: Торговля и склад]</td>\n",
              "      <td>От 1 года до 3 лет</td>\n",
              "      <td>exp_1</td>\n",
              "      <td>sch_1</td>\n",
              "      <td>far_eastern</td>\n",
              "      <td>0</td>\n",
              "      <td>0</td>\n",
              "    </tr>\n",
              "    <tr>\n",
              "      <th>695</th>\n",
              "      <td>Аналитик</td>\n",
              "      <td>Рязанская область</td>\n",
              "      <td>60000.0</td>\n",
              "      <td>90000.0</td>\n",
              "      <td>Диалог Регионы</td>\n",
              "      <td>Полный день</td>\n",
              "      <td>[MS PowerPoint, Мониторинг СМИ, Социальные сет...</td>\n",
              "      <td>От 1 года до 3 лет</td>\n",
              "      <td>exp_1</td>\n",
              "      <td>sch_1</td>\n",
              "      <td>central</td>\n",
              "      <td>0</td>\n",
              "      <td>0</td>\n",
              "    </tr>\n",
              "    <tr>\n",
              "      <th>705</th>\n",
              "      <td>Аналитик</td>\n",
              "      <td>Рязанская область</td>\n",
              "      <td>65000.0</td>\n",
              "      <td>85000.0</td>\n",
              "      <td>Граськова Ирина</td>\n",
              "      <td>Полный день</td>\n",
              "      <td>[Работа с базами данных, Работа в команде, Раб...</td>\n",
              "      <td>От 1 года до 3 лет</td>\n",
              "      <td>exp_1</td>\n",
              "      <td>sch_1</td>\n",
              "      <td>central</td>\n",
              "      <td>0</td>\n",
              "      <td>0</td>\n",
              "    </tr>\n",
              "    <tr>\n",
              "      <th>708</th>\n",
              "      <td>Аналитик</td>\n",
              "      <td>Рязанская область</td>\n",
              "      <td>39150.0</td>\n",
              "      <td>90000.0</td>\n",
              "      <td>Грейн Холдинг</td>\n",
              "      <td>Полный день</td>\n",
              "      <td>[Работа в команде, Грамотная речь, Анализ рынк...</td>\n",
              "      <td>От 1 года до 3 лет</td>\n",
              "      <td>exp_1</td>\n",
              "      <td>sch_1</td>\n",
              "      <td>central</td>\n",
              "      <td>0</td>\n",
              "      <td>0</td>\n",
              "    </tr>\n",
              "    <tr>\n",
              "      <th>1516</th>\n",
              "      <td>Аналитик</td>\n",
              "      <td>Нижегородская область</td>\n",
              "      <td>60000.0</td>\n",
              "      <td>90000.0</td>\n",
              "      <td>ДПО Корпоративный Университет Правительства Ни...</td>\n",
              "      <td>Полный день</td>\n",
              "      <td>[Работа в команде, Аналитические исследования,...</td>\n",
              "      <td>От 1 года до 3 лет</td>\n",
              "      <td>exp_1</td>\n",
              "      <td>sch_1</td>\n",
              "      <td>privolzhsky</td>\n",
              "      <td>0</td>\n",
              "      <td>0</td>\n",
              "    </tr>\n",
              "    <tr>\n",
              "      <th>...</th>\n",
              "      <td>...</td>\n",
              "      <td>...</td>\n",
              "      <td>...</td>\n",
              "      <td>...</td>\n",
              "      <td>...</td>\n",
              "      <td>...</td>\n",
              "      <td>...</td>\n",
              "      <td>...</td>\n",
              "      <td>...</td>\n",
              "      <td>...</td>\n",
              "      <td>...</td>\n",
              "      <td>...</td>\n",
              "      <td>...</td>\n",
              "    </tr>\n",
              "    <tr>\n",
              "      <th>68060</th>\n",
              "      <td>Аналитик</td>\n",
              "      <td>Омская область</td>\n",
              "      <td>14000.0</td>\n",
              "      <td>90000.0</td>\n",
              "      <td>Отдел полиции № 9 УМВД России по г. Омску</td>\n",
              "      <td>Полный день</td>\n",
              "      <td>[Пользователь ПК, Работа в команде, Грамотная ...</td>\n",
              "      <td>Нет опыта</td>\n",
              "      <td>exp_0</td>\n",
              "      <td>sch_1</td>\n",
              "      <td>siberian</td>\n",
              "      <td>0</td>\n",
              "      <td>0</td>\n",
              "    </tr>\n",
              "    <tr>\n",
              "      <th>68701</th>\n",
              "      <td>Аналитик</td>\n",
              "      <td>Кемеровская область</td>\n",
              "      <td>45000.0</td>\n",
              "      <td>55000.0</td>\n",
              "      <td>Крестьянское хозяйство Волкова А.П.</td>\n",
              "      <td>Удаленная работа</td>\n",
              "      <td>[Работа с большим объемом информации, MS Power...</td>\n",
              "      <td>От 1 года до 3 лет</td>\n",
              "      <td>exp_1</td>\n",
              "      <td>sch_0</td>\n",
              "      <td>siberian</td>\n",
              "      <td>0</td>\n",
              "      <td>0</td>\n",
              "    </tr>\n",
              "    <tr>\n",
              "      <th>68712</th>\n",
              "      <td>Аналитик</td>\n",
              "      <td>Кемеровская область</td>\n",
              "      <td>40000.0</td>\n",
              "      <td>90000.0</td>\n",
              "      <td>СГМК-Трейд</td>\n",
              "      <td>Полный день</td>\n",
              "      <td>[MS PowerPoint, VBA, SQL, Ответственность, Вни...</td>\n",
              "      <td>От 1 года до 3 лет</td>\n",
              "      <td>exp_1</td>\n",
              "      <td>sch_1</td>\n",
              "      <td>siberian</td>\n",
              "      <td>1</td>\n",
              "      <td>0</td>\n",
              "    </tr>\n",
              "    <tr>\n",
              "      <th>68720</th>\n",
              "      <td>Аналитик</td>\n",
              "      <td>Кемеровская область</td>\n",
              "      <td>60000.0</td>\n",
              "      <td>90000.0</td>\n",
              "      <td>ЕВРАЗ</td>\n",
              "      <td>Полный день</td>\n",
              "      <td>[MS PowerPoint, Проведение презентаций, Делова...</td>\n",
              "      <td>От 1 года до 3 лет</td>\n",
              "      <td>exp_1</td>\n",
              "      <td>sch_1</td>\n",
              "      <td>siberian</td>\n",
              "      <td>0</td>\n",
              "      <td>0</td>\n",
              "    </tr>\n",
              "    <tr>\n",
              "      <th>69267</th>\n",
              "      <td>Аналитик</td>\n",
              "      <td>Тульская область</td>\n",
              "      <td>26100.0</td>\n",
              "      <td>90000.0</td>\n",
              "      <td>Центр опережающей профессиональной подготовки ...</td>\n",
              "      <td>Полный день</td>\n",
              "      <td>[]</td>\n",
              "      <td>Нет опыта</td>\n",
              "      <td>exp_0</td>\n",
              "      <td>sch_1</td>\n",
              "      <td>central</td>\n",
              "      <td>0</td>\n",
              "      <td>0</td>\n",
              "    </tr>\n",
              "  </tbody>\n",
              "</table>\n",
              "<p>343 rows × 13 columns</p>\n",
              "</div>\n",
              "      <button class=\"colab-df-convert\" onclick=\"convertToInteractive('df-5d8efb78-02bc-4af4-b195-cc03380228c2')\"\n",
              "              title=\"Convert this dataframe to an interactive table.\"\n",
              "              style=\"display:none;\">\n",
              "        \n",
              "  <svg xmlns=\"http://www.w3.org/2000/svg\" height=\"24px\"viewBox=\"0 0 24 24\"\n",
              "       width=\"24px\">\n",
              "    <path d=\"M0 0h24v24H0V0z\" fill=\"none\"/>\n",
              "    <path d=\"M18.56 5.44l.94 2.06.94-2.06 2.06-.94-2.06-.94-.94-2.06-.94 2.06-2.06.94zm-11 1L8.5 8.5l.94-2.06 2.06-.94-2.06-.94L8.5 2.5l-.94 2.06-2.06.94zm10 10l.94 2.06.94-2.06 2.06-.94-2.06-.94-.94-2.06-.94 2.06-2.06.94z\"/><path d=\"M17.41 7.96l-1.37-1.37c-.4-.4-.92-.59-1.43-.59-.52 0-1.04.2-1.43.59L10.3 9.45l-7.72 7.72c-.78.78-.78 2.05 0 2.83L4 21.41c.39.39.9.59 1.41.59.51 0 1.02-.2 1.41-.59l7.78-7.78 2.81-2.81c.8-.78.8-2.07 0-2.86zM5.41 20L4 18.59l7.72-7.72 1.47 1.35L5.41 20z\"/>\n",
              "  </svg>\n",
              "      </button>\n",
              "      \n",
              "  <style>\n",
              "    .colab-df-container {\n",
              "      display:flex;\n",
              "      flex-wrap:wrap;\n",
              "      gap: 12px;\n",
              "    }\n",
              "\n",
              "    .colab-df-convert {\n",
              "      background-color: #E8F0FE;\n",
              "      border: none;\n",
              "      border-radius: 50%;\n",
              "      cursor: pointer;\n",
              "      display: none;\n",
              "      fill: #1967D2;\n",
              "      height: 32px;\n",
              "      padding: 0 0 0 0;\n",
              "      width: 32px;\n",
              "    }\n",
              "\n",
              "    .colab-df-convert:hover {\n",
              "      background-color: #E2EBFA;\n",
              "      box-shadow: 0px 1px 2px rgba(60, 64, 67, 0.3), 0px 1px 3px 1px rgba(60, 64, 67, 0.15);\n",
              "      fill: #174EA6;\n",
              "    }\n",
              "\n",
              "    [theme=dark] .colab-df-convert {\n",
              "      background-color: #3B4455;\n",
              "      fill: #D2E3FC;\n",
              "    }\n",
              "\n",
              "    [theme=dark] .colab-df-convert:hover {\n",
              "      background-color: #434B5C;\n",
              "      box-shadow: 0px 1px 3px 1px rgba(0, 0, 0, 0.15);\n",
              "      filter: drop-shadow(0px 1px 2px rgba(0, 0, 0, 0.3));\n",
              "      fill: #FFFFFF;\n",
              "    }\n",
              "  </style>\n",
              "\n",
              "      <script>\n",
              "        const buttonEl =\n",
              "          document.querySelector('#df-5d8efb78-02bc-4af4-b195-cc03380228c2 button.colab-df-convert');\n",
              "        buttonEl.style.display =\n",
              "          google.colab.kernel.accessAllowed ? 'block' : 'none';\n",
              "\n",
              "        async function convertToInteractive(key) {\n",
              "          const element = document.querySelector('#df-5d8efb78-02bc-4af4-b195-cc03380228c2');\n",
              "          const dataTable =\n",
              "            await google.colab.kernel.invokeFunction('convertToInteractive',\n",
              "                                                     [key], {});\n",
              "          if (!dataTable) return;\n",
              "\n",
              "          const docLinkHtml = 'Like what you see? Visit the ' +\n",
              "            '<a target=\"_blank\" href=https://colab.research.google.com/notebooks/data_table.ipynb>data table notebook</a>'\n",
              "            + ' to learn more about interactive tables.';\n",
              "          element.innerHTML = '';\n",
              "          dataTable['output_type'] = 'display_data';\n",
              "          await google.colab.output.renderOutput(dataTable, element);\n",
              "          const docLink = document.createElement('div');\n",
              "          docLink.innerHTML = docLinkHtml;\n",
              "          element.appendChild(docLink);\n",
              "        }\n",
              "      </script>\n",
              "    </div>\n",
              "  </div>\n",
              "  "
            ]
          },
          "metadata": {},
          "execution_count": 316
        }
      ]
    },
    {
      "cell_type": "code",
      "source": [
        "name_analyst.groupby('python')['salary_min'].mean()"
      ],
      "metadata": {
        "colab": {
          "base_uri": "https://localhost:8080/"
        },
        "id": "iiMJVP8kqaGJ",
        "outputId": "21426d01-7704-44a6-9846-459020a633a3"
      },
      "execution_count": 317,
      "outputs": [
        {
          "output_type": "execute_result",
          "data": {
            "text/plain": [
              "python\n",
              "0    58129.032618\n",
              "1    63596.153846\n",
              "Name: salary_min, dtype: float64"
            ]
          },
          "metadata": {},
          "execution_count": 317
        }
      ]
    },
    {
      "cell_type": "code",
      "source": [
        "n0 = name_analyst[name_analyst['python'] == 0]\n",
        "n1 = name_analyst[name_analyst['python'] == 1]\n",
        "scipy.stats.mannwhitneyu(n0['salary_min'], n1['salary_min'])"
      ],
      "metadata": {
        "colab": {
          "base_uri": "https://localhost:8080/"
        },
        "id": "6XJAO_76qaDG",
        "outputId": "f77e661c-b076-49ae-a423-4e64a1c2fd15"
      },
      "execution_count": 318,
      "outputs": [
        {
          "output_type": "execute_result",
          "data": {
            "text/plain": [
              "MannwhitneyuResult(statistic=3345.0, pvalue=0.06608927569679994)"
            ]
          },
          "metadata": {},
          "execution_count": 318
        }
      ]
    },
    {
      "cell_type": "markdown",
      "source": [
        "**Итак,** p-value больше нашего уровня значимости, значит делаем вывод, что знание Pythona не влияет на уровень зарплаты."
      ],
      "metadata": {
        "id": "oq_ZHp4lsGpx"
      }
    },
    {
      "cell_type": "markdown",
      "source": [
        "## Вывод"
      ],
      "metadata": {
        "id": "Rrsws4Ffd5ah"
      }
    },
    {
      "cell_type": "markdown",
      "source": [
        "Итак,\n",
        "* график работы влияет на уровень зарплаты. Самая высокооплачиваемая работа с удаленным графиком работы, следущее по значимости - вахтовый метод.\n",
        "* из графика видно, что больше всего вакансий на полный рабочий день.\n",
        "* опыт работы влияет на уровень зарплаты, чем больше опыт, тем больше зарплата.\n",
        "* для аналитиков знание SQL увеличивает уровень зарплаты, а вот знание Python не влияет на уровень дохода."
      ],
      "metadata": {
        "id": "oXH3VgJEsXc0"
      }
    }
  ]
}